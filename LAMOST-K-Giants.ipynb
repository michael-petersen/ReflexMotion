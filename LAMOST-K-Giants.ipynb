{
 "cells": [
  {
   "cell_type": "code",
   "execution_count": null,
   "metadata": {},
   "outputs": [],
   "source": []
  },
  {
   "cell_type": "code",
   "execution_count": 1,
   "metadata": {},
   "outputs": [],
   "source": [
    "\n",
    "# basic imports\n",
    "from __future__ import print_function\n",
    "import numpy as np\n",
    "from numpy.linalg import eig, inv\n",
    "import time\n",
    "\n",
    "# plotting elements\n",
    "import matplotlib.pyplot as plt\n",
    "%matplotlib inline\n",
    "import matplotlib.cm as cm\n",
    "import matplotlib as mpl\n",
    "mpl.rcParams['font.weight'] = 'medium'\n",
    "mpl.rcParams['xtick.labelsize'] = 10\n",
    "mpl.rcParams['ytick.labelsize'] = 10\n",
    "cmap = cm.RdBu_r\n",
    "\n",
    "\n",
    "\n",
    "# exptool imports\n",
    "from exptool.io import psp_io\n",
    "from exptool.utils import kde_3d\n",
    "from exptool.observables import transform\n",
    "from exptool.analysis import pattern\n",
    "from exptool.analysis import trapping\n",
    "from exptool.utils import *\n",
    "from exptool.observables import visualize\n",
    "\n",
    "# astropy imports\n",
    "import astropy.coordinates as coord\n",
    "import astropy.units as u\n",
    "\n",
    "import scipy.interpolate as interpolate\n",
    "from scipy.interpolate import UnivariateSpline\n",
    "import scipy\n",
    "\n",
    "# ipython reload capabilities for edits to external code\n",
    "%load_ext autoreload\n",
    "%autoreload 2\n",
    "\n",
    "\n",
    "import reflexmotion as rm\n",
    "\n",
    "from scipy.interpolate import UnivariateSpline\n",
    "from scipy.interpolate import interp1d\n",
    "\n",
    "from astropy.io import fits\n"
   ]
  },
  {
   "cell_type": "code",
   "execution_count": 2,
   "metadata": {},
   "outputs": [],
   "source": [
    "\n",
    "#http://docs.astropy.org/en/stable/generated/examples/coordinates/plot_sgr-coordinate-frame.html\n",
    "\n",
    "from astropy.coordinates import frame_transform_graph\n",
    "from astropy.coordinates.matrix_utilities import rotation_matrix, matrix_product, matrix_transpose\n",
    "import astropy.coordinates as coord\n",
    "import astropy.units as u\n",
    "\n",
    "class Sagittarius(coord.BaseCoordinateFrame):\n",
    "    \"\"\"\n",
    "    A Heliocentric spherical coordinate system defined by the orbit\n",
    "    of the Sagittarius dwarf galaxy, as described in\n",
    "        http://adsabs.harvard.edu/abs/2003ApJ...599.1082M\n",
    "    and further explained in\n",
    "        http://www.stsci.edu/~dlaw/Sgr/.\n",
    "\n",
    "    Parameters\n",
    "    ----------\n",
    "    representation : `BaseRepresentation` or None\n",
    "        A representation object or None to have no data (or use the other keywords)\n",
    "    Lambda : `Angle`, optional, must be keyword\n",
    "        The longitude-like angle corresponding to Sagittarius' orbit.\n",
    "    Beta : `Angle`, optional, must be keyword\n",
    "        The latitude-like angle corresponding to Sagittarius' orbit.\n",
    "    distance : `Quantity`, optional, must be keyword\n",
    "        The Distance for this object along the line-of-sight.\n",
    "    pm_Lambda_cosBeta : :class:`~astropy.units.Quantity`, optional, must be keyword\n",
    "        The proper motion along the stream in ``Lambda`` (including the\n",
    "        ``cos(Beta)`` factor) for this object (``pm_Beta`` must also be given).\n",
    "    pm_Beta : :class:`~astropy.units.Quantity`, optional, must be keyword\n",
    "        The proper motion in Declination for this object (``pm_ra_cosdec`` must\n",
    "        also be given).\n",
    "    radial_velocity : :class:`~astropy.units.Quantity`, optional, must be keyword\n",
    "        The radial velocity of this object.\n",
    "\n",
    "    \"\"\"\n",
    "\n",
    "    default_representation = coord.SphericalRepresentation\n",
    "    default_differential = coord.SphericalCosLatDifferential\n",
    "\n",
    "    frame_specific_representation_info = {\n",
    "        coord.SphericalRepresentation: [\n",
    "            coord.RepresentationMapping('lon', 'Lambda'),\n",
    "            coord.RepresentationMapping('lat', 'Beta'),\n",
    "            coord.RepresentationMapping('distance', 'distance')]\n",
    "    }\n",
    "    \n",
    "    \n",
    "\n",
    "SGR_PHI = (180 + 3.75) * u.degree # Euler angles (from Law & Majewski 2010)\n",
    "SGR_THETA = (90 - 13.46) * u.degree\n",
    "SGR_PSI = (180 + 14.111534) * u.degree\n",
    "\n",
    "\n",
    "# Generate the rotation matrix using the x-convention (see Goldstein)\n",
    "D = rotation_matrix(SGR_PHI, \"z\")\n",
    "C = rotation_matrix(SGR_THETA, \"x\")\n",
    "B = rotation_matrix(SGR_PSI, \"z\")\n",
    "A = np.diag([1.,1.,-1.])\n",
    "SGR_MATRIX = matrix_product(A, B, C, D)\n",
    "\n",
    "@frame_transform_graph.transform(coord.StaticMatrixTransform, coord.Galactic, Sagittarius)\n",
    "def galactic_to_sgr():\n",
    "    \"\"\" Compute the transformation matrix from Galactic spherical to\n",
    "        heliocentric Sgr coordinates.\n",
    "    \"\"\"\n",
    "    return SGR_MATRIX\n",
    "\n",
    "@frame_transform_graph.transform(coord.StaticMatrixTransform, Sagittarius, coord.Galactic)\n",
    "def sgr_to_galactic():\n",
    "    \"\"\" Compute the transformation matrix from heliocentric Sgr coordinates to\n",
    "        spherical Galactic.\n",
    "    \"\"\"\n",
    "    return matrix_transpose(SGR_MATRIX)\n",
    "\n",
    "\n"
   ]
  },
  {
   "cell_type": "code",
   "execution_count": 3,
   "metadata": {},
   "outputs": [
    {
     "name": "stdout",
     "output_type": "stream",
     "text": [
      "(1.3543164832139731, -0.4072184466535577)\n",
      "[[ 1.67274602 -1.25125971]\n",
      " [-1.25125971  3.32725398]]\n"
     ]
    }
   ],
   "source": [
    "# see https://gea.esac.esa.int/archive/documentation/GDR2/Data_processing/chap_cu3ast/sec_cu3ast_intro/ssec_cu3ast_intro_tansforms.html\n",
    "\n",
    "\n",
    "def return_gaia_Agprime():\n",
    "    \"\"\"return the matrix in eq 3.61, key to transform from ICRS to galactic coordinates\"\"\"\n",
    "    return np.array([[-0.0548755604162154,-0.8734370902348850,-0.4838350155487132],\n",
    "                     [+0.4941094278755837,-0.4448296299600112,+0.7469822444972189],\n",
    "                     [-0.8676661490190047,-0.1980763734312015,+0.4559837761750669]])\n",
    "\n",
    "def return_ricrs(a,d):\n",
    "    \"\"\" eq. 3.57\"\"\"\n",
    "    return np.array([np.cos(a)*np.cos(d),np.sin(a)*np.cos(d),np.sin(d)]).T\n",
    "\n",
    "def return_picrs(a,d):\n",
    "    \"\"\" eq. 3.64, unit vector of increasing alpha\"\"\"\n",
    "    return np.array([-np.sin(a),np.cos(a),0.]).T\n",
    "\n",
    "def return_qicrs(a,d):\n",
    "    \"\"\" eq. 3.64, unit vector of increasing delta\"\"\"\n",
    "    return np.array([-np.cos(a)*np.sin(d),-np.sin(a)*np.sin(d),np.cos(d)]).T\n",
    "\n",
    "def return_muicrs(a,d,mua,mud):\n",
    "    \"\"\" eq. 3.66, the proper motion vector\"\"\"\n",
    "    p = return_picrs(a,d)\n",
    "    q = return_qicrs(a,d)\n",
    "    return np.dot(p,mua) + np.dot(q,mud)\n",
    "\n",
    "\n",
    "def return_rgal(l,b):\n",
    "    \"\"\" eq. 3.58\"\"\"\n",
    "    return np.array([np.cos(l)*np.cos(b),np.sin(l)*np.cos(b),np.sin(b)]).T\n",
    "\n",
    "def return_pgal(l,b):\n",
    "    \"\"\" eq. 3.66, unit vector of increasing alpha\"\"\"\n",
    "    return np.array([-np.sin(l),np.cos(l),0.]).T\n",
    "\n",
    "def return_qgal(l,b):\n",
    "    \"\"\" eq. 3.66, unit vector of increasing delta\"\"\"\n",
    "    return np.array([-np.cos(l)*np.sin(b),-np.sin(l)*np.sin(b),np.cos(b)]).T\n",
    "\n",
    "def return_mugal(l,b,mul,mub):\n",
    "    \"\"\" eq. 3.66, the proper motion vector\"\"\"\n",
    "    p = return_pgal(l,b)\n",
    "    q = return_qgal(l,b)\n",
    "    return np.dot(p,mul) + np.dot(q,mub)\n",
    "\n",
    "\n",
    "def rotate_velocities(a,d,mua,mud):\n",
    "    \"\"\"eq 3.68, \"\"\"\n",
    "    mu = return_muicrs(a,d,mua,mud)\n",
    "    mugal = np.dot(return_gaia_Agprime(),mu) # eq. 3.68\n",
    "    \n",
    "    # solve for positions\n",
    "    ricrs = return_ricrs(a,d)\n",
    "    rgal = np.dot(return_gaia_Agprime(),ricrs)\n",
    "\n",
    "    # implement eq 3.63\n",
    "    ell,b = np.arctan2(rgal[1],rgal[0]),np.arctan2(rgal[2],np.sqrt(rgal[0]*rgal[0]+rgal[1]*rgal[1]))\n",
    "    \n",
    "    p = return_pgal(ell,b)\n",
    "    q = return_qgal(ell,b)\n",
    "    \n",
    "    mul = np.dot(p.T,mugal)\n",
    "    mub = np.dot(q.T,mugal)\n",
    "    #print(mul,mub)\n",
    "    return mul,mub\n",
    "\n",
    "\n",
    "\n",
    "def rotate_errors(a,d,pmra_e,pmdec_e,pmcorr):\n",
    "    ricrs = return_ricrs(a,d)\n",
    "    picrs = return_picrs(a,d)\n",
    "    qicrs = return_qicrs(a,d)\n",
    "\n",
    "    rgal = np.dot(return_gaia_Agprime(),ricrs)\n",
    "\n",
    "    # implement eq 3.63\n",
    "    ell = np.arctan2(rgal[1],rgal[0])\n",
    "    b = np.arctan2(rgal[2],np.sqrt(rgal[0]*rgal[0]+rgal[1]*rgal[1]))\n",
    "\n",
    "    pgal = return_pgal(ell,b)\n",
    "    qgal = return_qgal(ell,b)\n",
    "\n",
    "    pqgal = np.stack((pgal, qgal), axis=-1)\n",
    "    pqicrs = np.stack((picrs, qicrs), axis=-1)\n",
    "\n",
    "    cov = np.array([[pmra_e*pmra_e,pmra_e*pmdec_e*pmcorr],[pmra_e*pmdec_e*pmcorr,pmdec_e*pmdec_e]])\n",
    "    #print(cov)\n",
    "\n",
    "    G = np.einsum('ab,ac->bc', pqgal,\n",
    "                      np.einsum('ji,ik->jk', return_gaia_Agprime(), pqicrs))\n",
    "\n",
    "    cov_to = np.einsum('ba,ac->bc', G,\n",
    "                           np.einsum('ij,ki->jk', cov, G))\n",
    "    \n",
    "    return cov_to\n",
    "\n",
    "#print(G)\n",
    "\n",
    "def rotate_positions(a,d,dist):\n",
    "    \"\"\"eq 3.68, \"\"\"\n",
    "    # solve for positions\n",
    "    ricrs = return_ricrs(a,d)\n",
    "    rgal = np.dot(return_gaia_Agprime(),ricrs)\n",
    "    return dist*rgal\n",
    "\n",
    "\n",
    "\n",
    "    \n",
    "    \n",
    "a = 45.*np.pi/180.\n",
    "d = 60.*np.pi/180.\n",
    "\n",
    "mua = 1.\n",
    "mud = -1.\n",
    "\n",
    "#print(return_muicrs(a,d,mua,mud))\n",
    "\n",
    "print(rotate_velocities(a,d,mua,mud))\n",
    "\n",
    "cov_to = rotate_errors(a,d,1,2.,0.)\n",
    "print(cov_to)\n",
    "\n",
    "\n",
    "#print(ricrs,rgal,ell,b)"
   ]
  },
  {
   "cell_type": "code",
   "execution_count": null,
   "metadata": {},
   "outputs": [],
   "source": []
  },
  {
   "cell_type": "code",
   "execution_count": 4,
   "metadata": {},
   "outputs": [
    {
     "name": "stdout",
     "output_type": "stream",
     "text": [
      "\u001b[31mdata/Sgr_LAMOST_DR5_KG_obsid_forJorge.fits\u001b[m\u001b[m\r\n",
      "\u001b[31mdata/lamost_kg_dr5_halo_forJorge.fits\u001b[m\u001b[m\r\n",
      "\u001b[31mdata/lamost_kg_dr5_smoothhalo_forJorge.fits\u001b[m\u001b[m\r\n"
     ]
    }
   ],
   "source": [
    "!ls data/*Jorge*"
   ]
  },
  {
   "cell_type": "code",
   "execution_count": null,
   "metadata": {},
   "outputs": [],
   "source": []
  },
  {
   "cell_type": "code",
   "execution_count": 221,
   "metadata": {},
   "outputs": [
    {
     "name": "stdout",
     "output_type": "stream",
     "text": [
      "XTENSION= 'BINTABLE'           / binary table extension                         BITPIX  =                    8 / 8-bit bytes                                    NAXIS   =                    2 / 2-dimensional table                            NAXIS1  =                  100 / width of table in bytes                        NAXIS2  =                15852 / number of rows in table                        PCOUNT  =                    0 / size of special data area                      GCOUNT  =                    1 / one data group                                 TFIELDS =                   13 / number of columns                              EXTNAME = 'Joined  '           / table name                                     TTYPE1  = 'obsid   '           / label for column 1                             TFORM1  = 'J       '           / format for column 1                            TNULL1  =          -2147483648 / blank value for column 1                       TTYPE2  = 'rv      '           / label for column 2                             TFORM2  = 'D       '           / format for column 2                            TCOMM2  = 'heliocentric radial velocity'                                        TTYPE3  = 'rv_err  '           / label for column 3                             TFORM3  = 'D       '           / format for column 3                            TTYPE4  = 'gl      '           / label for column 4                             TFORM4  = 'D       '           / format for column 4                            TTYPE5  = 'gb      '           / label for column 5                             TFORM5  = 'D       '           / format for column 5                            TTYPE6  = 'ra      '           / label for column 6                             TFORM6  = 'D       '           / format for column 6                            TTYPE7  = 'dec     '           / label for column 7                             TFORM7  = 'D       '           / format for column 7                            TTYPE8  = 'pmra    '           / label for column 8                             TFORM8  = 'D       '           / format for column 8                            TTYPE9  = 'pmra_err'           / label for column 9                             TFORM9  = 'D       '           / format for column 9                            TTYPE10 = 'pmdec   '           / label for column 10                            TFORM10 = 'D       '           / format for column 10                           TTYPE11 = 'pmdec_err'          / label for column 11                            TFORM11 = 'D       '           / format for column 11                           TTYPE12 = 'dsun    '           / label for column 12                            TFORM12 = 'D       '           / format for column 12                           TTYPE13 = 'dsun_err'           / label for column 13                            TFORM13 = 'D       '           / format for column 13                           DATE-HDU= '2020-09-16T04:06:19' / Date of HDU creation (UTC)                    STILVERS= '3.3-3   '           / Version of STIL software                       STILCLAS= 'uk.ac.starlink.votable.FitsPlusTableWriter' / STIL Author class      END                                                                                                                                                                                                                                                                                                                                                                                                                                                                                                                                                                                                                                                                                                                                                                                                                                                                                                                                                                                                                                                                                                                                                                                                                                                                                                                                                                                                                                                                                                                                                                                                                                                                                                                                                                                                                                                                                                                                                                                                                                                                                                                                                                                                                                                                                                                                                                                                                                                                                                                                                                                                                                                             \n"
     ]
    }
   ],
   "source": [
    "\n",
    "hdul = fits.open('data/lamost_kg_dr5_halo_forJorge.fits')\n",
    "data = hdul[1].data\n",
    "header = hdul[1].header\n",
    "print(header)"
   ]
  },
  {
   "cell_type": "code",
   "execution_count": 223,
   "metadata": {},
   "outputs": [],
   "source": [
    "obsid = data.field(0)\n",
    "rv = data.field(1)\n",
    "erv = data.field(2)\n",
    "ra = data.field(5)\n",
    "dec = data.field(6)\n",
    "dist = data.field(11) # in kpc\n",
    "edist = data.field(12)\n",
    "pmra = data.field(7)\n",
    "pmdec = data.field(9)\n"
   ]
  },
  {
   "cell_type": "code",
   "execution_count": 126,
   "metadata": {},
   "outputs": [
    {
     "data": {
      "text/plain": [
       "<matplotlib.collections.PathCollection at 0x124fc8438>"
      ]
     },
     "execution_count": 126,
     "metadata": {},
     "output_type": "execute_result"
    },
    {
     "data": {
      "image/png": "[encoded data removed]",
      "text/plain": [
       "<Figure size 432x288 with 1 Axes>"
      ]
     },
     "metadata": {
      "needs_background": "light"
     },
     "output_type": "display_data"
    }
   ],
   "source": [
    "xpos,ypos,zpos = np.zeros(ra.size),np.zeros(ra.size),np.zeros(ra.size)\n",
    "\n",
    "for indx in range(0,ra.size):\n",
    "    xpos[indx],ypos[indx],zpos[indx] = rotate_positions(ra[indx]*np.pi/180.,dec[indx]*np.pi/180.,dist[indx])\n",
    "\n",
    "plt.scatter(xpos,zpos,color='black',s=1.)"
   ]
  },
  {
   "cell_type": "code",
   "execution_count": 128,
   "metadata": {},
   "outputs": [
    {
     "data": {
      "text/plain": [
       "15852"
      ]
     },
     "execution_count": 128,
     "metadata": {},
     "output_type": "execute_result"
    }
   ],
   "source": [
    "len(pmatch)"
   ]
  },
  {
   "cell_type": "code",
   "execution_count": 132,
   "metadata": {},
   "outputs": [],
   "source": []
  },
  {
   "cell_type": "code",
   "execution_count": 109,
   "metadata": {},
   "outputs": [
    {
     "data": {
      "text/plain": [
       "<matplotlib.collections.PathCollection at 0x122c74358>"
      ]
     },
     "execution_count": 109,
     "metadata": {},
     "output_type": "execute_result"
    },
    {
     "data": {
      "image/png": "[encoded data removed]",
      "text/plain": [
       "<Figure size 432x288 with 1 Axes>"
      ]
     },
     "metadata": {
      "needs_background": "light"
     },
     "output_type": "display_data"
    }
   ],
   "source": [
    "plt.scatter(ra,dec,color='black',s=1.)"
   ]
  },
  {
   "cell_type": "code",
   "execution_count": 222,
   "metadata": {},
   "outputs": [
    {
     "data": {
      "text/plain": [
       "1"
      ]
     },
     "execution_count": 222,
     "metadata": {},
     "output_type": "execute_result"
    }
   ],
   "source": [
    "ra.size"
   ]
  },
  {
   "cell_type": "code",
   "execution_count": 19,
   "metadata": {},
   "outputs": [
    {
     "data": {
      "text/plain": [
       "<matplotlib.collections.PathCollection at 0x11f2a2ef0>"
      ]
     },
     "execution_count": 19,
     "metadata": {},
     "output_type": "execute_result"
    },
    {
     "data": {
      "image/png": "[encoded data removed]",
      "text/plain": [
       "<Figure size 432x288 with 1 Axes>"
      ]
     },
     "metadata": {
      "needs_background": "light"
     },
     "output_type": "display_data"
    }
   ],
   "source": [
    "plt.scatter(rv,dist,color='black',s=1.)"
   ]
  },
  {
   "cell_type": "code",
   "execution_count": 22,
   "metadata": {},
   "outputs": [],
   "source": [
    "f = open('data/LAMOST_K_MATCH.csv','w')\n",
    "\n",
    "print('obsid,ra,dec,',file=f)\n",
    "\n",
    "for indx in range(0,ra.size):\n",
    "    print(obsid[indx],',',ra[indx],',',dec[indx],',',file=f)\n",
    "    \n",
    "f.close()"
   ]
  },
  {
   "cell_type": "code",
   "execution_count": 301,
   "metadata": {},
   "outputs": [
    {
     "data": {
      "text/plain": [
       "array([b'90198608955264', b'205780473330048', b'219219426355200', ...,\n",
       "       b'6912668773929549056', b'6912692177207121024',\n",
       "       b'6912944824363453568'], dtype='|S20')"
      ]
     },
     "execution_count": 301,
     "metadata": {},
     "output_type": "execute_result"
    }
   ],
   "source": [
    "Gmatch[\"source_id\"]"
   ]
  },
  {
   "cell_type": "code",
   "execution_count": 69,
   "metadata": {},
   "outputs": [],
   "source": [
    "Gmatch = np.genfromtxt('data/LAMOSTK-result.csv',\\\n",
    "                        dtype={'names': (\"xsource_id\",\"gsource_id\",\"ra\",\"ra_error\",\"dec\",\"dec_error\",\\\n",
    "                                        \"parallax\",\"parallax_error\",\"pmra\",\"pmra_error\",\"pmdec\",\\\n",
    "                                         \"pmdec_error\",\"phot_g_mean_flux\",\"phot_g_mean_flux_error\",\"phot_g_mean_mag\",\\\n",
    "                                         \"phot_bp_mean_flux\",\"phot_bp_mean_flux_error\",\"bp_rp\",\"radial_velocity\",\"radial_velocity_error\",\\\n",
    "                                         \"phot_variable_flag\",\"teff_val\",\"a_g_val\",\"pmcorr\",\"dist\",\"ruwe\"),\\\n",
    "                             'formats': ('S20','S20','f8','f8','f8','f8',\\\n",
    "                                         'f8','f8','f8','f8','f8',\\\n",
    "                                         'f8','f8','f8','f8','f8',\\\n",
    "                                         'f8','f8','f8','f8','f8',\\\n",
    "                                        'f8','f8','f8','f8','f8','f8')},\\\n",
    "                 skip_header=1,delimiter=',')"
   ]
  },
  {
   "cell_type": "code",
   "execution_count": 300,
   "metadata": {},
   "outputs": [],
   "source": [
    "\n",
    "# now with RUWE!\n",
    "Gmatch = np.genfromtxt('data/LAMOSTK_RUWE-result.csv',\\\n",
    "                        dtype={'names': (\"dec\",\"parallax\",\"dist\",\"parallax_error\",\\\n",
    "                                         \"phot_bp_mean_flux_error\",\"bp_rp\",\"pmra\",\"a_g_val\",\"ra_error\",\\\n",
    "                                         \"pmra_error\",\"pmdec_error\",\"radial_velocity_error\",\"pmra_pmdec_corr\",\\\n",
    "                                         \"teff_val\",\"phot_g_mean_flux\",\"phot_variable_flag\",\"ra\",\\\n",
    "                                         \"phot_bp_mean_flux\",\"phot_g_mean_flux_error\",\"radial_velocity\",\"xsource_id\",\\\n",
    "                                         \"dec_error\",\"pmdec\",\"phot_g_mean_mag\",\"ruwe\",\"source_id\"),\\\n",
    "                             'formats': ('f8','f8','f8','f8',\\\n",
    "                                         'f8','f8','f8','f8','f8',\\\n",
    "                                         'f8','f8','f8','f8',\\\n",
    "                                         'f8','f8','f8','f8',\\\n",
    "                                         'f8','f8','f8','S20',\\\n",
    "                                         'f8','f8','f8','f8','S20')},\\\n",
    "                 skip_header=1,delimiter=',')"
   ]
  },
  {
   "cell_type": "code",
   "execution_count": 78,
   "metadata": {},
   "outputs": [],
   "source": [
    "Gmatch['xsource_id'].astype('S20')\n",
    "xsources = [int(d.decode()) for d in Gmatch['xsource_id']]"
   ]
  },
  {
   "cell_type": "code",
   "execution_count": 79,
   "metadata": {},
   "outputs": [
    {
     "name": "stdout",
     "output_type": "stream",
     "text": [
      "200112139 [10239 10240] [3.54274944e-05 2.68058543e-04] 10239\n",
      "335805125 [6611 6612] [2.59652226e-04 1.52894763e-05] 6612\n",
      "504807246 [3623 3624] [1.22683614e-04 8.44328963e-05] 3624\n",
      "552506194 [14396 14397] [2.39406138e-04 1.29281390e-05] 14397\n",
      "417201231 [9851 9852] [0.00018579 0.00026812] 9851\n",
      "107208020 [2164 2165] [2.44855336e-04 5.14384207e-05] 2165\n",
      "149001100 [7079 7080] [1.91820852e-05 2.11615787e-04] 7079\n",
      "282104186 [352 353] [2.45264788e-04 5.71548124e-06] 353\n",
      "241604122 [15301 15302] [2.2286219e-04 4.8134924e-05] 15302\n",
      "215810103 [13765 13766] [2.72145941e-04 4.10919895e-05] 13766\n",
      "284107178 [713 714] [2.59630512e-04 5.29612691e-06] 714\n",
      "505202003 [9765 9766] [0.00010019 0.00020137] 9765\n",
      "50609164 [15242 15243] [4.37407584e-05 2.63515829e-04] 15242\n",
      "343913248 [6784 6785] [2.31426134e-04 2.62353957e-05] 6785\n",
      "437415008 [3359 3360] [2.70457008e-04 6.21378576e-05] 3360\n",
      "174512221 [3258 3259] [4.66052273e-05 2.14654999e-04] 3258\n",
      "242202086 [15309 15310] [2.24395454e-04 3.72343329e-05] 15310\n",
      "44810207 [4806 4807] [2.40838936e-04 2.51592073e-05] 4807\n"
     ]
    }
   ],
   "source": [
    "pmatch = []\n",
    "for i in obsid:\n",
    "    #print(i,xsources[0:10])\n",
    "    w = np.where(xsources==i)[0]\n",
    "    #print(w,w.size)\n",
    "    if w.size>1:\n",
    "        print(i,w,Gmatch['dist'][w],w[np.nanargmin(Gmatch['dist'][w])])\n",
    "        pmatch.append(w[np.nanargmin(Gmatch['dist'][w])])\n",
    "    else:\n",
    "        pmatch.append(w[0])\n",
    "    #print(w.size)"
   ]
  },
  {
   "cell_type": "code",
   "execution_count": 127,
   "metadata": {},
   "outputs": [
    {
     "name": "stdout",
     "output_type": "stream",
     "text": [
      "54\n"
     ]
    },
    {
     "data": {
      "image/png": "[encoded data removed]",
      "text/plain": [
       "<Figure size 432x288 with 1 Axes>"
      ]
     },
     "metadata": {
      "needs_background": "light"
     },
     "output_type": "display_data"
    }
   ],
   "source": [
    "plt.scatter(dist,Gmatch['ruwe'][pmatch],color='black',s=1.)\n",
    "bigruwe = np.where(Gmatch['ruwe'][pmatch]>=1.4)[0]\n",
    "print(bigruwe.size)\n",
    "goodruwe = np.where(Gmatch['ruwe'][pmatch]<1.4)[0]"
   ]
  },
  {
   "cell_type": "code",
   "execution_count": 80,
   "metadata": {},
   "outputs": [
    {
     "data": {
      "text/plain": [
       "<matplotlib.collections.PathCollection at 0x1214c2128>"
      ]
     },
     "execution_count": 80,
     "metadata": {},
     "output_type": "execute_result"
    },
    {
     "data": {
      "image/png": "[encoded data removed]",
      "text/plain": [
       "<Figure size 432x288 with 1 Axes>"
      ]
     },
     "metadata": {
      "needs_background": "light"
     },
     "output_type": "display_data"
    }
   ],
   "source": [
    "plt.scatter(Gmatch['phot_g_mean_mag'][pmatch],dist,color='black',s=1.)"
   ]
  },
  {
   "cell_type": "code",
   "execution_count": 66,
   "metadata": {},
   "outputs": [
    {
     "data": {
      "text/plain": [
       "<matplotlib.collections.PathCollection at 0x121cfcb00>"
      ]
     },
     "execution_count": 66,
     "metadata": {},
     "output_type": "execute_result"
    },
    {
     "data": {
      "image/png": "[encoded data removed]",
      "text/plain": [
       "<Figure size 432x288 with 1 Axes>"
      ]
     },
     "metadata": {
      "needs_background": "light"
     },
     "output_type": "display_data"
    }
   ],
   "source": [
    "plt.scatter(pmdec,Gmatch['pmdec'][pmatch],color='black',s=1.)\n",
    "# nice, we match perfectly."
   ]
  },
  {
   "cell_type": "code",
   "execution_count": 60,
   "metadata": {},
   "outputs": [
    {
     "data": {
      "text/plain": [
       "<matplotlib.collections.PathCollection at 0x121f82be0>"
      ]
     },
     "execution_count": 60,
     "metadata": {},
     "output_type": "execute_result"
    },
    {
     "data": {
      "image/png": "[encoded data removed]",
      "text/plain": [
       "<Figure size 432x288 with 1 Axes>"
      ]
     },
     "metadata": {
      "needs_background": "light"
     },
     "output_type": "display_data"
    }
   ],
   "source": [
    "bigd = np.where(dist>40)\n",
    "\n",
    "k = 4.74057\n",
    "vra = Gmatch['pmra'][pmatch]\n",
    "\n",
    "plt.scatter(Gmatch['pmra'][pmatch][bigd],Gmatch['pmdec'][pmatch][bigd],color='black',s=1.)"
   ]
  },
  {
   "cell_type": "code",
   "execution_count": 267,
   "metadata": {},
   "outputs": [
    {
     "data": {
      "text/plain": [
       "7.57"
      ]
     },
     "execution_count": 267,
     "metadata": {},
     "output_type": "execute_result"
    }
   ],
   "source": [
    "np.nanmedian(erv)"
   ]
  },
  {
   "cell_type": "code",
   "execution_count": 67,
   "metadata": {},
   "outputs": [
    {
     "data": {
      "text/plain": [
       "<matplotlib.collections.PathCollection at 0x121790c50>"
      ]
     },
     "execution_count": 67,
     "metadata": {},
     "output_type": "execute_result"
    },
    {
     "data": {
      "image/png": "[encoded data removed]",
      "text/plain": [
       "<Figure size 432x288 with 1 Axes>"
      ]
     },
     "metadata": {
      "needs_background": "light"
     },
     "output_type": "display_data"
    }
   ],
   "source": [
    "k = 4.74057\n",
    "vra = Gmatch['pmra'][pmatch]*dist*k\n",
    "vdec = Gmatch['pmdec'][pmatch]*dist*k\n",
    "\n",
    "plt.scatter(vra,vdec,color='black',s=1.)\n"
   ]
  },
  {
   "cell_type": "code",
   "execution_count": null,
   "metadata": {},
   "outputs": [],
   "source": []
  },
  {
   "cell_type": "code",
   "execution_count": 151,
   "metadata": {},
   "outputs": [
    {
     "name": "stdout",
     "output_type": "stream",
     "text": [
      "169.695884 5.530107 11.8777\n",
      "169.695884 5.530107 11.8777\n",
      "-1.736054731500345 -2.3774431462917933 294.41\n",
      "<SkyCoord (Galactocentric: galcen_coord=<ICRS Coordinate: (ra, dec) in deg\n",
      "    (266.4051, -28.936175)>, galcen_distance=8.3 kpc, galcen_v_sun=(11.1, 232.24, 7.25) km / s, z_sun=20.0 pc, roll=0.0 deg): (x, y, z) in kpc\n",
      "    (-10.03800633, -5.83303029, 10.21974339)\n",
      " (v_x, v_y, v_z) in km / s\n",
      "    (-53.99694642, -53.30984762, 175.70053925)>\n",
      "<SkyCoord (Galactic): (l, b, distance) in (deg, deg, kpc)\n",
      "    (253.18657516, 59.13476612, 11.8777)\n",
      " (pm_l_cosb, pm_b, radial_velocity) in (mas / yr, mas / yr, km / s)\n",
      "    (0.35333654, -2.92254602, 294.41)>\n",
      "<SkyCoord (Sagittarius): (Lambda, Beta, distance) in (deg, deg, kpc)\n",
      "    (245.11060567, 15.50593306, 11.8777)\n",
      " (pm_Lambda_cosBeta, pm_Beta, radial_velocity) in (mas / yr, mas / yr, km / s)\n",
      "    (-0.70565029, 2.85800273, 294.41)>\n"
     ]
    }
   ],
   "source": [
    "# set the coordinates for transformation\n",
    "\n",
    "# use the schonrich 2010 peculiar motions\n",
    "usun = 11.1\n",
    "vsun = 12.24\n",
    "wsun = 7.25\n",
    "\n",
    "# use the circular velocity from ...\n",
    "vcirc = 235.\n",
    "\n",
    "# the value of mcmillan 2017\n",
    "vcirc = 220.\n",
    "#vcirc = 244.\n",
    "#vcirc = 232.\n",
    "\n",
    "# use the gravity 2018 result for the galactic center distance\n",
    "rsun = 8.3 # in kpc\n",
    "\n",
    "# use the sun's height above the midplane from Bovy...\n",
    "zsun = 20 # in pc\n",
    "\n",
    "v_sun = coord.CartesianDifferential([usun, vsun+vcirc, wsun]*u.km/u.s)\n",
    "gc_frame = coord.Galactocentric(galcen_distance=rsun*u.kpc,\n",
    "                                galcen_v_sun=v_sun,\n",
    "                                z_sun=zsun*u.pc)\n",
    "\n",
    "\n",
    "def find_errors(indx,nsamples=10000,verbose=False,sgr=False):\n",
    "    rat = ra[indx]\n",
    "    dect = dec[indx]\n",
    "    dt = dist[indx]\n",
    "    derrt = edist[indx]\n",
    "    pmrat = Gmatch['pmra'][pmatch[indx]]\n",
    "    pmraerrt = Gmatch['pmra_error'][pmatch[indx]]\n",
    "    pmdect = Gmatch['pmdec'][pmatch[indx]]\n",
    "    pmdecerrt = Gmatch['pmdec_error'][pmatch[indx]]\n",
    "    vradt = rv[indx]\n",
    "    vraderrt = erv[indx]\n",
    "    \n",
    "    print(rat,dect,dt)\n",
    "\n",
    "    cplus = coord.SkyCoord(ra              = np.tile(rat,nsamples)                                 * u.deg,\\\n",
    "                           dec             = np.tile(dect,nsamples)                                 * u.deg,\\\n",
    "                           distance        = np.nanmax([np.zeros(nsamples)+.1,(dt     + np.random.normal(size=nsamples)*derrt)],axis=0)     * u.kpc,\\\n",
    "                           pm_ra_cosdec    = (pmrat  + np.random.normal(size=nsamples)*pmraerrt)  * u.mas/u.yr,\\\n",
    "                           pm_dec          = (pmdect + np.random.normal(size=nsamples)*pmdecerrt) * u.mas/u.yr,\\\n",
    "                           radial_velocity = (vradt  + np.random.normal(size=nsamples)*vraderrt)  * u.km/u.s)\n",
    "\n",
    "    cbest = coord.SkyCoord(ra              = rat    * u.deg,\\\n",
    "                           dec             = dect   * u.deg,\\\n",
    "                           distance        = dt     * u.kpc,\\\n",
    "                           pm_ra_cosdec    = pmrat  * u.mas/u.yr,\\\n",
    "                           pm_dec          = pmdect * u.mas/u.yr,\\\n",
    "                           radial_velocity = vradt  * u.km/u.s)\n",
    "\n",
    "    if verbose:\n",
    "        print(pmrat,pmdect,vradt)\n",
    "\n",
    "    gal_latlon  = cplus.transform_to('galactic')\n",
    "    gal_defined = cplus.transform_to(gc_frame)\n",
    "        \n",
    "    best_latlon  = cbest.transform_to('galactic')\n",
    "    best_defined = cbest.transform_to(gc_frame)\n",
    "    \n",
    "    if sgr:\n",
    "        best_sgr = cbest.transform_to(Sagittarius)\n",
    "        return gal_latlon,gal_defined,best_latlon,best_defined,best_sgr\n",
    "    \n",
    "    else:\n",
    "        return gal_latlon,gal_defined,best_latlon,best_defined\n",
    "\n",
    "\n",
    "indx = 0\n",
    "gal_latlon,gal_defined,best_latlon,best_defined = find_errors(indx,nsamples=1000,verbose=False)\n",
    "\n",
    "gal_latlon,gal_defined,best_latlon,best_defined,best_sgr = find_errors(indx,nsamples=1000,verbose=True,sgr=True)\n",
    "\n",
    "\n",
    "print(best_defined)\n",
    "\n",
    "print(best_latlon)\n",
    "print(best_sgr)\n"
   ]
  },
  {
   "cell_type": "code",
   "execution_count": 137,
   "metadata": {},
   "outputs": [
    {
     "data": {
      "text/plain": [
       "(0.3533368461116067, -2.9225459821522843)"
      ]
     },
     "execution_count": 137,
     "metadata": {},
     "output_type": "execute_result"
    }
   ],
   "source": [
    "indx = 0\n",
    "rotate_velocities(ra[indx]*np.pi/180.,dec[indx]*np.pi/180.,Gmatch['pmra'][pmatch[indx]],Gmatch['pmdec'][pmatch[indx]])"
   ]
  },
  {
   "cell_type": "code",
   "execution_count": 279,
   "metadata": {},
   "outputs": [],
   "source": [
    "cbest = coord.SkyCoord(ra              = ra    * u.deg,\\\n",
    "                       dec             = dec   * u.deg,\\\n",
    "                       distance        = dist  * u.kpc,\\\n",
    "                       pm_ra_cosdec    = Gmatch['pmra'][pmatch]  * u.mas/u.yr,\\\n",
    "                       pm_dec          = Gmatch['pmdec'][pmatch] * u.mas/u.yr,\\\n",
    "                       radial_velocity = rv  * u.km/u.s)"
   ]
  },
  {
   "cell_type": "code",
   "execution_count": 280,
   "metadata": {},
   "outputs": [
    {
     "data": {
      "text/plain": [
       "array([ 15.50593306,  18.34484126, -40.32507924, ...,   7.09248352,\n",
       "       -29.04131046, -42.12022334])"
      ]
     },
     "execution_count": 280,
     "metadata": {},
     "output_type": "execute_result"
    }
   ],
   "source": [
    "best_defined = cbest.transform_to(gc_frame)\n",
    "best_sgr     = cbest.transform_to(Sagittarius)\n",
    "best_latlon  = cbest.transform_to('galactic')\n",
    "\n",
    "np.array(best_sgr.Beta)\n"
   ]
  },
  {
   "cell_type": "code",
   "execution_count": 281,
   "metadata": {},
   "outputs": [
    {
     "data": {
      "text/plain": [
       "<matplotlib.collections.PathCollection at 0x1295f6c88>"
      ]
     },
     "execution_count": 281,
     "metadata": {},
     "output_type": "execute_result"
    },
    {
     "data": {
      "image/png": "[encoded data removed]",
      "text/plain": [
       "<Figure size 432x288 with 1 Axes>"
      ]
     },
     "metadata": {
      "needs_background": "light"
     },
     "output_type": "display_data"
    }
   ],
   "source": [
    "plt.scatter(best_defined.x,best_defined.z,color='black',s=1.)"
   ]
  },
  {
   "cell_type": "code",
   "execution_count": 147,
   "metadata": {},
   "outputs": [],
   "source": [
    "# back out the rotated correlation coefficients\n",
    "pm_l_err = np.zeros(len(pmatch))\n",
    "pm_b_err = np.zeros(len(pmatch))\n",
    "corrcoef = np.zeros(len(pmatch))\n",
    "pm_l     = np.zeros(len(pmatch))\n",
    "pm_b     = np.zeros(len(pmatch))\n",
    "\n",
    "for i in range(0,len(pmatch)):\n",
    "    #print(i)\n",
    "    e1 = Gmatch['pmra_error'][pmatch][i]\n",
    "    e2 = Gmatch['pmdec_error'][pmatch][i]\n",
    "    e3 = Gmatch['pmra_pmdec_corr'][pmatch][i]\n",
    "    cov_to = rotate_errors(Gmatch['ra'][pmatch][i]*np.pi/180.,Gmatch['dec'][pmatch][i]*np.pi/180.,\\\n",
    "                       e1,e2,e3)\n",
    "    \n",
    "    corrcoef[i] = cov_to[0][1]/(np.sqrt(cov_to[0][0])*np.sqrt(cov_to[1][1]))\n",
    "    pm_l_err[i] = np.sqrt(cov_to[0][0])\n",
    "    pm_b_err[i] = np.sqrt(cov_to[1][1])\n",
    "    \n",
    "    lbvel = rotate_velocities(Gmatch['ra'][pmatch][i]*np.pi/180.,Gmatch['dec'][pmatch][i]*np.pi/180.,\\\n",
    "                              Gmatch['pmra'][pmatch][i],Gmatch['pmdec'][pmatch][i])\n",
    "    \n",
    "    pm_l[i] = lbvel[0]\n",
    "    pm_b[i] = lbvel[1]\n",
    "\n",
    "\n",
    "\n",
    "\n"
   ]
  },
  {
   "cell_type": "code",
   "execution_count": 154,
   "metadata": {},
   "outputs": [
    {
     "data": {
      "text/plain": [
       "15852"
      ]
     },
     "execution_count": 154,
     "metadata": {},
     "output_type": "execute_result"
    }
   ],
   "source": [
    "corrcoef.size"
   ]
  },
  {
   "cell_type": "code",
   "execution_count": 149,
   "metadata": {},
   "outputs": [
    {
     "data": {
      "text/plain": [
       "(0.35333797538046857, -2.9225458456230564)"
      ]
     },
     "execution_count": 149,
     "metadata": {},
     "output_type": "execute_result"
    }
   ],
   "source": [
    "pm_l[0],pm_b[0]"
   ]
  },
  {
   "cell_type": "code",
   "execution_count": 217,
   "metadata": {},
   "outputs": [
    {
     "data": {
      "text/plain": [
       "(array(-1.74411709), -1.7441207860137264)"
      ]
     },
     "execution_count": 217,
     "metadata": {},
     "output_type": "execute_result"
    }
   ],
   "source": [
    "np.array(best_latlon.pm_b[100]),pm_b[100]"
   ]
  },
  {
   "cell_type": "code",
   "execution_count": 160,
   "metadata": {},
   "outputs": [
    {
     "name": "stdout",
     "output_type": "stream",
     "text": [
      "REJECTED!\n",
      "REJECTED!\n",
      "REJECTED!\n",
      "REJECTED!\n",
      "REJECTED!\n",
      "REJECTED!\n",
      "REJECTED!\n",
      "REJECTED!\n",
      "REJECTED!\n",
      "REJECTED!\n",
      "REJECTED!\n",
      "REJECTED!\n",
      "REJECTED!\n",
      "REJECTED!\n",
      "REJECTED!\n",
      "REJECTED!\n",
      "REJECTED!\n",
      "REJECTED!\n",
      "REJECTED!\n",
      "REJECTED!\n",
      "REJECTED!\n",
      "REJECTED!\n",
      "REJECTED!\n",
      "REJECTED!\n",
      "REJECTED!\n",
      "REJECTED!\n",
      "REJECTED!\n",
      "REJECTED!\n",
      "REJECTED!\n",
      "REJECTED!\n",
      "REJECTED!\n",
      "REJECTED!\n",
      "REJECTED!\n",
      "REJECTED!\n",
      "REJECTED!\n",
      "REJECTED!\n",
      "REJECTED!\n",
      "REJECTED!\n",
      "REJECTED!\n",
      "REJECTED!\n",
      "REJECTED!\n",
      "REJECTED!\n",
      "REJECTED!\n",
      "REJECTED!\n",
      "REJECTED!\n",
      "REJECTED!\n",
      "REJECTED!\n",
      "REJECTED!\n",
      "REJECTED!\n",
      "REJECTED!\n",
      "REJECTED!\n",
      "REJECTED!\n",
      "REJECTED!\n",
      "REJECTED!\n",
      "54\n"
     ]
    }
   ],
   "source": [
    "\n",
    "f = open('/Users/mpetersen/Dropbox/mike/data/LAMOST_K_FULL.txt','w')\n",
    "\n",
    "print(\"x [kpc]; y [kpc]; z [kpc]; vx [km/s]; vy [km/s]; vz [km/s];      l [deg]; b [deg]; dist [kpc]; vlos [km/s]; dmu_l [marcsec/yr]; dmu_b [marcsec/yr];       edist[kpc]; evlost [km/s]; edmu_l [marcsec/yr]; edmu_b [marcsec/yr];      sgrweak [bool]; sgrstrong [bool]; FeH [dex]; Sgr Lambda [deg]; Sgr Beta [deg]; Belokurov Flag [bool]; corrcoef [-1:1]\",file=f)\n",
    "\n",
    "rej = 0\n",
    "for i in range(0,len(pmatch)):\n",
    "    if Gmatch['ruwe'][pmatch][i] < 1.4:\n",
    "        print(np.array(best_defined.x)[i],np.array(best_defined.y)[i],np.array(best_defined.z)[i],\\\n",
    "              np.array(best_defined.v_x)[i],np.array(best_defined.v_y)[i],np.array(best_defined.v_z)[i],\\\n",
    "              np.array(best_latlon.l)[i],np.array(best_latlon.b)[i],dist[i],\\\n",
    "              rv[i],pm_l[i],pm_b[i],\\\n",
    "              edist[i],erv[i],pm_l_err[i],pm_b_err[i],\\\n",
    "              0,0,0,\\\n",
    "              np.array(best_sgr.Lambda)[i],np.array(best_sgr.Beta)[i],0,\\\n",
    "              corrcoef[i],file=f)\n",
    "    else:\n",
    "        rej +=1\n",
    "        print('REJECTED!')\n",
    "    \n",
    "          \n",
    "f.close()\n",
    "print(rej)\n"
   ]
  },
  {
   "cell_type": "code",
   "execution_count": 303,
   "metadata": {},
   "outputs": [
    {
     "name": "stdout",
     "output_type": "stream",
     "text": [
      "REJECTED!\n",
      "REJECTED!\n",
      "REJECTED!\n",
      "REJECTED!\n",
      "REJECTED!\n",
      "REJECTED!\n",
      "REJECTED!\n",
      "REJECTED!\n",
      "REJECTED!\n",
      "REJECTED!\n",
      "REJECTED!\n",
      "REJECTED!\n",
      "REJECTED!\n",
      "REJECTED!\n",
      "REJECTED!\n",
      "REJECTED!\n",
      "REJECTED!\n",
      "REJECTED!\n",
      "REJECTED!\n",
      "REJECTED!\n",
      "REJECTED!\n",
      "REJECTED!\n",
      "REJECTED!\n",
      "REJECTED!\n",
      "REJECTED!\n",
      "REJECTED!\n",
      "REJECTED!\n",
      "REJECTED!\n",
      "REJECTED!\n",
      "REJECTED!\n",
      "REJECTED!\n",
      "REJECTED!\n",
      "REJECTED!\n",
      "REJECTED!\n",
      "REJECTED!\n",
      "REJECTED!\n",
      "REJECTED!\n",
      "REJECTED!\n",
      "REJECTED!\n",
      "REJECTED!\n",
      "REJECTED!\n",
      "REJECTED!\n",
      "REJECTED!\n",
      "REJECTED!\n",
      "REJECTED!\n",
      "REJECTED!\n",
      "REJECTED!\n",
      "REJECTED!\n",
      "REJECTED!\n",
      "REJECTED!\n",
      "REJECTED!\n",
      "REJECTED!\n",
      "REJECTED!\n",
      "REJECTED!\n",
      "54\n"
     ]
    }
   ],
   "source": [
    "\n",
    "#f = open('/Users/mpetersen/Dropbox/mike/data/LAMOST_K_FULL_overlap.txt','w')\n",
    "f = open('/Users/mpetersen/Downloads/LAMOST_K_FULL_overlap.txt','w')\n",
    "\n",
    "\n",
    "print(\"x [kpc]; y [kpc]; z [kpc]; vx [km/s]; vy [km/s]; vz [km/s];      l [deg]; b [deg]; dist [kpc]; vlos [km/s]; dmu_l [marcsec/yr]; dmu_b [marcsec/yr];       edist[kpc]; evlost [km/s]; edmu_l [marcsec/yr]; edmu_b [marcsec/yr];      sgrweak [bool]; sgrstrong [bool]; FeH [dex]; Sgr Lambda [deg]; Sgr Beta [deg]; Belokurov Flag [bool]; corrcoef [-1:1];GaiaO\",file=f)\n",
    "\n",
    "rej = 0\n",
    "for i in range(0,len(pmatch)):\n",
    "    if Gmatch['ruwe'][pmatch][i] < 1.4:\n",
    "        if i in oflag:\n",
    "            print(np.array(best_defined.x)[i],np.array(best_defined.y)[i],np.array(best_defined.z)[i],\\\n",
    "              np.array(best_defined.v_x)[i],np.array(best_defined.v_y)[i],np.array(best_defined.v_z)[i],\\\n",
    "              np.array(best_latlon.l)[i],np.array(best_latlon.b)[i],dist[i],\\\n",
    "              rv[i],pm_l[i],pm_b[i],\\\n",
    "              edist[i],erv[i],pm_l_err[i],pm_b_err[i],\\\n",
    "              0,0,0,\\\n",
    "              np.array(best_sgr.Lambda)[i],np.array(best_sgr.Beta)[i],0,\\\n",
    "              corrcoef[i],Gmatch[\"source_id\"][pmatch][i].decode(),file=f)\n",
    "    else:\n",
    "        rej +=1\n",
    "        print('REJECTED!')\n",
    "    \n",
    "          \n",
    "f.close()\n",
    "print(rej)\n",
    "\n"
   ]
  },
  {
   "cell_type": "code",
   "execution_count": 286,
   "metadata": {},
   "outputs": [
    {
     "data": {
      "text/plain": [
       "<matplotlib.collections.PathCollection at 0x12c0305c0>"
      ]
     },
     "execution_count": 286,
     "metadata": {},
     "output_type": "execute_result"
    },
    {
     "data": {
      "image/png": "[encoded data removed]",
      "text/plain": [
       "<Figure size 432x288 with 1 Axes>"
      ]
     },
     "metadata": {
      "needs_background": "light"
     },
     "output_type": "display_data"
    }
   ],
   "source": [
    "LK = np.genfromtxt('/Users/mpetersen/Dropbox/mike/data/LAMOST_K_FULL.txt',skip_header=1)\n",
    "\n",
    "#LK = np.genfromtxt('/Users/mpetersen/Downloads/LAMOST_K_FULL_overlap.txt',skip_header=1)\n",
    "\n",
    "rgal = np.sqrt(LK[:,0]*LK[:,0] + LK[:,1]*LK[:,1] + LK[:,2]*LK[:,2])\n",
    "l = LK[:,6]\n",
    "b = LK[:,7]\n",
    "sgrb = LK[:,20]\n",
    "coef = LK[:,22]\n",
    "pml = LK[:,10]\n",
    "pmb = LK[:,11]\n",
    "vlos = LK[:,9]\n",
    "#plt.scatter(l[np.abs(sgrb)<20],b[np.abs(sgrb)<20],color='grey',s=.1)\n",
    "plt.scatter(l[rgal>40],b[rgal>40],color='black',s=1.)\n",
    "\n",
    "\n",
    "#plt.plot(rgal[rgal.argsort()])"
   ]
  },
  {
   "cell_type": "code",
   "execution_count": 187,
   "metadata": {},
   "outputs": [
    {
     "name": "stdout",
     "output_type": "stream",
     "text": [
      "544\n"
     ]
    }
   ],
   "source": [
    "print(np.where(rgal>40)[0].size)"
   ]
  },
  {
   "cell_type": "code",
   "execution_count": 215,
   "metadata": {},
   "outputs": [
    {
     "data": {
      "text/plain": [
       "15798"
      ]
     },
     "execution_count": 215,
     "metadata": {},
     "output_type": "execute_result"
    }
   ],
   "source": [
    "l.size"
   ]
  },
  {
   "cell_type": "code",
   "execution_count": 194,
   "metadata": {},
   "outputs": [],
   "source": [
    "In = np.genfromtxt('processed/KGiants_cartesian_heliocentric_sgr.txt',skip_header=1)\n",
    "\n",
    "sdssl    = In[:,6]\n",
    "sdssb    = In[:,7]\n",
    "sdssd    = In[:,8]\n",
    "sdssvr   = In[:,9]\n",
    "sdssdml  = In[:,10]\n",
    "sdssdmb  = In[:,11]\n"
   ]
  },
  {
   "cell_type": "code",
   "execution_count": 289,
   "metadata": {},
   "outputs": [
    {
     "data": {
      "text/plain": [
       "<matplotlib.collections.PathCollection at 0x12c24e668>"
      ]
     },
     "execution_count": 289,
     "metadata": {},
     "output_type": "execute_result"
    },
    {
     "data": {
      "image/png": "[encoded data removed]",
      "text/plain": [
       "<Figure size 432x288 with 1 Axes>"
      ]
     },
     "metadata": {
      "needs_background": "light"
     },
     "output_type": "display_data"
    }
   ],
   "source": [
    "plt.scatter(sdssl[sdssd>40],sdssb[sdssd>40],color='black',s=10.)\n",
    "\n",
    "plt.scatter(l[rgal>40],b[rgal>40],color='red',s=1.)\n",
    "\n"
   ]
  },
  {
   "cell_type": "code",
   "execution_count": null,
   "metadata": {},
   "outputs": [],
   "source": []
  },
  {
   "cell_type": "code",
   "execution_count": null,
   "metadata": {},
   "outputs": [],
   "source": []
  },
  {
   "cell_type": "code",
   "execution_count": 213,
   "metadata": {},
   "outputs": [
    {
     "name": "stdout",
     "output_type": "stream",
     "text": [
      "171.154574375916 171.15 -52.14497095300951 -52.15 1.0255 6.416975295876596\n",
      "247.79977547818547 247.79 53.30220135558876 53.31 0.5469 -7.080179679648418\n",
      "31.58452726169597 31.59 42.81830598471339 42.81 -8.6743 -2.7076543513250124\n",
      "3\n"
     ]
    }
   ],
   "source": [
    "overlap = 0\n",
    "\n",
    "for indx in range(0,l.size):\n",
    "    w = np.where((np.abs(sdssl-l[indx])<0.01) & (np.abs(sdssb-b[indx])<0.01))[0]\n",
    "    #w = np.nanargmin(np.abs(sdssl-l))\n",
    "    #if np.abs(b[indx]-sdssb[w]) < 0.1:\n",
    "    if len(w)>0:\n",
    "        overlap+=1\n",
    "        print(l[indx],sdssl[w[0]],b[indx],sdssb[w[0]],sdssdml[w[0]],pml[w[0]],)\n",
    "    #if GmatchS['dec'][indx]\n",
    "    \n",
    "print(overlap)"
   ]
  },
  {
   "cell_type": "code",
   "execution_count": 185,
   "metadata": {},
   "outputs": [
    {
     "data": {
      "text/plain": [
       "[<matplotlib.lines.Line2D at 0x12138a048>]"
      ]
     },
     "execution_count": 185,
     "metadata": {},
     "output_type": "execute_result"
    },
    {
     "data": {
      "image/png": "[encoded data removed]",
      "text/plain": [
       "<Figure size 432x288 with 1 Axes>"
      ]
     },
     "metadata": {
      "needs_background": "light"
     },
     "output_type": "display_data"
    }
   ],
   "source": [
    "plt.plot(vlos[vlos.argsort()])"
   ]
  },
  {
   "cell_type": "code",
   "execution_count": 188,
   "metadata": {},
   "outputs": [],
   "source": [
    "GmatchS = np.genfromtxt('data/Xue2015KGiantxmatch_gaia_corr.txt',\\\n",
    "                        dtype={'names': (\"xsource_id\",\"gsource_id\",\"ra\",\"ra_error\",\"dec\",\"dec_error\",\\\n",
    "                                        \"parallax\",\"parallax_error\",\"pmra\",\"pmra_error\",\"pmdec\",\\\n",
    "                                         \"pmdec_error\",\"phot_g_mean_flux\",\"phot_g_mean_flux_error\",\"phot_g_mean_mag\",\\\n",
    "                                         \"phot_bp_mean_flux\",\"phot_bp_mean_flux_error\",\"bp_rp\",\"radial_velocity\",\"radial_velocity_error\",\\\n",
    "                                         \"phot_variable_flag\",\"teff_val\",\"a_g_val\",\"pmcorr\",\"dist\"),\\\n",
    "                             'formats': ('S20','S20','f8','f8','f8','f8',\\\n",
    "                                         'f8','f8','f8','f8','f8',\\\n",
    "                                         'f8','f8','f8','f8','f8',\\\n",
    "                                         'f8','f8','f8','f8','f8',\\\n",
    "                                        'f8','f8','f8','f8','f8')},\\\n",
    "                 skip_header=1,delimiter=',')\n",
    "\n"
   ]
  },
  {
   "cell_type": "code",
   "execution_count": 200,
   "metadata": {},
   "outputs": [
    {
     "data": {
      "text/plain": [
       "(6040, 6016)"
      ]
     },
     "execution_count": 200,
     "metadata": {},
     "output_type": "execute_result"
    }
   ],
   "source": [
    "GmatchS['ra'].size,sdssl.size"
   ]
  },
  {
   "cell_type": "code",
   "execution_count": 214,
   "metadata": {},
   "outputs": [
    {
     "name": "stdout",
     "output_type": "stream",
     "text": [
      "220.11678711614755 220.11678711614755 1.0311592539675414 1.0311592539675414\n",
      "186.99638883753073 186.99638883753073 1.8225764219871485 1.8225764219871485\n",
      "196.8281503876896 196.8281503876896 3.2369481991875415 3.2369481991875415\n",
      "198.8115950705276 198.8115950705276 3.115516154816383 3.115516154816383\n",
      "201.36253344502722 201.36253344502722 2.1578000055145146 2.1578000055145146\n",
      "200.95014236926193 200.95014236926193 2.377714353589522 2.377714353589522\n",
      "206.84850129399578 206.84850129399578 1.5948611079700241 1.5948611079700241\n",
      "222.61128253007988 222.61128253007988 4.132961989183567 4.132961989183567\n",
      "223.53573978520822 223.53573978520822 4.686787197523909 4.686787197523909\n",
      "212.53108302972305 212.53108302972305 51.58713525209367 51.58713525209367\n",
      "23.471913250345015 23.471913250345015 -0.6803618791298923 -0.6803618791298923\n",
      "21.452600924987156 21.452600924987156 -0.6200742992752676 -0.6200742992752676\n",
      "325.91008419779365 325.91008419779365 -1.2221167148112402 -1.2221167148112402\n",
      "335.74149179075255 335.74149179075255 -0.9174151930310573 -0.9174151930310573\n",
      "335.3887960038506 335.3887960038506 -0.5131820177001357 -0.5131820177001357\n",
      "328.7299231161831 328.7299231161831 1.2373482498403745 1.2373482498403745\n",
      "329.55758389287183 329.55758389287183 -0.3184970767169109 -0.3184970767169109\n",
      "355.4350951665072 355.4350951665072 -0.4189748932343182 -0.4189748932343182\n",
      "23.225334946223636 23.225334946223636 -0.5334943911435206 -0.5334943911435206\n",
      "29.72194173030153 29.72194173030153 0.6298380118139527 0.6298380118139527\n",
      "35.73747885411267 35.73747885411267 1.020760141228194 1.020760141228194\n",
      "46.82506834718792 46.82506834718792 0.6843104845677582 0.6843104845677582\n",
      "43.00628009708164 43.00628009708164 -0.11353026331135375 -0.11353026331135375\n",
      "43.06261637923883 43.06261637923883 -0.5599092800421887 -0.5599092800421887\n",
      "41.969835359368794 41.969835359368794 -0.6264819000417936 -0.6264819000417936\n",
      "340.946155945055 340.946155945055 13.829866381302246 13.829866381302246\n",
      "340.17607762472625 340.17607762472625 -0.7241403310898067 -0.7241403310898067\n",
      "339.8231063518789 339.8231063518789 -0.6628606889350146 -0.6628606889350146\n",
      "339.76118891985755 339.76118891985755 0.0317074216100883 0.0317074216100883\n",
      "355.4420179537338 355.4420179537338 -0.5562608031628616 -0.5562608031628616\n",
      "19.14089126523999 19.14089126523999 26.31444689254858 26.31444689254858\n",
      "19.192565501151396 19.192565501151396 26.281345533070827 26.281345533070827\n",
      "20.685366039501968 20.685366039501968 31.05478776235097 31.05478776235097\n",
      "18.600671284159073 18.600671284159073 31.688608086276357 31.688608086276357\n",
      "19.112128181826765 19.112128181826765 32.13457223066882 32.13457223066882\n",
      "19.27684426100005 19.27684426100005 31.803603182496186 31.803603182496186\n",
      "19.531483887499466 19.531483887499466 32.60946844637739 32.60946844637739\n",
      "19.951055127206843 19.951055127206843 32.169914092214036 32.169914092214036\n",
      "21.207589793219366 21.207589793219366 32.36105587871953 32.36105587871953\n",
      "22.407380453609324 22.407380453609324 38.13720573177365 38.13720573177365\n",
      "20.060357360475937 20.060357360475937 39.85818852269886 39.85818852269886\n",
      "24.1130982448735 24.1130982448735 23.24819964833665 23.24819964833665\n",
      "23.967247825627254 23.967247825627254 22.84673448923472 22.84673448923472\n",
      "23.82848257675903 23.82848257675903 22.803065025094817 22.803065025094817\n",
      "24.31993980433853 24.31993980433853 24.860169917847156 24.860169917847156\n",
      "23.917852654064077 23.917852654064077 23.758248302632524 23.758248302632524\n",
      "52.94336755822263 52.94336755822263 -0.808379430167373 -0.808379430167373\n",
      "52.03855237182497 52.03855237182497 0.9710606358306664 0.9710606358306664\n",
      "53.296557894273896 53.296557894273896 0.5125689073479871 0.5125689073479871\n",
      "115.70556082356045 115.70556082356045 19.189226807003298 19.189226807003298\n",
      "241.57398514869553 241.57398514869553 4.857580465808077 4.857580465808077\n",
      "241.11879029973088 241.11879029973088 4.919718245880601 4.919718245880601\n",
      "240.4597706056794 240.4597706056794 5.405506451924098 5.405506451924098\n",
      "239.9989323496111 239.9989323496111 5.764559655629757 5.764559655629757\n",
      "241.33065321194476 241.33065321194476 6.815772491000576 6.815772491000576\n",
      "241.3463506109734 241.3463506109734 6.282352875629579 6.282352875629579\n",
      "242.08234899696876 242.08234899696876 6.077759049217279 6.077759049217279\n",
      "244.49159766081698 244.49159766081698 51.906678835444644 51.906678835444644\n",
      "241.5719907781413 241.5719907781413 52.19722415871003 52.19722415871003\n",
      "240.7264977577862 240.7264977577862 52.71470956430285 52.71470956430285\n",
      "243.00589904179543 243.00589904179543 4.9439915177998435 4.9439915177998435\n",
      "255.5885299203674 255.5885299203674 38.76990250022182 38.76990250022182\n",
      "255.81639482456333 255.81639482456333 39.12490820082703 39.12490820082703\n",
      "255.23421912676156 255.23421912676156 40.195951753909476 40.195951753909476\n",
      "272.5058350508626 272.5058350508626 23.09853464616647 23.09853464616647\n",
      "272.12309132497677 272.12309132497677 24.785891448718417 24.785891448718417\n",
      "331.08731718666246 331.08731718666246 21.736903153322277 21.736903153322277\n",
      "140.94951219532035 140.94951219532035 21.449208109652446 21.449208109652446\n",
      "33.086361108615485 33.086361108615485 6.424100548048578 6.424100548048578\n",
      "32.40248546942879 32.40248546942879 6.396995375056934 6.396995375056934\n",
      "32.877013069098 32.877013069098 6.764042555186159 6.764042555186159\n",
      "44.52503105671441 44.52503105671441 6.043208608771883 6.043208608771883\n",
      "44.52593921408581 44.52593921408581 6.227772969400933 6.227772969400933\n",
      "45.85415950706366 45.85415950706366 6.368421865778052 6.368421865778052\n",
      "332.3791445822853 332.3791445822853 5.574274060179522 5.574274060179522\n",
      "332.0734970253891 332.11292656050165 6.769120529036004 6.761635157908988\n",
      "332.46848040741503 332.46848040741503 6.963100948964539 6.963100948964539\n",
      "20.837142548966614 20.837142548966614 6.804676116223416 6.804676116223416\n",
      "20.351687357787515 20.351687357787515 8.075288748713529 8.075288748713529\n",
      "129.68023971936364 129.68023971936364 55.08773499852823 55.08773499852823\n",
      "47.05502644068016 47.05502644068016 5.484346183609286 5.484346183609286\n",
      "20.1458712386901 20.1458712386901 40.686428193742145 40.686428193742145\n",
      "42.102992872832694 42.102992872832694 33.61257698588263 33.61257698588263\n",
      "138.88899584488806 138.88899584488806 29.491875467057405 29.491875467057405\n",
      "140.6036626699393 140.6036626699393 30.762920392629415 30.762920392629415\n",
      "146.24422631184794 146.24422631184794 53.135318535875655 53.135318535875655\n",
      "153.48132712852808 153.48132712852808 26.962412831490052 26.962412831490052\n",
      "151.17427798142285 151.17427798142285 36.22071317179076 36.22071317179076\n",
      "164.54129082618084 164.54129082618084 47.107480097925375 47.107480097925375\n",
      "162.45027140430818 162.45027140430818 46.998379054516896 46.998379054516896\n",
      "162.43540593717853 162.43540593717853 48.563176519757626 48.563176519757626\n",
      "169.42672683062034 169.42672683062034 9.184766688597067 9.184766688597067\n",
      "168.92385191287892 168.92385191287892 9.804817971243818 9.804817971243818\n",
      "169.1903924302073 169.1903924302073 10.778545575509044 10.778545575509044\n",
      "45.81846841027075 45.81846841027075 38.85730561761722 38.85730561761722\n",
      "192.9314128138972 192.9314128138972 59.116920382385096 59.116920382385096\n",
      "216.9708084700962 216.9708084700962 56.34382367968112 56.34382367968112\n",
      "182.261856672467 182.261856672467 40.09714985413145 40.09714985413145\n",
      "182.1460411009828 182.1460411009828 40.21788153223264 40.21788153223264\n",
      "191.77148201973634 191.77148201973634 28.793154582441666 28.793154582441666\n",
      "189.96652681568867 189.96652681568867 30.142087925073653 30.142087925073653\n",
      "190.78829221052666 190.78829221052666 30.641310658366187 30.641310658366187\n",
      "191.71059933577126 191.71059933577126 30.79539116964003 30.79539116964003\n",
      "237.23836614531794 237.23836614531794 26.83155285309226 26.83155285309226\n",
      "217.98423939124444 217.98423939124444 56.82531821461995 56.82531821461995\n",
      "159.2620750614785 159.2620750614785 43.55791134837065 43.55791134837065\n",
      "186.57943043163064 186.57943043163064 0.05454294788186301 0.05454294788186301\n",
      "186.88517828004186 186.88517828004186 0.9171426908185738 0.9171426908185738\n",
      "162.89183587803174 162.89183587803174 -0.24183568351622747 -0.24183568351622747\n",
      "162.70347910377575 162.70347910377575 -0.5381498278946911 -0.5381498278946911\n",
      "161.2970095441089 161.2970095441089 0.6913790624462162 0.6913790624462162\n",
      "342.14388787690416 342.14388787690416 30.69160513135907 30.69160513135907\n",
      "343.0863130261087 343.0863130261087 30.947153771467352 30.947153771467352\n"
     ]
    },
    {
     "name": "stdout",
     "output_type": "stream",
     "text": [
      "348.3279185976081 348.3279185976081 23.00694105144959 23.00694105144959\n",
      "111.61020628255585 111.61020628255585 30.800048591988578 30.800048591988578\n",
      "102.1363865096813 102.1363865096813 36.79807007080101 36.79807007080101\n",
      "113.6370984748532 113.6370984748532 40.370216403477514 40.370216403477514\n",
      "112.10496813206855 112.10496813206855 40.8030197982279 40.8030197982279\n",
      "113.46284334356034 113.46284334356034 14.994920692182555 14.994920692182555\n",
      "119.42475352817802 119.42475352817802 18.648645239797478 18.648645239797478\n",
      "251.9665424032768 251.9665424032768 13.350083776668944 13.350083776668944\n",
      "252.77695384761884 252.77695384761884 12.599303060926497 12.599303060926497\n",
      "0.8453524488556248 0.8453524488556248 25.672214201517303 25.672214201517303\n",
      "359.45619942725614 359.45619942725614 28.429075880234176 28.429075880234176\n",
      "17.175859624027474 17.175859624027474 14.826862115558662 14.826862115558662\n",
      "256.9664449049022 256.9664449049022 28.116580285789393 28.116580285789393\n",
      "313.71601525061635 313.71601525061635 2.2655063313259967 2.2655063313259967\n",
      "313.7348776228534 313.7348776228534 2.498922811964435 2.498922811964435\n",
      "149.40237980934927 149.40237980934927 -1.1946685534534818 -1.1946685534534818\n",
      "149.3731585023335 149.3731585023335 0.8784153399024485 0.8784153399024485\n",
      "149.0831297958518 149.0831297958518 0.32523307801723733 0.32523307801723733\n",
      "150.27617921221847 150.27617921221847 0.4763326342762967 0.4763326342762967\n",
      "150.80125478986614 150.80125478986614 1.0045397399316263 1.0045397399316263\n",
      "157.70123566703202 157.70123566703202 17.235609005696677 17.235609005696677\n",
      "155.73305078800232 155.73305078800232 16.91089577678555 16.91089577678555\n",
      "155.4149989377295 155.4149989377295 18.594369530231194 18.594369530231194\n",
      "157.26426457190905 157.26426457190905 18.16179464405873 18.16179464405873\n",
      "155.4309136026309 155.4309136026309 7.99281156048152 7.99281156048152\n",
      "156.31849581769671 156.31849581769671 9.89387229245182 9.89387229245182\n",
      "157.6619573624698 157.6619573624698 8.838711233881362 8.838711233881362\n",
      "165.14930366967272 165.14930366967272 27.797146235865856 27.797146235865856\n",
      "163.9837843036584 163.9837843036584 28.398263397509943 28.398263397509943\n",
      "164.69517512721643 164.69517512721643 28.926140229516268 28.926140229516268\n",
      "166.29351469999375 166.29351469999375 37.85312279382788 37.85312279382788\n",
      "168.4153451548471 168.4153451548471 38.55683218594107 38.55683218594107\n",
      "170.10416091601405 170.10416091601405 18.28942363047554 18.28942363047554\n",
      "169.77447203112678 169.77447203112678 18.316853662332807 18.316853662332807\n",
      "169.17904705749473 169.17904705749473 19.149668135226907 19.149668135226907\n",
      "169.77248387201897 169.77248387201897 19.637710212589138 19.637710212589138\n",
      "170.03075647130382 170.03075647130382 20.36581110987394 20.36581110987394\n",
      "156.1541041749981 156.1541041749981 17.08993727942317 17.08993727942317\n",
      "164.90592132534383 164.90592132534383 28.315361246676357 28.315361246676357\n",
      "165.9838742325758 165.9838742325758 29.679528233262502 29.679528233262502\n",
      "168.53472738682143 168.53472738682143 19.470336857102602 19.470336857102602\n",
      "168.61821907833874 168.61821907833874 19.589088294354607 19.589088294354607\n",
      "169.59261524703666 169.59261524703666 19.861010736699335 19.861010736699335\n",
      "169.9570043746468 169.9570043746468 20.41434023761946 20.41434023761946\n",
      "172.75929108589833 172.75929108589833 -6.489203015233198 -6.489203015233198\n",
      "133.55460750405868 133.55460750405868 4.120716926700591 4.120716926700591\n",
      "134.46282719500118 134.46282719500118 3.1861515352799996 3.1861515352799996\n",
      "145.39204433998793 145.39204433998793 29.679457859429387 29.679457859429387\n",
      "143.6518350358989 143.6518350358989 29.405765643554613 29.405765643554613\n",
      "143.96789861996362 143.96789861996362 29.476414111072216 29.476414111072216\n",
      "143.35425815837368 143.35425815837368 29.210561860925285 29.210561860925285\n",
      "144.3976586626225 144.3976586626225 30.09290699940383 30.09290699940383\n",
      "144.69316328286828 144.69316328286828 30.64664741000724 30.64664741000724\n",
      "145.35815125316998 145.35815125316998 30.34386042384923 30.34386042384923\n",
      "181.9482610545231 181.9482610545231 -0.5540340188176921 -0.5540340188176921\n",
      "181.38925073612438 181.38925073612438 -0.4007398925648218 -0.4007398925648218\n",
      "181.65403582936764 181.65403582936764 -0.03759281944520108 -0.03759281944520108\n",
      "181.8494030866196 181.8494030866196 -0.03875367167577564 -0.03875367167577564\n",
      "181.428332486417 181.428332486417 20.512553312437674 20.512553312437674\n",
      "196.35614310647054 196.35614310647054 38.822776942817505 38.822776942817505\n",
      "198.0586217424778 198.0586217424778 -0.4477931233037316 -0.4477931233037316\n",
      "197.6550905665828 197.6550905665828 -0.2123309938880891 -0.2123309938880891\n",
      "196.7083450929437 196.7083450929437 -0.5467918965444238 -0.5467918965444238\n",
      "204.5094770154433 204.5094770154433 10.250635496048456 10.250635496048456\n",
      "205.6096890943391 205.6096890943391 28.088619806094766 28.088619806094766\n",
      "207.12739416377957 207.12739416377957 28.96232747914264 28.96232747914264\n",
      "206.28850190938468 206.28850190938468 18.55170822529035 18.55170822529035\n",
      "207.02067569519647 207.02067569519647 19.207839573214784 19.207839573214784\n",
      "212.5722241642633 212.5722241642633 35.6514558565882 35.6514558565882\n",
      "212.68454742448614 212.68454742448614 35.76029684511435 35.76029684511435\n",
      "212.44984811320114 212.44984811320114 37.7209068681026 37.7209068681026\n",
      "212.7134445308952 212.7134445308952 37.8890227105673 37.8890227105673\n",
      "213.10070198589202 213.10070198589202 37.39924003423251 37.39924003423251\n",
      "216.8281044780823 216.8281044780823 8.873905982959917 8.873905982959917\n",
      "222.0960777425247 222.0960777425247 -1.090332668257289 -1.090332668257289\n",
      "222.1590793262483 222.1590793262483 1.2457675504831396 1.2457675504831396\n",
      "225.48107020215699 225.48107020215699 31.54302420543821 31.54302420543821\n",
      "232.7786970221558 232.7786970221558 38.83442860574366 38.83442860574366\n",
      "231.59393005655986 231.59393005655986 40.51745204024307 40.51745204024307\n",
      "134.07641621361213 134.07641621361213 2.757701776858395 2.757701776858395\n",
      "144.84950862152095 144.84950862152095 29.62848814697341 29.62848814697341\n",
      "143.60770418766887 143.60770418766887 29.63161541225645 29.63161541225645\n",
      "143.30316211729905 143.30316211729905 30.270260722903654 30.270260722903654\n",
      "144.73701631373373 144.73701631373373 30.956432999772428 30.956432999772428\n",
      "180.64666464548213 180.64666464548213 1.110288672988953 1.110288672988953\n",
      "182.9232110104797 182.9232110104797 19.635377203222806 19.635377203222806\n",
      "180.6539325928144 180.6539325928144 19.182576851750266 19.182576851750266\n",
      "189.87391446805862 189.87391446805862 -0.7060456480977948 -0.7060456480977948\n",
      "193.40897686431677 193.40897686431677 19.324562773281354 19.324562773281354\n",
      "194.32225132863866 194.32225132863866 20.17104735788693 20.17104735788693\n",
      "195.54781717290064 195.54781717290064 20.414236718993408 20.414236718993408\n",
      "197.24878794137095 197.24878794137095 -0.3932560988289146 -0.3932560988289146\n",
      "197.1226079755458 197.1226079755458 0.9319255542091694 0.9319255542091694\n",
      "205.8189709562924 205.8189709562924 8.76080538630823 8.76080538630823\n",
      "205.12956449105744 205.12956449105744 10.546411552653513 10.546411552653513\n",
      "207.82595017879444 207.82595017879444 29.176600118828365 29.176600118828365\n",
      "207.19312817288713 207.19312817288713 19.381795334931148 19.381795334931148\n",
      "208.17436607210436 208.17436607210436 19.60460242301914 19.60460242301914\n",
      "212.73761104890386 212.73761104890386 36.31094490107948 36.31094490107948\n",
      "213.75194858090367 213.75194858090367 37.39651049686169 37.39651049686169\n",
      "215.99691471684642 215.99691471684642 45.895914392670086 45.895914392670086\n",
      "226.88107314929965 226.88107314929965 31.208289933300048 31.208289933300048\n",
      "105.77633376558843 105.77633376558843 38.924461516012826 38.924461516012826\n",
      "112.45142978151638 112.45142978151638 37.23009239685553 37.23009239685553\n",
      "193.79766389770992 193.79766389770992 9.629234846683191 9.629234846683191\n",
      "192.65444768916296 192.65444768916296 9.580599100276588 9.580599100276588\n",
      "191.89683991226784 191.89683991226784 9.280541800334031 9.280541800334031\n",
      "192.45464764959283 192.45464764959283 10.552643339073164 10.552643339073164\n",
      "192.67406101601136 192.67406101601136 10.700104845698123 10.700104845698123\n",
      "194.04170245205304 194.04170245205304 10.518439225023895 10.518439225023895\n",
      "218.41249623042788 218.41249623042788 20.26427879655823 20.26427879655823\n",
      "220.27106057314893 220.27106057314893 21.532862444041513 21.532862444041513\n",
      "193.62461138415176 193.62461138415176 9.629620692199198 9.629620692199198\n",
      "192.0444248814905 192.0444248814905 9.196322625190447 9.196322625190447\n",
      "192.8283010787925 192.8283010787925 10.802430280639904 10.802430280639904\n"
     ]
    },
    {
     "name": "stdout",
     "output_type": "stream",
     "text": [
      "194.04662118148389 194.04662118148389 10.795471147638686 10.795471147638686\n",
      "194.59539083708515 194.59539083708515 9.987528643068524 9.987528643068524\n",
      "19.481524524202328 19.481524524202328 6.193899178628185 6.193899178628185\n",
      "19.672100608054606 19.672100608054606 7.011664722666697 7.011664722666697\n",
      "19.054561877868405 19.054561877868405 6.293278751020391 6.293278751020391\n",
      "18.16187603139135 18.16187603139135 7.312182464623081 7.312182464623081\n",
      "17.84469667759799 17.84469667759799 7.67749508839126 7.67749508839126\n",
      "19.07810116613637 19.07810116613637 7.746099605126615 7.746099605126615\n",
      "19.65330531709353 19.65330531709353 8.032081574204112 8.032081574204112\n",
      "12.58475876827803 12.58475876827803 1.155995241233062 1.155995241233062\n",
      "31.0038761670221 31.0038761670221 6.596179048135719 6.596179048135719\n",
      "30.099423623968253 30.099423623968253 5.811443849690457 5.811443849690457\n",
      "30.67456393651251 30.67456393651251 7.538274128198441 7.538274128198441\n",
      "30.61583980709187 30.61583980709187 6.991654864161195 6.991654864161195\n",
      "39.311744727329234 39.311744727329234 -0.4858355383457283 -0.4858355383457283\n",
      "38.51194180136249 38.51194180136249 -1.1276722633059186 -1.1276722633059186\n",
      "38.20867684859117 38.20867684859117 1.115865467764176 1.115865467764176\n",
      "39.032137422879366 39.032137422879366 0.689615006578546 0.689615006578546\n",
      "39.98989393969657 39.98989393969657 0.13417845910681858 0.13417845910681858\n",
      "37.39048831418788 37.39048831418788 -0.8826638605423867 -0.8826638605423867\n",
      "36.10593383389794 36.10593383389794 -0.04638478714732049 -0.04638478714732049\n",
      "36.84609904368817 36.84609904368817 1.081686347212379 1.081686347212379\n",
      "36.92724574250328 36.92724574250328 0.9252652955216525 0.9252652955216525\n",
      "37.22556836602541 37.22556836602541 1.1458683818734237 1.1458683818734237\n",
      "37.80599806599242 37.80599806599242 0.31780154226704005 0.31780154226704005\n",
      "37.820007658233976 37.820007658233976 0.9146997687705721 0.9146997687705721\n",
      "339.8101431636378 339.8101431636378 13.403508659223053 13.403508659223053\n",
      "339.7011642322423 339.7011642322423 14.493867483379 14.493867483379\n",
      "339.7848677270161 339.7848677270161 13.833805592254487 13.833805592254487\n",
      "330.12946538518077 330.12946538518077 5.700945395590775 5.700945395590775\n",
      "354.49486285680337 354.49486285680337 -0.8014363561660819 -0.8014363561660819\n",
      "343.2052476124074 343.2052476124074 1.1475963175652737 1.1475963175652737\n",
      "129.6100350793738 129.6100350793738 24.922031896675943 24.922031896675943\n",
      "129.79515229952796 129.79515229952796 26.990835041311566 26.990835041311566\n",
      "143.98299475420552 143.98299475420552 8.839124935323051 8.839124935323051\n",
      "154.59072130242092 154.59072130242092 35.91516375605467 35.91516375605467\n",
      "153.8367739367771 153.8367739367771 35.26537466066762 35.26537466066762\n",
      "127.0474947912297 127.0474947912297 38.732317778163086 38.732317778163086\n",
      "148.84745058049978 148.84745058049978 1.9879728585643517 1.9879728585643517\n",
      "149.12237343871928 149.12237343871928 2.3807989409255463 2.3807989409255463\n",
      "153.62622906874083 153.62622906874083 8.484271193331491 8.484271193331491\n",
      "53.84854712846742 53.84854712846742 0.3678691898228148 0.3678691898228148\n",
      "62.92100501167067 62.92100501167067 -5.7967968815083495 -5.7967968815083495\n",
      "108.35482780588559 108.35482780588559 31.861008324094534 31.861008324094534\n",
      "120.38043992102358 120.38043992102358 17.6551047564512 17.6551047564512\n",
      "118.89355380805426 118.89355380805426 18.848889068257474 18.848889068257474\n",
      "121.32828424354655 121.32828424354655 19.913811292539553 19.913811292539553\n",
      "117.91478737558514 117.91478737558514 29.73635034232724 29.73635034232724\n",
      "148.5411616379145 148.5411616379145 53.179675091926995 53.179675091926995\n",
      "171.6401523676293 171.6401523676293 18.22112433827953 18.22112433827953\n",
      "170.72424044205758 170.72424044205758 20.51401904766064 20.51401904766064\n",
      "171.68733208551058 171.68733208551058 19.48808666448567 19.48808666448567\n",
      "183.9253682863517 183.9253682863517 19.179382260681137 19.179382260681137\n",
      "125.82181692529907 125.82181692529907 46.37362479380306 46.37362479380306\n",
      "157.54870442300665 157.54870442300665 56.95421753136865 56.95421753136865\n",
      "154.45665398745788 154.45665398745788 19.447269878512923 19.447269878512923\n",
      "152.59592693787107 152.59592693787107 19.36793587223528 19.36793587223528\n",
      "152.73883109135141 152.73883109135141 21.011962922120468 21.011962922120468\n",
      "153.37241969432225 153.37241969432225 20.873423220278266 20.873423220278266\n",
      "153.35430924855228 153.35430924855228 21.841281607567545 21.841281607567545\n",
      "184.23168510800602 184.23168510800602 28.803866331913486 28.803866331913486\n",
      "181.47118489045374 181.47118489045374 29.144940948198883 29.144940948198883\n",
      "182.77016977963112 182.77016977963112 29.998751706623736 29.998751706623736\n",
      "181.53416491717635 181.53416491717635 30.48992548611441 30.48992548611441\n",
      "181.70668228710383 181.70668228710383 30.363704995613087 30.363704995613087\n",
      "181.21211962183725 181.21211962183725 30.43734582629957 30.43734582629957\n",
      "179.48331337937387 179.48331337937387 30.48812212418438 30.48812212418438\n",
      "180.76639102185064 180.76639102185064 30.976420553854375 30.976420553854375\n",
      "181.32946478847526 181.32946478847526 32.024028349738934 32.024028349738934\n",
      "127.4828259298008 127.4828259298008 33.22390194308551 33.22390194308551\n",
      "49.02924968027305 49.02924968027305 0.08184424498761007 0.08184424498761007\n",
      "49.51040019744664 49.51040019744664 0.6100722035660344 0.6100722035660344\n",
      "44.371767859407235 44.371767859407235 0.29939764436969957 0.29939764436969957\n",
      "44.64723138063545 44.64723138063545 0.001995497336668565 0.001995497336668565\n",
      "45.307580367637264 45.307580367637264 1.1279384571340911 1.1279384571340911\n",
      "51.667758650512866 51.667758650512866 16.521337743762988 16.521337743762988\n",
      "51.038241468279594 51.038241468279594 16.740646521796226 16.740646521796226\n",
      "51.17846437576545 51.17846437576545 16.72226276248864 16.72226276248864\n",
      "51.23124948424227 51.23124948424227 18.335248541516062 18.335248541516062\n",
      "130.1413327946472 130.1413327946472 15.174382859152118 15.174382859152118\n",
      "149.80748025869025 149.80748025869025 41.285431295344004 41.285431295344004\n",
      "148.4632602370594 148.4632602370594 43.35203694665491 43.35203694665491\n",
      "144.286814784701 144.286814784701 13.645574879301511 13.645574879301511\n",
      "142.72394923090744 142.72394923090744 21.699632266769026 21.699632266769026\n",
      "142.2530011846575 142.2530011846575 21.952679581480755 21.952679581480755\n",
      "181.73448555209714 181.73448555209714 13.381930725127125 13.381930725127125\n",
      "182.61488881633218 182.61488881633218 14.850988704313492 14.850988704313492\n",
      "182.54657549200684 182.54657549200684 10.707927800353179 10.707927800353179\n",
      "183.11973333825182 183.11973333825182 10.91999716378113 10.91999716378113\n",
      "181.6132283492201 181.6132283492201 11.14238249029533 11.14238249029533\n",
      "181.66808046168615 181.66808046168615 11.215202614635773 11.215202614635773\n",
      "181.64496653217745 181.64496653217745 11.43793615374976 11.43793615374976\n",
      "181.15411990308573 181.15411990308573 11.051290540306118 11.051290540306118\n",
      "181.09231711327794 181.09231711327794 11.555647178096155 11.555647178096155\n",
      "181.02221186836076 181.02221186836076 11.409377217486405 11.409377217486405\n",
      "180.49986489360032 180.49986489360032 11.16291530318748 11.16291530318748\n",
      "181.7853506931603 181.7853506931603 12.198262849684673 12.198262849684673\n",
      "171.5416143221417 171.5416143221417 44.51844703602601 44.51844703602601\n",
      "171.65146627999303 171.65146627999303 44.286804641513555 44.286804641513555\n",
      "171.37968297816337 171.37968297816337 44.01993747814205 44.01993747814205\n",
      "173.29063738214 173.29063738214 45.89074900268036 45.89074900268036\n",
      "170.32644899166544 170.32644899166544 45.96418137965533 45.96418137965533\n",
      "169.77089204232905 169.77089204232905 45.80437019169182 45.80437019169182\n",
      "175.561243493118 175.561243493118 26.31339938363085 26.31339938363085\n",
      "175.0981119853117 175.0981119853117 25.66422433401961 25.66422433401961\n",
      "174.0379773240185 174.0379773240185 27.065539732402527 27.065539732402527\n",
      "174.97761417516148 174.97761417516148 27.495079935309207 27.495079935309207\n",
      "171.84027040645935 171.84027040645935 27.92568192722165 27.92568192722165\n",
      "172.0710051882413 172.0710051882413 28.9826007198419 28.9826007198419\n",
      "172.00803147681623 172.00803147681623 28.235893044438477 28.235893044438477\n",
      "173.82025564965227 173.82025564965227 28.98872122538338 28.98872122538338\n",
      "144.96540680757752 144.96540680757752 37.18751452048015 37.18751452048015\n",
      "146.47955842171882 146.47955842171882 37.43787540253521 37.43787540253521\n",
      "115.8353357552803 115.8353357552803 43.80588791306064 43.80588791306064\n",
      "123.33207842313918 123.33207842313918 17.693162902470547 17.693162902470547\n",
      "122.68918981641758 122.68918981641758 18.348588288487417 18.348588288487417\n",
      "123.31212190169 123.31212190169 18.996894398945447 18.996894398945447\n",
      "119.38419590294865 119.38419590294865 28.334370761385607 28.334370761385607\n",
      "119.42993215469886 119.42993215469886 28.612064457176675 28.612064457176675\n",
      "126.22737460508428 126.22737460508428 35.999543936584615 35.999543936584615\n",
      "48.444665124998856 48.444665124998856 18.08085055372553 18.08085055372553\n",
      "48.58002444692593 48.58002444692593 17.424002026033286 17.424002026033286\n",
      "49.95161798048533 49.95161798048533 19.45151032553969 19.45151032553969\n",
      "171.6624677778926 171.6624677778926 8.903787177934616 8.903787177934616\n",
      "170.63132888600137 170.63132888600137 9.084535817063975 9.084535817063975\n",
      "170.791211575716 170.791211575716 10.09512501207874 10.09512501207874\n",
      "171.4742534812162 171.4742534812162 10.677815440656408 10.677815440656408\n",
      "172.23653197222458 172.23653197222458 -2.2419122918212775 -2.2419122918212775\n",
      "171.85355367133778 171.85355367133778 -2.090149773126932 -2.090149773126932\n",
      "196.1681436728041 196.1681436728041 8.6935878109521 8.6935878109521\n",
      "196.08794566522042 196.08794566522042 9.635537307739645 9.635537307739645\n",
      "194.9908501995389 194.9908501995389 9.236869333260854 9.236869333260854\n",
      "194.13515263970325 194.13515263970325 9.232328835307422 9.232328835307422\n",
      "194.85672749185275 194.85672749185275 10.60604482392969 10.60604482392969\n",
      "194.53682981303888 194.53682981303888 10.52576373726622 10.52576373726622\n",
      "195.40644392857453 195.40644392857453 10.607986841236626 10.607986841236626\n",
      "195.85169718016522 195.85169718016522 9.991949918888453 9.991949918888453\n",
      "196.13239113618667 196.13239113618667 10.78633613865498 10.78633613865498\n",
      "195.90185014927584 195.90185014927584 19.075524615164483 19.075524615164483\n",
      "198.36613201675155 198.36613201675155 19.527355095854624 19.527355095854624\n",
      "194.52504945503884 194.5247411538589 28.500273039217603 28.496215276567025\n",
      "192.94963603974736 192.94963603974736 30.783913948804113 30.783913948804113\n",
      "186.02283402017866 186.02283402017866 39.50307337844538 39.50307337844538\n",
      "185.27983098576232 185.27983098576232 38.89002652980306 38.89002652980306\n",
      "196.41039158032538 196.41039158032538 50.41340147355906 50.41340147355906\n",
      "196.49642597819494 196.49642597819494 50.53487608196572 50.53487608196572\n",
      "201.14658201872618 201.14658201872618 38.11938698708334 38.11938698708334\n",
      "200.4487864111294 200.4487864111294 37.88601589790191 37.88601589790191\n",
      "37.65179192016756 37.65179192016756 23.074341257681198 23.074341257681198\n",
      "163.86385633210585 163.86385633210585 3.0191090389530113 3.0191090389530113\n",
      "163.4372469566307 163.4372469566307 3.529089376705986 3.529089376705986\n",
      "164.7647159785478 164.7647159785478 3.6250472679280685 3.6250472679280685\n",
      "167.05299337942063 167.05299337942063 1.7812031459289839 1.7812031459289839\n",
      "166.8525131199776 166.8525131199776 2.6394785688375233 2.6394785688375233\n",
      "166.029486657301 166.029486657301 1.8008326858153174 1.8008326858153174\n",
      "165.28581372509026 165.28581372509026 3.163061851875018 3.163061851875018\n",
      "166.39067258170397 166.39067258170397 4.174348829653158 4.174348829653158\n",
      "167.1292651954059 167.1292651954059 3.5811902957327817 3.5811902957327817\n",
      "173.6713168864506 173.6713168864506 13.594296965990535 13.594296965990535\n",
      "175.01907710892795 175.01907710892795 14.183304896665291 14.183304896665291\n",
      "176.3065522742472 176.3065522742472 13.583638089839708 13.583638089839708\n",
      "176.49268120400757 176.49268120400757 13.282378339773127 13.282378339773127\n",
      "177.32712081971937 177.32712081971937 5.864391788173641 5.864391788173641\n",
      "176.67825453911135 176.67825453911135 7.1436060970050566 7.1436060970050566\n",
      "177.33813845517838 177.33813845517838 7.010207413012973 7.010207413012973\n",
      "179.71512070048814 179.71512070048814 4.574622807920429 4.574622807920429\n",
      "179.61057435786088 179.61057435786088 4.513289169869204 4.513289169869204\n",
      "179.98974780304383 179.98974780304383 4.790163879167888 4.790163879167888\n",
      "179.11021488455515 179.11021488455515 5.154575782308759 5.154575782308759\n",
      "179.23489765332747 179.23489765332747 5.38617124782897 5.38617124782897\n",
      "178.83687129263507 178.83687129263507 7.02794259681617 7.02794259681617\n",
      "179.18222660229964 179.18222660229964 6.070875953823354 6.070875953823354\n",
      "179.67379281294387 179.67379281294387 6.141921143850881 6.141921143850881\n"
     ]
    },
    {
     "name": "stdout",
     "output_type": "stream",
     "text": [
      "179.43030081853988 179.43030081853988 6.785737087832334 6.785737087832334\n",
      "151.365718850633 151.365718850633 13.581883826806239 13.581883826806239\n",
      "150.058915832133 150.058915832133 12.85889512613746 12.85889512613746\n",
      "149.2154696106144 149.2154696106144 13.506503814171825 13.506503814171825\n",
      "149.52513384862448 149.52513384862448 14.761119079296066 14.761119079296066\n",
      "150.07185404897604 150.07185404897604 14.66339205466762 14.66339205466762\n",
      "149.92921725167608 149.92921725167608 14.100181300287744 14.100181300287744\n",
      "150.8779784194078 150.8779784194078 14.730349820068023 14.730349820068023\n",
      "153.12240278841617 153.12240278841617 12.72761889053964 12.72761889053964\n",
      "151.39225186079662 151.39225186079662 12.510206787620728 12.510206787620728\n",
      "152.2879985192539 152.2879985192539 14.587778745815221 14.587778745815221\n",
      "153.474426190789 153.474426190789 13.324751936788099 13.324751936788099\n",
      "158.8054923877354 158.8054923877354 22.565116735159982 22.565116735159982\n",
      "159.59003028568614 159.59003028568614 25.128892924291915 25.128892924291915\n",
      "159.35885850411788 159.35885850411788 24.140154103737935 24.140154103737935\n",
      "160.1956956103909 160.1956956103909 24.322147873469792 24.322147873469792\n",
      "163.41947281380342 163.41947281380342 22.56476968319351 22.56476968319351\n",
      "161.61699111758506 161.61699111758506 22.500618163267546 22.500618163267546\n",
      "161.32560178475705 161.32560178475705 24.046097704460745 24.046097704460745\n",
      "162.17936981664133 162.17936981664133 24.49952568188298 24.49952568188298\n",
      "162.94576824645594 162.94576824645594 23.47487068314196 23.47487068314196\n",
      "162.8967756565883 162.8967756565883 24.00842419540409 24.00842419540409\n",
      "185.60790747034056 185.60790747034056 5.149223717035023 5.149223717035023\n",
      "185.4398832741985 185.4398832741985 4.925753827673237 4.925753827673237\n",
      "183.96625990132662 183.96625990132662 4.8680422435995165 4.8680422435995165\n",
      "183.90143271851804 183.90143271851804 6.36720244326185 6.36720244326185\n",
      "184.24651882485952 184.24651882485952 5.683544143202303 5.683544143202303\n",
      "187.6372013473129 187.6372013473129 4.016165936054525 4.016165936054525\n",
      "186.7601645046616 186.7601645046616 4.9133658676098815 4.9133658676098815\n",
      "186.92092703155996 186.92092703155996 5.719811428483298 5.719811428483298\n",
      "188.38825000206086 188.38825000206086 14.407254480256864 14.407254480256864\n",
      "188.35917504271697 188.35917504271697 14.786156382724513 14.786156382724513\n",
      "188.64890604263476 188.64890604263476 14.844022345188131 14.844022345188131\n",
      "190.72642890817676 190.72642890817676 12.93621012342467 12.93621012342467\n",
      "190.72886433550534 190.72886433550534 13.455947866883312 13.455947866883312\n",
      "190.58140222773292 190.58140222773292 13.729537422386544 13.729537422386544\n",
      "190.52318839291812 190.52318839291812 15.312643759315558 15.312643759315558\n",
      "191.0173423719747 191.0173423719747 15.32541765785468 15.32541765785468\n",
      "151.87179322873095 151.87179322873095 2.4409007784820926 2.4409007784820926\n",
      "150.8962507781647 150.8962507781647 3.321274896533678 3.321274896533678\n",
      "160.01243993670607 160.01243993670607 43.37121581011289 43.37121581011289\n",
      "162.89125294726608 162.89125294726608 43.1683976410266 43.1683976410266\n",
      "164.6869421491412 164.6869421491412 43.94120587474458 43.94120587474458\n",
      "153.80127596075795 153.80127596075795 27.58498216105273 27.58498216105273\n",
      "153.5655988673932 153.5655988673932 27.531822481928348 27.531822481928348\n",
      "153.09410231910002 153.09410231910002 27.56367147252368 27.56367147252368\n",
      "153.3539680752022 153.3539680752022 27.593210033338146 27.593210033338146\n",
      "152.73673918678205 152.73673918678205 28.178509777447733 28.178509777447733\n",
      "152.4640794311698 152.4640794311698 28.47224684153844 28.47224684153844\n",
      "152.5505892870486 152.5505892870486 27.776567285017585 27.776567285017585\n",
      "153.64890552694868 153.64890552694868 28.17954168315581 28.17954168315581\n",
      "156.0112592522705 156.0112592522705 26.270451569455474 26.270451569455474\n",
      "155.09731348719953 155.09731348719953 26.706379376523373 26.706379376523373\n",
      "155.5485413418574 155.5485413418574 27.764827203255887 27.764827203255887\n",
      "155.4523273264759 155.4523273264759 27.990040457672343 27.990040457672343\n",
      "155.82359808080375 155.82359808080375 27.721855279725734 27.721855279725734\n",
      "156.66968056805285 156.66968056805285 28.321015664572187 28.321015664572187\n",
      "156.90960477444068 156.90960477444068 28.383238762303087 28.383238762303087\n",
      "156.94295868884234 156.94295868884234 38.751611557463825 38.751611557463825\n",
      "163.2806965474901 163.2806965474901 27.22810866135514 27.22810866135514\n",
      "163.6298500080651 163.6298500080651 29.401898064373814 29.401898064373814\n",
      "163.82781004724865 163.82781004724865 28.861250000048077 28.861250000048077\n",
      "163.89692040323322 163.89692040323322 29.36649435573895 29.36649435573895\n",
      "140.8057030495248 140.8057030495248 43.83364539511965 43.83364539511965\n",
      "179.9653242384827 179.9653242384827 11.693695655466868 11.693695655466868\n",
      "178.12275225103016 178.12275225103016 12.221870980736611 12.221870980736611\n",
      "179.466410009704 179.466410009704 12.908413526561853 12.908413526561853\n",
      "156.04251918743418 156.04251918743418 42.00001350360073 42.00001350360073\n",
      "155.0457014346107 155.0457014346107 41.92478754279644 41.92478754279644\n",
      "153.67888053973607 153.67888053973607 43.479558215822976 43.479558215822976\n",
      "155.01431692719316 155.01431692719316 44.214063521121474 44.214063521121474\n",
      "155.70733645619688 155.70733645619688 44.07148428997337 44.07148428997337\n",
      "156.07399348708603 156.07399348708603 42.90936063662341 42.90936063662341\n",
      "242.97666594100093 242.97666594100093 17.131773067862788 17.131773067862788\n",
      "241.6586100227678 241.6586100227678 16.346103231548867 16.346103231548867\n",
      "241.4696797272079 241.4696797272079 16.649798897561222 16.649798897561222\n",
      "241.53331684158186 241.53331684158186 17.52474150360153 17.52474150360153\n",
      "260.3208159392342 260.3208159392342 35.412639044308285 35.412639044308285\n",
      "259.83748543264386 259.83748543264386 35.71807605795978 35.71807605795978\n",
      "260.70537609630736 260.70537609630736 36.037042117487275 36.037042117487275\n",
      "261.4616793852267 261.4616793852267 36.57901351468728 36.57901351468728\n",
      "216.93683132699874 216.93683132699874 55.12832365603176 55.12832365603176\n",
      "228.78632665208923 228.78632665208923 51.006062854071715 51.006062854071715\n",
      "242.47182085175908 242.47182085175908 5.564654942813383 5.564654942813383\n",
      "243.9116013635812 243.9116013635812 6.7868873300590025 6.7868873300590025\n",
      "161.26096069997638 161.26096069997638 17.169781950388643 17.169781950388643\n",
      "161.48701719950924 161.48701719950924 17.463142593105328 17.463142593105328\n",
      "164.3633651210171 164.3633651210171 15.870644260601185 15.870644260601185\n",
      "164.58704031347787 164.58704031347787 15.579076833454481 15.579076833454481\n",
      "203.3535754617024 203.3535754617024 23.096530821507304 23.096530821507304\n",
      "202.79703461119686 202.79703461119686 24.161411283007567 24.161411283007567\n",
      "200.99194917421937 200.99194917421937 25.220304789016822 25.220304789016822\n",
      "185.4580944240135 185.4580944240135 54.83513456463046 54.83513456463046\n",
      "183.82707312107888 183.82707312107888 -0.405628590015626 -0.405628590015626\n",
      "183.00260863579612 183.00260863579612 -1.020972088381714 -1.020972088381714\n",
      "183.12404434155536 183.12404434155536 -1.2619237961701577 -1.2619237961701577\n",
      "182.547997105382 182.547997105382 0.9703070491739988 0.9703070491739988\n",
      "182.68775695257295 182.68775695257295 0.2678252273489154 0.2678252273489154\n",
      "183.34729351300805 183.34729351300805 0.9044041933557104 0.9044041933557104\n",
      "183.72841757020205 183.72841757020205 1.0864860872846982 1.0864860872846982\n",
      "200.17715159488773 200.17715159488773 -1.2886269726573465 -1.2886269726573465\n",
      "200.13093068744234 200.13093068744234 -1.3315477223225036 -1.3315477223225036\n",
      "201.54189822281032 201.54189822281032 0.5869743121751146 0.5869743121751146\n",
      "232.99881095013276 232.99881095013276 6.131018661521025 6.131018661521025\n",
      "232.6654098826844 232.6654098826844 7.4923519792440905 7.4923519792440905\n",
      "209.17472675279922 209.17472675279922 18.91965220702522 18.91965220702522\n",
      "210.6481967751937 210.6481967751937 19.286264535035233 19.286264535035233\n",
      "210.74443826601455 210.74443826601455 18.844350901411577 18.844350901411577\n",
      "216.80989826349168 216.80989826349168 35.456086346426765 35.456086346426765\n",
      "215.26591791146532 215.26591791146532 37.31499145183252 37.31499145183252\n",
      "215.5344676126726 215.5344676126726 36.75221688897515 36.75221688897515\n",
      "217.27659733100245 217.27659733100245 35.77031916261481 35.77031916261481\n",
      "214.92681862322408 214.92681862322408 45.92599803752173 45.92599803752173\n",
      "214.40807544800978 214.40807544800978 45.62972595492179 45.62972595492179\n",
      "212.57946760850706 212.57946760850706 45.79949652100936 45.79949652100936\n",
      "214.33390698063462 214.33390698063462 47.14889164721576 47.14889164721576\n",
      "223.38106311945728 223.38106311945728 0.6317343793458499 0.6317343793458499\n",
      "225.16322600187678 225.16322600187678 -0.026550794311268264 -0.026550794311268264\n",
      "225.21513850597603 225.21513850597603 0.6562050257727202 0.6562050257727202\n",
      "141.53580527672614 141.53580527672614 19.64833917671039 19.64833917671039\n",
      "140.67928084627283 140.67928084627283 20.718003088626194 20.718003088626194\n",
      "141.99772641418576 141.99772641418576 21.156127115686523 21.156127115686523\n",
      "201.04821792115857 201.04821792115857 54.03551483106997 54.03551483106997\n",
      "203.94734389662312 203.94734389662312 54.770698667658436 54.770698667658436\n",
      "142.04741048059742 142.04741048059742 9.28804373757567 9.28804373757567\n",
      "142.00456002362563 142.00456002362563 10.72014924873442 10.72014924873442\n",
      "142.97484129346591 142.97484129346591 10.746003461742577 10.746003461742577\n",
      "143.05718153008206 143.05718153008206 10.529186239952354 10.529186239952354\n",
      "147.12072261840822 147.12072261840822 52.65898324795283 52.65898324795283\n",
      "147.74269432374075 147.74269432374075 52.20459981021535 52.20459981021535\n",
      "147.69400761597058 147.69400761597058 51.70899431876922 51.70899431876922\n",
      "149.63971028298675 149.63971028298675 51.60515838099225 51.60515838099225\n",
      "147.37059963203717 147.37059963203717 43.093834790093915 43.093834790093915\n",
      "152.89730821090774 152.89730821090774 52.68556506764988 52.68556506764988\n",
      "152.46856444592095 152.46856444592095 54.203311746227364 54.203311746227364\n",
      "166.636584074005 166.636584074005 40.57571679305845 40.57571679305845\n",
      "166.24625194138048 166.24625194138048 40.54609858002147 40.54609858002147\n",
      "165.83280722190318 165.83280722190318 41.220256250420164 41.220256250420164\n",
      "166.15038662483298 166.15038662483298 41.66413623474721 41.66413623474721\n",
      "166.31788130953456 166.31788130953456 41.324724771877406 41.324724771877406\n",
      "171.12686379500224 171.12686379500224 16.04580663834419 16.04580663834419\n",
      "170.09247566800394 170.09247566800394 15.953504734683648 15.953504734683648\n",
      "170.8553047623191 170.8553047623191 17.867750137514257 17.867750137514257\n",
      "171.70860526134885 171.70860526134885 17.053703776885417 17.053703776885417\n",
      "174.44253662980174 174.44253662980174 46.74438552436747 46.74438552436747\n",
      "174.48886241398483 174.48886241398483 47.23311357537336 47.23311357537336\n",
      "173.4232761131828 173.4232761131828 46.69993881536097 46.69993881536097\n",
      "173.2641909473057 173.2641909473057 47.395970095498676 47.395970095498676\n",
      "172.81791837244555 172.81791837244555 46.71328417699779 46.71328417699779\n",
      "172.59099691540493 172.59099691540493 48.4895518124403 48.4895518124403\n",
      "127.82010784981767 127.82010784981767 55.04428495367923 55.04428495367923\n",
      "190.32655472123153 190.32655472123153 22.71882410354182 22.71882410354182\n",
      "188.05389412245447 188.05389412245447 24.10940152744905 24.10940152744905\n",
      "192.81339701261317 192.81339701261317 36.05690006989647 36.05690006989647\n",
      "201.0084839366222 201.0084839366222 31.877460288949337 31.877460288949337\n",
      "199.74553111183656 199.74553111183656 31.707774055917874 31.707774055917874\n",
      "199.31169555792138 199.31169555792138 33.213588393254646 33.213588393254646\n",
      "199.5211041059496 199.5211041059496 33.075433077400724 33.075433077400724\n",
      "200.57826203682527 200.57826203682527 34.017193609961375 34.017193609961375\n",
      "209.3601271304989 209.3601271304989 41.285521580321806 41.285521580321806\n",
      "207.191980417166 207.191980417166 42.068603936352005 42.068603936352005\n",
      "217.74560179828143 217.74560179828143 29.259100180968783 29.259100180968783\n",
      "219.95796040318248 219.95796040318248 40.52649466302741 40.52649466302741\n",
      "223.56126485504936 223.56126485504936 22.486209432730906 22.486209432730906\n",
      "190.16299851821194 190.16299851821194 34.47058486703012 34.47058486703012\n",
      "188.3466893330151 188.3466893330151 34.04057283451173 34.04057283451173\n",
      "187.4735882894126 187.4735882894126 35.490746946217385 35.490746946217385\n",
      "187.10196530982228 187.10196530982228 35.5573878877879 35.5573878877879\n",
      "188.71600381345647 188.71600381345647 35.491788981449446 35.491788981449446\n",
      "217.51423013923505 217.51423013923505 27.903636446354323 27.903636446354323\n",
      "217.32122266530902 217.32122266530902 27.578762735837287 27.578762735837287\n",
      "216.2309111555721 216.2309111555721 27.123367443765854 27.123367443765854\n"
     ]
    },
    {
     "name": "stdout",
     "output_type": "stream",
     "text": [
      "215.45301362317323 215.45301362317323 28.976039762199527 28.976039762199527\n",
      "217.35941644041134 217.35941644041134 28.8852362773185 28.8852362773185\n",
      "218.16745324918875 218.16745324918875 28.442730691538866 28.442730691538866\n",
      "222.45398168113266 222.45398168113266 42.25442493130633 42.25442493130633\n",
      "224.39948668253686 224.39948668253686 41.47741242521676 41.47741242521676\n",
      "223.18379568829138 223.18379568829138 12.57072786080001 12.57072786080001\n",
      "251.24484641643932 251.24484641643932 40.77035404989151 40.77035404989151\n",
      "252.63273796622903 252.63273796622903 39.67000599372521 39.67000599372521\n",
      "242.5251412928665 242.5251412928665 46.18356193944457 46.18356193944457\n",
      "242.1377474757852 242.1377474757852 45.443831824608814 45.443831824608814\n",
      "242.29142674485612 242.29142674485612 45.42747563659973 45.42747563659973\n",
      "230.72666104141868 230.72666104141868 51.535991914066464 51.535991914066464\n",
      "231.71689934876662 231.71689934876662 53.38325461412756 53.38325461412756\n",
      "231.0676872037751 231.0676872037751 53.061396575303036 53.061396575303036\n",
      "233.19871414427232 233.19871414427232 53.401165580711776 53.401165580711776\n",
      "247.0858061795157 247.0858061795157 51.88419849616563 51.88419849616563\n",
      "238.8218858877922 238.8218858877922 47.12139500599596 47.12139500599596\n",
      "243.4939650788709 243.4939650788709 31.220861991336747 31.220861991336747\n",
      "245.46107258641982 245.46107258641982 32.109205088706425 32.109205088706425\n",
      "237.7292896608387 237.7292896608387 43.25477211189606 43.25477211189606\n",
      "251.4481719288952 251.4481719288952 31.783733946387155 31.783733946387155\n",
      "252.14295315202645 252.14295315202645 31.511102969253365 31.511102969253365\n",
      "595\n"
     ]
    }
   ],
   "source": [
    "overlap = 0\n",
    "\n",
    "for indx,ra in enumerate(GmatchS['ra']):\n",
    "    w = np.nanargmin(np.abs(Gmatch['ra']-ra))\n",
    "    if np.abs(GmatchS['dec'][indx]-Gmatch['dec'][w]) < 0.01:\n",
    "        overlap+=1\n",
    "        print(ra,Gmatch['ra'][w],GmatchS['dec'][indx],Gmatch['dec'][w])\n",
    "    #if GmatchS['dec'][indx]\n",
    "    \n",
    "print(overlap)"
   ]
  },
  {
   "cell_type": "code",
   "execution_count": 220,
   "metadata": {},
   "outputs": [],
   "source": [
    "\n",
    "\n",
    "\n",
    "X14 = np.genfromtxt('data/Xue2014KGiant14.txt',\\\n",
    "                        dtype={'names': (\"RA\",\"Dec\",\"rmag\",\"ermag\",\\\n",
    "                                         \"gr\",\"egr\",\"HRV\",\"eHRV\",\\\n",
    "                                         \"Teff\",\"FeH\",\"eFeH\",\"logg\",\\\n",
    "                                         \"DMpeak\",\"DM05\",\"DM16\",\"DM50\",\\\n",
    "                                         \"DM85\",\"DM95\",\"DMerror\",\"rMag\",\"erMag\",\\\n",
    "                                         \"d\",\"ed\",\"rGC\",\"erGC\",\\\n",
    "                                         \"Pabove\"),\\\n",
    "                             'formats': ('f8','f8','f8','f8',\\\n",
    "                                        'f8','f8','f8','f8',\\\n",
    "                                        'f8','f8','f8','f8',\\\n",
    "                                         'f8','f8','f8','f8',\\\n",
    "                                         'f8','f8','f8','f8','f8',\\\n",
    "                                        'f8','f8','f8','f8',\\\n",
    "                                        'f8')},\\\n",
    "                 skip_header=47)\n",
    "\n",
    "\n",
    "\n"
   ]
  },
  {
   "cell_type": "code",
   "execution_count": 274,
   "metadata": {},
   "outputs": [
    {
     "data": {
      "text/plain": [
       "0.15563569095949248"
      ]
     },
     "execution_count": 274,
     "metadata": {},
     "output_type": "execute_result"
    }
   ],
   "source": [
    "np.nanmedian(X14['ed']/X14['d'])"
   ]
  },
  {
   "cell_type": "code",
   "execution_count": 271,
   "metadata": {},
   "outputs": [
    {
     "name": "stdout",
     "output_type": "stream",
     "text": [
      "599\n"
     ]
    },
    {
     "data": {
      "text/plain": [
       "[<matplotlib.lines.Line2D at 0x12a7ae978>]"
      ]
     },
     "execution_count": 271,
     "metadata": {},
     "output_type": "execute_result"
    },
    {
     "data": {
      "image/png": "[encoded data removed]",
      "text/plain": [
       "<Figure size 432x288 with 1 Axes>"
      ]
     },
     "metadata": {
      "needs_background": "light"
     },
     "output_type": "display_data"
    }
   ],
   "source": [
    "overlap = 0\n",
    "oflag = []\n",
    "rv1 = []\n",
    "rv2 = []\n",
    "erv1 = []\n",
    "erv2 = []\n",
    "d1 = []\n",
    "d2 = []\n",
    "m2 = []\n",
    "\n",
    "for indx in range(0,ra.size):\n",
    "    w = np.nanargmin(np.abs(X14['RA']-ra[indx]))\n",
    "    if np.abs(dec[indx]-X14['Dec'][w]) < 0.01:\n",
    "        oflag.append(indx)\n",
    "        overlap+=1\n",
    "        #print(ra[indx],X14['RA'][w],dec[indx],X14['Dec'][w])\n",
    "        #plt.scatter(dist[indx],X14['d'][w],color='black',s=1.)\n",
    "        plt.scatter(rv[indx],X14['HRV'][w],color='black',s=1.)\n",
    "        rv1.append(rv[indx])\n",
    "        rv2.append(X14['HRV'][w])\n",
    "        erv1.append(erv[indx])\n",
    "        erv2.append(X14['eHRV'][w])\n",
    "        d1.append(dist[indx])\n",
    "        d2.append(X14['d'][w])\n",
    "        m2.append(X14['FeH'][w])\n",
    "        #plt.scatter(rv[indx],np.abs(X14['HRV'][w]-rv[indx])/X14['eHRV'][w],color='black',s=1.)\n",
    "        #plt.scatter(rv[indx],np.abs(X14['HRV'][w]-rv[indx])/erv[indx],color='red',s=4.)\n",
    "\n",
    "\n",
    "    #if GmatchS['dec'][indx]\n",
    "    \n",
    "print(overlap)\n",
    "plt.plot([-400,400],[-400,400],color='grey')\n",
    "#plt.ylim(0.,10.)"
   ]
  },
  {
   "cell_type": "code",
   "execution_count": 270,
   "metadata": {},
   "outputs": [
    {
     "data": {
      "text/plain": [
       "[<matplotlib.lines.Line2D at 0x12a3d5940>]"
      ]
     },
     "execution_count": 270,
     "metadata": {},
     "output_type": "execute_result"
    },
    {
     "data": {
      "image/png": "[encoded data removed]",
      "text/plain": [
       "<Figure size 432x288 with 1 Axes>"
      ]
     },
     "metadata": {
      "needs_background": "light"
     },
     "output_type": "display_data"
    }
   ],
   "source": [
    "plt.scatter(np.array(d1),np.array(d2),color='black',s=1.)\n",
    "plt.plot([0.,100.],[0.,100],color='grey')"
   ]
  },
  {
   "cell_type": "code",
   "execution_count": 278,
   "metadata": {},
   "outputs": [
    {
     "name": "stdout",
     "output_type": "stream",
     "text": [
      "26\n"
     ]
    }
   ],
   "source": [
    "print(np.where( (np.array(d1)>40) & (np.array(d2)>40))[0].size)"
   ]
  },
  {
   "cell_type": "code",
   "execution_count": 248,
   "metadata": {},
   "outputs": [
    {
     "name": "stdout",
     "output_type": "stream",
     "text": [
      "-7.890000000000001\n"
     ]
    }
   ],
   "source": [
    "print(np.nanmedian(np.array(rv1)-np.array(rv2)))"
   ]
  },
  {
   "cell_type": "code",
   "execution_count": 272,
   "metadata": {},
   "outputs": [
    {
     "data": {
      "text/plain": [
       "(0.0, 5.0)"
      ]
     },
     "execution_count": 272,
     "metadata": {},
     "output_type": "execute_result"
    },
    {
     "data": {
      "image/png": "[encoded data removed]",
      "text/plain": [
       "<Figure size 432x288 with 1 Axes>"
      ]
     },
     "metadata": {
      "needs_background": "light"
     },
     "output_type": "display_data"
    }
   ],
   "source": [
    "plt.scatter(np.array(m2),np.abs(np.array(rv1)-np.array(rv2)+8.)/np.array(erv1),color='black',s=1.)\n",
    "\n",
    "plt.ylim(0.,5.)\n"
   ]
  },
  {
   "cell_type": "code",
   "execution_count": 257,
   "metadata": {},
   "outputs": [
    {
     "name": "stdout",
     "output_type": "stream",
     "text": [
      "1.605008347245409\n"
     ]
    }
   ],
   "source": [
    "print(np.nanmean(np.array(erv2)))"
   ]
  },
  {
   "cell_type": "code",
   "execution_count": null,
   "metadata": {},
   "outputs": [],
   "source": []
  },
  {
   "cell_type": "code",
   "execution_count": 238,
   "metadata": {},
   "outputs": [
    {
     "data": {
      "text/plain": [
       "<matplotlib.collections.PathCollection at 0x1267300f0>"
      ]
     },
     "execution_count": 238,
     "metadata": {},
     "output_type": "execute_result"
    },
    {
     "data": {
      "image/png": "[encoded data removed]",
      "text/plain": [
       "<Figure size 432x288 with 1 Axes>"
      ]
     },
     "metadata": {
      "needs_background": "light"
     },
     "output_type": "display_data"
    }
   ],
   "source": [
    "plt.scatter(Gmatch['phot_g_mean_mag'][pmatch][oflag],dist[oflag],color='black',s=4.)"
   ]
  },
  {
   "cell_type": "code",
   "execution_count": 320,
   "metadata": {},
   "outputs": [
    {
     "name": "stdout",
     "output_type": "stream",
     "text": [
      "598\n"
     ]
    }
   ],
   "source": [
    "\n",
    "OLK = np.genfromtxt('/Users/mpetersen/Downloads/LAMOST_K_FULL_overlap.txt',dtype=None,skip_header=1)\n",
    "#OLK[:,22]\n",
    "print(OLK.size)\n",
    "\n",
    "OLKnum = []\n",
    "for i in range(OLK.size):\n",
    "    OLKnum.append(OLK[i][23])\n",
    "    \n",
    "#print(OLKnum)\n",
    "OLK = np.genfromtxt('/Users/mpetersen/Downloads/LAMOST_K_FULL_overlap.txt',skip_header=1)\n",
    "\n"
   ]
  },
  {
   "cell_type": "code",
   "execution_count": 321,
   "metadata": {},
   "outputs": [],
   "source": [
    "SK = np.genfromtxt('/Users/mpetersen/Downloads/KGiants_cartesian_heliocentric_sgr.txt',dtype=None,skip_header=1)\n",
    "\n",
    "SKnum = []\n",
    "for i in range(SK.size):\n",
    "    SKnum.append(SK[i][23])\n",
    "    \n",
    "SK = np.genfromtxt('/Users/mpetersen/Downloads/KGiants_cartesian_heliocentric_sgr.txt',skip_header=1)\n",
    "\n",
    "\n",
    "\n"
   ]
  },
  {
   "cell_type": "code",
   "execution_count": 341,
   "metadata": {},
   "outputs": [
    {
     "name": "stdout",
     "output_type": "stream",
     "text": [
      "590\n"
     ]
    },
    {
     "data": {
      "image/png": "[encoded data removed]",
      "text/plain": [
       "<Figure size 432x288 with 1 Axes>"
      ]
     },
     "metadata": {
      "needs_background": "light"
     },
     "output_type": "display_data"
    }
   ],
   "source": [
    "olap = 0\n",
    "for i,o in enumerate(OLKnum):\n",
    "    w = np.where(np.array(SKnum)==o)[0]\n",
    "    if len(w)>0:\n",
    "        #print(o,np.array(SKnum)[w[0]])\n",
    "        #print(OLK[i,10],SK[w[0],10])\n",
    "        plt.plot([OLK[i,8]-OLK[i,12],OLK[i,8]+OLK[i,12]],[SK[w[0],8],SK[w[0],8]],color='black',lw=0.5)\n",
    "        plt.plot([OLK[i,8],OLK[i,8]],[SK[w[0],8]-SK[w[0],12],SK[w[0],8]+SK[w[0],12]],color='black',lw=0.5)\n",
    "        olap += 1\n",
    "        \n",
    "print(olap)\n",
    "plt.plot([0,100],[0,100],color='grey')\n",
    "plt.axis([0.,80.,0.,100.])\n",
    "plt.xlabel('LAMOST distance',size=12)\n",
    "plt.ylabel('SDSS distance',size=12)\n",
    "plt.tight_layout()\n",
    "plt.savefig('/Users/mpetersen/Downloads/lamost-sdss.png')"
   ]
  },
  {
   "cell_type": "code",
   "execution_count": 346,
   "metadata": {},
   "outputs": [
    {
     "name": "stdout",
     "output_type": "stream",
     "text": [
      "590 54\n"
     ]
    },
    {
     "data": {
      "image/png": "[encoded data removed]",
      "text/plain": [
       "<Figure size 432x288 with 1 Axes>"
      ]
     },
     "metadata": {
      "needs_background": "light"
     },
     "output_type": "display_data"
    }
   ],
   "source": [
    "olap = 0\n",
    "ldist = 0\n",
    "for i,o in enumerate(OLKnum):\n",
    "    w = np.where(np.array(SKnum)==o)[0]\n",
    "    if len(w)>0:\n",
    "        #print(o,np.array(SKnum)[w[0]])\n",
    "        #print(OLK[i,10],SK[w[0],10])\n",
    "        #plt.plot([OLK[i,9]-OLK[i,13],OLK[i,9]+OLK[i,13]],[SK[w[0],9],SK[w[0],9]],color='black',lw=0.5)\n",
    "        #plt.plot([OLK[i,9],OLK[i,9]],[SK[w[0],9]-SK[w[0],13],SK[w[0],9]+SK[w[0],13]],color='black',lw=0.5)\n",
    "        plt.plot([OLK[i,9]-OLK[i,13],OLK[i,9]+OLK[i,13]],[SK[w[0],9]-OLK[i,9],SK[w[0],9]-OLK[i,9]],color='black',lw=0.5)\n",
    "        plt.plot([OLK[i,9],OLK[i,9]],[SK[w[0],9]-SK[w[0],13]-OLK[i,9],SK[w[0],9]+SK[w[0],13]-OLK[i,9]],color='black',lw=0.5)\n",
    "        olap += 1\n",
    "        if SK[i,8]>40:\n",
    "            ldist += 1\n",
    "        \n",
    "print(olap,ldist)\n",
    "#plt.plot([-400,400],[-400,400],color='grey')\n",
    "#plt.axis([0.,80.,0.,100.])\n",
    "plt.xlabel('LAMOST RV',size=12)\n",
    "plt.ylabel('SDSS-LAMOST RV',size=12)\n",
    "plt.tight_layout()\n",
    "plt.savefig('/Users/mpetersen/Downloads/lamost-sdss-vlos.png')"
   ]
  },
  {
   "cell_type": "code",
   "execution_count": null,
   "metadata": {},
   "outputs": [],
   "source": []
  }
 ],
 "metadata": {
  "kernelspec": {
   "display_name": "Python 3",
   "language": "python",
   "name": "python3"
  },
  "language_info": {
   "codemirror_mode": {
    "name": "ipython",
    "version": 3
   },
   "file_extension": ".py",
   "mimetype": "text/x-python",
   "name": "python",
   "nbconvert_exporter": "python",
   "pygments_lexer": "ipython3",
   "version": "3.6.8"
  }
 },
 "nbformat": 4,
 "nbformat_minor": 2
}
