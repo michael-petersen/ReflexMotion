{
 "cells": [
  {
   "cell_type": "code",
   "execution_count": 2,
   "metadata": {},
   "outputs": [
    {
     "name": "stderr",
     "output_type": "stream",
     "text": [
      "Warning: cannot import _healpy_pixel_lib module\n"
     ]
    },
    {
     "ename": "ImportError",
     "evalue": "dlopen(/opt/homebrew/lib/python3.11/site-packages/healpy/_healpy_sph_transform_lib.cpython-311-darwin.so, 0x0002): Library not loaded: /private/var/folders/6w/dlp9742d17v7x08hrlbn3d0r0000gn/T/pip-install-5_jmgsde/healpy_5a8bfb8b4ae448aaa72db10fe3548f70/build/temp.macosx-12-arm64-cpython-311/lib/libsharp.2.dylib\n  Referenced from: /opt/homebrew/lib/python3.11/site-packages/healpy/_healpy_sph_transform_lib.cpython-311-darwin.so\n  Reason: tried: '/private/var/folders/6w/dlp9742d17v7x08hrlbn3d0r0000gn/T/pip-install-5_jmgsde/healpy_5a8bfb8b4ae448aaa72db10fe3548f70/build/temp.macosx-12-arm64-cpython-311/lib/libsharp.2.dylib' (no such file), '/usr/local/lib/libsharp.2.dylib' (no such file), '/usr/lib/libsharp.2.dylib' (no such file)",
     "output_type": "error",
     "traceback": [
      "\u001b[0;31m---------------------------------------------------------------------------\u001b[0m",
      "\u001b[0;31mImportError\u001b[0m                               Traceback (most recent call last)",
      "Cell \u001b[0;32mIn[2], line 1\u001b[0m\n\u001b[0;32m----> 1\u001b[0m \u001b[38;5;28;01mimport\u001b[39;00m \u001b[38;5;21;01mhealpy\u001b[39;00m\n",
      "File \u001b[0;32m/opt/homebrew/lib/python3.11/site-packages/healpy/__init__.py:65\u001b[0m\n\u001b[1;32m     24\u001b[0m \u001b[38;5;28;01mfrom\u001b[39;00m \u001b[38;5;21;01m.\u001b[39;00m\u001b[38;5;21;01mversion\u001b[39;00m \u001b[38;5;28;01mimport\u001b[39;00m __version__\n\u001b[1;32m     26\u001b[0m \u001b[38;5;28;01mfrom\u001b[39;00m \u001b[38;5;21;01m.\u001b[39;00m\u001b[38;5;21;01mpixelfunc\u001b[39;00m \u001b[38;5;28;01mimport\u001b[39;00m (\n\u001b[1;32m     27\u001b[0m     ma,\n\u001b[1;32m     28\u001b[0m     mask_good,\n\u001b[0;32m   (...)\u001b[0m\n\u001b[1;32m     62\u001b[0m     get_map_size,\n\u001b[1;32m     63\u001b[0m )\n\u001b[0;32m---> 65\u001b[0m \u001b[38;5;28;01mfrom\u001b[39;00m \u001b[38;5;21;01m.\u001b[39;00m\u001b[38;5;21;01msphtfunc\u001b[39;00m \u001b[38;5;28;01mimport\u001b[39;00m (\n\u001b[1;32m     66\u001b[0m     anafast,\n\u001b[1;32m     67\u001b[0m     map2alm_lsq,\n\u001b[1;32m     68\u001b[0m     map2alm,\n\u001b[1;32m     69\u001b[0m     alm2map,\n\u001b[1;32m     70\u001b[0m     Alm,\n\u001b[1;32m     71\u001b[0m     synalm,\n\u001b[1;32m     72\u001b[0m     synfast,\n\u001b[1;32m     73\u001b[0m     smoothing,\n\u001b[1;32m     74\u001b[0m     smoothalm,\n\u001b[1;32m     75\u001b[0m     almxfl,\n\u001b[1;32m     76\u001b[0m     alm2cl,\n\u001b[1;32m     77\u001b[0m     pixwin,\n\u001b[1;32m     78\u001b[0m     alm2map_der1,\n\u001b[1;32m     79\u001b[0m     gauss_beam,\n\u001b[1;32m     80\u001b[0m     bl2beam,\n\u001b[1;32m     81\u001b[0m     beam2bl,\n\u001b[1;32m     82\u001b[0m     check_max_nside,\n\u001b[1;32m     83\u001b[0m     map2alm_spin,\n\u001b[1;32m     84\u001b[0m     alm2map_spin,\n\u001b[1;32m     85\u001b[0m     blm_gauss,\n\u001b[1;32m     86\u001b[0m     resize_alm\n\u001b[1;32m     87\u001b[0m )\n\u001b[1;32m     89\u001b[0m \u001b[38;5;28;01mfrom\u001b[39;00m \u001b[38;5;21;01m.\u001b[39;00m\u001b[38;5;21;01m_query_disc\u001b[39;00m \u001b[38;5;28;01mimport\u001b[39;00m query_disc, query_strip, query_polygon, boundaries\n\u001b[1;32m     90\u001b[0m \u001b[38;5;28;01mfrom\u001b[39;00m \u001b[38;5;21;01m.\u001b[39;00m\u001b[38;5;21;01m_pixelfunc\u001b[39;00m \u001b[38;5;28;01mimport\u001b[39;00m ringinfo, pix2ring\n",
      "File \u001b[0;32m/opt/homebrew/lib/python3.11/site-packages/healpy/sphtfunc.py:32\u001b[0m\n\u001b[1;32m     29\u001b[0m DATAURL \u001b[38;5;241m=\u001b[39m \u001b[38;5;124m\"\u001b[39m\u001b[38;5;124mhttps://healpy.github.io/healpy-data/\u001b[39m\u001b[38;5;124m\"\u001b[39m\n\u001b[1;32m     30\u001b[0m DATAURL_MIRROR \u001b[38;5;241m=\u001b[39m \u001b[38;5;124m\"\u001b[39m\u001b[38;5;124mhttps://github.com/healpy/healpy-data/releases/download/\u001b[39m\u001b[38;5;124m\"\u001b[39m\n\u001b[0;32m---> 32\u001b[0m \u001b[38;5;28;01mfrom\u001b[39;00m \u001b[38;5;21;01m.\u001b[39;00m \u001b[38;5;28;01mimport\u001b[39;00m _healpy_sph_transform_lib \u001b[38;5;28;01mas\u001b[39;00m sphtlib\n\u001b[1;32m     33\u001b[0m \u001b[38;5;28;01mfrom\u001b[39;00m \u001b[38;5;21;01m.\u001b[39;00m \u001b[38;5;28;01mimport\u001b[39;00m _sphtools \u001b[38;5;28;01mas\u001b[39;00m _sphtools\n\u001b[1;32m     34\u001b[0m \u001b[38;5;28;01mfrom\u001b[39;00m \u001b[38;5;21;01m.\u001b[39;00m \u001b[38;5;28;01mimport\u001b[39;00m cookbook \u001b[38;5;28;01mas\u001b[39;00m cb\n",
      "\u001b[0;31mImportError\u001b[0m: dlopen(/opt/homebrew/lib/python3.11/site-packages/healpy/_healpy_sph_transform_lib.cpython-311-darwin.so, 0x0002): Library not loaded: /private/var/folders/6w/dlp9742d17v7x08hrlbn3d0r0000gn/T/pip-install-5_jmgsde/healpy_5a8bfb8b4ae448aaa72db10fe3548f70/build/temp.macosx-12-arm64-cpython-311/lib/libsharp.2.dylib\n  Referenced from: /opt/homebrew/lib/python3.11/site-packages/healpy/_healpy_sph_transform_lib.cpython-311-darwin.so\n  Reason: tried: '/private/var/folders/6w/dlp9742d17v7x08hrlbn3d0r0000gn/T/pip-install-5_jmgsde/healpy_5a8bfb8b4ae448aaa72db10fe3548f70/build/temp.macosx-12-arm64-cpython-311/lib/libsharp.2.dylib' (no such file), '/usr/local/lib/libsharp.2.dylib' (no such file), '/usr/lib/libsharp.2.dylib' (no such file)"
     ]
    }
   ],
   "source": [
    "import healpy"
   ]
  },
  {
   "cell_type": "code",
   "execution_count": null,
   "metadata": {},
   "outputs": [],
   "source": []
  }
 ],
 "metadata": {
  "kernelspec": {
   "display_name": "Python 3",
   "language": "python",
   "name": "python3"
  },
  "language_info": {
   "codemirror_mode": {
    "name": "ipython",
    "version": 3
   },
   "file_extension": ".py",
   "mimetype": "text/x-python",
   "name": "python",
   "nbconvert_exporter": "python",
   "pygments_lexer": "ipython3",
   "version": "3.11.6"
  }
 },
 "nbformat": 4,
 "nbformat_minor": 2
}
