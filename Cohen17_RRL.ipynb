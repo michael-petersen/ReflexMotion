{
 "cells": [
  {
   "cell_type": "code",
   "execution_count": null,
   "metadata": {},
   "outputs": [],
   "source": []
  },
  {
   "cell_type": "code",
   "execution_count": 2,
   "metadata": {},
   "outputs": [],
   "source": [
    "\n",
    "# basic imports\n",
    "from __future__ import print_function\n",
    "import numpy as np\n",
    "from numpy.linalg import eig, inv\n",
    "import time\n",
    "\n",
    "# plotting elements\n",
    "import matplotlib.pyplot as plt\n",
    "%matplotlib inline\n",
    "import matplotlib.cm as cm\n",
    "import matplotlib as mpl\n",
    "mpl.rcParams['font.weight'] = 'medium'\n",
    "mpl.rcParams['xtick.labelsize'] = 10\n",
    "mpl.rcParams['ytick.labelsize'] = 10\n",
    "cmap = cm.RdBu_r\n",
    "\n",
    "\n",
    "\n",
    "# exptool imports\n",
    "from exptool.io import psp_io\n",
    "from exptool.utils import kde_3d\n",
    "from exptool.observables import transform\n",
    "from exptool.analysis import pattern\n",
    "from exptool.analysis import trapping\n",
    "from exptool.utils import *\n",
    "from exptool.observables import visualize\n",
    "\n",
    "# astropy imports\n",
    "import astropy.coordinates as coord\n",
    "import astropy.units as u\n",
    "\n",
    "import scipy.interpolate as interpolate\n",
    "from scipy.interpolate import UnivariateSpline\n",
    "import scipy\n",
    "\n",
    "# ipython reload capabilities for edits to external code\n",
    "%load_ext autoreload\n",
    "%autoreload 2\n",
    "\n",
    "\n",
    "import reflexmotion as rm\n",
    "\n",
    "from scipy.interpolate import UnivariateSpline\n",
    "from scipy.interpolate import interp1d\n",
    "\n",
    "from astropy.io import fits\n"
   ]
  },
  {
   "cell_type": "code",
   "execution_count": 3,
   "metadata": {},
   "outputs": [],
   "source": [
    "def spatial_distance(ra1,ra2,dec1,dec2):\n",
    "    \"\"\"compute a simple spherical onsky distance\"\"\"\n",
    "    \n",
    "    deltara  = 15.*np.cos(dec1)*np.abs(ra1-ra2)\n",
    "    deltadec = np.abs(dec1-dec2)\n",
    "    \n",
    "    return np.sqrt(deltara*deltara + deltadec*deltadec)\n",
    "    "
   ]
  },
  {
   "cell_type": "code",
   "execution_count": 4,
   "metadata": {},
   "outputs": [],
   "source": [
    "\n",
    "#http://docs.astropy.org/en/stable/generated/examples/coordinates/plot_sgr-coordinate-frame.html\n",
    "\n",
    "from astropy.coordinates import frame_transform_graph\n",
    "from astropy.coordinates.matrix_utilities import rotation_matrix, matrix_product, matrix_transpose\n",
    "import astropy.coordinates as coord\n",
    "import astropy.units as u\n",
    "\n",
    "class Sagittarius(coord.BaseCoordinateFrame):\n",
    "    \"\"\"\n",
    "    A Heliocentric spherical coordinate system defined by the orbit\n",
    "    of the Sagittarius dwarf galaxy, as described in\n",
    "        http://adsabs.harvard.edu/abs/2003ApJ...599.1082M\n",
    "    and further explained in\n",
    "        http://www.stsci.edu/~dlaw/Sgr/.\n",
    "\n",
    "    Parameters\n",
    "    ----------\n",
    "    representation : `BaseRepresentation` or None\n",
    "        A representation object or None to have no data (or use the other keywords)\n",
    "    Lambda : `Angle`, optional, must be keyword\n",
    "        The longitude-like angle corresponding to Sagittarius' orbit.\n",
    "    Beta : `Angle`, optional, must be keyword\n",
    "        The latitude-like angle corresponding to Sagittarius' orbit.\n",
    "    distance : `Quantity`, optional, must be keyword\n",
    "        The Distance for this object along the line-of-sight.\n",
    "    pm_Lambda_cosBeta : :class:`~astropy.units.Quantity`, optional, must be keyword\n",
    "        The proper motion along the stream in ``Lambda`` (including the\n",
    "        ``cos(Beta)`` factor) for this object (``pm_Beta`` must also be given).\n",
    "    pm_Beta : :class:`~astropy.units.Quantity`, optional, must be keyword\n",
    "        The proper motion in Declination for this object (``pm_ra_cosdec`` must\n",
    "        also be given).\n",
    "    radial_velocity : :class:`~astropy.units.Quantity`, optional, must be keyword\n",
    "        The radial velocity of this object.\n",
    "\n",
    "    \"\"\"\n",
    "\n",
    "    default_representation = coord.SphericalRepresentation\n",
    "    default_differential = coord.SphericalCosLatDifferential\n",
    "\n",
    "    frame_specific_representation_info = {\n",
    "        coord.SphericalRepresentation: [\n",
    "            coord.RepresentationMapping('lon', 'Lambda'),\n",
    "            coord.RepresentationMapping('lat', 'Beta'),\n",
    "            coord.RepresentationMapping('distance', 'distance')]\n",
    "    }\n",
    "    \n",
    "    \n",
    "\n",
    "SGR_PHI = (180 + 3.75) * u.degree # Euler angles (from Law & Majewski 2010)\n",
    "SGR_THETA = (90 - 13.46) * u.degree\n",
    "SGR_PSI = (180 + 14.111534) * u.degree\n",
    "\n",
    "\n",
    "# Generate the rotation matrix using the x-convention (see Goldstein)\n",
    "D = rotation_matrix(SGR_PHI, \"z\")\n",
    "C = rotation_matrix(SGR_THETA, \"x\")\n",
    "B = rotation_matrix(SGR_PSI, \"z\")\n",
    "A = np.diag([1.,1.,-1.])\n",
    "SGR_MATRIX = matrix_product(A, B, C, D)\n",
    "\n",
    "@frame_transform_graph.transform(coord.StaticMatrixTransform, coord.Galactic, Sagittarius)\n",
    "def galactic_to_sgr():\n",
    "    \"\"\" Compute the transformation matrix from Galactic spherical to\n",
    "        heliocentric Sgr coordinates.\n",
    "    \"\"\"\n",
    "    return SGR_MATRIX\n",
    "\n",
    "@frame_transform_graph.transform(coord.StaticMatrixTransform, Sagittarius, coord.Galactic)\n",
    "def sgr_to_galactic():\n",
    "    \"\"\" Compute the transformation matrix from heliocentric Sgr coordinates to\n",
    "        spherical Galactic.\n",
    "    \"\"\"\n",
    "    return matrix_transpose(SGR_MATRIX)\n",
    "\n",
    "\n"
   ]
  },
  {
   "cell_type": "code",
   "execution_count": 58,
   "metadata": {},
   "outputs": [
    {
     "name": "stdout",
     "output_type": "stream",
     "text": [
      "-10.0 1.0\n",
      "(-6.266399187466095, -7.856986777596376)\n",
      "(array([-10.]), 0.9999999999910104)\n"
     ]
    }
   ],
   "source": [
    "# see https://gea.esac.esa.int/archive/documentation/GDR2/Data_processing/chap_cu3ast/sec_cu3ast_intro/ssec_cu3ast_intro_tansforms.html\n",
    "def return_gaia_Ag():\n",
    "    \"\"\"set the Hipparcos computation\n",
    "\n",
    "    if truly obsessed see https://www.cosmos.esa.int/documents/532822/552851/vol1_all.pdf\n",
    "\n",
    "    though this has higher precision!!\n",
    "    \"\"\"\n",
    "    return np.array([[-0.0548755604162154,+0.4941094278755837,-0.8676661490190047],\n",
    "                     [-0.8734370902348850,-0.4448296299600112,-0.1980763734312015],\n",
    "                     [-0.4838350155487132,+0.7469822444972189,+0.4559837761750669]])\n",
    "\n",
    "    \n",
    "\n",
    "def return_gaia_Agprime():\n",
    "    \"\"\"return the matrix in eq 3.61, key to transform from ICRS to galactic coordinates\"\"\"\n",
    "    return np.array([[-0.0548755604162154,-0.8734370902348850,-0.4838350155487132],\n",
    "                     [+0.4941094278755837,-0.4448296299600112,+0.7469822444972189],\n",
    "                     [-0.8676661490190047,-0.1980763734312015,+0.4559837761750669]])\n",
    "\n",
    "def return_ricrs(a,d):\n",
    "    \"\"\" eq. 3.57\"\"\"\n",
    "    return np.array([np.cos(a)*np.cos(d),np.sin(a)*np.cos(d),np.sin(d)])\n",
    "\n",
    "def return_picrs(a,d):\n",
    "    \"\"\" eq. 3.64, unit vector of increasing alpha\"\"\"\n",
    "    if hasattr(a,'size'):\n",
    "        return np.array([-np.sin(a),np.cos(a),np.zeros(a.size)])\n",
    "    else:\n",
    "        return np.array([-np.sin(a),np.cos(a),0.])\n",
    "\n",
    "def return_qicrs(a,d):\n",
    "    \"\"\" eq. 3.64, unit vector of increasing delta\"\"\"\n",
    "    return np.array([-np.cos(a)*np.sin(d),-np.sin(a)*np.sin(d),np.cos(d)])\n",
    "\n",
    "def return_muicrs(a,d,mua,mud):\n",
    "    \"\"\" eq. 3.66, the proper motion vector\"\"\"\n",
    "    p = return_picrs(a,d)\n",
    "    q = return_qicrs(a,d)\n",
    "    return p*mua + q*mud\n",
    "\n",
    "\n",
    "\n",
    "def return_rgal(l,b):\n",
    "    \"\"\" eq. 3.58\"\"\"\n",
    "    return np.array([np.cos(l)*np.cos(b),np.sin(l)*np.cos(b),np.sin(b)])\n",
    "\n",
    "def return_pgal(l,b):\n",
    "    \"\"\" eq. 3.66, unit vector of increasing alpha\"\"\"\n",
    "    if hasattr(l,'size'):\n",
    "        return np.array([-np.sin(l),np.cos(l),0.*np.cos(l)])\n",
    "    else:\n",
    "        return np.array([-np.sin(l),np.cos(l),0.*np.cos(l)])\n",
    "\n",
    "def return_qgal(l,b):\n",
    "    \"\"\" eq. 3.66, unit vector of increasing delta\"\"\"\n",
    "    return np.array([-np.cos(l)*np.sin(b),-np.sin(l)*np.sin(b),np.cos(b)])\n",
    "\n",
    "def return_mugal(l,b,mul,mub):\n",
    "    \"\"\" eq. 3.66, the proper motion vector\"\"\"\n",
    "    p = return_pgal(l,b)\n",
    "    q = return_qgal(l,b)\n",
    "    return p*mul + q*mub\n",
    "\n",
    "\n",
    "def rotate_velocities(a,d,mua,mud):\n",
    "    \"\"\"eq 3.68, \"\"\"\n",
    "    mu = return_muicrs(a,d,mua,mud)\n",
    "    mugal = np.dot(return_gaia_Agprime(),mu) # eq. 3.68\n",
    "    \n",
    "    # solve for positions\n",
    "    ricrs = return_ricrs(a,d)\n",
    "    rgal = np.dot(return_gaia_Agprime(),ricrs)\n",
    "\n",
    "    # implement eq 3.63\n",
    "    ell,b = np.arctan2(rgal[1],rgal[0]),np.arctan2(rgal[2],np.sqrt(rgal[0]*rgal[0]+rgal[1]*rgal[1]))\n",
    "    \n",
    "    p = return_pgal(ell,b)\n",
    "    q = return_qgal(ell,b)\n",
    "    \n",
    "    mul = np.sum(p*mugal,axis=0)\n",
    "    mub = np.sum(q*mugal,axis=0)\n",
    "    #print(mul,mub)\n",
    "    return mul,mub\n",
    "\n",
    "\n",
    "\n",
    "\n",
    "\n",
    "def rotate_errors(a,d,pmra_e,pmdec_e,pmcorr):\n",
    "    ricrs = return_ricrs(a,d)\n",
    "    picrs = return_picrs(a,d)\n",
    "    qicrs = return_qicrs(a,d)\n",
    "\n",
    "    rgal = np.dot(return_gaia_Agprime(),ricrs)\n",
    "\n",
    "    # implement eq 3.63\n",
    "    ell = np.arctan2(rgal[1],rgal[0])\n",
    "    b = np.arctan2(rgal[2],np.sqrt(rgal[0]*rgal[0]+rgal[1]*rgal[1]))\n",
    "\n",
    "    pgal = return_pgal(ell,b)\n",
    "    qgal = return_qgal(ell,b)\n",
    "\n",
    "    pqgal = np.stack((pgal, qgal), axis=-1)\n",
    "    pqicrs = np.stack((picrs, qicrs), axis=-1)\n",
    "    \n",
    "    cov = np.array([[pmra_e*pmra_e,pmra_e*pmdec_e*pmcorr],[pmra_e*pmdec_e*pmcorr,pmdec_e*pmdec_e]])\n",
    "\n",
    "    if hasattr(a,'size'):\n",
    "        G = np.einsum('anb,acn->nbc', pqgal,\n",
    "                      np.einsum('ji,ink->jkn', return_gaia_Agprime(), pqicrs))\n",
    "\n",
    "        cov_to = np.einsum('nba,nac->nbc', G,\n",
    "                           np.einsum('ijn,nki->njk', cov, G))\n",
    "        \n",
    "    else:\n",
    "        G = np.einsum('ab,ac->bc', pqgal,\n",
    "                      np.einsum('ji,ik->jk', return_gaia_Agprime(), pqicrs))\n",
    "\n",
    "        cov_to = np.einsum('ba,ac->bc', G,\n",
    "                           np.einsum('ij,ki->jk', cov, G))\n",
    "    \n",
    "    return cov_to\n",
    "\n",
    "    \n",
    "\n",
    "def rotate_positions(a,d,dist):\n",
    "    \"\"\"eq 3.68, but built for speed\"\"\"\n",
    "    # solve for positions\n",
    "    if a.size>1:\n",
    "        ricrs = return_ricrs(a,d)\n",
    "        rgal = np.dot(return_gaia_Agprime(),ricrs)\n",
    "        cpos = dist*rgal        \n",
    "    else:\n",
    "        ricrs = return_ricrs(a,d)\n",
    "        rgal = np.dot(return_gaia_Agprime(),ricrs)\n",
    "        cpos = np.dot(dist,rgal)        \n",
    "    return cpos\n",
    "\n",
    "def rotate_galactic(a,d):\n",
    "    \"\"\"eq 3.68, \"\"\"\n",
    "    mu = return_muicrs(a,d,mua,mud)\n",
    "    mugal = np.dot(return_gaia_Agprime(),mu) # eq. 3.68\n",
    "    \n",
    "    # solve for positions\n",
    "    ricrs = return_ricrs(a,d)\n",
    "    rgal = np.dot(return_gaia_Agprime(),ricrs)\n",
    "\n",
    "    # implement eq 3.63\n",
    "    ell,b = np.arctan2(rgal[1],rgal[0]),np.arctan2(rgal[2],np.sqrt(rgal[0]*rgal[0]+rgal[1]*rgal[1]))\n",
    "\n",
    "    return ell,b\n",
    "\n",
    "\n",
    "def rotate_observed(l,b):\n",
    "    \"\"\"eq 3.68, THIS DOES NOT WORK FOR b=90 (exactly)!\"\"\"\n",
    "    # solve for positions\n",
    "    rgal = return_rgal(l,b)\n",
    "    ricrs = np.dot(return_gaia_Ag(),rgal)\n",
    "    #d = np.arcsin(ricrs[2])\n",
    "    #a = np.arccos(ricrs[0]/np.cos(d))\n",
    "    #print(a,d)\n",
    "\n",
    "    # implement eq 3.63\n",
    "    a,d = np.arctan2(ricrs[1],ricrs[0]),np.arctan2(ricrs[2],np.sqrt(ricrs[0]*ricrs[0]+ricrs[1]*ricrs[1]))\n",
    "\n",
    "    return a,d\n",
    "\n",
    "\n",
    "def rotate_velocities_observed(l,b,mul,mub):\n",
    "    \"\"\"eq 3.68, \"\"\"\n",
    "    mu = return_mugal(l,b,mul,mub)\n",
    "    muicrs = np.dot(return_gaia_Ag(),mu) # eq. 3.68\n",
    "    \n",
    "    rgal = return_rgal(l,b)\n",
    "    ricrs = np.dot(return_gaia_Ag(),rgal)\n",
    "    a,d = np.arctan2(ricrs[1],ricrs[0]),np.arctan2(ricrs[2],np.sqrt(ricrs[0]*ricrs[0]+ricrs[1]*ricrs[1]))\n",
    "    \n",
    "    p = return_picrs(a,d)\n",
    "    q = return_qicrs(a,d)\n",
    "    \n",
    "    mua = np.sum(p*muicrs,axis=0)\n",
    "    mud = np.sum(q*muicrs,axis=0)\n",
    "    #print(mul,mub)\n",
    "    return mua,mud\n",
    "\n",
    "\n",
    "a = 70.*np.pi/180.\n",
    "d = 89.99*np.pi/180.\n",
    "mua = -10.\n",
    "mud = 1.\n",
    "\n",
    "#print(return_muicrs(a,d,mua,mud))\n",
    "\n",
    "\n",
    "print(mua,mud)\n",
    "print(rotate_velocities(a,d,mua,mud))\n",
    "l,b = rotate_galactic(a,d)\n",
    "mul,mub = rotate_velocities(a,d,mua,mud)\n",
    "#print(rotate_galactic(a,d))\n",
    "print(rotate_velocities_observed(l,b,mul,mub))\n",
    "\n",
    "#cov_to = rotate_errors(a,d,1,2.,0.)\n",
    "#print(cov_to)\n",
    "\n",
    "\n",
    "#print(ricrs,rgal,ell,b)"
   ]
  },
  {
   "cell_type": "raw",
   "metadata": {},
   "source": [
    "# now do the gaia data?\n",
    "# get the rr lyrae FROM gaia\n",
    "# how many is this returning?\n",
    "\n",
    "SELECT * FROM (\n",
    "SELECT gaia.source_id,gaia.ra,gaia.ra_error,gaia.dec,gaia.dec_error,\n",
    "gaia.parallax,gaia.parallax_error,gaia.pmra,gaia.pmra_error,\n",
    "gaia.pmdec,gaia.pmdec_error,gaia.phot_g_mean_flux,gaia.phot_g_mean_flux_error,\n",
    "gaia.phot_g_mean_mag,gaia.phot_bp_mean_flux,gaia.phot_bp_mean_flux_error,\n",
    "gaia.bp_rp,gaia.radial_velocity,gaia.radial_velocity_error,\n",
    "variables.best_class_name,variables.best_class_score,gaia.teff_val,gaia.a_g_val,gaia.pmra_pmdec_corr\n",
    "FROM gaiadr2.gaia_source AS gaia\n",
    "INNER JOIN gaiadr2.vari_classifier_result AS variables \n",
    "    ON variables.source_id = gaia.source_id\n",
    ") AS gaia\n",
    "JOIN gaiadr2.ruwe AS ruwe\n",
    "  using(source_id)\n",
    "  \n",
    "  \n",
    "\n"
   ]
  },
  {
   "cell_type": "code",
   "execution_count": 33,
   "metadata": {},
   "outputs": [],
   "source": [
    "\n",
    "# now with RUWE!\n",
    "Gmatch = np.genfromtxt('/Users/mpetersen/Downloads/variables_with_ruwe-result.csv',\\\n",
    "                        dtype={'names': (\"pmdec_error\",\"dec\",\"radial_velocity_error\",\"pmra_pmdec_corr\",\\\n",
    "                                    \"parallax\",\"best_class_name\",\"teff_val\",\"parallax_error\",\"phot_g_mean_flux\",\\\n",
    "                                    \"phot_bp_mean_flux_error\",\"ra\",\"phot_bp_mean_flux\",\"phot_g_mean_flux_error\",\\\n",
    "                                    \"best_class_score\",\"radial_velocity\",\"bp_rp\",\"dec_error\",\\\n",
    "                                    \"pmra\",\"pmdec\",\"a_g_val\",\\\n",
    "                                    \"ra_error\",\"pmra_error\",\"phot_g_mean_mag\",\"ruwe\",\"source_id\"),\\\n",
    "                             'formats': ('f8','f8','f8','f8',\\\n",
    "                                         'f8','S20','f8','f8','f8',\\\n",
    "                                         'f8','f8','f8','f8',\\\n",
    "                                         'f8','f8','f8','f8',\\\n",
    "                                         'f8','f8','f8',\\\n",
    "                                         'f8','f8','f8','f8','S20')},\\\n",
    "                 skip_header=1,delimiter=',')\n",
    "\n"
   ]
  },
  {
   "cell_type": "code",
   "execution_count": null,
   "metadata": {},
   "outputs": [],
   "source": [
    "\n",
    "# filter\n",
    "pmatch = np.where(np.isfinite(Gmatch['pmra']) & \\\n",
    "                  np.isfinite(Gmatch['pmdec']) & \\\n",
    "                  (Gmatch['ruwe'] < 1.4) &\\\n",
    "                  ( (Gmatch['best_class_name']==b'RRAB') | \\\n",
    "                    (Gmatch['best_class_name']==b'RRC') | \\\n",
    "                    (Gmatch['best_class_name']==b'RRD') | \\\n",
    "                    (Gmatch['best_class_name']==b'ARRD') ))[0]\n",
    "\n",
    "print(pmatch.size)\n",
    "\n",
    "\n"
   ]
  },
  {
   "cell_type": "code",
   "execution_count": 107,
   "metadata": {},
   "outputs": [
    {
     "data": {
      "text/plain": [
       "[<matplotlib.lines.Line2D at 0x119c50438>]"
      ]
     },
     "execution_count": 107,
     "metadata": {},
     "output_type": "execute_result"
    },
    {
     "data": {
      "image/png": "[encoded data removed]",
      "text/plain": [
       "<Figure size 432x288 with 1 Axes>"
      ]
     },
     "metadata": {
      "needs_background": "light"
     },
     "output_type": "display_data"
    }
   ],
   "source": [
    "# compute the galactic positions\n",
    "# do all velocity transforms\n",
    "\n",
    "l,b = rotate_galactic(Gmatch['ra'][pmatch]*np.pi/180.,Gmatch['dec'][pmatch]*np.pi/180.)\n",
    "\n",
    "l[l<0] += 2.*np.pi\n",
    "\n",
    "e1 = Gmatch['pmra_error'][pmatch]\n",
    "e2 = Gmatch['pmdec_error'][pmatch]\n",
    "e3 = Gmatch['pmra_pmdec_corr'][pmatch]\n",
    "cov_to = rotate_errors(Gmatch['ra'][pmatch]*np.pi/180.,Gmatch['dec'][pmatch]*np.pi/180.,\\\n",
    "                       e1,e2,e3)\n",
    "\n",
    "corrcoef = np.array([cov_to[i][0][1]/(np.sqrt(cov_to[i][0][0])*np.sqrt(cov_to[i][1][1])) for i in range(0,len(pmatch))])\n",
    "pm_l_err = np.array([np.sqrt(cov_to[i][0][0]) for i in range(0,len(pmatch))])\n",
    "pm_b_err = np.array([np.sqrt(cov_to[i][1][1]) for i in range(0,len(pmatch))])\n",
    "\n",
    "pm_l,pm_b = rotate_velocities(Gmatch['ra'][pmatch]*np.pi/180.,Gmatch['dec'][pmatch]*np.pi/180.,\\\n",
    "                              Gmatch['pmra'][pmatch],Gmatch['pmdec'][pmatch])\n",
    "\n",
    "plt.plot(corrcoef[corrcoef.argsort()])\n",
    "\n"
   ]
  },
  {
   "cell_type": "code",
   "execution_count": 108,
   "metadata": {},
   "outputs": [
    {
     "data": {
      "text/plain": [
       "6.283184878270929"
      ]
     },
     "execution_count": 108,
     "metadata": {},
     "output_type": "execute_result"
    }
   ],
   "source": [
    "np.nanmax(l)"
   ]
  },
  {
   "cell_type": "code",
   "execution_count": 109,
   "metadata": {},
   "outputs": [
    {
     "name": "stdout",
     "output_type": "stream",
     "text": [
      "157347\n"
     ]
    }
   ],
   "source": [
    "# compute the extinctions\n",
    "\n",
    "import dustmaps\n",
    "#from __future__ import print_function\n",
    "from astropy.coordinates import SkyCoord\n",
    "from dustmaps.sfd import SFDQuery\n",
    "\n",
    "#l = RRL1[:,6]\n",
    "#b = RRL1[:,7]\n",
    "\n",
    "coords = SkyCoord(l*(180./np.pi), b*(180./np.pi), unit='deg', frame='galactic')\n",
    "\n",
    "#planck = PlanckQuery()\n",
    "#planck(coords)\n",
    "#>>> array([ 0.50170666,  1.62469053,  0.29259142])\n",
    "\n",
    "sfd = SFDQuery()\n",
    "extvals = sfd(coords)\n",
    "print(extvals.size)\n",
    "#>>> array([ 0.55669367,  2.60569382,  0.37351534], dtype=float32)"
   ]
  },
  {
   "cell_type": "code",
   "execution_count": 110,
   "metadata": {},
   "outputs": [
    {
     "data": {
      "text/plain": [
       "[<matplotlib.lines.Line2D at 0x12608aa90>]"
      ]
     },
     "execution_count": 110,
     "metadata": {},
     "output_type": "execute_result"
    },
    {
     "data": {
      "image/png": "[encoded data removed]",
      "text/plain": [
       "<Figure size 432x288 with 1 Axes>"
      ]
     },
     "metadata": {
      "needs_background": "light"
     },
     "output_type": "display_data"
    }
   ],
   "source": [
    "plt.plot(extvals[extvals.argsort()])"
   ]
  },
  {
   "cell_type": "code",
   "execution_count": 131,
   "metadata": {},
   "outputs": [
    {
     "data": {
      "text/plain": [
       "(0.0, 50.0)"
      ]
     },
     "execution_count": 131,
     "metadata": {},
     "output_type": "execute_result"
    },
    {
     "data": {
      "image/png": "[encoded data removed]",
      "text/plain": [
       "<Figure size 432x288 with 1 Axes>"
      ]
     },
     "metadata": {
      "needs_background": "light"
     },
     "output_type": "display_data"
    }
   ],
   "source": [
    "plt.scatter(Gmatch['phot_g_mean_mag'][pmatch],(Gmatch['phot_g_mean_flux']/Gmatch['phot_g_mean_flux_error'])[pmatch],color='black',s=0.1)\n",
    "\n",
    "plt.ylim([0.,50.])\n"
   ]
  },
  {
   "cell_type": "code",
   "execution_count": 111,
   "metadata": {},
   "outputs": [
    {
     "data": {
      "text/plain": [
       "[<matplotlib.lines.Line2D at 0x1273db8d0>]"
      ]
     },
     "execution_count": 111,
     "metadata": {},
     "output_type": "execute_result"
    },
    {
     "data": {
      "image/png": "[encoded data removed]",
      "text/plain": [
       "<Figure size 432x288 with 1 Axes>"
      ]
     },
     "metadata": {
      "needs_background": "light"
     },
     "output_type": "display_data"
    }
   ],
   "source": [
    "\n",
    "# compute the distance\n",
    "zeropoint = 0.64 # this is M_G from Iorio 2018\n",
    "\n",
    "# 2.27E(B-V) is the correction from Iorio\n",
    "\n",
    "dist = 10.**(((Gmatch['phot_g_mean_mag'][pmatch]-2.27*extvals-zeropoint)/5) - 2.)\n",
    "#plt.plot(dist[dist.argsort()])\n",
    "\n",
    "\n",
    "ezeropoint = 0.25\n",
    "dist2 = 10.**(((Gmatch['phot_g_mean_mag'][pmatch]-2.27*extvals-zeropoint+ezeropoint)/5) - 2.)\n",
    "\n",
    "#plt.plot(dist2[dist2.argsort()])\n",
    "\n",
    "\n",
    "dtest = np.where(extvals<100.)\n",
    "\n",
    "plt.plot((dist[dtest])[dist[dtest].argsort()])\n",
    "\n",
    "\n",
    "\n"
   ]
  },
  {
   "cell_type": "code",
   "execution_count": 133,
   "metadata": {},
   "outputs": [
    {
     "data": {
      "text/plain": [
       "1.1220184543019631"
      ]
     },
     "execution_count": 133,
     "metadata": {},
     "output_type": "execute_result"
    }
   ],
   "source": [
    "dist2[0]/dist[0]"
   ]
  },
  {
   "cell_type": "code",
   "execution_count": 112,
   "metadata": {},
   "outputs": [],
   "source": [
    "# cross match to known position contaminants"
   ]
  },
  {
   "cell_type": "code",
   "execution_count": 113,
   "metadata": {},
   "outputs": [
    {
     "name": "stdout",
     "output_type": "stream",
     "text": [
      "31 32 31\n",
      "9540 5789.0 3751.0\n"
     ]
    }
   ],
   "source": [
    "# SGR\n",
    "\n",
    "cols = [\"dr2\",\"gmag\",\"dist\",\"edist\",\\\n",
    "        \"ra\",\"dec\",\"pmra\",\"pmra_error\",\\\n",
    "        \"pmdec\",\"pmdec_error\",\"glon\",\\\n",
    "        \"glat\",\"pm_l\",\"pm_l_error\",\\\n",
    "        \"pm_b\",\"pm_b_error\",\"glon_s\",\"glat_s\",\\\n",
    "        \"pm_glon_s\",\"pmglon_s_error\",\"pm_glat_s\",\"pm_glat_s_error\",\\\n",
    "        \"vl\",\"evl\",\"vb\",\"evb\",\"SOStype\",\\\n",
    "        \"PS1type\",\"VCtype\",\"inputcat\",\"sample\"]\n",
    "\n",
    "bytelog = [0,19,27,33,38,\\\n",
    "           54,70,80,86,\\\n",
    "           96,102,117,132,\\\n",
    "           139,145,152,158,\\\n",
    "           170,181,188,194,\\\n",
    "           201,207,216,224,232,240,245,250,255,259,262]\n",
    "\n",
    "dtypes=  ['S20','f8','f8','f8',\\\n",
    "                                        'f8','f8','f8','f8',\\\n",
    "                                        'f8','f8','f8','f8',\\\n",
    "                                        'f8','f8','f8',\\\n",
    "                                        'f8','f8','f8',\\\n",
    "                                        'f8','f8','f8','f8',\\\n",
    "                                         'f8','f8','f8','f8','S20',\\\n",
    "                                        'S20','S20','S20','S20']\n",
    "\n",
    "print(len(cols),len(bytelog),len(dtypes))\n",
    "\n",
    "\n",
    "Ramos = {}\n",
    "for key in cols:\n",
    "    Ramos[key] = []\n",
    "\n",
    "linenum = 0\n",
    "with open('/Users/mpetersen/Downloads/tablee.dat') as openfileobject:\n",
    "    for line in openfileobject:\n",
    "        linenum+=1\n",
    "        if linenum>141:\n",
    "            for icol,col in enumerate(cols):\n",
    "                Ramos[col].append(line[bytelog[icol]:bytelog[icol+1]].strip())\n",
    "        \n",
    "for icol,key in enumerate(cols):\n",
    "    Ramos[key] = np.array(Ramos[key]).astype(dtypes[icol])\n",
    "\n",
    "\n",
    "# identify the overlapping catalog members\n",
    "overlap = 0\n",
    "olap1 = np.zeros(len(pmatch))\n",
    "olap2 = np.zeros(len(pmatch))\n",
    "\n",
    "for i in range(0,len(Ramos['dr2'])):\n",
    "    w = np.where(Ramos['dr2'][i]==Gmatch['source_id'][pmatch])[0]\n",
    "    if len(w)>0:\n",
    "        if ((Ramos['sample'][i] == b'11') | (Ramos['sample'][i] == b'10')):\n",
    "            olap1[w[0]] = 1\n",
    "        else:\n",
    "            olap2[w[0]] = 1\n",
    "\n",
    "        overlap+=1\n",
    "        \n",
    "        \n",
    "print(overlap,np.sum(olap1),np.sum(olap2))"
   ]
  },
  {
   "cell_type": "code",
   "execution_count": 114,
   "metadata": {},
   "outputs": [
    {
     "name": "stdout",
     "output_type": "stream",
     "text": [
      "[6.20832270e-06 6.20813489e-06 6.20805650e-06 ... 6.35647203e-06\n",
      " 6.35977310e-06 6.36546767e-06]\n",
      "[-3.04933223e-06 -3.04978121e-06 -3.04984148e-06 ... -2.24576566e-06\n",
      " -2.24083158e-06 -2.23936042e-06]\n",
      "0.0003490381560311562\n"
     ]
    }
   ],
   "source": [
    "# also compute a transformation to Sgr\n",
    "\n",
    "cbest = coord.SkyCoord(ra              = Gmatch['ra'][pmatch]    * u.deg,\\\n",
    "                       dec             = Gmatch['dec'][pmatch]   * u.deg,\\\n",
    "                       distance        = dist  * u.kpc,\\\n",
    "                       pm_ra_cosdec    = Gmatch['pmra'][pmatch]   * u.mas/u.yr,\\\n",
    "                       pm_dec          = Gmatch['pmdec'][pmatch]   * u.mas/u.yr)\n",
    "\n",
    "\n",
    "#best_defined = cbest.transform_to(gc_frame)\n",
    "best_sgr     = cbest.transform_to(Sagittarius)\n",
    "best_latlon  = cbest.transform_to('galactic')\n",
    "\n",
    "ltmp = np.copy(l)\n",
    "ltmp[ltmp<0] += 2.*np.pi\n",
    "\n",
    "print(np.array(best_latlon.l)-ltmp*(180./np.pi))\n",
    "print(np.array(best_latlon.b)-b*(180./np.pi))\n",
    "\n",
    "\n",
    "print(np.nanmax(np.array(best_latlon.l)-ltmp*(180./np.pi)))"
   ]
  },
  {
   "cell_type": "code",
   "execution_count": 115,
   "metadata": {},
   "outputs": [
    {
     "data": {
      "text/plain": [
       "<matplotlib.collections.PathCollection at 0x1289ad860>"
      ]
     },
     "execution_count": 115,
     "metadata": {},
     "output_type": "execute_result"
    },
    {
     "data": {
      "image/png": "[encoded data removed]",
      "text/plain": [
       "<Figure size 432x288 with 1 Axes>"
      ]
     },
     "metadata": {
      "needs_background": "light"
     },
     "output_type": "display_data"
    }
   ],
   "source": [
    "#plt.plot(np.array(best_latlon.l)[np.array(best_latlon.l).argsort()])\n",
    "\n",
    "ldiff = np.array(best_latlon.l)-ltmp*(180./np.pi)\n",
    "plt.scatter(np.array(best_latlon.l).argsort(),ldiff,color='black',s=0.1)"
   ]
  },
  {
   "cell_type": "code",
   "execution_count": 116,
   "metadata": {},
   "outputs": [
    {
     "name": "stdout",
     "output_type": "stream",
     "text": [
      "24.339225542321596\n"
     ]
    }
   ],
   "source": [
    "# LMC/SMC\n",
    "# make cuts around the LMC/SMC positions\n",
    "xp,yp,zp = rotate_positions(Gmatch['ra'][pmatch]*np.pi/180.,Gmatch['dec'][pmatch]*np.pi/180.,dist)\n",
    "\n",
    "\n",
    "lmcx = -0.62\n",
    "lmcvx = -39.47\n",
    "lmcy = -42.11\n",
    "lmcvy = -229.29\n",
    "lmcz = -27.69\n",
    "lmcvz = 230.24\n",
    "    \n",
    "smcx = 16.35\n",
    "smcvx = 7.77\n",
    "smcy = -38.5\n",
    "smcvy = -191.2 \n",
    "smcz = -44.76\n",
    "smcvz = 171.71\n",
    "\n",
    "rlmc = np.sqrt((xp-lmcx)**2. + (yp-lmcy)**2. + (zp-lmcz)**2.)\n",
    "rsmc = np.sqrt((xp-smcx)**2. + (yp-smcy)**2. + (zp-smcz)**2.)\n",
    "rlmcsmc = np.sqrt((lmcx-smcx)**2. + (lmcy-smcy)**2. + (lmcz-smcz)**2.)\n",
    "print(rlmcsmc)\n",
    "\n"
   ]
  },
  {
   "cell_type": "code",
   "execution_count": 117,
   "metadata": {},
   "outputs": [
    {
     "name": "stdout",
     "output_type": "stream",
     "text": [
      "46.630495579523505\n",
      "59.36911152073862\n",
      "21781\n",
      "2674\n"
     ]
    },
    {
     "data": {
      "text/plain": [
       "[0, 360, -90, 90]"
      ]
     },
     "execution_count": 117,
     "metadata": {},
     "output_type": "execute_result"
    },
    {
     "data": {
      "image/png": "[encoded data removed]",
      "text/plain": [
       "<Figure size 432x288 with 1 Axes>"
      ]
     },
     "metadata": {
      "needs_background": "light"
     },
     "output_type": "display_data"
    }
   ],
   "source": [
    "w = np.where(rlmc<20)\n",
    "#llmc,blmc,dlmc = np.nanmedian(RRL1[w,6]),np.nanmedian(RRL1[w,7]),np.nanmedian(RRL1[w,8])\n",
    "llmc,blmc,dlmc =280.4652, -32.8884,np.nanmedian(dist[w])\n",
    "print(dlmc)\n",
    "\n",
    "w = np.where(rsmc<10)\n",
    "#lsmc,bsmc,dsmc = np.nanmedian(RRL1[w,6]),np.nanmedian(RRL1[w,7]),np.nanmedian(RRL1[w,8])\n",
    "lsmc,bsmc,dsmc =302.8084,-44.3277,np.nanmedian(dist[w])\n",
    "print(dsmc)\n",
    "\n",
    "sp_dist = spatial_distance(llmc,ltmp*(180./np.pi),blmc,b*(180./np.pi))\n",
    "w = np.where( (sp_dist<25.) & (dist+25 > dlmc))[0]\n",
    "print(w.size)\n",
    "lmcflag = np.zeros(dist.size)\n",
    "lmcflag[w] += 1\n",
    "\n",
    "plt.scatter(ltmp[w]*(180./np.pi),b[w]*(180./np.pi),color='black',s=0.1)\n",
    "\n",
    "sp_dist = spatial_distance(lsmc,ltmp*(180./np.pi),bsmc,b*(180./np.pi))\n",
    "w = np.where( (sp_dist<45.) & (dist+20 > dsmc))[0]\n",
    "print(w.size)\n",
    "smcflag = np.zeros(dist.size)\n",
    "smcflag[w] += 1\n",
    "\n",
    "plt.scatter(ltmp[w]*(180./np.pi),b[w]*(180./np.pi),color='red',s=0.1)\n",
    "\n",
    "plt.axis([0,360,-90,90])\n",
    "\n"
   ]
  },
  {
   "cell_type": "code",
   "execution_count": null,
   "metadata": {},
   "outputs": [],
   "source": []
  },
  {
   "cell_type": "code",
   "execution_count": 118,
   "metadata": {},
   "outputs": [
    {
     "name": "stdout",
     "output_type": "stream",
     "text": [
      "Antlia2 0\n",
      "Aquarius2 0\n",
      "Bootes1 4\n",
      "Bootes2 1\n",
      "CanesVenatici1 0\n",
      "CanesVenatici2 0\n",
      "Carina 6\n",
      "Carina2 57\n",
      "Carina3 32\n",
      "Columba1 0\n",
      "ComaBerenices 1\n",
      "Crater2 0\n",
      "Draco 102\n",
      "Draco2 8\n",
      "Eridanus2 0\n",
      "Fornax 0\n",
      "Grus1 0\n",
      "Grus2 8\n",
      "Hercules 0\n",
      "Horologium1 1\n",
      "Horologium2 0\n",
      "Hydra2 0\n",
      "Hydrus1 42\n",
      "Leo1 0\n",
      "Leo2 0\n",
      "Leo4 0\n",
      "Leo5 0\n",
      "LeoT 0\n",
      "Phoenix 0\n",
      "Phoenix2 1\n",
      "Pisces2 0\n",
      "Reticulum2 5\n",
      "Reticulum3 0\n",
      "Sagittarius2 4\n",
      "Sculptor 263\n",
      "Segue1 4\n",
      "Segue2 1\n",
      "Sextans1 18\n",
      "Triangulum2 16\n",
      "Tucana2 4\n",
      "Tucana3 3\n",
      "Tucana4 5\n",
      "Tucana5 8\n",
      "UrsaMajor1 3\n",
      "UrsaMajor2 6\n",
      "UrsaMinor 67\n"
     ]
    }
   ],
   "source": [
    "# all satellites\n",
    "InN = np.genfromtxt('processed/satellites_mcconnachie.txt',skip_header=1,dtype='S20')\n",
    "names = InN[:,16]\n",
    "In = np.genfromtxt('processed/satellites_mcconnachie.txt',skip_header=1)\n",
    "\n",
    "\n",
    "xsat    = In[:,0]\n",
    "ysat    = In[:,1]\n",
    "zsat    = In[:,2]\n",
    "vxsat   = In[:,3]\n",
    "vysat   = In[:,4]\n",
    "vzsat   = In[:,5]\n",
    "lsat    = In[:,6]\n",
    "bsat    = In[:,7]\n",
    "dsat    = In[:,8]\n",
    "\n",
    "nsats = xsat.size\n",
    "#print(nsats)\n",
    "#print(names)\n",
    "\n",
    "memberdict = dict()\n",
    "sat_member = np.zeros(dist.size)\n",
    "\n",
    "for sat in range(0,nsats):\n",
    "    sp_dist = spatial_distance(lsat[sat],l*(180./np.pi),bsat[sat],b*(180./np.pi))\n",
    "    w = np.where( (sp_dist<5.) & (dist+20 > dsat[sat]))[0]\n",
    "    memberdict[names[sat].decode()] = w\n",
    "    sat_member[w] += 1\n",
    "    print(names[sat].decode(),w.size)\n",
    "\n",
    "#plt.scatter(xsat,zsat,color='black',s=3.)"
   ]
  },
  {
   "cell_type": "code",
   "execution_count": 119,
   "metadata": {},
   "outputs": [
    {
     "name": "stdout",
     "output_type": "stream",
     "text": [
      "NGC 104 0\n",
      "NGC 288 60\n",
      "NGC 362 1\n",
      "Whiting 1 2\n",
      "NGC 1261 1\n",
      "Pal 1 1\n",
      "E 1 0\n",
      "Eridanus 0\n",
      "Pal 2 2\n",
      "NGC 1851 3\n",
      "NGC 1904 1\n",
      "NGC 2298 5\n",
      "NGC 2419 0\n",
      "Pyxis 1\n",
      "NGC 2808 2\n",
      "E 3 0\n",
      "Pal 3 0\n",
      "NGC 3201 3\n",
      "Pal 4 0\n",
      "Crater 0\n",
      "NGC 4147 0\n",
      "NGC 4372 0\n",
      "Rup 106 0\n",
      "NGC 4590 14\n",
      "NGC 4833 3\n",
      "NGC 5024 0\n",
      "NGC 5053 1\n",
      "NGC 5139 0\n",
      "NGC 5272 1\n",
      "NGC 5286 0\n",
      "NGC 5466 2\n",
      "NGC 5634 0\n",
      "NGC 5694 1\n",
      "IC 4499 0\n",
      "NGC 5824 0\n",
      "Pal 5 1\n",
      "NGC 5897 2\n",
      "NGC 5904 0\n",
      "NGC 5927 0\n",
      "NGC 5946 0\n",
      "BH 176 0\n",
      "NGC 5986 0\n",
      "FSR 1716 0\n",
      "Pal 14 0\n",
      "BH 184 1\n",
      "NGC 6093 3\n",
      "NGC 6121 3\n",
      "NGC 6101 0\n",
      "NGC 6144 0\n",
      "NGC 6139 2\n",
      "Terzan 3 0\n",
      "NGC 6171 2\n",
      "ESO 452-11 0\n",
      "NGC 6205 3\n",
      "NGC 6229 0\n",
      "NGC 6218 2\n",
      "FSR 1735 1\n",
      "NGC 6235 4\n",
      "NGC 6254 3\n",
      "NGC 6256 0\n",
      "Pal 15 0\n",
      "NGC 6266 3\n",
      "NGC 6273 3\n",
      "NGC 6284 0\n",
      "NGC 6287 1\n",
      "NGC 6293 7\n",
      "NGC 6304 2\n",
      "NGC 6316 1\n",
      "NGC 6341 1\n",
      "NGC 6325 7\n",
      "NGC 6333 0\n",
      "NGC 6342 2\n",
      "NGC 6356 1\n",
      "NGC 6355 3\n",
      "NGC 6352 2\n",
      "IC 1257 2\n",
      "Terzan 2 2\n",
      "NGC 6366 3\n",
      "Terzan 4 0\n",
      "BH 229 12\n",
      "NGC 6362 1\n",
      "NGC 6380 13\n",
      "Terzan 1 4\n",
      "Ton 2 4\n",
      "NGC 6388 1\n",
      "NGC 6402 3\n",
      "NGC 6401 3\n",
      "NGC 6397 0\n",
      "Pal 6 3\n",
      "NGC 6426 1\n",
      "Djorg 1 0\n",
      "Terzan 5 2\n",
      "NGC 6440 28\n",
      "NGC 6441 4\n",
      "Terzan 6 8\n",
      "NGC 6453 9\n",
      "NGC 6496 1\n",
      "Terzan 9 38\n",
      "Djorg 2 8\n",
      "NGC 6517 1\n",
      "Terzan 10 8\n",
      "NGC 6522 82\n",
      "NGC 6535 0\n",
      "NGC 6528 80\n",
      "NGC 6539 9\n",
      "NGC 6540 11\n",
      "NGC 6544 1\n",
      "NGC 6541 3\n",
      "ESO 280-06 0\n",
      "NGC 6553 11\n",
      "NGC 6558 46\n",
      "Pal 7 3\n",
      "Terzan 12 3\n",
      "NGC 6569 58\n",
      "BH 261 31\n",
      "NGC 6584 0\n",
      "NGC 6624 153\n",
      "NGC 6626 11\n",
      "NGC 6638 23\n",
      "NGC 6637 236\n",
      "NGC 6642 93\n",
      "NGC 6656 23\n",
      "Pal 8 6\n",
      "NGC 6681 604\n",
      "NGC 6712 0\n",
      "NGC 6715 162\n",
      "NGC 6717 6\n",
      "NGC 6723 67\n",
      "NGC 6749 11\n",
      "NGC 6752 0\n",
      "NGC 6760 10\n",
      "NGC 6779 10\n",
      "Terzan 7 16\n",
      "Pal 10 2\n",
      "Arp 2 2\n",
      "NGC 6809 4\n",
      "Terzan 8 2\n",
      "Pal 11 32\n",
      "NGC 6838 3\n",
      "NGC 6864 3\n",
      "NGC 6934 9\n",
      "NGC 6981 2\n",
      "NGC 7006 0\n",
      "NGC 7078 4\n",
      "NGC 7089 2\n",
      "NGC 7099 15\n",
      "Pal 12 3\n",
      "Pal 13 3\n",
      "NGC 7492 0\n"
     ]
    }
   ],
   "source": [
    "# all GCs\n",
    "V19 = np.genfromtxt('/Users/mpetersen/Notebooks/Dynamics/Shells/data/Vasiliev19.txt',\\\n",
    "                        dtype={'names': (\"Name\",\"OName\",\"ra\",\"dec\",\\\n",
    "                                         \"dist\",\"HRV\",\"e_HRV\",\"pmra\",\\\n",
    "                                         \"pmdec\",\"e_pmra\",\"e_pmdec\",\"corr\",\\\n",
    "                                         \"rscale\",\"Nstar\",\"SimbadName\"),\\\n",
    "                             'formats': ('S20','S20','f8','f8',\\\n",
    "                                        'f8','f8','f8','f8',\\\n",
    "                                        'f8','f8','f8','f8',\\\n",
    "                                        'f8','f8','S20')},\\\n",
    "                 skip_header=61,delimiter=';')\n",
    "\n",
    "\n",
    "\n",
    "\n",
    "memberdictGC = dict()\n",
    "\n",
    "\n",
    "gc_member = np.zeros(dist.size)\n",
    "\n",
    "for gc in range(0,V19['Name'].size):\n",
    "    if V19['Name'][gc].decode().strip()=='NGC 6652': continue\n",
    "    gc_dist = spatial_distance(V19['ra'][gc],l*(180./np.pi),V19['dec'][gc],b*(180./np.pi))\n",
    "    w = np.where( (gc_dist<2.) & (dist+10 > V19['dist'][gc]))[0]\n",
    "    memberdictGC[V19['Name'][gc].decode().strip()] = w\n",
    "    gc_member[w] += 1\n",
    "    print(V19['Name'][gc].decode().strip(),w.size)\n",
    "\n",
    "\n",
    "    \n",
    "#plt.scatter(xsat,zsat,color='black',s=3.)"
   ]
  },
  {
   "cell_type": "code",
   "execution_count": null,
   "metadata": {},
   "outputs": [],
   "source": []
  },
  {
   "cell_type": "code",
   "execution_count": 134,
   "metadata": {},
   "outputs": [
    {
     "name": "stdout",
     "output_type": "stream",
     "text": [
      "105866 51481\n"
     ]
    }
   ],
   "source": [
    "# print it all out\n",
    "\n",
    "\n",
    "f = open('/Users/mpetersen/Dropbox/mike/data/RRL_GaiaI_all_sub_ext.txt','w')\n",
    "\n",
    "print(\"x [kpc]; y [kpc]; z [kpc]; vx [km/s]; vy [km/s]; vz [km/s]; l [deg]; b [deg]; dist [kpc]; vlos [km/s]; dmu_l [marcsec/yr]; dmu_b [marcsec/yr];       edist[kpc]; evlost [km/s]; edmu_l [marcsec/yr]; edmu_b [marcsec/yr];      Ramos Strip [bool]; Ramos Pole [bool]; FeH [dex]; Sgr Lambda [deg]; Sgr Beta [deg]; Belokurov Flag [bool]; corrcoef [-1:1]; rlmc [kpc]; lmcflag [bool]; rsmc [kpc]; smcflag [bool]; Sat member [bool]; GC member [bool]; extinction [E(B-V)]\",file=f)\n",
    "\n",
    "# olap1 is pole, olap2 is trip\n",
    "rej = 0\n",
    "acc = 0\n",
    "for i in range(0,len(pmatch)):\n",
    "    #print(np.abs((np.array(best_latlon.b)[i])))\n",
    "    if (Gmatch['ruwe'][pmatch][i] < 1.4) & (np.abs(np.array(best_latlon.b)[i])>10.):\n",
    "        print(xp[i],yp[i],zp[i],\\\n",
    "              #np.array(best_defined.v_x)[i],np.array(best_defined.v_y)[i],np.array(best_defined.v_z)[i],\\\n",
    "              0,0,0,\\\n",
    "              l[i]*(180./np.pi),b[i]*(180./np.pi),dist[i],\\\n",
    "              0.,pm_l[i],pm_b[i],\\\n",
    "              0.122*dist[i],0.,pm_l_err[i],pm_b_err[i],\\\n",
    "              olap2[i],olap1[i],0,\\\n",
    "              np.array(best_sgr.Lambda)[i],np.array(best_sgr.Beta)[i],0,\\\n",
    "              corrcoef[i],rlmc[i],lmcflag[i],rsmc[i],smcflag[i],sat_member[i],gc_member[i],extvals[i],file=f)\n",
    "        acc +=1\n",
    "    else:\n",
    "        rej +=1\n",
    "        #print('REJECTED!')\n",
    "    \n",
    "          \n",
    "f.close()\n",
    "print(acc,rej)\n",
    "\n",
    "\n"
   ]
  },
  {
   "cell_type": "code",
   "execution_count": 135,
   "metadata": {},
   "outputs": [
    {
     "name": "stdout",
     "output_type": "stream",
     "text": [
      "0 x [kpc]\n",
      "1  y [kpc]\n",
      "2  z [kpc]\n",
      "3  vx [km/s]\n",
      "4  vy [km/s]\n",
      "5  vz [km/s]\n",
      "6  l [deg]\n",
      "7  b [deg]\n",
      "8  dist [kpc]\n",
      "9  vlos [km/s]\n",
      "10  dmu_l [marcsec/yr]\n",
      "11  dmu_b [marcsec/yr]\n",
      "12        edist[kpc]\n",
      "13  evlost [km/s]\n",
      "14  edmu_l [marcsec/yr]\n",
      "15  edmu_b [marcsec/yr]\n",
      "16       Ramos Strip [bool]\n",
      "17  Ramos Pole [bool]\n",
      "18  FeH [dex]\n",
      "19  Sgr Lambda [deg]\n",
      "20  Sgr Beta [deg]\n",
      "21  Belokurov Flag [bool]\n",
      "22  corrcoef [-1:1]\n",
      "23  rlmc [kpc]\n",
      "24  lmcflag [bool]\n",
      "25  rsmc [kpc]\n",
      "26  smcflag [bool]\n",
      "27  Sat member [bool]\n",
      "28  GC member [bool]\n",
      "29  extinction [E(B-V)]\n",
      "\n"
     ]
    }
   ],
   "source": [
    "# test bringing it all back in\n",
    "\n",
    "infile = '/Users/mpetersen/Dropbox/mike/data/RRL_GaiaI_all_sub_ext.txt'\n",
    "\n",
    "f=open(infile)\n",
    "lineraw = f.readline()\n",
    "line = lineraw.split(';')\n",
    "for indx,val in enumerate(line):\n",
    "    print(indx,val)\n",
    "f.close()\n",
    "\n",
    "RRL1 = np.genfromtxt(infile,skip_header=1)"
   ]
  },
  {
   "cell_type": "code",
   "execution_count": 136,
   "metadata": {},
   "outputs": [
    {
     "data": {
      "text/plain": [
       "array([45.75783853, 49.97262056, 41.81416264, ..., 15.7837179 ,\n",
       "       23.0265612 ,  8.8153865 ])"
      ]
     },
     "execution_count": 136,
     "metadata": {},
     "output_type": "execute_result"
    }
   ],
   "source": [
    "rvals"
   ]
  },
  {
   "cell_type": "code",
   "execution_count": 137,
   "metadata": {},
   "outputs": [
    {
     "name": "stdout",
     "output_type": "stream",
     "text": [
      "34789\n"
     ]
    },
    {
     "data": {
      "image/png": "[encoded data removed]",
      "text/plain": [
       "<Figure size 432x288 with 1 Axes>"
      ]
     },
     "metadata": {
      "needs_background": "light"
     },
     "output_type": "display_data"
    }
   ],
   "source": [
    "rvals = np.sqrt(RRL1[:,0]*RRL1[:,0] + RRL1[:,1]*RRL1[:,1] + RRL1[:,2]*RRL1[:,2])\n",
    "#rvals = RRL1[:,8]\n",
    "rgood = np.where((rvals>0) \\\n",
    "                           & (np.abs(RRL1[:,7])>15*np.pi/180.) \\\n",
    "                           & (RRL1[:,16]==0) \\\n",
    "                           & (RRL1[:,17]==0) \\\n",
    "                           & (RRL1[:,24]==0) \\\n",
    "                           & (RRL1[:,29]<0.1) \\\n",
    "                           & (RRL1[:,26]==0) \\\n",
    "                           & (RRL1[:,27]==0)\\\n",
    "                           & (RRL1[:,28]==0)\\\n",
    "                           & (RRL1[:,23]>30) \\\n",
    "                           & (RRL1[:,25]>20))[0]\n",
    "print(rgood.size)\n",
    "\n",
    "#plt.scatter(RRL1[rgood,6],RRL1[rgood,7],color='black',s=0.1)\n",
    "\n",
    "#rgood = np.where(RRL1[:,24]==1)\n",
    "#plt.scatter(RRL1[rgood,6],RRL1[rgood,7],color='red',s=0.5)\n",
    "\n",
    "#rgood = np.where(RRL1[:,26]==1)\n",
    "#plt.scatter(RRL1[rgood,6],RRL1[rgood,7],color='blue',s=0.5)\n",
    "k = 4.74057\n",
    "vphi = RRL1[rgood,8]*k*RRL1[rgood,10]\n",
    "vtheta = RRL1[rgood,8]*k*RRL1[rgood,11]\n",
    "vtan = np.sqrt(vphi*vphi + vtheta*vtheta)\n",
    "evtan = RRL1[rgood,8]*k*np.sqrt(RRL1[rgood,14]*RRL1[rgood,14] + RRL1[rgood,15]*RRL1[rgood,15])\n",
    "\n",
    "\n",
    "plt.scatter(RRL1[rgood,8],vtan,color='red',s=0.1)\n",
    "plt.scatter(RRL1[rgood,8],evtan,color='black',s=0.1)\n",
    "\n",
    "#plt.scatter(RRL1[rgood,8],vtan/evtan,color='red',s=0.1)\n",
    "\n",
    "\n",
    "#plt.scatter(vtan,evtan,color='black',s=0.1)\n",
    "\n",
    "\n",
    "\n",
    "plt.ylim(0.,2500.)\n",
    "#plt.xlim(0.,2500.)\n",
    "\n",
    "\n",
    "plt.savefig('/Users/mpetersen/Downloads/rrlscatter.png')"
   ]
  },
  {
   "cell_type": "code",
   "execution_count": null,
   "metadata": {},
   "outputs": [],
   "source": []
  },
  {
   "cell_type": "code",
   "execution_count": null,
   "metadata": {},
   "outputs": [],
   "source": []
  },
  {
   "cell_type": "code",
   "execution_count": null,
   "metadata": {},
   "outputs": [],
   "source": []
  },
  {
   "cell_type": "code",
   "execution_count": null,
   "metadata": {},
   "outputs": [],
   "source": []
  },
  {
   "cell_type": "code",
   "execution_count": null,
   "metadata": {},
   "outputs": [],
   "source": []
  },
  {
   "cell_type": "code",
   "execution_count": null,
   "metadata": {},
   "outputs": [],
   "source": []
  },
  {
   "cell_type": "code",
   "execution_count": 34,
   "metadata": {},
   "outputs": [
    {
     "ename": "NameError",
     "evalue": "name 'pmatch' is not defined",
     "output_type": "error",
     "traceback": [
      "\u001b[0;31m---------------------------------------------------------------------------\u001b[0m",
      "\u001b[0;31mNameError\u001b[0m                                 Traceback (most recent call last)",
      "\u001b[0;32m<ipython-input-34-64c2eae4f097>\u001b[0m in \u001b[0;36m<module>\u001b[0;34m\u001b[0m\n\u001b[1;32m      2\u001b[0m \u001b[0;34m\u001b[0m\u001b[0m\n\u001b[1;32m      3\u001b[0m \u001b[0;34m\u001b[0m\u001b[0m\n\u001b[0;32m----> 4\u001b[0;31m \u001b[0ma\u001b[0m\u001b[0;34m,\u001b[0m\u001b[0md\u001b[0m \u001b[0;34m=\u001b[0m \u001b[0mGmatch\u001b[0m\u001b[0;34m[\u001b[0m\u001b[0;34m'ra'\u001b[0m\u001b[0;34m]\u001b[0m\u001b[0;34m[\u001b[0m\u001b[0mpmatch\u001b[0m\u001b[0;34m]\u001b[0m\u001b[0;34m*\u001b[0m\u001b[0mnp\u001b[0m\u001b[0;34m.\u001b[0m\u001b[0mpi\u001b[0m\u001b[0;34m/\u001b[0m\u001b[0;36m180.\u001b[0m\u001b[0;34m,\u001b[0m\u001b[0mGmatch\u001b[0m\u001b[0;34m[\u001b[0m\u001b[0;34m'dec'\u001b[0m\u001b[0;34m]\u001b[0m\u001b[0;34m[\u001b[0m\u001b[0mpmatch\u001b[0m\u001b[0;34m]\u001b[0m\u001b[0;34m*\u001b[0m\u001b[0mnp\u001b[0m\u001b[0;34m.\u001b[0m\u001b[0mpi\u001b[0m\u001b[0;34m/\u001b[0m\u001b[0;36m180.\u001b[0m\u001b[0;34m\u001b[0m\u001b[0;34m\u001b[0m\u001b[0m\n\u001b[0m\u001b[1;32m      5\u001b[0m \u001b[0mmua\u001b[0m\u001b[0;34m,\u001b[0m\u001b[0mmud\u001b[0m \u001b[0;34m=\u001b[0m \u001b[0mGmatch\u001b[0m\u001b[0;34m[\u001b[0m\u001b[0;34m'pmra'\u001b[0m\u001b[0;34m]\u001b[0m\u001b[0;34m[\u001b[0m\u001b[0mpmatch\u001b[0m\u001b[0;34m]\u001b[0m\u001b[0;34m,\u001b[0m\u001b[0mGmatch\u001b[0m\u001b[0;34m[\u001b[0m\u001b[0;34m'pmdec'\u001b[0m\u001b[0;34m]\u001b[0m\u001b[0;34m[\u001b[0m\u001b[0mpmatch\u001b[0m\u001b[0;34m]\u001b[0m\u001b[0;34m\u001b[0m\u001b[0;34m\u001b[0m\u001b[0m\n\u001b[1;32m      6\u001b[0m \u001b[0;34m\u001b[0m\u001b[0m\n",
      "\u001b[0;31mNameError\u001b[0m: name 'pmatch' is not defined"
     ]
    }
   ],
   "source": [
    "\n",
    "\n",
    "\n",
    "a,d = Gmatch['ra'][pmatch]*np.pi/180.,Gmatch['dec'][pmatch]*np.pi/180.\n",
    "mua,mud = Gmatch['pmra'][pmatch],Gmatch['pmdec'][pmatch]\n",
    "\n",
    "a,d,mua,mud = 4.412988523884174, -0.7016329830211496, -9.064863611635216, -5.376376155701305\n",
    "cov_to = rotate_errors(a,d,mua,mud,0.*mua)\n",
    "print(cov_to)\n",
    "\n",
    "\n",
    "a,d = Gmatch['ra'][pmatch]*np.pi/180.,Gmatch['dec'][pmatch]*np.pi/180.\n",
    "mua,mud = Gmatch['pmra'][pmatch],Gmatch['pmdec'][pmatch]\n",
    "\n",
    "cov_to = rotate_errors(a[0:12],d[0:12],mua[0:12],mud[0:12],0.*mua[0:12])\n",
    "print(cov_to[10])\n"
   ]
  },
  {
   "cell_type": "code",
   "execution_count": 71,
   "metadata": {},
   "outputs": [
    {
     "name": "stdout",
     "output_type": "stream",
     "text": [
      "4.412988523884174 -0.7016329830211496 -9.064863611635216 -5.376376155701305\n"
     ]
    }
   ],
   "source": [
    "print(a[10],d[10],mua[10],mud[10])"
   ]
  },
  {
   "cell_type": "code",
   "execution_count": 25,
   "metadata": {},
   "outputs": [
    {
     "ename": "AttributeError",
     "evalue": "'float' object has no attribute 'size'",
     "output_type": "error",
     "traceback": [
      "\u001b[0;31m---------------------------------------------------------------------------\u001b[0m",
      "\u001b[0;31mAttributeError\u001b[0m                            Traceback (most recent call last)",
      "\u001b[0;32m<ipython-input-25-4a019363451e>\u001b[0m in \u001b[0;36m<module>\u001b[0;34m\u001b[0m\n\u001b[1;32m      1\u001b[0m \u001b[0matmp\u001b[0m \u001b[0;34m=\u001b[0m \u001b[0;36m4.429556\u001b[0m\u001b[0;34m\u001b[0m\u001b[0;34m\u001b[0m\u001b[0m\n\u001b[0;32m----> 2\u001b[0;31m \u001b[0mprint\u001b[0m\u001b[0;34m(\u001b[0m\u001b[0matmp\u001b[0m\u001b[0;34m.\u001b[0m\u001b[0msize\u001b[0m\u001b[0;34m)\u001b[0m\u001b[0;34m\u001b[0m\u001b[0;34m\u001b[0m\u001b[0m\n\u001b[0m",
      "\u001b[0;31mAttributeError\u001b[0m: 'float' object has no attribute 'size'"
     ]
    }
   ],
   "source": [
    "atmp = 4.429556\n",
    "print(atmp.size)"
   ]
  },
  {
   "cell_type": "code",
   "execution_count": 12,
   "metadata": {},
   "outputs": [
    {
     "ename": "NameError",
     "evalue": "name 'cov_to' is not defined",
     "output_type": "error",
     "traceback": [
      "\u001b[0;31m---------------------------------------------------------------------------\u001b[0m",
      "\u001b[0;31mNameError\u001b[0m                                 Traceback (most recent call last)",
      "\u001b[0;32m<ipython-input-12-c681cb91ded8>\u001b[0m in \u001b[0;36m<module>\u001b[0;34m\u001b[0m\n\u001b[1;32m      2\u001b[0m \u001b[0mmua\u001b[0m\u001b[0;34m,\u001b[0m\u001b[0mmud\u001b[0m \u001b[0;34m=\u001b[0m \u001b[0mGmatch\u001b[0m\u001b[0;34m[\u001b[0m\u001b[0;34m'pmra'\u001b[0m\u001b[0;34m]\u001b[0m\u001b[0;34m[\u001b[0m\u001b[0mpmatch\u001b[0m\u001b[0;34m]\u001b[0m\u001b[0;34m,\u001b[0m\u001b[0mGmatch\u001b[0m\u001b[0;34m[\u001b[0m\u001b[0;34m'pmdec'\u001b[0m\u001b[0;34m]\u001b[0m\u001b[0;34m[\u001b[0m\u001b[0mpmatch\u001b[0m\u001b[0;34m]\u001b[0m\u001b[0;34m\u001b[0m\u001b[0;34m\u001b[0m\u001b[0m\n\u001b[1;32m      3\u001b[0m \u001b[0;34m\u001b[0m\u001b[0m\n\u001b[0;32m----> 4\u001b[0;31m \u001b[0mcov_to\u001b[0m \u001b[0;34m=\u001b[0m \u001b[0mrotate_errors\u001b[0m\u001b[0;34m(\u001b[0m\u001b[0ma\u001b[0m\u001b[0;34m[\u001b[0m\u001b[0;36m0\u001b[0m\u001b[0;34m:\u001b[0m\u001b[0;36m5\u001b[0m\u001b[0;34m]\u001b[0m\u001b[0;34m,\u001b[0m\u001b[0md\u001b[0m\u001b[0;34m[\u001b[0m\u001b[0;36m0\u001b[0m\u001b[0;34m:\u001b[0m\u001b[0;36m5\u001b[0m\u001b[0;34m]\u001b[0m\u001b[0;34m,\u001b[0m\u001b[0mmua\u001b[0m\u001b[0;34m[\u001b[0m\u001b[0;36m0\u001b[0m\u001b[0;34m:\u001b[0m\u001b[0;36m5\u001b[0m\u001b[0;34m]\u001b[0m\u001b[0;34m,\u001b[0m\u001b[0mmud\u001b[0m\u001b[0;34m[\u001b[0m\u001b[0;36m0\u001b[0m\u001b[0;34m:\u001b[0m\u001b[0;36m5\u001b[0m\u001b[0;34m]\u001b[0m\u001b[0;34m,\u001b[0m\u001b[0;36m0.\u001b[0m\u001b[0;34m*\u001b[0m\u001b[0mmua\u001b[0m\u001b[0;34m[\u001b[0m\u001b[0;36m0\u001b[0m\u001b[0;34m:\u001b[0m\u001b[0;36m5\u001b[0m\u001b[0;34m]\u001b[0m\u001b[0;34m)\u001b[0m\u001b[0;34m\u001b[0m\u001b[0;34m\u001b[0m\u001b[0m\n\u001b[0m",
      "\u001b[0;32m<ipython-input-11-c8f7119b70c8>\u001b[0m in \u001b[0;36mrotate_errors\u001b[0;34m(a, d, pmra_e, pmdec_e, pmcorr)\u001b[0m\n\u001b[1;32m     43\u001b[0m \u001b[0;34m\u001b[0m\u001b[0m\n\u001b[1;32m     44\u001b[0m \u001b[0;34m\u001b[0m\u001b[0m\n\u001b[0;32m---> 45\u001b[0;31m     \u001b[0;32mreturn\u001b[0m \u001b[0mcov_to\u001b[0m\u001b[0;34m\u001b[0m\u001b[0;34m\u001b[0m\u001b[0m\n\u001b[0m\u001b[1;32m     46\u001b[0m \u001b[0;34m\u001b[0m\u001b[0m\n\u001b[1;32m     47\u001b[0m \u001b[0;34m\u001b[0m\u001b[0m\n",
      "\u001b[0;31mNameError\u001b[0m: name 'cov_to' is not defined"
     ]
    }
   ],
   "source": []
  },
  {
   "cell_type": "code",
   "execution_count": null,
   "metadata": {},
   "outputs": [],
   "source": []
  },
  {
   "cell_type": "code",
   "execution_count": 112,
   "metadata": {},
   "outputs": [],
   "source": [
    "xp,yp,zp = rotate_positions(Gmatch['ra'][pmatch]*np.pi/180.,Gmatch['dec'][pmatch]*np.pi/180.,dist)\n",
    "\n"
   ]
  },
  {
   "cell_type": "code",
   "execution_count": 13,
   "metadata": {},
   "outputs": [
    {
     "data": {
      "text/plain": [
       "<matplotlib.collections.PathCollection at 0x1472fe048>"
      ]
     },
     "execution_count": 13,
     "metadata": {},
     "output_type": "execute_result"
    },
    {
     "data": {
      "image/png": "[encoded data removed]",
      "text/plain": [
       "<Figure size 432x288 with 1 Axes>"
      ]
     },
     "metadata": {
      "needs_background": "light"
     },
     "output_type": "display_data"
    }
   ],
   "source": [
    "plt.scatter(xp,zp,color='black',s=1.)"
   ]
  },
  {
   "cell_type": "code",
   "execution_count": 88,
   "metadata": {},
   "outputs": [
    {
     "data": {
      "text/plain": [
       "<matplotlib.collections.PathCollection at 0x1079677f0>"
      ]
     },
     "execution_count": 88,
     "metadata": {},
     "output_type": "execute_result"
    },
    {
     "data": {
      "image/png": "[encoded data removed]",
      "text/plain": [
       "<Figure size 432x288 with 1 Axes>"
      ]
     },
     "metadata": {
      "needs_background": "light"
     },
     "output_type": "display_data"
    }
   ],
   "source": [
    "cbest = coord.SkyCoord(ra              = Gmatch['ra'][pmatch]    * u.deg,\\\n",
    "                       dec             = Gmatch['dec'][pmatch]   * u.deg,\\\n",
    "                       distance        = dist  * u.kpc)\n",
    "\n",
    "\n",
    "#best_defined = cbest.transform_to(gc_frame)\n",
    "best_sgr     = cbest.transform_to(Sagittarius)\n",
    "best_latlon  = cbest.transform_to('galactic')\n",
    "\n",
    "plt.scatter(best_defined.x,best_defined.z,color='black',s=1.)"
   ]
  },
  {
   "cell_type": "code",
   "execution_count": 89,
   "metadata": {},
   "outputs": [
    {
     "data": {
      "text/plain": [
       "<matplotlib.collections.PathCollection at 0x14c35ccc0>"
      ]
     },
     "execution_count": 89,
     "metadata": {},
     "output_type": "execute_result"
    },
    {
     "data": {
      "image/png": "[encoded data removed]",
      "text/plain": [
       "<Figure size 432x288 with 1 Axes>"
      ]
     },
     "metadata": {
      "needs_background": "light"
     },
     "output_type": "display_data"
    }
   ],
   "source": [
    "plt.scatter(best_latlon.l,best_latlon.b,color='black',s=1.)"
   ]
  },
  {
   "cell_type": "code",
   "execution_count": null,
   "metadata": {},
   "outputs": [],
   "source": []
  },
  {
   "cell_type": "code",
   "execution_count": null,
   "metadata": {},
   "outputs": [],
   "source": []
  },
  {
   "cell_type": "code",
   "execution_count": null,
   "metadata": {},
   "outputs": [],
   "source": []
  },
  {
   "cell_type": "code",
   "execution_count": 150,
   "metadata": {},
   "outputs": [],
   "source": [
    "indx = 11\n",
    "\n",
    "a = Gmatch['ra'][pmatch][indx]*np.pi/180.\n",
    "d = Gmatch['dec'][pmatch][indx]*np.pi/180.\n",
    "\n",
    "#%timeit ricrs = return_ricrs(a,d)\n"
   ]
  },
  {
   "cell_type": "code",
   "execution_count": 151,
   "metadata": {},
   "outputs": [],
   "source": [
    "ricrs = return_ricrs(a,d)\n",
    "A = return_gaia_Agprime()\n",
    "#%timeit rgal = np.dot(A,ricrs)"
   ]
  },
  {
   "cell_type": "code",
   "execution_count": 152,
   "metadata": {},
   "outputs": [
    {
     "name": "stdout",
     "output_type": "stream",
     "text": [
      "[ 0.96237108 -0.2680665   0.04452247]\n"
     ]
    }
   ],
   "source": [
    "rgal = np.dot(return_gaia_Agprime(),ricrs)\n",
    "print(rgal)\n",
    "#%timeit np.dot(dist[indx],rgal)"
   ]
  },
  {
   "cell_type": "code",
   "execution_count": 198,
   "metadata": {},
   "outputs": [
    {
     "data": {
      "text/plain": [
       "array([ 38.55669468, -10.56406227,   1.34040449])"
      ]
     },
     "execution_count": 198,
     "metadata": {},
     "output_type": "execute_result"
    }
   ],
   "source": [
    "indx = 0\n",
    "rotate_positions(Gmatch['ra'][pmatch][indx]*np.pi/180.,\\\n",
    "                                                        Gmatch['dec'][pmatch][indx]*np.pi/180.,\\\n",
    "                                                        dist[indx])"
   ]
  },
  {
   "cell_type": "code",
   "execution_count": null,
   "metadata": {},
   "outputs": [],
   "source": [
    "for indx in range(0,pmatch.size):\n",
    "    if (indx % 1000 == 0): print(indx)\n",
    "    xpos[indx],ypos[indx],zpos[indx] = rotate_positions(Gmatch['ra'][pmatch][indx]*np.pi/180.,\\\n",
    "                                                        Gmatch['dec'][pmatch][indx]*np.pi/180.,\\\n",
    "                                                        dist[indx])\n",
    "\n"
   ]
  },
  {
   "cell_type": "code",
   "execution_count": null,
   "metadata": {},
   "outputs": [],
   "source": []
  },
  {
   "cell_type": "code",
   "execution_count": 4,
   "metadata": {},
   "outputs": [
    {
     "name": "stdout",
     "output_type": "stream",
     "text": [
      "\u001b[31mdata/Sgr_LAMOST_DR5_KG_obsid_forJorge.fits\u001b[m\u001b[m\r\n",
      "\u001b[31mdata/lamost_kg_dr5_halo_forJorge.fits\u001b[m\u001b[m\r\n",
      "\u001b[31mdata/lamost_kg_dr5_smoothhalo_forJorge.fits\u001b[m\u001b[m\r\n"
     ]
    }
   ],
   "source": [
    "!ls data/*Jorge*"
   ]
  },
  {
   "cell_type": "code",
   "execution_count": 54,
   "metadata": {},
   "outputs": [],
   "source": [
    "\n",
    "C17 = np.genfromtxt('/Users/mpetersen/Notebooks/Dynamics/Shells/cohen17.txt',\\\n",
    "                        dtype={'names': (\"sgr\",\"per\",\"hjd\",\"ampr\",\\\n",
    "                                         \"rmag\",\"nr\",\"ng\",\"qual\",\\\n",
    "                                         \"RA\",\"Dec\",\"dist\",\"nsp\",\\\n",
    "                                         \"rvgsr\",\"ervgsr\",\"date\"),\\\n",
    "                             'formats': ('S20','f8','f8','f8',\\\n",
    "                                        'f8','f8','f8','f8',\\\n",
    "                                        'f8','f8','f8','f8',\\\n",
    "                                         'f8','f8','f8')},\\\n",
    "                 skip_header=66)\n",
    "\n",
    "\n",
    "\n"
   ]
  },
  {
   "cell_type": "code",
   "execution_count": 6,
   "metadata": {},
   "outputs": [
    {
     "data": {
      "text/plain": [
       "<matplotlib.collections.PathCollection at 0x1240b0ba8>"
      ]
     },
     "execution_count": 6,
     "metadata": {},
     "output_type": "execute_result"
    },
    {
     "data": {
      "image/png": "[encoded data removed]",
      "text/plain": [
       "<Figure size 432x288 with 1 Axes>"
      ]
     },
     "metadata": {
      "needs_background": "light"
     },
     "output_type": "display_data"
    }
   ],
   "source": [
    "xpos,ypos,zpos = np.zeros(C17['RA'].size),np.zeros(C17['RA'].size),np.zeros(C17['RA'].size)\n",
    "\n",
    "for indx in range(0,C17['RA'].size):\n",
    "    xpos[indx],ypos[indx],zpos[indx] = rotate_positions(C17['RA'][indx]*np.pi/180.,C17['Dec'][indx]*np.pi/180.,C17['dist'][indx])\n",
    "\n",
    "plt.scatter(xpos,zpos,color='black',s=1.)"
   ]
  },
  {
   "cell_type": "code",
   "execution_count": 301,
   "metadata": {},
   "outputs": [
    {
     "data": {
      "text/plain": [
       "array([b'90198608955264', b'205780473330048', b'219219426355200', ...,\n",
       "       b'6912668773929549056', b'6912692177207121024',\n",
       "       b'6912944824363453568'], dtype='|S20')"
      ]
     },
     "execution_count": 301,
     "metadata": {},
     "output_type": "execute_result"
    }
   ],
   "source": [
    "Gmatch[\"source_id\"]"
   ]
  },
  {
   "cell_type": "code",
   "execution_count": 33,
   "metadata": {},
   "outputs": [],
   "source": [
    "Gmatch = np.genfromtxt('/Users/mpetersen/Downloads/cohen17_corr-result.csv',\\\n",
    "                        dtype={'names': (\"xsource_id\",\"gsource_id\",\"ra\",\"ra_error\",\"dec\",\"dec_error\",\\\n",
    "                                        \"parallax\",\"parallax_error\",\"pmra\",\"pmra_error\",\"pmdec\",\\\n",
    "                                         \"pmdec_error\",\"phot_g_mean_flux\",\"phot_g_mean_flux_error\",\"phot_g_mean_mag\",\\\n",
    "                                         \"phot_bp_mean_flux\",\"phot_bp_mean_flux_error\",\"bp_rp\",\"radial_velocity\",\"radial_velocity_error\",\\\n",
    "                                         \"phot_variable_flag\",\"teff_val\",\"a_g_val\",\"pmra_pmdec_corr\",\"dist\"),\\\n",
    "                             'formats': ('S20','S20','f8','f8','f8','f8',\\\n",
    "                                         'f8','f8','f8','f8','f8',\\\n",
    "                                         'f8','f8','f8','f8','f8',\\\n",
    "                                         'f8','f8','f8','f8','f8',\\\n",
    "                                        'f8','f8','f8','f8','f8')},\\\n",
    "                 skip_header=1,delimiter=',')"
   ]
  },
  {
   "cell_type": "code",
   "execution_count": 6,
   "metadata": {},
   "outputs": [],
   "source": [
    "\n",
    "# now with RUWE!\n",
    "Gmatch = np.genfromtxt('/Users/mpetersen/Downloads/cohen_corr_ruwe-result.csv',\\\n",
    "                        dtype={'names': (\"dec\",\"parallax\",\"dist\",\"parallax_error\",\\\n",
    "                                         \"phot_bp_mean_flux_error\",\"bp_rp\",\"pmra\",\"a_g_val\",\"ra_error\",\\\n",
    "                                         \"pmra_error\",\"pmdec_error\",\"radial_velocity_error\",\"pmra_pmdec_corr\",\\\n",
    "                                         \"teff_val\",\"phot_g_mean_flux\",\"phot_variable_flag\",\"ra\",\\\n",
    "                                         \"phot_bp_mean_flux\",\"phot_g_mean_flux_error\",\"radial_velocity\",\\\n",
    "                                         \"dec_error\",\"name\",\"pmdec\",\"phot_g_mean_mag\",\"ruwe\",\"source_id\"),\\\n",
    "                             'formats': ('f8','f8','f8','f8',\\\n",
    "                                         'f8','f8','f8','f8','f8',\\\n",
    "                                         'f8','f8','f8','f8',\\\n",
    "                                         'f8','f8','f8','f8',\\\n",
    "                                         'f8','f8','f8',\\\n",
    "                                         'f8','S20','f8','f8','f8','S20')},\\\n",
    "                 skip_header=1,delimiter=',')"
   ]
  },
  {
   "cell_type": "code",
   "execution_count": 531,
   "metadata": {},
   "outputs": [
    {
     "data": {
      "text/plain": [
       "[<matplotlib.lines.Line2D at 0x1419fb630>]"
      ]
     },
     "execution_count": 531,
     "metadata": {},
     "output_type": "execute_result"
    },
    {
     "data": {
      "image/png": "[encoded data removed]",
      "text/plain": [
       "<Figure size 432x288 with 1 Axes>"
      ]
     },
     "metadata": {
      "needs_background": "light"
     },
     "output_type": "display_data"
    }
   ],
   "source": [
    "distsntmp = np.abs(Gmatch['parallax'])/Gmatch['parallax_error']\n",
    "distsn = distsntmp[pmatch]\n",
    "\n",
    "plt.plot(distsn[distsn.argsort()])\n"
   ]
  },
  {
   "cell_type": "code",
   "execution_count": 7,
   "metadata": {},
   "outputs": [
    {
     "name": "stdout",
     "output_type": "stream",
     "text": [
      "[ 1.45704100e-01  9.98221472e-01  1.38968430e+00  1.61170607e+00\n",
      "  1.37519893e-01  8.63302488e-01  2.02880589e+00 -3.26448513e-01\n",
      "  1.20673143e+00 -5.40916984e-01  5.97188059e-02 -7.59628445e-01\n",
      "  1.12499522e-01 -2.09915889e+00  2.44248573e+00 -3.70089614e-01\n",
      "             nan -9.98909758e-01  2.35620894e-01 -3.32040356e+00\n",
      "  7.76109823e-01 -1.02002135e+00 -7.07290084e-01  1.37939743e-01\n",
      " -3.98076169e-01  1.28738262e+00 -1.68618497e+00  5.69475392e-01\n",
      "  2.31309070e-01 -3.57790302e-01 -3.57499424e-01 -1.97831562e+00\n",
      " -2.03608660e+00 -1.08220667e+00 -1.03088036e+00  3.86908124e-01\n",
      " -2.18327745e+00 -1.28738679e-01  5.48337525e-01  3.72803787e-01\n",
      "  5.77204210e-01 -1.65210026e-01 -2.48595031e-01 -1.17491914e+00\n",
      "  4.00037438e-02 -1.86754095e+00 -2.32854532e-02  2.93757157e+00\n",
      " -1.91772263e+00 -1.85942300e+00 -1.04476640e+00 -1.03777563e+00\n",
      "  7.14448340e-01 -4.57584685e-01 -1.34338381e+00 -3.62150948e-03\n",
      " -3.85725039e-01 -2.67209485e-01  2.80816590e-02  1.24527553e+00\n",
      " -2.14104431e-01 -1.01594018e+00             nan -4.77136970e-01\n",
      " -2.66522611e+00 -3.72849372e+00  1.22313010e+00 -3.12637306e-02\n",
      "  3.46361783e-01  6.31521820e-01 -1.92615606e-01  1.22981103e+00\n",
      " -1.37709773e-01  1.56002626e+00             nan -4.82069990e-01\n",
      " -1.90407926e+00  1.33465438e-02 -8.05506900e-01 -1.42011714e+00\n",
      " -6.57488022e-01             nan -3.66598039e-01 -1.49544351e+00\n",
      "             nan  1.42834388e-01  2.01238016e+00             nan\n",
      "  7.09118947e-01 -1.37411356e-01  7.96463731e-01             nan\n",
      " -1.38051489e-01 -1.71206013e-01  3.91922262e+00  1.13502933e-01\n",
      "             nan  1.00031401e+00  5.90815219e-02 -1.14271026e+00\n",
      "  3.68829719e+00 -3.08708333e+00 -3.57932327e-01 -1.54220745e+00\n",
      " -1.05816652e+00 -8.21235807e-01 -8.37015686e-01 -4.28318042e-01\n",
      "  4.83123770e-01 -1.23046515e-01 -4.99087104e-02  2.91162003e-01]\n"
     ]
    }
   ],
   "source": [
    "print(Gmatch['pmra'])"
   ]
  },
  {
   "cell_type": "code",
   "execution_count": 46,
   "metadata": {},
   "outputs": [
    {
     "name": "stdout",
     "output_type": "stream",
     "text": [
      "[1.0595022  1.0558776  1.0309095  0.94892    1.0455922  0.91754687\n",
      " 1.034767   0.90555215 0.9552674  1.0879066  1.066541   1.0535487\n",
      " 1.0600315  0.98340374 1.0113455  1.1398855         nan 0.9542892\n",
      " 1.0073326  0.99274445 0.9779225  1.0434934  0.9825461  0.9488022\n",
      " 1.0436572  1.0194228  0.983159   1.0240927  0.95504886 0.95698786\n",
      " 0.9352879  1.0328686  1.0140067  1.0069655  0.97808886 0.99326\n",
      " 1.0117781  1.0164856  0.93398935 0.9754205  1.0094391  0.9959188\n",
      " 1.0042089  0.9833959  0.9895391  1.0593865  0.94511944 1.0766734\n",
      " 0.9551718  0.94484526 1.061316   1.0529302  1.1190357  1.0467572\n",
      " 1.045499   0.9279445  0.9647465  1.0197444  0.87253517 1.1346891\n",
      " 0.9203129  0.9469259         nan 1.2104374  0.9886527  0.90944016\n",
      " 1.0068961  0.99320287 0.95123607 0.9975518  0.99278754 1.0074794\n",
      " 1.0018101  0.91265106        nan 1.0334768  1.1660376  0.96323776\n",
      " 0.86215675 1.085313   0.97515935        nan 0.9764313  1.0193242\n",
      "        nan 1.0569     1.1703418         nan 0.97319376 0.9740569\n",
      " 0.9478164         nan 1.1066643  0.94119203 1.0220338  1.0450639\n",
      "        nan 1.0349358  0.98192763 1.0614381  1.1236514  1.0155836\n",
      " 1.0160207  0.98224264 1.0709455  0.9874934  0.99550563 1.03645\n",
      " 0.9171932  1.0155073  1.0622424  1.0951412 ]\n"
     ]
    }
   ],
   "source": [
    "print(Gmatch['ruwe'])"
   ]
  },
  {
   "cell_type": "code",
   "execution_count": 41,
   "metadata": {},
   "outputs": [
    {
     "ename": "ValueError",
     "evalue": "invalid literal for int() with base 10: '0.3241104334145973'",
     "output_type": "error",
     "traceback": [
      "\u001b[0;31m---------------------------------------------------------------------------\u001b[0m",
      "\u001b[0;31mValueError\u001b[0m                                Traceback (most recent call last)",
      "\u001b[0;32m<ipython-input-41-fcedf91cb3b2>\u001b[0m in \u001b[0;36m<module>\u001b[0;34m\u001b[0m\n\u001b[1;32m      1\u001b[0m \u001b[0mGmatch\u001b[0m\u001b[0;34m[\u001b[0m\u001b[0;34m'xsource_id'\u001b[0m\u001b[0;34m]\u001b[0m\u001b[0;34m.\u001b[0m\u001b[0mastype\u001b[0m\u001b[0;34m(\u001b[0m\u001b[0;34m'S20'\u001b[0m\u001b[0;34m)\u001b[0m\u001b[0;34m\u001b[0m\u001b[0;34m\u001b[0m\u001b[0m\n\u001b[0;32m----> 2\u001b[0;31m \u001b[0mxsources\u001b[0m \u001b[0;34m=\u001b[0m \u001b[0;34m[\u001b[0m\u001b[0mint\u001b[0m\u001b[0;34m(\u001b[0m\u001b[0md\u001b[0m\u001b[0;34m.\u001b[0m\u001b[0mdecode\u001b[0m\u001b[0;34m(\u001b[0m\u001b[0;34m)\u001b[0m\u001b[0;34m)\u001b[0m \u001b[0;32mfor\u001b[0m \u001b[0md\u001b[0m \u001b[0;32min\u001b[0m \u001b[0mGmatch\u001b[0m\u001b[0;34m[\u001b[0m\u001b[0;34m'xsource_id'\u001b[0m\u001b[0;34m]\u001b[0m\u001b[0;34m]\u001b[0m\u001b[0;34m\u001b[0m\u001b[0;34m\u001b[0m\u001b[0m\n\u001b[0m",
      "\u001b[0;32m<ipython-input-41-fcedf91cb3b2>\u001b[0m in \u001b[0;36m<listcomp>\u001b[0;34m(.0)\u001b[0m\n\u001b[1;32m      1\u001b[0m \u001b[0mGmatch\u001b[0m\u001b[0;34m[\u001b[0m\u001b[0;34m'xsource_id'\u001b[0m\u001b[0;34m]\u001b[0m\u001b[0;34m.\u001b[0m\u001b[0mastype\u001b[0m\u001b[0;34m(\u001b[0m\u001b[0;34m'S20'\u001b[0m\u001b[0;34m)\u001b[0m\u001b[0;34m\u001b[0m\u001b[0;34m\u001b[0m\u001b[0m\n\u001b[0;32m----> 2\u001b[0;31m \u001b[0mxsources\u001b[0m \u001b[0;34m=\u001b[0m \u001b[0;34m[\u001b[0m\u001b[0mint\u001b[0m\u001b[0;34m(\u001b[0m\u001b[0md\u001b[0m\u001b[0;34m.\u001b[0m\u001b[0mdecode\u001b[0m\u001b[0;34m(\u001b[0m\u001b[0;34m)\u001b[0m\u001b[0;34m)\u001b[0m \u001b[0;32mfor\u001b[0m \u001b[0md\u001b[0m \u001b[0;32min\u001b[0m \u001b[0mGmatch\u001b[0m\u001b[0;34m[\u001b[0m\u001b[0;34m'xsource_id'\u001b[0m\u001b[0;34m]\u001b[0m\u001b[0;34m]\u001b[0m\u001b[0;34m\u001b[0m\u001b[0;34m\u001b[0m\u001b[0m\n\u001b[0m",
      "\u001b[0;31mValueError\u001b[0m: invalid literal for int() with base 10: '0.3241104334145973'"
     ]
    }
   ],
   "source": [
    "Gmatch['xsource_id'].astype('S20')\n",
    "xsources = [int(d.decode()) for d in Gmatch['xsource_id']]"
   ]
  },
  {
   "cell_type": "code",
   "execution_count": 35,
   "metadata": {},
   "outputs": [
    {
     "ename": "NameError",
     "evalue": "name 'obsid' is not defined",
     "output_type": "error",
     "traceback": [
      "\u001b[0;31m---------------------------------------------------------------------------\u001b[0m",
      "\u001b[0;31mNameError\u001b[0m                                 Traceback (most recent call last)",
      "\u001b[0;32m<ipython-input-35-ad3e29ca19ae>\u001b[0m in \u001b[0;36m<module>\u001b[0;34m\u001b[0m\n\u001b[1;32m      1\u001b[0m \u001b[0mpmatch\u001b[0m \u001b[0;34m=\u001b[0m \u001b[0;34m[\u001b[0m\u001b[0;34m]\u001b[0m\u001b[0;34m\u001b[0m\u001b[0;34m\u001b[0m\u001b[0m\n\u001b[0;32m----> 2\u001b[0;31m \u001b[0;32mfor\u001b[0m \u001b[0mi\u001b[0m \u001b[0;32min\u001b[0m \u001b[0mobsid\u001b[0m\u001b[0;34m:\u001b[0m\u001b[0;34m\u001b[0m\u001b[0;34m\u001b[0m\u001b[0m\n\u001b[0m\u001b[1;32m      3\u001b[0m     \u001b[0;31m#print(i,xsources[0:10])\u001b[0m\u001b[0;34m\u001b[0m\u001b[0;34m\u001b[0m\u001b[0;34m\u001b[0m\u001b[0m\n\u001b[1;32m      4\u001b[0m     \u001b[0mw\u001b[0m \u001b[0;34m=\u001b[0m \u001b[0mnp\u001b[0m\u001b[0;34m.\u001b[0m\u001b[0mwhere\u001b[0m\u001b[0;34m(\u001b[0m\u001b[0mxsources\u001b[0m\u001b[0;34m==\u001b[0m\u001b[0mi\u001b[0m\u001b[0;34m)\u001b[0m\u001b[0;34m[\u001b[0m\u001b[0;36m0\u001b[0m\u001b[0;34m]\u001b[0m\u001b[0;34m\u001b[0m\u001b[0;34m\u001b[0m\u001b[0m\n\u001b[1;32m      5\u001b[0m     \u001b[0;31m#print(w,w.size)\u001b[0m\u001b[0;34m\u001b[0m\u001b[0;34m\u001b[0m\u001b[0;34m\u001b[0m\u001b[0m\n",
      "\u001b[0;31mNameError\u001b[0m: name 'obsid' is not defined"
     ]
    }
   ],
   "source": [
    "pmatch = []\n",
    "for i in obsid:\n",
    "    #print(i,xsources[0:10])\n",
    "    w = np.where(xsources==i)[0]\n",
    "    #print(w,w.size)\n",
    "    if w.size>1:\n",
    "        print(i,w,Gmatch['dist'][w],w[np.nanargmin(Gmatch['dist'][w])])\n",
    "        pmatch.append(w[np.nanargmin(Gmatch['dist'][w])])\n",
    "    else:\n",
    "        pmatch.append(w[0])\n",
    "    #print(w.size)"
   ]
  },
  {
   "cell_type": "code",
   "execution_count": 127,
   "metadata": {},
   "outputs": [
    {
     "name": "stdout",
     "output_type": "stream",
     "text": [
      "54\n"
     ]
    },
    {
     "data": {
      "image/png": "[encoded data removed]",
      "text/plain": [
       "<Figure size 432x288 with 1 Axes>"
      ]
     },
     "metadata": {
      "needs_background": "light"
     },
     "output_type": "display_data"
    }
   ],
   "source": [
    "plt.scatter(dist,Gmatch['ruwe'][pmatch],color='black',s=1.)\n",
    "bigruwe = np.where(Gmatch['ruwe'][pmatch]>=1.4)[0]\n",
    "print(bigruwe.size)\n",
    "goodruwe = np.where(Gmatch['ruwe'][pmatch]<1.4)[0]"
   ]
  },
  {
   "cell_type": "code",
   "execution_count": 13,
   "metadata": {},
   "outputs": [
    {
     "data": {
      "text/plain": [
       "<matplotlib.collections.PathCollection at 0x1243ee588>"
      ]
     },
     "execution_count": 13,
     "metadata": {},
     "output_type": "execute_result"
    },
    {
     "data": {
      "image/png": "[encoded data removed]",
      "text/plain": [
       "<Figure size 432x288 with 1 Axes>"
      ]
     },
     "metadata": {
      "needs_background": "light"
     },
     "output_type": "display_data"
    }
   ],
   "source": [
    "plt.scatter(Gmatch['phot_g_mean_mag'],C17['dist'],color='black',s=1.)"
   ]
  },
  {
   "cell_type": "code",
   "execution_count": 14,
   "metadata": {},
   "outputs": [
    {
     "data": {
      "text/plain": [
       "<matplotlib.collections.PathCollection at 0x1244f9cc0>"
      ]
     },
     "execution_count": 14,
     "metadata": {},
     "output_type": "execute_result"
    },
    {
     "data": {
      "image/png": "[encoded data removed]",
      "text/plain": [
       "<Figure size 432x288 with 1 Axes>"
      ]
     },
     "metadata": {
      "needs_background": "light"
     },
     "output_type": "display_data"
    }
   ],
   "source": [
    "bigd = np.where(C17['dist']>40)\n",
    "\n",
    "k = 4.74057\n",
    "vra = Gmatch['pmra']\n",
    "\n",
    "plt.scatter(Gmatch['pmra'][bigd],Gmatch['pmdec'][bigd],color='black',s=1.)"
   ]
  },
  {
   "cell_type": "code",
   "execution_count": 16,
   "metadata": {},
   "outputs": [
    {
     "data": {
      "text/plain": [
       "<matplotlib.collections.PathCollection at 0x12460f0b8>"
      ]
     },
     "execution_count": 16,
     "metadata": {},
     "output_type": "execute_result"
    },
    {
     "data": {
      "image/png": "[encoded data removed]",
      "text/plain": [
       "<Figure size 432x288 with 1 Axes>"
      ]
     },
     "metadata": {
      "needs_background": "light"
     },
     "output_type": "display_data"
    }
   ],
   "source": [
    "k = 4.74057\n",
    "vra = Gmatch['pmra']*C17['dist']*k\n",
    "vdec = Gmatch['pmdec']*C17['dist']*k\n",
    "\n",
    "plt.scatter(vra,vdec,color='black',s=1.)\n"
   ]
  },
  {
   "cell_type": "code",
   "execution_count": 87,
   "metadata": {},
   "outputs": [],
   "source": [
    "# set the coordinates for transformation\n",
    "\n",
    "# use the schonrich 2010 peculiar motions\n",
    "usun = 11.1\n",
    "vsun = 12.24\n",
    "wsun = 7.25\n",
    "\n",
    "# use the circular velocity from ...\n",
    "vcirc = 235.\n",
    "\n",
    "# the value of mcmillan 2017\n",
    "vcirc = 220.\n",
    "#vcirc = 244.\n",
    "#vcirc = 232.\n",
    "\n",
    "# use the gravity 2018 result for the galactic center distance\n",
    "rsun = 8.3 # in kpc\n",
    "\n",
    "# use the sun's height above the midplane from Bovy...\n",
    "zsun = 20 # in pc\n",
    "\n",
    "v_sun = coord.CartesianDifferential([usun, vsun+vcirc, wsun]*u.km/u.s)\n",
    "gc_frame = coord.Galactocentric(galcen_distance=rsun*u.kpc,\n",
    "                                galcen_v_sun=v_sun,\n",
    "                                z_sun=zsun*u.pc)\n",
    "\n",
    "\n"
   ]
  },
  {
   "cell_type": "code",
   "execution_count": 52,
   "metadata": {},
   "outputs": [
    {
     "ename": "NameError",
     "evalue": "name 'C17' is not defined",
     "output_type": "error",
     "traceback": [
      "\u001b[0;31m---------------------------------------------------------------------------\u001b[0m",
      "\u001b[0;31mNameError\u001b[0m                                 Traceback (most recent call last)",
      "\u001b[0;32m<ipython-input-52-ceb98a2a6d78>\u001b[0m in \u001b[0;36m<module>\u001b[0;34m\u001b[0m\n\u001b[1;32m      1\u001b[0m \u001b[0;31m# set the coordinates for transformation\u001b[0m\u001b[0;34m\u001b[0m\u001b[0;34m\u001b[0m\u001b[0;34m\u001b[0m\u001b[0m\n\u001b[1;32m      2\u001b[0m \u001b[0;34m\u001b[0m\u001b[0m\n\u001b[0;32m----> 3\u001b[0;31m \u001b[0mra\u001b[0m \u001b[0;34m=\u001b[0m \u001b[0mC17\u001b[0m\u001b[0;34m[\u001b[0m\u001b[0;34m'RA'\u001b[0m\u001b[0;34m]\u001b[0m\u001b[0;34m\u001b[0m\u001b[0;34m\u001b[0m\u001b[0m\n\u001b[0m\u001b[1;32m      4\u001b[0m \u001b[0mdec\u001b[0m \u001b[0;34m=\u001b[0m \u001b[0mC17\u001b[0m\u001b[0;34m[\u001b[0m\u001b[0;34m'Dec'\u001b[0m\u001b[0;34m]\u001b[0m\u001b[0;34m\u001b[0m\u001b[0;34m\u001b[0m\u001b[0m\n\u001b[1;32m      5\u001b[0m \u001b[0mdist\u001b[0m \u001b[0;34m=\u001b[0m \u001b[0mC17\u001b[0m\u001b[0;34m[\u001b[0m\u001b[0;34m'dist'\u001b[0m\u001b[0;34m]\u001b[0m\u001b[0;34m\u001b[0m\u001b[0;34m\u001b[0m\u001b[0m\n",
      "\u001b[0;31mNameError\u001b[0m: name 'C17' is not defined"
     ]
    }
   ],
   "source": [
    "\n",
    "ra = C17['RA']\n",
    "dec = C17['Dec']\n",
    "dist = C17['dist']\n",
    "edist = 0.1*C17['dist']\n",
    "rv = C17['rvgsr']\n",
    "erv = C17['ervgsr']\n",
    "\n",
    "\n",
    "def find_errors(indx,nsamples=10000,verbose=False,sgr=False):\n",
    "    rat = ra[indx]\n",
    "    dect = dec[indx]\n",
    "    dt = dist[indx]\n",
    "    derrt = edist[indx]\n",
    "    pmrat = Gmatch['pmra'][indx]\n",
    "    pmraerrt = Gmatch['pmra_error'][indx]\n",
    "    pmdect = Gmatch['pmdec'][indx]\n",
    "    pmdecerrt = Gmatch['pmdec_error'][indx]\n",
    "    vradt = rv[indx]\n",
    "    vraderrt = erv[indx]\n",
    "    \n",
    "    print(rat,dect,dt)\n",
    "\n",
    "    cplus = coord.SkyCoord(ra              = np.tile(rat,nsamples)                                 * u.deg,\\\n",
    "                           dec             = np.tile(dect,nsamples)                                 * u.deg,\\\n",
    "                           distance        = np.nanmax([np.zeros(nsamples)+.1,(dt     + np.random.normal(size=nsamples)*derrt)],axis=0)     * u.kpc,\\\n",
    "                           pm_ra_cosdec    = (pmrat  + np.random.normal(size=nsamples)*pmraerrt)  * u.mas/u.yr,\\\n",
    "                           pm_dec          = (pmdect + np.random.normal(size=nsamples)*pmdecerrt) * u.mas/u.yr,\\\n",
    "                           radial_velocity = (vradt  + np.random.normal(size=nsamples)*vraderrt)  * u.km/u.s)\n",
    "\n",
    "    cbest = coord.SkyCoord(ra              = rat    * u.deg,\\\n",
    "                           dec             = dect   * u.deg,\\\n",
    "                           distance        = dt     * u.kpc,\\\n",
    "                           pm_ra_cosdec    = pmrat  * u.mas/u.yr,\\\n",
    "                           pm_dec          = pmdect * u.mas/u.yr,\\\n",
    "                           radial_velocity = vradt  * u.km/u.s)\n",
    "\n",
    "    if verbose:\n",
    "        print(pmrat,pmdect,vradt)\n",
    "\n",
    "    gal_latlon  = cplus.transform_to('galactic')\n",
    "    gal_defined = cplus.transform_to(gc_frame)\n",
    "        \n",
    "    best_latlon  = cbest.transform_to('galactic')\n",
    "    best_defined = cbest.transform_to(gc_frame)\n",
    "    \n",
    "    if sgr:\n",
    "        best_sgr = cbest.transform_to(Sagittarius)\n",
    "        return gal_latlon,gal_defined,best_latlon,best_defined,best_sgr\n",
    "    \n",
    "    else:\n",
    "        return gal_latlon,gal_defined,best_latlon,best_defined\n",
    "\n",
    "\n",
    "indx = 0\n",
    "gal_latlon,gal_defined,best_latlon,best_defined = find_errors(indx,nsamples=1000,verbose=False)\n",
    "\n",
    "gal_latlon,gal_defined,best_latlon,best_defined,best_sgr = find_errors(indx,nsamples=1000,verbose=True,sgr=True)\n",
    "\n",
    "\n",
    "print(best_defined)\n",
    "\n",
    "print(best_latlon)\n",
    "print(best_sgr)\n"
   ]
  },
  {
   "cell_type": "code",
   "execution_count": 27,
   "metadata": {},
   "outputs": [
    {
     "data": {
      "text/plain": [
       "-0.13741135573919835"
      ]
     },
     "execution_count": 27,
     "metadata": {},
     "output_type": "execute_result"
    }
   ],
   "source": [
    "Gmatch['pmra'][1]"
   ]
  },
  {
   "cell_type": "code",
   "execution_count": 24,
   "metadata": {},
   "outputs": [
    {
     "data": {
      "text/plain": [
       "(0.8034036103591531, -0.6868023136201)"
      ]
     },
     "execution_count": 24,
     "metadata": {},
     "output_type": "execute_result"
    }
   ],
   "source": [
    "indx = 2\n",
    "rotate_velocities(ra[indx]*np.pi/180.,dec[indx]*np.pi/180.,Gmatch['pmra'][indx],Gmatch['pmdec'][indx])\n",
    "\n",
    "\n"
   ]
  },
  {
   "cell_type": "code",
   "execution_count": 29,
   "metadata": {},
   "outputs": [],
   "source": [
    "cbest = coord.SkyCoord(ra              = ra    * u.deg,\\\n",
    "                       dec             = dec   * u.deg,\\\n",
    "                       distance        = dist  * u.kpc,\\\n",
    "                       pm_ra_cosdec    = Gmatch['pmra']  * u.mas/u.yr,\\\n",
    "                       pm_dec          = Gmatch['pmdec'] * u.mas/u.yr,\\\n",
    "                       radial_velocity = rv  * u.km/u.s)\n",
    "\n",
    "best_defined = cbest.transform_to(gc_frame)\n",
    "best_sgr     = cbest.transform_to(Sagittarius)\n",
    "best_latlon  = cbest.transform_to('galactic')\n",
    "\n",
    "plt.scatter(best_defined.x,best_defined.z,color='black',s=1.)"
   ]
  },
  {
   "cell_type": "code",
   "execution_count": null,
   "metadata": {},
   "outputs": [],
   "source": []
  },
  {
   "cell_type": "code",
   "execution_count": 31,
   "metadata": {},
   "outputs": [
    {
     "data": {
      "text/plain": [
       "<matplotlib.collections.PathCollection at 0x12485b198>"
      ]
     },
     "execution_count": 31,
     "metadata": {},
     "output_type": "execute_result"
    },
    {
     "data": {
      "image/png": "[encoded data removed]",
      "text/plain": [
       "<Figure size 432x288 with 1 Axes>"
      ]
     },
     "metadata": {
      "needs_background": "light"
     },
     "output_type": "display_data"
    }
   ],
   "source": []
  },
  {
   "cell_type": "code",
   "execution_count": 34,
   "metadata": {},
   "outputs": [],
   "source": [
    "# back out the rotated correlation coefficients\n",
    "\n",
    "pmatch = np.arange(0,len(Gmatch['pmra_error']),1)\n",
    "pm_l_err = np.zeros(len(pmatch))\n",
    "pm_b_err = np.zeros(len(pmatch))\n",
    "corrcoef = np.zeros(len(pmatch))\n",
    "pm_l     = np.zeros(len(pmatch))\n",
    "pm_b     = np.zeros(len(pmatch))\n",
    "\n",
    "for i in range(0,len(pmatch)):\n",
    "    #print(i)\n",
    "    e1 = Gmatch['pmra_error'][i]\n",
    "    e2 = Gmatch['pmdec_error'][pmatch][i]\n",
    "    e3 = Gmatch['pmra_pmdec_corr'][pmatch][i]\n",
    "    cov_to = rotate_errors(Gmatch['ra'][pmatch][i]*np.pi/180.,Gmatch['dec'][pmatch][i]*np.pi/180.,\\\n",
    "                       e1,e2,e3)\n",
    "    \n",
    "    corrcoef[i] = cov_to[0][1]/(np.sqrt(cov_to[0][0])*np.sqrt(cov_to[1][1]))\n",
    "    pm_l_err[i] = np.sqrt(cov_to[0][0])\n",
    "    pm_b_err[i] = np.sqrt(cov_to[1][1])\n",
    "    \n",
    "    lbvel = rotate_velocities(Gmatch['ra'][pmatch][i]*np.pi/180.,Gmatch['dec'][pmatch][i]*np.pi/180.,\\\n",
    "                              Gmatch['pmra'][pmatch][i],Gmatch['pmdec'][pmatch][i])\n",
    "    \n",
    "    pm_l[i] = lbvel[0]\n",
    "    pm_b[i] = lbvel[1]\n",
    "\n",
    "\n",
    "\n",
    "\n"
   ]
  },
  {
   "cell_type": "code",
   "execution_count": 50,
   "metadata": {},
   "outputs": [
    {
     "name": "stdout",
     "output_type": "stream",
     "text": [
      "REJECTED!\n",
      "REJECTED!\n",
      "REJECTED!\n",
      "REJECTED!\n",
      "REJECTED!\n",
      "REJECTED!\n",
      "REJECTED!\n",
      "REJECTED!\n",
      "REJECTED!\n",
      "REJECTED!\n",
      "REJECTED!\n",
      "REJECTED!\n",
      "REJECTED!\n",
      "REJECTED!\n",
      "REJECTED!\n",
      "15\n"
     ]
    }
   ],
   "source": [
    "\n",
    "f = open('/Users/mpetersen/Dropbox/mike/data/CohenRRL.txt','w')\n",
    "\n",
    "print(\"x [kpc]; y [kpc]; z [kpc]; vx [km/s]; vy [km/s]; vz [km/s];      l [deg]; b [deg]; dist [kpc]; vlos [km/s]; dmu_l [marcsec/yr]; dmu_b [marcsec/yr];       edist[kpc]; evlost [km/s]; edmu_l [marcsec/yr]; edmu_b [marcsec/yr];      sgrweak [bool]; sgrstrong [bool]; FeH [dex]; Sgr Lambda [deg]; Sgr Beta [deg]; Belokurov Flag [bool]; corrcoef [-1:1]\",file=f)\n",
    "\n",
    "rej = 0\n",
    "for i in range(0,len(pmatch)):\n",
    "    if (Gmatch['ruwe'][pmatch][i] < 1.4) & (np.isfinite(np.array(best_defined.v_y)[i])):\n",
    "        print(np.array(best_defined.x)[i],np.array(best_defined.y)[i],np.array(best_defined.z)[i],\\\n",
    "              np.array(best_defined.v_x)[i],np.array(best_defined.v_y)[i],np.array(best_defined.v_z)[i],\\\n",
    "              np.array(best_latlon.l)[i],np.array(best_latlon.b)[i],dist[i],\\\n",
    "              rv[i],pm_l[i],pm_b[i],\\\n",
    "              edist[i],erv[i],pm_l_err[i],pm_b_err[i],\\\n",
    "              0,0,0,\\\n",
    "              np.array(best_sgr.Lambda)[i],np.array(best_sgr.Beta)[i],0,\\\n",
    "              corrcoef[i],file=f)\n",
    "    else:\n",
    "        rej +=1\n",
    "        print('REJECTED!')\n",
    "    \n",
    "          \n",
    "f.close()\n",
    "print(rej)\n"
   ]
  },
  {
   "cell_type": "raw",
   "metadata": {},
   "source": []
  },
  {
   "cell_type": "code",
   "execution_count": 4,
   "metadata": {},
   "outputs": [],
   "source": []
  },
  {
   "cell_type": "code",
   "execution_count": 5,
   "metadata": {},
   "outputs": [
    {
     "data": {
      "text/plain": [
       "363969"
      ]
     },
     "execution_count": 5,
     "metadata": {},
     "output_type": "execute_result"
    }
   ],
   "source": [
    "Gmatch['radial_velocity'].size"
   ]
  },
  {
   "cell_type": "code",
   "execution_count": 6,
   "metadata": {},
   "outputs": [
    {
     "data": {
      "text/plain": [
       "array([b'ACEP', b'ARRD', b'CEP', b'DSCT_SXPHE', b'MIRA_SR', b'RRAB',\n",
       "       b'RRC', b'RRD', b'T2CEP'], dtype='|S20')"
      ]
     },
     "execution_count": 6,
     "metadata": {},
     "output_type": "execute_result"
    }
   ],
   "source": [
    "np.unique(Gmatch['best_class_name'])"
   ]
  },
  {
   "cell_type": "code",
   "execution_count": 36,
   "metadata": {},
   "outputs": [
    {
     "name": "stdout",
     "output_type": "stream",
     "text": [
      "157347\n"
     ]
    }
   ],
   "source": []
  },
  {
   "cell_type": "code",
   "execution_count": 37,
   "metadata": {},
   "outputs": [
    {
     "name": "stdout",
     "output_type": "stream",
     "text": [
      "368\n"
     ]
    }
   ],
   "source": [
    "grvs = Gmatch['radial_velocity'][pmatch][np.isfinite(Gmatch['radial_velocity'][pmatch])]\n",
    "print(grvs.size)"
   ]
  },
  {
   "cell_type": "code",
   "execution_count": 38,
   "metadata": {},
   "outputs": [
    {
     "data": {
      "text/plain": [
       "(0.0, 5.0)"
      ]
     },
     "execution_count": 38,
     "metadata": {},
     "output_type": "execute_result"
    },
    {
     "data": {
      "image/png": "[encoded data removed]",
      "text/plain": [
       "<Figure size 432x288 with 1 Axes>"
      ]
     },
     "metadata": {
      "needs_background": "light"
     },
     "output_type": "display_data"
    }
   ],
   "source": [
    "plt.scatter(Gmatch['phot_g_mean_mag'][pmatch],Gmatch['ruwe'][pmatch],color='black',s=1.)\n",
    "\n",
    "plt.ylim(0.,5.)\n"
   ]
  },
  {
   "cell_type": "code",
   "execution_count": 536,
   "metadata": {},
   "outputs": [
    {
     "data": {
      "text/plain": [
       "[<matplotlib.lines.Line2D at 0x1430340b8>]"
      ]
     },
     "execution_count": 536,
     "metadata": {},
     "output_type": "execute_result"
    },
    {
     "data": {
      "image/png": "[encoded data removed]",
      "text/plain": [
       "<Figure size 432x288 with 1 Axes>"
      ]
     },
     "metadata": {
      "needs_background": "light"
     },
     "output_type": "display_data"
    }
   ],
   "source": []
  },
  {
   "cell_type": "code",
   "execution_count": 83,
   "metadata": {},
   "outputs": [
    {
     "data": {
      "text/plain": [
       "[<matplotlib.lines.Line2D at 0x14ddb76d8>]"
      ]
     },
     "execution_count": 83,
     "metadata": {},
     "output_type": "execute_result"
    },
    {
     "data": {
      "image/png": "[encoded data removed]",
      "text/plain": [
       "<Figure size 432x288 with 1 Axes>"
      ]
     },
     "metadata": {
      "needs_background": "light"
     },
     "output_type": "display_data"
    }
   ],
   "source": []
  },
  {
   "cell_type": "code",
   "execution_count": 475,
   "metadata": {},
   "outputs": [
    {
     "name": "stdout",
     "output_type": "stream",
     "text": [
      "105866 51481\n"
     ]
    }
   ],
   "source": [
    "\n",
    "\n",
    "\n",
    "\n",
    "f = open('/Users/mpetersen/Dropbox/mike/data/RRL_GaiaI_all_sub.txt','w')\n",
    "\n",
    "print(\"x [kpc]; y [kpc]; z [kpc]; vx [km/s]; vy [km/s]; vz [km/s]; l [deg]; b [deg]; dist [kpc]; vlos [km/s]; dmu_l [marcsec/yr]; dmu_b [marcsec/yr];       edist[kpc]; evlost [km/s]; edmu_l [marcsec/yr]; edmu_b [marcsec/yr];      Ramos Strip [bool]; Ramos Pole [bool]; FeH [dex]; Sgr Lambda [deg]; Sgr Beta [deg]; Belokurov Flag [bool]; corrcoef [-1:1]; rlmc [kpc]; lmcflag [bool]; rsmc [kpc]; smcflag [bool]; Sat member [bool]; GC member [bool]\",file=f)\n",
    "\n",
    "# olap1 is pole, olap2 is trip\n",
    "rej = 0\n",
    "acc = 0\n",
    "for i in range(0,len(pmatch)):\n",
    "    #print(np.abs((np.array(best_latlon.b)[i])))\n",
    "    if (Gmatch['ruwe'][pmatch][i] < 1.4) & (np.abs(np.array(best_latlon.b)[i])>10.):\n",
    "        print(np.array(best_defined.x)[i],np.array(best_defined.y)[i],np.array(best_defined.z)[i],\\\n",
    "              #np.array(best_defined.v_x)[i],np.array(best_defined.v_y)[i],np.array(best_defined.v_z)[i],\\\n",
    "              0,0,0,\\\n",
    "              np.array(best_latlon.l)[i],np.array(best_latlon.b)[i],dist[i],\\\n",
    "              0.,pm_l[i],pm_b[i],\\\n",
    "              0.1*dist[i],0.,pm_l_err[i],pm_b_err[i],\\\n",
    "              olap2[i],olap1[i],0,\\\n",
    "              np.array(best_sgr.Lambda)[i],np.array(best_sgr.Beta)[i],0,\\\n",
    "              corrcoef[i],rlmc[i],lmcflag[acc],rsmc[i],smcflag[acc],sat_member[acc],gc_member[acc],file=f)\n",
    "        acc +=1\n",
    "    else:\n",
    "        rej +=1\n",
    "        #print('REJECTED!')\n",
    "    \n",
    "          \n",
    "f.close()\n",
    "print(acc,rej)\n",
    "\n"
   ]
  },
  {
   "cell_type": "code",
   "execution_count": 11,
   "metadata": {},
   "outputs": [
    {
     "name": "stdout",
     "output_type": "stream",
     "text": [
      "0 x [kpc]\n",
      "1  y [kpc]\n",
      "2  z [kpc]\n",
      "3  vx [km/s]\n",
      "4  vy [km/s]\n",
      "5  vz [km/s]\n",
      "6  l [deg]\n",
      "7  b [deg]\n",
      "8  dist [kpc]\n",
      "9  vlos [km/s]\n",
      "10  dmu_l [marcsec/yr]\n",
      "11  dmu_b [marcsec/yr]\n",
      "12        edist[kpc]\n",
      "13  evlost [km/s]\n",
      "14  edmu_l [marcsec/yr]\n",
      "15  edmu_b [marcsec/yr]\n",
      "16       Ramos Strip [bool]\n",
      "17  Ramos Pole [bool]\n",
      "18  FeH [dex]\n",
      "19  Sgr Lambda [deg]\n",
      "20  Sgr Beta [deg]\n",
      "21  Belokurov Flag [bool]\n",
      "22  corrcoef [-1:1]\n",
      "23  rlmc [kpc]\n",
      "24  lmcflag [bool]\n",
      "25  rsmc [kpc]\n",
      "26  smcflag [bool]\n",
      "27  Sat member [bool]\n",
      "28  GC member [bool]\n",
      "\n"
     ]
    }
   ],
   "source": []
  },
  {
   "cell_type": "code",
   "execution_count": 12,
   "metadata": {},
   "outputs": [],
   "source": []
  },
  {
   "cell_type": "code",
   "execution_count": 13,
   "metadata": {},
   "outputs": [
    {
     "data": {
      "text/plain": [
       "array([0., 0., 0., ..., 0., 0., 0.])"
      ]
     },
     "execution_count": 13,
     "metadata": {},
     "output_type": "execute_result"
    }
   ],
   "source": [
    "RRL1[:,17]"
   ]
  },
  {
   "cell_type": "code",
   "execution_count": 514,
   "metadata": {},
   "outputs": [
    {
     "name": "stdout",
     "output_type": "stream",
     "text": [
      "5\n"
     ]
    }
   ],
   "source": [
    "rgood = np.where((RRL1[:,27]==1)&(RRL1[:,28]==1))[0]\n",
    "print(rgood.size)"
   ]
  },
  {
   "cell_type": "code",
   "execution_count": 518,
   "metadata": {},
   "outputs": [
    {
     "name": "stdout",
     "output_type": "stream",
     "text": [
      "2.0\n"
     ]
    }
   ],
   "source": [
    "print(np.nanmax(RRL1[:,28]))"
   ]
  },
  {
   "cell_type": "code",
   "execution_count": 30,
   "metadata": {},
   "outputs": [
    {
     "name": "stdout",
     "output_type": "stream",
     "text": [
      "33448\n"
     ]
    },
    {
     "data": {
      "image/png": "[encoded data removed]",
      "text/plain": [
       "<Figure size 432x288 with 1 Axes>"
      ]
     },
     "metadata": {
      "needs_background": "light"
     },
     "output_type": "display_data"
    }
   ],
   "source": []
  },
  {
   "cell_type": "code",
   "execution_count": 9,
   "metadata": {},
   "outputs": [],
   "source": []
  },
  {
   "cell_type": "code",
   "execution_count": 21,
   "metadata": {},
   "outputs": [
    {
     "name": "stdout",
     "output_type": "stream",
     "text": [
      "105866\n"
     ]
    }
   ],
   "source": []
  },
  {
   "cell_type": "code",
   "execution_count": null,
   "metadata": {},
   "outputs": [],
   "source": []
  },
  {
   "cell_type": "code",
   "execution_count": null,
   "metadata": {},
   "outputs": [],
   "source": []
  },
  {
   "cell_type": "code",
   "execution_count": null,
   "metadata": {},
   "outputs": [],
   "source": []
  },
  {
   "cell_type": "code",
   "execution_count": null,
   "metadata": {},
   "outputs": [],
   "source": []
  },
  {
   "cell_type": "code",
   "execution_count": 528,
   "metadata": {},
   "outputs": [
    {
     "data": {
      "text/plain": [
       "[<matplotlib.lines.Line2D at 0x14274fa90>]"
      ]
     },
     "execution_count": 528,
     "metadata": {},
     "output_type": "execute_result"
    },
    {
     "data": {
      "image/png": "[encoded data removed]",
      "text/plain": [
       "<Figure size 432x288 with 1 Axes>"
      ]
     },
     "metadata": {
      "needs_background": "light"
     },
     "output_type": "display_data"
    }
   ],
   "source": [
    "\n",
    "\n",
    "from reflexmotion import modelsats as ms\n",
    "PHIP           = 178.45* np.pi/180.0;\n",
    "THETA          = 114.89* np.pi/180.0;\n",
    "PSI            = 54.05* np.pi/180.0;\n",
    "\n",
    "PSI            = 9.05* np.pi/180.0;\n",
    "\n",
    "\n",
    "Trans = ms.return_euler_slater(PHIP, THETA, PSI, 0)\n",
    "\n",
    "phitest = np.linspace(1.42*np.pi,2.3*np.pi,50)\n",
    "\n",
    "phitest = np.linspace(0.*np.pi,2*np.pi,50)\n",
    "\n",
    "In0 = np.cos(phitest);\n",
    "In1 = np.sin(phitest);\n",
    "In2 = 0.0;\n",
    "twisted  = np.dot(Trans,np.array([In0,In1,In2]))\n",
    "\n",
    "#plt.plot(In0,In1)\n",
    "#plt.plot(twisted[0],twisted[1])\n",
    "\n",
    "lvals = -np.arctan2(twisted[1],twisted[0]) - 47.*np.pi/180.\n",
    "bvals = -np.arcsin(twisted[2])\n",
    "\n",
    "lvals[lvals<0]+=2.*np.pi\n",
    "\n",
    "bvals = bvals[lvals.argsort()]\n",
    "lvals = lvals[lvals.argsort()]\n",
    "\n",
    "plt.plot(lvals,bvals)"
   ]
  },
  {
   "cell_type": "code",
   "execution_count": 385,
   "metadata": {},
   "outputs": [
    {
     "name": "stdout",
     "output_type": "stream",
     "text": [
      "24.339225542321596\n"
     ]
    },
    {
     "data": {
      "image/png": "[encoded data removed]",
      "text/plain": [
       "<Figure size 432x288 with 1 Axes>"
      ]
     },
     "metadata": {
      "needs_background": "light"
     },
     "output_type": "display_data"
    }
   ],
   "source": [
    "# make cuts around the LMC/SMC positions\n",
    "\n",
    "lmcx = -0.62\n",
    "lmcvx = -39.47\n",
    "lmcy = -42.11\n",
    "lmcvy = -229.29\n",
    "lmcz = -27.69\n",
    "lmcvz = 230.24\n",
    "    \n",
    "smcx = 16.35\n",
    "smcvx = 7.77\n",
    "smcy = -38.5\n",
    "smcvy = -191.2 \n",
    "smcz = -44.76\n",
    "smcvz = 171.71\n",
    "\n",
    "rlmc = np.sqrt((xp-lmcx)**2. + (yp-lmcy)**2. + (zp-lmcz)**2.)\n",
    "rsmc = np.sqrt((xp-smcx)**2. + (yp-smcy)**2. + (zp-smcz)**2.)\n",
    "rlmcsmc = np.sqrt((lmcx-smcx)**2. + (lmcy-smcy)**2. + (lmcz-smcz)**2.)\n",
    "print(rlmcsmc)\n",
    "\n",
    "lmc_candidates = np.where(rlmc<20)[0]\n",
    "plt.scatter(rlmc[lmc_candidates],np.sqrt(pm_l**2.+pm_b**2.)[lmc_candidates],color='black',s=1.)\n",
    "\n",
    "smc_candidates = np.where(rsmc<10)[0]\n",
    "#plt.scatter(xp[smc_candidates],zp[smc_candidates],color='red',s=1.)"
   ]
  },
  {
   "cell_type": "code",
   "execution_count": 70,
   "metadata": {},
   "outputs": [
    {
     "name": "stdout",
     "output_type": "stream",
     "text": [
      "31 32 31\n"
     ]
    }
   ],
   "source": []
  },
  {
   "cell_type": "code",
   "execution_count": 74,
   "metadata": {},
   "outputs": [
    {
     "name": "stdout",
     "output_type": "stream",
     "text": [
      "9540 5789.0 3751.0\n"
     ]
    }
   ],
   "source": []
  },
  {
   "cell_type": "code",
   "execution_count": null,
   "metadata": {},
   "outputs": [],
   "source": []
  },
  {
   "cell_type": "code",
   "execution_count": 273,
   "metadata": {},
   "outputs": [],
   "source": [
    "smallest_rsat = 100.*np.ones(RRL1[:,0].size)\n",
    "\n",
    "smallest_rsat = np.nanmin([rsat,smallest_rsat],axis=0)\n",
    "\n",
    "\n",
    "for sat in range(0,nsats):\n",
    "    rsat = np.sqrt((RRL1[:,0]-xsat[sat])**2. + (RRL1[:,1]-ysat[sat])**2. + (RRL1[:,2]-zsat[sat])**2. )\n",
    "    smallest_rsat = np.nanmin([rsat,smallest_rsat],axis=0)\n",
    "    #print(smallest_rsat[0:10])"
   ]
  },
  {
   "cell_type": "code",
   "execution_count": 280,
   "metadata": {},
   "outputs": [],
   "source": []
  },
  {
   "cell_type": "code",
   "execution_count": 373,
   "metadata": {},
   "outputs": [
    {
     "name": "stdout",
     "output_type": "stream",
     "text": [
      "[[277.52677714 277.41102414 277.36041071 ... 281.8397409  281.7855956\n",
      "  281.76700071]]\n",
      "280.3497698382291 -32.951809774584234\n"
     ]
    }
   ],
   "source": [
    "w = np.where(RRL1[:,23]<25)\n",
    "print(RRL1[w,6])\n",
    "llmc,blmc = np.nanmedian(RRL1[w,6]),np.nanmedian(RRL1[w,7]),np.nanmedian(RRL1[w,8])\n",
    "#sp_dist = spatial_distance(llmc,RRL1[w,6],blmc,RRL1[w,7])\n",
    "#print(sp_dist)\n",
    "print(llmc,blmc)"
   ]
  },
  {
   "cell_type": "code",
   "execution_count": 428,
   "metadata": {},
   "outputs": [
    {
     "name": "stdout",
     "output_type": "stream",
     "text": [
      "280.2044060851661 -32.936394774374214 53.94778276072235\n"
     ]
    },
    {
     "data": {
      "text/plain": [
       "258.4807"
      ]
     },
     "execution_count": 428,
     "metadata": {},
     "output_type": "execute_result"
    }
   ],
   "source": [
    "print(llmc,blmc,dlmc)\n",
    "280.4652 -32.8884"
   ]
  },
  {
   "cell_type": "code",
   "execution_count": 432,
   "metadata": {},
   "outputs": [
    {
     "name": "stdout",
     "output_type": "stream",
     "text": [
      "22696\n",
      "2739\n"
     ]
    },
    {
     "data": {
      "text/plain": [
       "[0, 360, -90, 90]"
      ]
     },
     "execution_count": 432,
     "metadata": {},
     "output_type": "execute_result"
    },
    {
     "data": {
      "image/png": "[encoded data removed]",
      "text/plain": [
       "<Figure size 432x288 with 1 Axes>"
      ]
     },
     "metadata": {
      "needs_background": "light"
     },
     "output_type": "display_data"
    }
   ],
   "source": []
  },
  {
   "cell_type": "code",
   "execution_count": null,
   "metadata": {},
   "outputs": [],
   "source": []
  },
  {
   "cell_type": "code",
   "execution_count": null,
   "metadata": {},
   "outputs": [],
   "source": []
  },
  {
   "cell_type": "code",
   "execution_count": 63,
   "metadata": {},
   "outputs": [
    {
     "name": "stdout",
     "output_type": "stream",
     "text": [
      "Antlia2 0\n",
      "Aquarius2 0\n",
      "Bootes1 4\n",
      "Bootes2 1\n",
      "CanesVenatici1 0\n",
      "CanesVenatici2 0\n",
      "Carina 6\n",
      "Carina2 67\n",
      "Carina3 32\n",
      "Columba1 0\n",
      "ComaBerenices 1\n",
      "Crater2 1\n",
      "Draco 102\n",
      "Draco2 8\n",
      "Eridanus2 0\n",
      "Fornax 0\n",
      "Grus1 0\n",
      "Grus2 8\n",
      "Hercules 0\n",
      "Horologium1 1\n",
      "Horologium2 0\n",
      "Hydra2 0\n",
      "Hydrus1 42\n",
      "Leo1 0\n",
      "Leo2 0\n",
      "Leo4 0\n",
      "Leo5 0\n",
      "LeoT 0\n",
      "Phoenix 0\n",
      "Phoenix2 1\n",
      "Pisces2 0\n",
      "Reticulum2 5\n",
      "Reticulum3 0\n",
      "Sagittarius2 5\n",
      "Sculptor 263\n",
      "Segue1 4\n",
      "Segue2 1\n",
      "Sextans1 18\n",
      "Triangulum2 18\n",
      "Tucana2 4\n",
      "Tucana3 3\n",
      "Tucana4 6\n",
      "Tucana5 8\n",
      "UrsaMajor1 3\n",
      "UrsaMajor2 6\n",
      "UrsaMinor 68\n"
     ]
    }
   ],
   "source": []
  },
  {
   "cell_type": "code",
   "execution_count": 64,
   "metadata": {},
   "outputs": [
    {
     "name": "stdout",
     "output_type": "stream",
     "text": [
      "686.0\n"
     ]
    }
   ],
   "source": [
    "print(np.nansum(sat_member))"
   ]
  },
  {
   "cell_type": "code",
   "execution_count": 458,
   "metadata": {},
   "outputs": [
    {
     "data": {
      "text/plain": [
       "[0, 360, -90, 90]"
      ]
     },
     "execution_count": 458,
     "metadata": {},
     "output_type": "execute_result"
    },
    {
     "data": {
      "image/png": "[encoded data removed]",
      "text/plain": [
       "<Figure size 432x288 with 1 Axes>"
      ]
     },
     "metadata": {
      "needs_background": "light"
     },
     "output_type": "display_data"
    }
   ],
   "source": [
    "rgood = memberdict['Draco']\n",
    "#print(rgood)\n",
    "\n",
    "plt.scatter(RRL1[rgood,6],RRL1[rgood,7],color='black',s=0.1)\n",
    "\n",
    "plt.axis([0,360,-90,90])\n",
    "\n"
   ]
  },
  {
   "cell_type": "code",
   "execution_count": 459,
   "metadata": {},
   "outputs": [
    {
     "data": {
      "text/plain": [
       "[0, 360, -90, 90]"
      ]
     },
     "execution_count": 459,
     "metadata": {},
     "output_type": "execute_result"
    },
    {
     "data": {
      "image/png": "[encoded data removed]",
      "text/plain": [
       "<Figure size 432x288 with 1 Axes>"
      ]
     },
     "metadata": {
      "needs_background": "light"
     },
     "output_type": "display_data"
    }
   ],
   "source": [
    "rgood = memberdict['Hydrus1']\n",
    "#print(rgood)\n",
    "\n",
    "plt.scatter(RRL1[rgood,6],RRL1[rgood,7],color='black',s=0.1)\n",
    "\n",
    "plt.axis([0,360,-90,90])\n",
    "\n"
   ]
  },
  {
   "cell_type": "code",
   "execution_count": 460,
   "metadata": {},
   "outputs": [
    {
     "name": "stdout",
     "output_type": "stream",
     "text": [
      "5.306409911631421 kpc\n"
     ]
    },
    {
     "data": {
      "text/plain": [
       "Text(0, 0.5, 'z [kpc]')"
      ]
     },
     "execution_count": 460,
     "metadata": {},
     "output_type": "execute_result"
    },
    {
     "data": {
      "image/png": "[encoded data removed]",
      "text/plain": [
       "<Figure size 360x360 with 1 Axes>"
      ]
     },
     "metadata": {
      "needs_background": "light"
     },
     "output_type": "display_data"
    }
   ],
   "source": [
    "\n",
    "#RAJ2000;DEJ2000;GLON;GLAT;gmag;u-g;D0.2;fm;cHg;bHg;d;r;x;y;z;HRV;e_HRV;Vgal;DR8;Sloan;SimbadName\n",
    "\n",
    "\n",
    "# set the coordinates\n",
    "usun = 11.1\n",
    "vsun = 12.24\n",
    "wsun = 7.25\n",
    "vcirc = 235.\n",
    "rsun = 8.3 # in kpc\n",
    "zsun = 30 # in pc\n",
    "\n",
    "v_sun = coord.CartesianDifferential([usun, vsun+vcirc, wsun]*u.km/u.s)\n",
    "gc_frame = coord.Galactocentric(galcen_distance=rsun*u.kpc,\n",
    "                                galcen_v_sun=v_sun,\n",
    "                                z_sun=zsun*u.pc)\n",
    "\n",
    "# set up coordinates and transform to the frame we want\n",
    "\n",
    "c = coord.SkyCoord(ra=V19['ra']*u.deg,\\\n",
    "                   dec=V19['dec']*u.deg,\\\n",
    "                   distance=V19['dist']*u.kpc,\\\n",
    "                   pm_ra_cosdec=V19['pmra']*u.mas/u.yr,\\\n",
    "                   pm_dec=V19['pmdec']*u.mas/u.yr,\\\n",
    "                   radial_velocity=V19['HRV']*u.km/u.s)\n",
    "\n",
    "\n",
    "#gc1 = c.transform_to(coord.Galactocentric) # this is default galactic\n",
    "gc1 = c.transform_to(gc_frame) # for specific coordinates set above\n",
    "#print(gc1.x,gc1.v_x, gc1.v_y, gc1.v_z)\n",
    "\n",
    "# plot the transformed velocities of the kept stars\n",
    "plt.figure(figsize=(5,5))\n",
    "\n",
    "plt.scatter(np.sqrt(gc1.x*gc1.x + gc1.y*gc1.y),gc1.z,color=cm.magma((np.array(gc1.v_z)+np.nanmin(np.array(gc1.v_z)))/(2.*np.nanmax(np.array(gc1.v_z))),1.),s=1.)\n",
    "#plt.scatter(gc1.x,gc1.y,color='black',s=1.)\n",
    "\n",
    "print(np.nanmedian(np.sqrt(gc1.x*gc1.x + gc1.y*gc1.y + gc1.z*gc1.z)))\n",
    "\n",
    "plt.xlabel('R [kpc]')\n",
    "plt.ylabel('z [kpc]')"
   ]
  },
  {
   "cell_type": "code",
   "execution_count": 461,
   "metadata": {},
   "outputs": [
    {
     "name": "stdout",
     "output_type": "stream",
     "text": [
      "2.2\n"
     ]
    }
   ],
   "source": [
    "print(np.nanmin(V19['dist']))"
   ]
  },
  {
   "cell_type": "code",
   "execution_count": 61,
   "metadata": {},
   "outputs": [
    {
     "name": "stdout",
     "output_type": "stream",
     "text": [
      "NGC 104 0\n",
      "NGC 288 60\n",
      "NGC 362 1\n",
      "Whiting 1 0\n",
      "NGC 1261 1\n",
      "Pal 1 1\n",
      "E 1 0\n",
      "Eridanus 0\n",
      "Pal 2 2\n",
      "NGC 1851 3\n",
      "NGC 1904 1\n",
      "NGC 2298 5\n",
      "NGC 2419 0\n",
      "Pyxis 1\n",
      "NGC 2808 2\n",
      "E 3 0\n",
      "Pal 3 0\n",
      "NGC 3201 3\n",
      "Pal 4 0\n",
      "Crater 0\n",
      "NGC 4147 0\n",
      "NGC 4372 0\n",
      "Rup 106 0\n",
      "NGC 4590 14\n",
      "NGC 4833 3\n",
      "NGC 5024 0\n",
      "NGC 5053 1\n",
      "NGC 5139 0\n",
      "NGC 5272 1\n",
      "NGC 5286 0\n",
      "NGC 5466 2\n",
      "NGC 5634 0\n",
      "NGC 5694 1\n",
      "IC 4499 0\n",
      "NGC 5824 0\n",
      "Pal 5 0\n",
      "NGC 5897 2\n",
      "NGC 5904 0\n",
      "NGC 5927 0\n",
      "NGC 5946 0\n",
      "BH 176 0\n",
      "NGC 5986 0\n",
      "FSR 1716 0\n",
      "Pal 14 0\n",
      "BH 184 1\n",
      "NGC 6093 3\n",
      "NGC 6121 3\n",
      "NGC 6101 0\n",
      "NGC 6144 0\n",
      "NGC 6139 2\n",
      "Terzan 3 0\n",
      "NGC 6171 2\n",
      "ESO 452-11 0\n",
      "NGC 6205 3\n",
      "NGC 6229 0\n",
      "NGC 6218 0\n",
      "FSR 1735 1\n",
      "NGC 6235 4\n",
      "NGC 6254 0\n",
      "NGC 6256 0\n",
      "Pal 15 0\n",
      "NGC 6266 3\n",
      "NGC 6273 3\n",
      "NGC 6284 0\n",
      "NGC 6287 1\n",
      "NGC 6293 7\n",
      "NGC 6304 2\n",
      "NGC 6316 1\n",
      "NGC 6341 1\n",
      "NGC 6325 7\n",
      "NGC 6333 0\n",
      "NGC 6342 2\n",
      "NGC 6356 1\n",
      "NGC 6355 3\n",
      "NGC 6352 2\n",
      "IC 1257 0\n",
      "Terzan 2 2\n",
      "NGC 6366 0\n",
      "Terzan 4 0\n",
      "BH 229 12\n",
      "NGC 6362 1\n",
      "NGC 6380 13\n",
      "Terzan 1 4\n",
      "Ton 2 4\n",
      "NGC 6388 1\n",
      "NGC 6402 0\n",
      "NGC 6401 3\n",
      "NGC 6397 0\n",
      "Pal 6 3\n",
      "NGC 6426 0\n",
      "Djorg 1 0\n",
      "Terzan 5 2\n",
      "NGC 6440 28\n",
      "NGC 6441 4\n",
      "Terzan 6 8\n",
      "NGC 6453 9\n",
      "NGC 6496 1\n",
      "Terzan 9 38\n",
      "Djorg 2 8\n",
      "NGC 6517 0\n",
      "Terzan 10 8\n",
      "NGC 6522 82\n",
      "NGC 6535 0\n",
      "NGC 6528 80\n",
      "NGC 6539 0\n",
      "NGC 6540 11\n",
      "NGC 6544 1\n",
      "NGC 6541 3\n",
      "ESO 280-06 0\n",
      "NGC 6553 11\n",
      "NGC 6558 46\n",
      "Pal 7 0\n",
      "Terzan 12 3\n",
      "NGC 6569 58\n",
      "BH 261 31\n",
      "NGC 6584 0\n",
      "NGC 6624 153\n",
      "NGC 6626 11\n",
      "NGC 6638 23\n",
      "NGC 6637 236\n",
      "NGC 6642 93\n",
      "NGC 6656 23\n",
      "Pal 8 6\n",
      "NGC 6681 604\n",
      "NGC 6712 0\n",
      "NGC 6715 162\n",
      "NGC 6717 6\n",
      "NGC 6723 67\n",
      "NGC 6749 0\n",
      "NGC 6752 0\n",
      "NGC 6760 0\n",
      "NGC 6779 10\n",
      "Terzan 7 16\n",
      "Pal 10 2\n",
      "Arp 2 3\n",
      "NGC 6809 4\n",
      "Terzan 8 2\n",
      "Pal 11 0\n",
      "NGC 6838 3\n",
      "NGC 6864 3\n",
      "NGC 6934 0\n",
      "NGC 6981 2\n",
      "NGC 7006 0\n",
      "NGC 7078 4\n",
      "NGC 7089 0\n",
      "NGC 7099 15\n",
      "Pal 12 4\n",
      "Pal 13 8\n",
      "NGC 7492 1\n"
     ]
    }
   ],
   "source": []
  },
  {
   "cell_type": "code",
   "execution_count": 62,
   "metadata": {},
   "outputs": [
    {
     "name": "stdout",
     "output_type": "stream",
     "text": [
      "[52.97224756 50.13781459 45.99563299 48.78278607 45.83261111 52.36250321\n",
      " 49.90069565 58.41166691 46.15304932 49.92890022 46.16091406 48.36063559\n",
      " 40.87208567 51.60576258 50.23541565 49.77487752 48.92215733 61.50955711\n",
      " 51.74752702 49.95205965 57.36087928 49.5062921  54.55894954 51.88246479\n",
      " 49.33491679 47.77886184 45.82037087 53.49943555 44.86995149 48.22459622\n",
      " 49.60145315]\n"
     ]
    },
    {
     "data": {
      "text/plain": [
       "[0, 360, -90, 90]"
      ]
     },
     "execution_count": 62,
     "metadata": {},
     "output_type": "execute_result"
    },
    {
     "data": {
      "image/png": "[encoded data removed]",
      "text/plain": [
       "<Figure size 432x288 with 1 Axes>"
      ]
     },
     "metadata": {
      "needs_background": "light"
     },
     "output_type": "display_data"
    }
   ],
   "source": [
    "rgood = memberdictGC['BH 261']\n",
    "#print(rgood)\n",
    "\n",
    "plt.scatter(RRL1[rgood,6],RRL1[rgood,7],color='black',s=0.1)\n",
    "\n",
    "print(RRL1[rgood,8])\n",
    "\n",
    "plt.axis([0,360,-90,90])\n"
   ]
  },
  {
   "cell_type": "code",
   "execution_count": 473,
   "metadata": {},
   "outputs": [
    {
     "name": "stdout",
     "output_type": "stream",
     "text": [
      "2092.0\n"
     ]
    }
   ],
   "source": [
    "print(np.nansum(gc_member))"
   ]
  },
  {
   "cell_type": "code",
   "execution_count": null,
   "metadata": {},
   "outputs": [],
   "source": []
  }
 ],
 "metadata": {
  "kernelspec": {
   "display_name": "Python 3",
   "language": "python",
   "name": "python3"
  },
  "language_info": {
   "codemirror_mode": {
    "name": "ipython",
    "version": 3
   },
   "file_extension": ".py",
   "mimetype": "text/x-python",
   "name": "python",
   "nbconvert_exporter": "python",
   "pygments_lexer": "ipython3",
   "version": "3.6.8"
  }
 },
 "nbformat": 4,
 "nbformat_minor": 2
}
