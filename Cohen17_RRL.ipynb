{
 "cells": [
  {
   "cell_type": "code",
   "execution_count": null,
   "metadata": {},
   "outputs": [],
   "source": []
  },
  {
   "cell_type": "code",
   "execution_count": 1,
   "metadata": {},
   "outputs": [],
   "source": [
    "\n",
    "# basic imports\n",
    "from __future__ import print_function\n",
    "import numpy as np\n",
    "from numpy.linalg import eig, inv\n",
    "import time\n",
    "\n",
    "# plotting elements\n",
    "import matplotlib.pyplot as plt\n",
    "%matplotlib inline\n",
    "import matplotlib.cm as cm\n",
    "import matplotlib as mpl\n",
    "mpl.rcParams['font.weight'] = 'medium'\n",
    "mpl.rcParams['xtick.labelsize'] = 10\n",
    "mpl.rcParams['ytick.labelsize'] = 10\n",
    "cmap = cm.RdBu_r\n",
    "\n",
    "\n",
    "\n",
    "# exptool imports\n",
    "from exptool.io import psp_io\n",
    "from exptool.utils import kde_3d\n",
    "from exptool.observables import transform\n",
    "from exptool.analysis import pattern\n",
    "from exptool.analysis import trapping\n",
    "from exptool.utils import *\n",
    "from exptool.observables import visualize\n",
    "\n",
    "# astropy imports\n",
    "import astropy.coordinates as coord\n",
    "import astropy.units as u\n",
    "\n",
    "import scipy.interpolate as interpolate\n",
    "from scipy.interpolate import UnivariateSpline\n",
    "import scipy\n",
    "\n",
    "# ipython reload capabilities for edits to external code\n",
    "%load_ext autoreload\n",
    "%autoreload 2\n",
    "\n",
    "\n",
    "import reflexmotion as rm\n",
    "\n",
    "from scipy.interpolate import UnivariateSpline\n",
    "from scipy.interpolate import interp1d\n",
    "\n",
    "from astropy.io import fits\n"
   ]
  },
  {
   "cell_type": "code",
   "execution_count": 2,
   "metadata": {},
   "outputs": [],
   "source": [
    "\n",
    "#http://docs.astropy.org/en/stable/generated/examples/coordinates/plot_sgr-coordinate-frame.html\n",
    "\n",
    "from astropy.coordinates import frame_transform_graph\n",
    "from astropy.coordinates.matrix_utilities import rotation_matrix, matrix_product, matrix_transpose\n",
    "import astropy.coordinates as coord\n",
    "import astropy.units as u\n",
    "\n",
    "class Sagittarius(coord.BaseCoordinateFrame):\n",
    "    \"\"\"\n",
    "    A Heliocentric spherical coordinate system defined by the orbit\n",
    "    of the Sagittarius dwarf galaxy, as described in\n",
    "        http://adsabs.harvard.edu/abs/2003ApJ...599.1082M\n",
    "    and further explained in\n",
    "        http://www.stsci.edu/~dlaw/Sgr/.\n",
    "\n",
    "    Parameters\n",
    "    ----------\n",
    "    representation : `BaseRepresentation` or None\n",
    "        A representation object or None to have no data (or use the other keywords)\n",
    "    Lambda : `Angle`, optional, must be keyword\n",
    "        The longitude-like angle corresponding to Sagittarius' orbit.\n",
    "    Beta : `Angle`, optional, must be keyword\n",
    "        The latitude-like angle corresponding to Sagittarius' orbit.\n",
    "    distance : `Quantity`, optional, must be keyword\n",
    "        The Distance for this object along the line-of-sight.\n",
    "    pm_Lambda_cosBeta : :class:`~astropy.units.Quantity`, optional, must be keyword\n",
    "        The proper motion along the stream in ``Lambda`` (including the\n",
    "        ``cos(Beta)`` factor) for this object (``pm_Beta`` must also be given).\n",
    "    pm_Beta : :class:`~astropy.units.Quantity`, optional, must be keyword\n",
    "        The proper motion in Declination for this object (``pm_ra_cosdec`` must\n",
    "        also be given).\n",
    "    radial_velocity : :class:`~astropy.units.Quantity`, optional, must be keyword\n",
    "        The radial velocity of this object.\n",
    "\n",
    "    \"\"\"\n",
    "\n",
    "    default_representation = coord.SphericalRepresentation\n",
    "    default_differential = coord.SphericalCosLatDifferential\n",
    "\n",
    "    frame_specific_representation_info = {\n",
    "        coord.SphericalRepresentation: [\n",
    "            coord.RepresentationMapping('lon', 'Lambda'),\n",
    "            coord.RepresentationMapping('lat', 'Beta'),\n",
    "            coord.RepresentationMapping('distance', 'distance')]\n",
    "    }\n",
    "    \n",
    "    \n",
    "\n",
    "SGR_PHI = (180 + 3.75) * u.degree # Euler angles (from Law & Majewski 2010)\n",
    "SGR_THETA = (90 - 13.46) * u.degree\n",
    "SGR_PSI = (180 + 14.111534) * u.degree\n",
    "\n",
    "\n",
    "# Generate the rotation matrix using the x-convention (see Goldstein)\n",
    "D = rotation_matrix(SGR_PHI, \"z\")\n",
    "C = rotation_matrix(SGR_THETA, \"x\")\n",
    "B = rotation_matrix(SGR_PSI, \"z\")\n",
    "A = np.diag([1.,1.,-1.])\n",
    "SGR_MATRIX = matrix_product(A, B, C, D)\n",
    "\n",
    "@frame_transform_graph.transform(coord.StaticMatrixTransform, coord.Galactic, Sagittarius)\n",
    "def galactic_to_sgr():\n",
    "    \"\"\" Compute the transformation matrix from Galactic spherical to\n",
    "        heliocentric Sgr coordinates.\n",
    "    \"\"\"\n",
    "    return SGR_MATRIX\n",
    "\n",
    "@frame_transform_graph.transform(coord.StaticMatrixTransform, Sagittarius, coord.Galactic)\n",
    "def sgr_to_galactic():\n",
    "    \"\"\" Compute the transformation matrix from heliocentric Sgr coordinates to\n",
    "        spherical Galactic.\n",
    "    \"\"\"\n",
    "    return matrix_transpose(SGR_MATRIX)\n",
    "\n",
    "\n"
   ]
  },
  {
   "cell_type": "code",
   "execution_count": 3,
   "metadata": {},
   "outputs": [
    {
     "name": "stdout",
     "output_type": "stream",
     "text": [
      "(1.3543164832139731, -0.4072184466535577)\n"
     ]
    }
   ],
   "source": [
    "# see https://gea.esac.esa.int/archive/documentation/GDR2/Data_processing/chap_cu3ast/sec_cu3ast_intro/ssec_cu3ast_intro_tansforms.html\n",
    "\n",
    "\n",
    "def return_gaia_Agprime():\n",
    "    \"\"\"return the matrix in eq 3.61, key to transform from ICRS to galactic coordinates\"\"\"\n",
    "    return np.array([[-0.0548755604162154,-0.8734370902348850,-0.4838350155487132],\n",
    "                     [+0.4941094278755837,-0.4448296299600112,+0.7469822444972189],\n",
    "                     [-0.8676661490190047,-0.1980763734312015,+0.4559837761750669]])\n",
    "\n",
    "def return_ricrs(a,d):\n",
    "    \"\"\" eq. 3.57\"\"\"\n",
    "    return np.array([np.cos(a)*np.cos(d),np.sin(a)*np.cos(d),np.sin(d)])\n",
    "\n",
    "def return_picrs(a,d):\n",
    "    \"\"\" eq. 3.64, unit vector of increasing alpha\"\"\"\n",
    "    if hasattr(a,'size'):\n",
    "        return np.array([-np.sin(a),np.cos(a),np.zeros(a.size)])\n",
    "    else:\n",
    "        return np.array([-np.sin(a),np.cos(a),0.])\n",
    "\n",
    "def return_qicrs(a,d):\n",
    "    \"\"\" eq. 3.64, unit vector of increasing delta\"\"\"\n",
    "    return np.array([-np.cos(a)*np.sin(d),-np.sin(a)*np.sin(d),np.cos(d)])\n",
    "\n",
    "def return_muicrs(a,d,mua,mud):\n",
    "    \"\"\" eq. 3.66, the proper motion vector\"\"\"\n",
    "    p = return_picrs(a,d)\n",
    "    q = return_qicrs(a,d)\n",
    "    return p*mua + q*mud\n",
    "\n",
    "\n",
    "\n",
    "def return_rgal(l,b):\n",
    "    \"\"\" eq. 3.58\"\"\"\n",
    "    return np.array([np.cos(l)*np.cos(b),np.sin(l)*np.cos(b),np.sin(b)])\n",
    "\n",
    "def return_pgal(l,b):\n",
    "    \"\"\" eq. 3.66, unit vector of increasing alpha\"\"\"\n",
    "    if hasattr(l,'size'):\n",
    "        return np.array([-np.sin(l),np.cos(l),0.*np.cos(l)])\n",
    "    else:\n",
    "        return np.array([-np.sin(l),np.cos(l),0.*np.cos(l)])\n",
    "\n",
    "def return_qgal(l,b):\n",
    "    \"\"\" eq. 3.66, unit vector of increasing delta\"\"\"\n",
    "    return np.array([-np.cos(l)*np.sin(b),-np.sin(l)*np.sin(b),np.cos(b)])\n",
    "\n",
    "def return_mugal(l,b,mul,mub):\n",
    "    \"\"\" eq. 3.66, the proper motion vector\"\"\"\n",
    "    p = return_pgal(l,b)\n",
    "    q = return_qgal(l,b)\n",
    "    return p*mul + q*mub\n",
    "\n",
    "\n",
    "def rotate_velocities(a,d,mua,mud):\n",
    "    \"\"\"eq 3.68, \"\"\"\n",
    "    mu = return_muicrs(a,d,mua,mud)\n",
    "    mugal = np.dot(return_gaia_Agprime(),mu) # eq. 3.68\n",
    "    \n",
    "    # solve for positions\n",
    "    ricrs = return_ricrs(a,d)\n",
    "    rgal = np.dot(return_gaia_Agprime(),ricrs)\n",
    "\n",
    "    # implement eq 3.63\n",
    "    ell,b = np.arctan2(rgal[1],rgal[0]),np.arctan2(rgal[2],np.sqrt(rgal[0]*rgal[0]+rgal[1]*rgal[1]))\n",
    "    \n",
    "    p = return_pgal(ell,b)\n",
    "    q = return_qgal(ell,b)\n",
    "    \n",
    "    mul = np.sum(p*mugal,axis=0)\n",
    "    mub = np.sum(q*mugal,axis=0)\n",
    "    #print(mul,mub)\n",
    "    return mul,mub\n",
    "\n",
    "\n",
    "\n",
    "def rotate_errors(a,d,pmra_e,pmdec_e,pmcorr):\n",
    "    ricrs = return_ricrs(a,d)\n",
    "    picrs = return_picrs(a,d)\n",
    "    qicrs = return_qicrs(a,d)\n",
    "\n",
    "    rgal = np.dot(return_gaia_Agprime(),ricrs)\n",
    "\n",
    "    # implement eq 3.63\n",
    "    ell = np.arctan2(rgal[1],rgal[0])\n",
    "    b = np.arctan2(rgal[2],np.sqrt(rgal[0]*rgal[0]+rgal[1]*rgal[1]))\n",
    "\n",
    "    pgal = return_pgal(ell,b)\n",
    "    qgal = return_qgal(ell,b)\n",
    "\n",
    "    pqgal = np.stack((pgal, qgal), axis=-1)\n",
    "    pqicrs = np.stack((picrs, qicrs), axis=-1)\n",
    "\n",
    "    cov = np.array([[pmra_e*pmra_e,pmra_e*pmdec_e*pmcorr],[pmra_e*pmdec_e*pmcorr,pmdec_e*pmdec_e]])\n",
    "    #print(cov)\n",
    "\n",
    "    G = np.einsum('ab,ac->bc', pqgal,\n",
    "                      np.einsum('ji,ik->jk', return_gaia_Agprime(), pqicrs))\n",
    "\n",
    "    cov_to = np.einsum('ba,ac->bc', G,\n",
    "                           np.einsum('ij,ki->jk', cov, G))\n",
    "    \n",
    "    return cov_to\n",
    "\n",
    "#print(G)\n",
    "\n",
    "def rotate_positions(a,d,dist):\n",
    "    \"\"\"eq 3.68, but built for speed\"\"\"\n",
    "    # solve for positions\n",
    "    if a.size>1:\n",
    "        ricrs = return_ricrs(a,d)\n",
    "        rgal = np.dot(return_gaia_Agprime(),ricrs)\n",
    "        cpos = dist*rgal        \n",
    "    else:\n",
    "        ricrs = return_ricrs(a,d)\n",
    "        rgal = np.dot(return_gaia_Agprime(),ricrs)\n",
    "        cpos = np.dot(dist,rgal)        \n",
    "    return cpos\n",
    "\n",
    "\n",
    "a = 45.*np.pi/180.\n",
    "d = 60.*np.pi/180.\n",
    "mua = 1.\n",
    "mud = -1.\n",
    "\n",
    "#print(return_muicrs(a,d,mua,mud))\n",
    "\n",
    "print(rotate_velocities(a,d,mua,mud))\n",
    "\n",
    "#cov_to = rotate_errors(a,d,1,2.,0.)\n",
    "#print(cov_to)\n",
    "\n",
    "\n",
    "#print(ricrs,rgal,ell,b)"
   ]
  },
  {
   "cell_type": "code",
   "execution_count": 73,
   "metadata": {},
   "outputs": [
    {
     "name": "stdout",
     "output_type": "stream",
     "text": [
      "[[ 50.47103223 -26.1466139 ]\n",
      " [-26.1466139   60.60614063]]\n",
      "[[ 50.47103223 -26.1466139 ]\n",
      " [-26.1466139   60.60614063]]\n"
     ]
    }
   ],
   "source": [
    "\n",
    "\n",
    "\n",
    "a,d = Gmatch['ra'][pmatch]*np.pi/180.,Gmatch['dec'][pmatch]*np.pi/180.\n",
    "mua,mud = Gmatch['pmra'][pmatch],Gmatch['pmdec'][pmatch]\n",
    "\n",
    "def rotate_errors(a,d,pmra_e,pmdec_e,pmcorr):\n",
    "    ricrs = return_ricrs(a,d)\n",
    "    picrs = return_picrs(a,d)\n",
    "    qicrs = return_qicrs(a,d)\n",
    "\n",
    "    rgal = np.dot(return_gaia_Agprime(),ricrs)\n",
    "\n",
    "    # implement eq 3.63\n",
    "    ell = np.arctan2(rgal[1],rgal[0])\n",
    "    b = np.arctan2(rgal[2],np.sqrt(rgal[0]*rgal[0]+rgal[1]*rgal[1]))\n",
    "\n",
    "    pgal = return_pgal(ell,b)\n",
    "    qgal = return_qgal(ell,b)\n",
    "\n",
    "    pqgal = np.stack((pgal, qgal), axis=-1)\n",
    "    pqicrs = np.stack((picrs, qicrs), axis=-1)\n",
    "    \n",
    "    cov = np.array([[pmra_e*pmra_e,pmra_e*pmdec_e*pmcorr],[pmra_e*pmdec_e*pmcorr,pmdec_e*pmdec_e]])\n",
    "    #print(cov)\n",
    "    \n",
    "    \n",
    "    \n",
    "\n",
    "    \n",
    "\n",
    "    if hasattr(a,'size'):\n",
    "        G = np.einsum('anb,acn->nbc', pqgal,\n",
    "                      np.einsum('ji,ink->jkn', return_gaia_Agprime(), pqicrs))\n",
    "\n",
    "        cov_to = np.einsum('nba,nac->nbc', G,\n",
    "                           np.einsum('ijn,nki->njk', cov, G))\n",
    "        \n",
    "    else:\n",
    "        G = np.einsum('ab,ac->bc', pqgal,\n",
    "                      np.einsum('ji,ik->jk', return_gaia_Agprime(), pqicrs))\n",
    "\n",
    "        cov_to = np.einsum('ba,ac->bc', G,\n",
    "                           np.einsum('ij,ki->jk', cov, G))\n",
    "    \n",
    "    return cov_to\n",
    "\n",
    "    \n",
    "a,d,mua,mud = 4.412988523884174, -0.7016329830211496, -9.064863611635216, -5.376376155701305\n",
    "cov_to = rotate_errors(a,d,mua,mud,0.*mua)\n",
    "print(cov_to)\n",
    "\n",
    "\n",
    "a,d = Gmatch['ra'][pmatch]*np.pi/180.,Gmatch['dec'][pmatch]*np.pi/180.\n",
    "mua,mud = Gmatch['pmra'][pmatch],Gmatch['pmdec'][pmatch]\n",
    "\n",
    "cov_to = rotate_errors(a[0:12],d[0:12],mua[0:12],mud[0:12],0.*mua[0:12])\n",
    "print(cov_to[10])\n"
   ]
  },
  {
   "cell_type": "code",
   "execution_count": 71,
   "metadata": {},
   "outputs": [
    {
     "name": "stdout",
     "output_type": "stream",
     "text": [
      "4.412988523884174 -0.7016329830211496 -9.064863611635216 -5.376376155701305\n"
     ]
    }
   ],
   "source": [
    "print(a[10],d[10],mua[10],mud[10])"
   ]
  },
  {
   "cell_type": "code",
   "execution_count": 25,
   "metadata": {},
   "outputs": [
    {
     "ename": "AttributeError",
     "evalue": "'float' object has no attribute 'size'",
     "output_type": "error",
     "traceback": [
      "\u001b[0;31m---------------------------------------------------------------------------\u001b[0m",
      "\u001b[0;31mAttributeError\u001b[0m                            Traceback (most recent call last)",
      "\u001b[0;32m<ipython-input-25-4a019363451e>\u001b[0m in \u001b[0;36m<module>\u001b[0;34m\u001b[0m\n\u001b[1;32m      1\u001b[0m \u001b[0matmp\u001b[0m \u001b[0;34m=\u001b[0m \u001b[0;36m4.429556\u001b[0m\u001b[0;34m\u001b[0m\u001b[0;34m\u001b[0m\u001b[0m\n\u001b[0;32m----> 2\u001b[0;31m \u001b[0mprint\u001b[0m\u001b[0;34m(\u001b[0m\u001b[0matmp\u001b[0m\u001b[0;34m.\u001b[0m\u001b[0msize\u001b[0m\u001b[0;34m)\u001b[0m\u001b[0;34m\u001b[0m\u001b[0;34m\u001b[0m\u001b[0m\n\u001b[0m",
      "\u001b[0;31mAttributeError\u001b[0m: 'float' object has no attribute 'size'"
     ]
    }
   ],
   "source": [
    "atmp = 4.429556\n",
    "print(atmp.size)"
   ]
  },
  {
   "cell_type": "code",
   "execution_count": 12,
   "metadata": {},
   "outputs": [
    {
     "ename": "NameError",
     "evalue": "name 'cov_to' is not defined",
     "output_type": "error",
     "traceback": [
      "\u001b[0;31m---------------------------------------------------------------------------\u001b[0m",
      "\u001b[0;31mNameError\u001b[0m                                 Traceback (most recent call last)",
      "\u001b[0;32m<ipython-input-12-c681cb91ded8>\u001b[0m in \u001b[0;36m<module>\u001b[0;34m\u001b[0m\n\u001b[1;32m      2\u001b[0m \u001b[0mmua\u001b[0m\u001b[0;34m,\u001b[0m\u001b[0mmud\u001b[0m \u001b[0;34m=\u001b[0m \u001b[0mGmatch\u001b[0m\u001b[0;34m[\u001b[0m\u001b[0;34m'pmra'\u001b[0m\u001b[0;34m]\u001b[0m\u001b[0;34m[\u001b[0m\u001b[0mpmatch\u001b[0m\u001b[0;34m]\u001b[0m\u001b[0;34m,\u001b[0m\u001b[0mGmatch\u001b[0m\u001b[0;34m[\u001b[0m\u001b[0;34m'pmdec'\u001b[0m\u001b[0;34m]\u001b[0m\u001b[0;34m[\u001b[0m\u001b[0mpmatch\u001b[0m\u001b[0;34m]\u001b[0m\u001b[0;34m\u001b[0m\u001b[0;34m\u001b[0m\u001b[0m\n\u001b[1;32m      3\u001b[0m \u001b[0;34m\u001b[0m\u001b[0m\n\u001b[0;32m----> 4\u001b[0;31m \u001b[0mcov_to\u001b[0m \u001b[0;34m=\u001b[0m \u001b[0mrotate_errors\u001b[0m\u001b[0;34m(\u001b[0m\u001b[0ma\u001b[0m\u001b[0;34m[\u001b[0m\u001b[0;36m0\u001b[0m\u001b[0;34m:\u001b[0m\u001b[0;36m5\u001b[0m\u001b[0;34m]\u001b[0m\u001b[0;34m,\u001b[0m\u001b[0md\u001b[0m\u001b[0;34m[\u001b[0m\u001b[0;36m0\u001b[0m\u001b[0;34m:\u001b[0m\u001b[0;36m5\u001b[0m\u001b[0;34m]\u001b[0m\u001b[0;34m,\u001b[0m\u001b[0mmua\u001b[0m\u001b[0;34m[\u001b[0m\u001b[0;36m0\u001b[0m\u001b[0;34m:\u001b[0m\u001b[0;36m5\u001b[0m\u001b[0;34m]\u001b[0m\u001b[0;34m,\u001b[0m\u001b[0mmud\u001b[0m\u001b[0;34m[\u001b[0m\u001b[0;36m0\u001b[0m\u001b[0;34m:\u001b[0m\u001b[0;36m5\u001b[0m\u001b[0;34m]\u001b[0m\u001b[0;34m,\u001b[0m\u001b[0;36m0.\u001b[0m\u001b[0;34m*\u001b[0m\u001b[0mmua\u001b[0m\u001b[0;34m[\u001b[0m\u001b[0;36m0\u001b[0m\u001b[0;34m:\u001b[0m\u001b[0;36m5\u001b[0m\u001b[0;34m]\u001b[0m\u001b[0;34m)\u001b[0m\u001b[0;34m\u001b[0m\u001b[0;34m\u001b[0m\u001b[0m\n\u001b[0m",
      "\u001b[0;32m<ipython-input-11-c8f7119b70c8>\u001b[0m in \u001b[0;36mrotate_errors\u001b[0;34m(a, d, pmra_e, pmdec_e, pmcorr)\u001b[0m\n\u001b[1;32m     43\u001b[0m \u001b[0;34m\u001b[0m\u001b[0m\n\u001b[1;32m     44\u001b[0m \u001b[0;34m\u001b[0m\u001b[0m\n\u001b[0;32m---> 45\u001b[0;31m     \u001b[0;32mreturn\u001b[0m \u001b[0mcov_to\u001b[0m\u001b[0;34m\u001b[0m\u001b[0;34m\u001b[0m\u001b[0m\n\u001b[0m\u001b[1;32m     46\u001b[0m \u001b[0;34m\u001b[0m\u001b[0m\n\u001b[1;32m     47\u001b[0m \u001b[0;34m\u001b[0m\u001b[0m\n",
      "\u001b[0;31mNameError\u001b[0m: name 'cov_to' is not defined"
     ]
    }
   ],
   "source": []
  },
  {
   "cell_type": "code",
   "execution_count": null,
   "metadata": {},
   "outputs": [],
   "source": [
    "best_latlon  = cbest.transform_to('galactic')"
   ]
  },
  {
   "cell_type": "code",
   "execution_count": 12,
   "metadata": {},
   "outputs": [],
   "source": [
    "xp,yp,zp = rotate_positions(Gmatch['ra'][pmatch]*np.pi/180.,Gmatch['dec'][pmatch]*np.pi/180.,dist)\n",
    "\n"
   ]
  },
  {
   "cell_type": "code",
   "execution_count": 13,
   "metadata": {},
   "outputs": [
    {
     "data": {
      "text/plain": [
       "<matplotlib.collections.PathCollection at 0x1472fe048>"
      ]
     },
     "execution_count": 13,
     "metadata": {},
     "output_type": "execute_result"
    },
    {
     "data": {
      "image/png": "[encoded data removed]",
      "text/plain": [
       "<Figure size 432x288 with 1 Axes>"
      ]
     },
     "metadata": {
      "needs_background": "light"
     },
     "output_type": "display_data"
    }
   ],
   "source": [
    "plt.scatter(xp,zp,color='black',s=1.)"
   ]
  },
  {
   "cell_type": "code",
   "execution_count": 88,
   "metadata": {},
   "outputs": [
    {
     "data": {
      "text/plain": [
       "<matplotlib.collections.PathCollection at 0x1079677f0>"
      ]
     },
     "execution_count": 88,
     "metadata": {},
     "output_type": "execute_result"
    },
    {
     "data": {
      "image/png": "[encoded data removed]",
      "text/plain": [
       "<Figure size 432x288 with 1 Axes>"
      ]
     },
     "metadata": {
      "needs_background": "light"
     },
     "output_type": "display_data"
    }
   ],
   "source": [
    "cbest = coord.SkyCoord(ra              = Gmatch['ra'][pmatch]    * u.deg,\\\n",
    "                       dec             = Gmatch['dec'][pmatch]   * u.deg,\\\n",
    "                       distance        = dist  * u.kpc)\n",
    "\n",
    "\n",
    "best_defined = cbest.transform_to(gc_frame)\n",
    "best_sgr     = cbest.transform_to(Sagittarius)\n",
    "best_latlon  = cbest.transform_to('galactic')\n",
    "\n",
    "plt.scatter(best_defined.x,best_defined.z,color='black',s=1.)"
   ]
  },
  {
   "cell_type": "code",
   "execution_count": 89,
   "metadata": {},
   "outputs": [
    {
     "data": {
      "text/plain": [
       "<matplotlib.collections.PathCollection at 0x14c35ccc0>"
      ]
     },
     "execution_count": 89,
     "metadata": {},
     "output_type": "execute_result"
    },
    {
     "data": {
      "image/png": "[encoded data removed]",
      "text/plain": [
       "<Figure size 432x288 with 1 Axes>"
      ]
     },
     "metadata": {
      "needs_background": "light"
     },
     "output_type": "display_data"
    }
   ],
   "source": [
    "plt.scatter(best_latlon.l,best_latlon.b,color='black',s=1.)"
   ]
  },
  {
   "cell_type": "code",
   "execution_count": null,
   "metadata": {},
   "outputs": [],
   "source": []
  },
  {
   "cell_type": "code",
   "execution_count": null,
   "metadata": {},
   "outputs": [],
   "source": []
  },
  {
   "cell_type": "code",
   "execution_count": null,
   "metadata": {},
   "outputs": [],
   "source": []
  },
  {
   "cell_type": "code",
   "execution_count": 150,
   "metadata": {},
   "outputs": [],
   "source": [
    "indx = 11\n",
    "\n",
    "a = Gmatch['ra'][pmatch][indx]*np.pi/180.\n",
    "d = Gmatch['dec'][pmatch][indx]*np.pi/180.\n",
    "\n",
    "#%timeit ricrs = return_ricrs(a,d)\n"
   ]
  },
  {
   "cell_type": "code",
   "execution_count": 151,
   "metadata": {},
   "outputs": [],
   "source": [
    "ricrs = return_ricrs(a,d)\n",
    "A = return_gaia_Agprime()\n",
    "#%timeit rgal = np.dot(A,ricrs)"
   ]
  },
  {
   "cell_type": "code",
   "execution_count": 152,
   "metadata": {},
   "outputs": [
    {
     "name": "stdout",
     "output_type": "stream",
     "text": [
      "[ 0.96237108 -0.2680665   0.04452247]\n"
     ]
    }
   ],
   "source": [
    "rgal = np.dot(return_gaia_Agprime(),ricrs)\n",
    "print(rgal)\n",
    "#%timeit np.dot(dist[indx],rgal)"
   ]
  },
  {
   "cell_type": "code",
   "execution_count": 198,
   "metadata": {},
   "outputs": [
    {
     "data": {
      "text/plain": [
       "array([ 38.55669468, -10.56406227,   1.34040449])"
      ]
     },
     "execution_count": 198,
     "metadata": {},
     "output_type": "execute_result"
    }
   ],
   "source": [
    "indx = 0\n",
    "rotate_positions(Gmatch['ra'][pmatch][indx]*np.pi/180.,\\\n",
    "                                                        Gmatch['dec'][pmatch][indx]*np.pi/180.,\\\n",
    "                                                        dist[indx])"
   ]
  },
  {
   "cell_type": "code",
   "execution_count": null,
   "metadata": {},
   "outputs": [],
   "source": [
    "for indx in range(0,pmatch.size):\n",
    "    if (indx % 1000 == 0): print(indx)\n",
    "    xpos[indx],ypos[indx],zpos[indx] = rotate_positions(Gmatch['ra'][pmatch][indx]*np.pi/180.,\\\n",
    "                                                        Gmatch['dec'][pmatch][indx]*np.pi/180.,\\\n",
    "                                                        dist[indx])\n",
    "\n"
   ]
  },
  {
   "cell_type": "code",
   "execution_count": null,
   "metadata": {},
   "outputs": [],
   "source": []
  },
  {
   "cell_type": "code",
   "execution_count": 4,
   "metadata": {},
   "outputs": [
    {
     "name": "stdout",
     "output_type": "stream",
     "text": [
      "\u001b[31mdata/Sgr_LAMOST_DR5_KG_obsid_forJorge.fits\u001b[m\u001b[m\r\n",
      "\u001b[31mdata/lamost_kg_dr5_halo_forJorge.fits\u001b[m\u001b[m\r\n",
      "\u001b[31mdata/lamost_kg_dr5_smoothhalo_forJorge.fits\u001b[m\u001b[m\r\n"
     ]
    }
   ],
   "source": [
    "!ls data/*Jorge*"
   ]
  },
  {
   "cell_type": "code",
   "execution_count": 54,
   "metadata": {},
   "outputs": [],
   "source": [
    "\n",
    "C17 = np.genfromtxt('/Users/mpetersen/Notebooks/Dynamics/Shells/cohen17.txt',\\\n",
    "                        dtype={'names': (\"sgr\",\"per\",\"hjd\",\"ampr\",\\\n",
    "                                         \"rmag\",\"nr\",\"ng\",\"qual\",\\\n",
    "                                         \"RA\",\"Dec\",\"dist\",\"nsp\",\\\n",
    "                                         \"rvgsr\",\"ervgsr\",\"date\"),\\\n",
    "                             'formats': ('S20','f8','f8','f8',\\\n",
    "                                        'f8','f8','f8','f8',\\\n",
    "                                        'f8','f8','f8','f8',\\\n",
    "                                         'f8','f8','f8')},\\\n",
    "                 skip_header=66)\n",
    "\n",
    "\n",
    "\n"
   ]
  },
  {
   "cell_type": "code",
   "execution_count": 6,
   "metadata": {},
   "outputs": [
    {
     "data": {
      "text/plain": [
       "<matplotlib.collections.PathCollection at 0x1240b0ba8>"
      ]
     },
     "execution_count": 6,
     "metadata": {},
     "output_type": "execute_result"
    },
    {
     "data": {
      "image/png": "[encoded data removed]",
      "text/plain": [
       "<Figure size 432x288 with 1 Axes>"
      ]
     },
     "metadata": {
      "needs_background": "light"
     },
     "output_type": "display_data"
    }
   ],
   "source": [
    "xpos,ypos,zpos = np.zeros(C17['RA'].size),np.zeros(C17['RA'].size),np.zeros(C17['RA'].size)\n",
    "\n",
    "for indx in range(0,C17['RA'].size):\n",
    "    xpos[indx],ypos[indx],zpos[indx] = rotate_positions(C17['RA'][indx]*np.pi/180.,C17['Dec'][indx]*np.pi/180.,C17['dist'][indx])\n",
    "\n",
    "plt.scatter(xpos,zpos,color='black',s=1.)"
   ]
  },
  {
   "cell_type": "code",
   "execution_count": 301,
   "metadata": {},
   "outputs": [
    {
     "data": {
      "text/plain": [
       "array([b'90198608955264', b'205780473330048', b'219219426355200', ...,\n",
       "       b'6912668773929549056', b'6912692177207121024',\n",
       "       b'6912944824363453568'], dtype='|S20')"
      ]
     },
     "execution_count": 301,
     "metadata": {},
     "output_type": "execute_result"
    }
   ],
   "source": [
    "Gmatch[\"source_id\"]"
   ]
  },
  {
   "cell_type": "code",
   "execution_count": 33,
   "metadata": {},
   "outputs": [],
   "source": [
    "Gmatch = np.genfromtxt('/Users/mpetersen/Downloads/cohen17_corr-result.csv',\\\n",
    "                        dtype={'names': (\"xsource_id\",\"gsource_id\",\"ra\",\"ra_error\",\"dec\",\"dec_error\",\\\n",
    "                                        \"parallax\",\"parallax_error\",\"pmra\",\"pmra_error\",\"pmdec\",\\\n",
    "                                         \"pmdec_error\",\"phot_g_mean_flux\",\"phot_g_mean_flux_error\",\"phot_g_mean_mag\",\\\n",
    "                                         \"phot_bp_mean_flux\",\"phot_bp_mean_flux_error\",\"bp_rp\",\"radial_velocity\",\"radial_velocity_error\",\\\n",
    "                                         \"phot_variable_flag\",\"teff_val\",\"a_g_val\",\"pmra_pmdec_corr\",\"dist\"),\\\n",
    "                             'formats': ('S20','S20','f8','f8','f8','f8',\\\n",
    "                                         'f8','f8','f8','f8','f8',\\\n",
    "                                         'f8','f8','f8','f8','f8',\\\n",
    "                                         'f8','f8','f8','f8','f8',\\\n",
    "                                        'f8','f8','f8','f8','f8')},\\\n",
    "                 skip_header=1,delimiter=',')"
   ]
  },
  {
   "cell_type": "code",
   "execution_count": 6,
   "metadata": {},
   "outputs": [],
   "source": [
    "\n",
    "# now with RUWE!\n",
    "Gmatch = np.genfromtxt('/Users/mpetersen/Downloads/cohen_corr_ruwe-result.csv',\\\n",
    "                        dtype={'names': (\"dec\",\"parallax\",\"dist\",\"parallax_error\",\\\n",
    "                                         \"phot_bp_mean_flux_error\",\"bp_rp\",\"pmra\",\"a_g_val\",\"ra_error\",\\\n",
    "                                         \"pmra_error\",\"pmdec_error\",\"radial_velocity_error\",\"pmra_pmdec_corr\",\\\n",
    "                                         \"teff_val\",\"phot_g_mean_flux\",\"phot_variable_flag\",\"ra\",\\\n",
    "                                         \"phot_bp_mean_flux\",\"phot_g_mean_flux_error\",\"radial_velocity\",\\\n",
    "                                         \"dec_error\",\"name\",\"pmdec\",\"phot_g_mean_mag\",\"ruwe\",\"source_id\"),\\\n",
    "                             'formats': ('f8','f8','f8','f8',\\\n",
    "                                         'f8','f8','f8','f8','f8',\\\n",
    "                                         'f8','f8','f8','f8',\\\n",
    "                                         'f8','f8','f8','f8',\\\n",
    "                                         'f8','f8','f8',\\\n",
    "                                         'f8','S20','f8','f8','f8','S20')},\\\n",
    "                 skip_header=1,delimiter=',')"
   ]
  },
  {
   "cell_type": "code",
   "execution_count": 7,
   "metadata": {},
   "outputs": [
    {
     "name": "stdout",
     "output_type": "stream",
     "text": [
      "[ 1.45704100e-01  9.98221472e-01  1.38968430e+00  1.61170607e+00\n",
      "  1.37519893e-01  8.63302488e-01  2.02880589e+00 -3.26448513e-01\n",
      "  1.20673143e+00 -5.40916984e-01  5.97188059e-02 -7.59628445e-01\n",
      "  1.12499522e-01 -2.09915889e+00  2.44248573e+00 -3.70089614e-01\n",
      "             nan -9.98909758e-01  2.35620894e-01 -3.32040356e+00\n",
      "  7.76109823e-01 -1.02002135e+00 -7.07290084e-01  1.37939743e-01\n",
      " -3.98076169e-01  1.28738262e+00 -1.68618497e+00  5.69475392e-01\n",
      "  2.31309070e-01 -3.57790302e-01 -3.57499424e-01 -1.97831562e+00\n",
      " -2.03608660e+00 -1.08220667e+00 -1.03088036e+00  3.86908124e-01\n",
      " -2.18327745e+00 -1.28738679e-01  5.48337525e-01  3.72803787e-01\n",
      "  5.77204210e-01 -1.65210026e-01 -2.48595031e-01 -1.17491914e+00\n",
      "  4.00037438e-02 -1.86754095e+00 -2.32854532e-02  2.93757157e+00\n",
      " -1.91772263e+00 -1.85942300e+00 -1.04476640e+00 -1.03777563e+00\n",
      "  7.14448340e-01 -4.57584685e-01 -1.34338381e+00 -3.62150948e-03\n",
      " -3.85725039e-01 -2.67209485e-01  2.80816590e-02  1.24527553e+00\n",
      " -2.14104431e-01 -1.01594018e+00             nan -4.77136970e-01\n",
      " -2.66522611e+00 -3.72849372e+00  1.22313010e+00 -3.12637306e-02\n",
      "  3.46361783e-01  6.31521820e-01 -1.92615606e-01  1.22981103e+00\n",
      " -1.37709773e-01  1.56002626e+00             nan -4.82069990e-01\n",
      " -1.90407926e+00  1.33465438e-02 -8.05506900e-01 -1.42011714e+00\n",
      " -6.57488022e-01             nan -3.66598039e-01 -1.49544351e+00\n",
      "             nan  1.42834388e-01  2.01238016e+00             nan\n",
      "  7.09118947e-01 -1.37411356e-01  7.96463731e-01             nan\n",
      " -1.38051489e-01 -1.71206013e-01  3.91922262e+00  1.13502933e-01\n",
      "             nan  1.00031401e+00  5.90815219e-02 -1.14271026e+00\n",
      "  3.68829719e+00 -3.08708333e+00 -3.57932327e-01 -1.54220745e+00\n",
      " -1.05816652e+00 -8.21235807e-01 -8.37015686e-01 -4.28318042e-01\n",
      "  4.83123770e-01 -1.23046515e-01 -4.99087104e-02  2.91162003e-01]\n"
     ]
    }
   ],
   "source": [
    "print(Gmatch['pmra'])"
   ]
  },
  {
   "cell_type": "code",
   "execution_count": 46,
   "metadata": {},
   "outputs": [
    {
     "name": "stdout",
     "output_type": "stream",
     "text": [
      "[1.0595022  1.0558776  1.0309095  0.94892    1.0455922  0.91754687\n",
      " 1.034767   0.90555215 0.9552674  1.0879066  1.066541   1.0535487\n",
      " 1.0600315  0.98340374 1.0113455  1.1398855         nan 0.9542892\n",
      " 1.0073326  0.99274445 0.9779225  1.0434934  0.9825461  0.9488022\n",
      " 1.0436572  1.0194228  0.983159   1.0240927  0.95504886 0.95698786\n",
      " 0.9352879  1.0328686  1.0140067  1.0069655  0.97808886 0.99326\n",
      " 1.0117781  1.0164856  0.93398935 0.9754205  1.0094391  0.9959188\n",
      " 1.0042089  0.9833959  0.9895391  1.0593865  0.94511944 1.0766734\n",
      " 0.9551718  0.94484526 1.061316   1.0529302  1.1190357  1.0467572\n",
      " 1.045499   0.9279445  0.9647465  1.0197444  0.87253517 1.1346891\n",
      " 0.9203129  0.9469259         nan 1.2104374  0.9886527  0.90944016\n",
      " 1.0068961  0.99320287 0.95123607 0.9975518  0.99278754 1.0074794\n",
      " 1.0018101  0.91265106        nan 1.0334768  1.1660376  0.96323776\n",
      " 0.86215675 1.085313   0.97515935        nan 0.9764313  1.0193242\n",
      "        nan 1.0569     1.1703418         nan 0.97319376 0.9740569\n",
      " 0.9478164         nan 1.1066643  0.94119203 1.0220338  1.0450639\n",
      "        nan 1.0349358  0.98192763 1.0614381  1.1236514  1.0155836\n",
      " 1.0160207  0.98224264 1.0709455  0.9874934  0.99550563 1.03645\n",
      " 0.9171932  1.0155073  1.0622424  1.0951412 ]\n"
     ]
    }
   ],
   "source": [
    "print(Gmatch['ruwe'])"
   ]
  },
  {
   "cell_type": "code",
   "execution_count": 41,
   "metadata": {},
   "outputs": [
    {
     "ename": "ValueError",
     "evalue": "invalid literal for int() with base 10: '0.3241104334145973'",
     "output_type": "error",
     "traceback": [
      "\u001b[0;31m---------------------------------------------------------------------------\u001b[0m",
      "\u001b[0;31mValueError\u001b[0m                                Traceback (most recent call last)",
      "\u001b[0;32m<ipython-input-41-fcedf91cb3b2>\u001b[0m in \u001b[0;36m<module>\u001b[0;34m\u001b[0m\n\u001b[1;32m      1\u001b[0m \u001b[0mGmatch\u001b[0m\u001b[0;34m[\u001b[0m\u001b[0;34m'xsource_id'\u001b[0m\u001b[0;34m]\u001b[0m\u001b[0;34m.\u001b[0m\u001b[0mastype\u001b[0m\u001b[0;34m(\u001b[0m\u001b[0;34m'S20'\u001b[0m\u001b[0;34m)\u001b[0m\u001b[0;34m\u001b[0m\u001b[0;34m\u001b[0m\u001b[0m\n\u001b[0;32m----> 2\u001b[0;31m \u001b[0mxsources\u001b[0m \u001b[0;34m=\u001b[0m \u001b[0;34m[\u001b[0m\u001b[0mint\u001b[0m\u001b[0;34m(\u001b[0m\u001b[0md\u001b[0m\u001b[0;34m.\u001b[0m\u001b[0mdecode\u001b[0m\u001b[0;34m(\u001b[0m\u001b[0;34m)\u001b[0m\u001b[0;34m)\u001b[0m \u001b[0;32mfor\u001b[0m \u001b[0md\u001b[0m \u001b[0;32min\u001b[0m \u001b[0mGmatch\u001b[0m\u001b[0;34m[\u001b[0m\u001b[0;34m'xsource_id'\u001b[0m\u001b[0;34m]\u001b[0m\u001b[0;34m]\u001b[0m\u001b[0;34m\u001b[0m\u001b[0;34m\u001b[0m\u001b[0m\n\u001b[0m",
      "\u001b[0;32m<ipython-input-41-fcedf91cb3b2>\u001b[0m in \u001b[0;36m<listcomp>\u001b[0;34m(.0)\u001b[0m\n\u001b[1;32m      1\u001b[0m \u001b[0mGmatch\u001b[0m\u001b[0;34m[\u001b[0m\u001b[0;34m'xsource_id'\u001b[0m\u001b[0;34m]\u001b[0m\u001b[0;34m.\u001b[0m\u001b[0mastype\u001b[0m\u001b[0;34m(\u001b[0m\u001b[0;34m'S20'\u001b[0m\u001b[0;34m)\u001b[0m\u001b[0;34m\u001b[0m\u001b[0;34m\u001b[0m\u001b[0m\n\u001b[0;32m----> 2\u001b[0;31m \u001b[0mxsources\u001b[0m \u001b[0;34m=\u001b[0m \u001b[0;34m[\u001b[0m\u001b[0mint\u001b[0m\u001b[0;34m(\u001b[0m\u001b[0md\u001b[0m\u001b[0;34m.\u001b[0m\u001b[0mdecode\u001b[0m\u001b[0;34m(\u001b[0m\u001b[0;34m)\u001b[0m\u001b[0;34m)\u001b[0m \u001b[0;32mfor\u001b[0m \u001b[0md\u001b[0m \u001b[0;32min\u001b[0m \u001b[0mGmatch\u001b[0m\u001b[0;34m[\u001b[0m\u001b[0;34m'xsource_id'\u001b[0m\u001b[0;34m]\u001b[0m\u001b[0;34m]\u001b[0m\u001b[0;34m\u001b[0m\u001b[0;34m\u001b[0m\u001b[0m\n\u001b[0m",
      "\u001b[0;31mValueError\u001b[0m: invalid literal for int() with base 10: '0.3241104334145973'"
     ]
    }
   ],
   "source": [
    "Gmatch['xsource_id'].astype('S20')\n",
    "xsources = [int(d.decode()) for d in Gmatch['xsource_id']]"
   ]
  },
  {
   "cell_type": "code",
   "execution_count": 10,
   "metadata": {},
   "outputs": [
    {
     "ename": "NameError",
     "evalue": "name 'obsid' is not defined",
     "output_type": "error",
     "traceback": [
      "\u001b[0;31m---------------------------------------------------------------------------\u001b[0m",
      "\u001b[0;31mNameError\u001b[0m                                 Traceback (most recent call last)",
      "\u001b[0;32m<ipython-input-10-ad3e29ca19ae>\u001b[0m in \u001b[0;36m<module>\u001b[0;34m\u001b[0m\n\u001b[1;32m      1\u001b[0m \u001b[0mpmatch\u001b[0m \u001b[0;34m=\u001b[0m \u001b[0;34m[\u001b[0m\u001b[0;34m]\u001b[0m\u001b[0;34m\u001b[0m\u001b[0;34m\u001b[0m\u001b[0m\n\u001b[0;32m----> 2\u001b[0;31m \u001b[0;32mfor\u001b[0m \u001b[0mi\u001b[0m \u001b[0;32min\u001b[0m \u001b[0mobsid\u001b[0m\u001b[0;34m:\u001b[0m\u001b[0;34m\u001b[0m\u001b[0;34m\u001b[0m\u001b[0m\n\u001b[0m\u001b[1;32m      3\u001b[0m     \u001b[0;31m#print(i,xsources[0:10])\u001b[0m\u001b[0;34m\u001b[0m\u001b[0;34m\u001b[0m\u001b[0;34m\u001b[0m\u001b[0m\n\u001b[1;32m      4\u001b[0m     \u001b[0mw\u001b[0m \u001b[0;34m=\u001b[0m \u001b[0mnp\u001b[0m\u001b[0;34m.\u001b[0m\u001b[0mwhere\u001b[0m\u001b[0;34m(\u001b[0m\u001b[0mxsources\u001b[0m\u001b[0;34m==\u001b[0m\u001b[0mi\u001b[0m\u001b[0;34m)\u001b[0m\u001b[0;34m[\u001b[0m\u001b[0;36m0\u001b[0m\u001b[0;34m]\u001b[0m\u001b[0;34m\u001b[0m\u001b[0;34m\u001b[0m\u001b[0m\n\u001b[1;32m      5\u001b[0m     \u001b[0;31m#print(w,w.size)\u001b[0m\u001b[0;34m\u001b[0m\u001b[0;34m\u001b[0m\u001b[0;34m\u001b[0m\u001b[0m\n",
      "\u001b[0;31mNameError\u001b[0m: name 'obsid' is not defined"
     ]
    }
   ],
   "source": [
    "pmatch = []\n",
    "for i in obsid:\n",
    "    #print(i,xsources[0:10])\n",
    "    w = np.where(xsources==i)[0]\n",
    "    #print(w,w.size)\n",
    "    if w.size>1:\n",
    "        print(i,w,Gmatch['dist'][w],w[np.nanargmin(Gmatch['dist'][w])])\n",
    "        pmatch.append(w[np.nanargmin(Gmatch['dist'][w])])\n",
    "    else:\n",
    "        pmatch.append(w[0])\n",
    "    #print(w.size)"
   ]
  },
  {
   "cell_type": "code",
   "execution_count": 127,
   "metadata": {},
   "outputs": [
    {
     "name": "stdout",
     "output_type": "stream",
     "text": [
      "54\n"
     ]
    },
    {
     "data": {
      "image/png": "[encoded data removed]",
      "text/plain": [
       "<Figure size 432x288 with 1 Axes>"
      ]
     },
     "metadata": {
      "needs_background": "light"
     },
     "output_type": "display_data"
    }
   ],
   "source": [
    "plt.scatter(dist,Gmatch['ruwe'][pmatch],color='black',s=1.)\n",
    "bigruwe = np.where(Gmatch['ruwe'][pmatch]>=1.4)[0]\n",
    "print(bigruwe.size)\n",
    "goodruwe = np.where(Gmatch['ruwe'][pmatch]<1.4)[0]"
   ]
  },
  {
   "cell_type": "code",
   "execution_count": 13,
   "metadata": {},
   "outputs": [
    {
     "data": {
      "text/plain": [
       "<matplotlib.collections.PathCollection at 0x1243ee588>"
      ]
     },
     "execution_count": 13,
     "metadata": {},
     "output_type": "execute_result"
    },
    {
     "data": {
      "image/png": "[encoded data removed]",
      "text/plain": [
       "<Figure size 432x288 with 1 Axes>"
      ]
     },
     "metadata": {
      "needs_background": "light"
     },
     "output_type": "display_data"
    }
   ],
   "source": [
    "plt.scatter(Gmatch['phot_g_mean_mag'],C17['dist'],color='black',s=1.)"
   ]
  },
  {
   "cell_type": "code",
   "execution_count": 14,
   "metadata": {},
   "outputs": [
    {
     "data": {
      "text/plain": [
       "<matplotlib.collections.PathCollection at 0x1244f9cc0>"
      ]
     },
     "execution_count": 14,
     "metadata": {},
     "output_type": "execute_result"
    },
    {
     "data": {
      "image/png": "[encoded data removed]",
      "text/plain": [
       "<Figure size 432x288 with 1 Axes>"
      ]
     },
     "metadata": {
      "needs_background": "light"
     },
     "output_type": "display_data"
    }
   ],
   "source": [
    "bigd = np.where(C17['dist']>40)\n",
    "\n",
    "k = 4.74057\n",
    "vra = Gmatch['pmra']\n",
    "\n",
    "plt.scatter(Gmatch['pmra'][bigd],Gmatch['pmdec'][bigd],color='black',s=1.)"
   ]
  },
  {
   "cell_type": "code",
   "execution_count": 16,
   "metadata": {},
   "outputs": [
    {
     "data": {
      "text/plain": [
       "<matplotlib.collections.PathCollection at 0x12460f0b8>"
      ]
     },
     "execution_count": 16,
     "metadata": {},
     "output_type": "execute_result"
    },
    {
     "data": {
      "image/png": "[encoded data removed]",
      "text/plain": [
       "<Figure size 432x288 with 1 Axes>"
      ]
     },
     "metadata": {
      "needs_background": "light"
     },
     "output_type": "display_data"
    }
   ],
   "source": [
    "k = 4.74057\n",
    "vra = Gmatch['pmra']*C17['dist']*k\n",
    "vdec = Gmatch['pmdec']*C17['dist']*k\n",
    "\n",
    "plt.scatter(vra,vdec,color='black',s=1.)\n"
   ]
  },
  {
   "cell_type": "code",
   "execution_count": 87,
   "metadata": {},
   "outputs": [],
   "source": [
    "# set the coordinates for transformation\n",
    "\n",
    "# use the schonrich 2010 peculiar motions\n",
    "usun = 11.1\n",
    "vsun = 12.24\n",
    "wsun = 7.25\n",
    "\n",
    "# use the circular velocity from ...\n",
    "vcirc = 235.\n",
    "\n",
    "# the value of mcmillan 2017\n",
    "vcirc = 220.\n",
    "#vcirc = 244.\n",
    "#vcirc = 232.\n",
    "\n",
    "# use the gravity 2018 result for the galactic center distance\n",
    "rsun = 8.3 # in kpc\n",
    "\n",
    "# use the sun's height above the midplane from Bovy...\n",
    "zsun = 20 # in pc\n",
    "\n",
    "v_sun = coord.CartesianDifferential([usun, vsun+vcirc, wsun]*u.km/u.s)\n",
    "gc_frame = coord.Galactocentric(galcen_distance=rsun*u.kpc,\n",
    "                                galcen_v_sun=v_sun,\n",
    "                                z_sun=zsun*u.pc)\n",
    "\n",
    "\n"
   ]
  },
  {
   "cell_type": "code",
   "execution_count": 52,
   "metadata": {},
   "outputs": [
    {
     "ename": "NameError",
     "evalue": "name 'C17' is not defined",
     "output_type": "error",
     "traceback": [
      "\u001b[0;31m---------------------------------------------------------------------------\u001b[0m",
      "\u001b[0;31mNameError\u001b[0m                                 Traceback (most recent call last)",
      "\u001b[0;32m<ipython-input-52-ceb98a2a6d78>\u001b[0m in \u001b[0;36m<module>\u001b[0;34m\u001b[0m\n\u001b[1;32m      1\u001b[0m \u001b[0;31m# set the coordinates for transformation\u001b[0m\u001b[0;34m\u001b[0m\u001b[0;34m\u001b[0m\u001b[0;34m\u001b[0m\u001b[0m\n\u001b[1;32m      2\u001b[0m \u001b[0;34m\u001b[0m\u001b[0m\n\u001b[0;32m----> 3\u001b[0;31m \u001b[0mra\u001b[0m \u001b[0;34m=\u001b[0m \u001b[0mC17\u001b[0m\u001b[0;34m[\u001b[0m\u001b[0;34m'RA'\u001b[0m\u001b[0;34m]\u001b[0m\u001b[0;34m\u001b[0m\u001b[0;34m\u001b[0m\u001b[0m\n\u001b[0m\u001b[1;32m      4\u001b[0m \u001b[0mdec\u001b[0m \u001b[0;34m=\u001b[0m \u001b[0mC17\u001b[0m\u001b[0;34m[\u001b[0m\u001b[0;34m'Dec'\u001b[0m\u001b[0;34m]\u001b[0m\u001b[0;34m\u001b[0m\u001b[0;34m\u001b[0m\u001b[0m\n\u001b[1;32m      5\u001b[0m \u001b[0mdist\u001b[0m \u001b[0;34m=\u001b[0m \u001b[0mC17\u001b[0m\u001b[0;34m[\u001b[0m\u001b[0;34m'dist'\u001b[0m\u001b[0;34m]\u001b[0m\u001b[0;34m\u001b[0m\u001b[0;34m\u001b[0m\u001b[0m\n",
      "\u001b[0;31mNameError\u001b[0m: name 'C17' is not defined"
     ]
    }
   ],
   "source": [
    "\n",
    "ra = C17['RA']\n",
    "dec = C17['Dec']\n",
    "dist = C17['dist']\n",
    "edist = 0.1*C17['dist']\n",
    "rv = C17['rvgsr']\n",
    "erv = C17['ervgsr']\n",
    "\n",
    "\n",
    "def find_errors(indx,nsamples=10000,verbose=False,sgr=False):\n",
    "    rat = ra[indx]\n",
    "    dect = dec[indx]\n",
    "    dt = dist[indx]\n",
    "    derrt = edist[indx]\n",
    "    pmrat = Gmatch['pmra'][indx]\n",
    "    pmraerrt = Gmatch['pmra_error'][indx]\n",
    "    pmdect = Gmatch['pmdec'][indx]\n",
    "    pmdecerrt = Gmatch['pmdec_error'][indx]\n",
    "    vradt = rv[indx]\n",
    "    vraderrt = erv[indx]\n",
    "    \n",
    "    print(rat,dect,dt)\n",
    "\n",
    "    cplus = coord.SkyCoord(ra              = np.tile(rat,nsamples)                                 * u.deg,\\\n",
    "                           dec             = np.tile(dect,nsamples)                                 * u.deg,\\\n",
    "                           distance        = np.nanmax([np.zeros(nsamples)+.1,(dt     + np.random.normal(size=nsamples)*derrt)],axis=0)     * u.kpc,\\\n",
    "                           pm_ra_cosdec    = (pmrat  + np.random.normal(size=nsamples)*pmraerrt)  * u.mas/u.yr,\\\n",
    "                           pm_dec          = (pmdect + np.random.normal(size=nsamples)*pmdecerrt) * u.mas/u.yr,\\\n",
    "                           radial_velocity = (vradt  + np.random.normal(size=nsamples)*vraderrt)  * u.km/u.s)\n",
    "\n",
    "    cbest = coord.SkyCoord(ra              = rat    * u.deg,\\\n",
    "                           dec             = dect   * u.deg,\\\n",
    "                           distance        = dt     * u.kpc,\\\n",
    "                           pm_ra_cosdec    = pmrat  * u.mas/u.yr,\\\n",
    "                           pm_dec          = pmdect * u.mas/u.yr,\\\n",
    "                           radial_velocity = vradt  * u.km/u.s)\n",
    "\n",
    "    if verbose:\n",
    "        print(pmrat,pmdect,vradt)\n",
    "\n",
    "    gal_latlon  = cplus.transform_to('galactic')\n",
    "    gal_defined = cplus.transform_to(gc_frame)\n",
    "        \n",
    "    best_latlon  = cbest.transform_to('galactic')\n",
    "    best_defined = cbest.transform_to(gc_frame)\n",
    "    \n",
    "    if sgr:\n",
    "        best_sgr = cbest.transform_to(Sagittarius)\n",
    "        return gal_latlon,gal_defined,best_latlon,best_defined,best_sgr\n",
    "    \n",
    "    else:\n",
    "        return gal_latlon,gal_defined,best_latlon,best_defined\n",
    "\n",
    "\n",
    "indx = 0\n",
    "gal_latlon,gal_defined,best_latlon,best_defined = find_errors(indx,nsamples=1000,verbose=False)\n",
    "\n",
    "gal_latlon,gal_defined,best_latlon,best_defined,best_sgr = find_errors(indx,nsamples=1000,verbose=True,sgr=True)\n",
    "\n",
    "\n",
    "print(best_defined)\n",
    "\n",
    "print(best_latlon)\n",
    "print(best_sgr)\n"
   ]
  },
  {
   "cell_type": "code",
   "execution_count": 27,
   "metadata": {},
   "outputs": [
    {
     "data": {
      "text/plain": [
       "-0.13741135573919835"
      ]
     },
     "execution_count": 27,
     "metadata": {},
     "output_type": "execute_result"
    }
   ],
   "source": [
    "Gmatch['pmra'][1]"
   ]
  },
  {
   "cell_type": "code",
   "execution_count": 24,
   "metadata": {},
   "outputs": [
    {
     "data": {
      "text/plain": [
       "(0.8034036103591531, -0.6868023136201)"
      ]
     },
     "execution_count": 24,
     "metadata": {},
     "output_type": "execute_result"
    }
   ],
   "source": [
    "indx = 2\n",
    "rotate_velocities(ra[indx]*np.pi/180.,dec[indx]*np.pi/180.,Gmatch['pmra'][indx],Gmatch['pmdec'][indx])\n",
    "\n",
    "\n"
   ]
  },
  {
   "cell_type": "code",
   "execution_count": 29,
   "metadata": {},
   "outputs": [],
   "source": [
    "cbest = coord.SkyCoord(ra              = ra    * u.deg,\\\n",
    "                       dec             = dec   * u.deg,\\\n",
    "                       distance        = dist  * u.kpc,\\\n",
    "                       pm_ra_cosdec    = Gmatch['pmra']  * u.mas/u.yr,\\\n",
    "                       pm_dec          = Gmatch['pmdec'] * u.mas/u.yr,\\\n",
    "                       radial_velocity = rv  * u.km/u.s)\n",
    "\n",
    "best_defined = cbest.transform_to(gc_frame)\n",
    "best_sgr     = cbest.transform_to(Sagittarius)\n",
    "best_latlon  = cbest.transform_to('galactic')\n",
    "\n",
    "plt.scatter(best_defined.x,best_defined.z,color='black',s=1.)"
   ]
  },
  {
   "cell_type": "code",
   "execution_count": null,
   "metadata": {},
   "outputs": [],
   "source": []
  },
  {
   "cell_type": "code",
   "execution_count": 31,
   "metadata": {},
   "outputs": [
    {
     "data": {
      "text/plain": [
       "<matplotlib.collections.PathCollection at 0x12485b198>"
      ]
     },
     "execution_count": 31,
     "metadata": {},
     "output_type": "execute_result"
    },
    {
     "data": {
      "image/png": "[encoded data removed]",
      "text/plain": [
       "<Figure size 432x288 with 1 Axes>"
      ]
     },
     "metadata": {
      "needs_background": "light"
     },
     "output_type": "display_data"
    }
   ],
   "source": []
  },
  {
   "cell_type": "code",
   "execution_count": 34,
   "metadata": {},
   "outputs": [],
   "source": [
    "# back out the rotated correlation coefficients\n",
    "\n",
    "pmatch = np.arange(0,len(Gmatch['pmra_error']),1)\n",
    "pm_l_err = np.zeros(len(pmatch))\n",
    "pm_b_err = np.zeros(len(pmatch))\n",
    "corrcoef = np.zeros(len(pmatch))\n",
    "pm_l     = np.zeros(len(pmatch))\n",
    "pm_b     = np.zeros(len(pmatch))\n",
    "\n",
    "for i in range(0,len(pmatch)):\n",
    "    #print(i)\n",
    "    e1 = Gmatch['pmra_error'][i]\n",
    "    e2 = Gmatch['pmdec_error'][pmatch][i]\n",
    "    e3 = Gmatch['pmra_pmdec_corr'][pmatch][i]\n",
    "    cov_to = rotate_errors(Gmatch['ra'][pmatch][i]*np.pi/180.,Gmatch['dec'][pmatch][i]*np.pi/180.,\\\n",
    "                       e1,e2,e3)\n",
    "    \n",
    "    corrcoef[i] = cov_to[0][1]/(np.sqrt(cov_to[0][0])*np.sqrt(cov_to[1][1]))\n",
    "    pm_l_err[i] = np.sqrt(cov_to[0][0])\n",
    "    pm_b_err[i] = np.sqrt(cov_to[1][1])\n",
    "    \n",
    "    lbvel = rotate_velocities(Gmatch['ra'][pmatch][i]*np.pi/180.,Gmatch['dec'][pmatch][i]*np.pi/180.,\\\n",
    "                              Gmatch['pmra'][pmatch][i],Gmatch['pmdec'][pmatch][i])\n",
    "    \n",
    "    pm_l[i] = lbvel[0]\n",
    "    pm_b[i] = lbvel[1]\n",
    "\n",
    "\n",
    "\n",
    "\n"
   ]
  },
  {
   "cell_type": "code",
   "execution_count": 35,
   "metadata": {},
   "outputs": [
    {
     "data": {
      "text/plain": [
       "112"
      ]
     },
     "execution_count": 35,
     "metadata": {},
     "output_type": "execute_result"
    }
   ],
   "source": [
    "corrcoef.size"
   ]
  },
  {
   "cell_type": "code",
   "execution_count": 36,
   "metadata": {},
   "outputs": [
    {
     "data": {
      "text/plain": [
       "(nan, nan)"
      ]
     },
     "execution_count": 36,
     "metadata": {},
     "output_type": "execute_result"
    }
   ],
   "source": [
    "pm_l[0],pm_b[0]"
   ]
  },
  {
   "cell_type": "code",
   "execution_count": 37,
   "metadata": {},
   "outputs": [
    {
     "data": {
      "text/plain": [
       "(array(-0.18262975), -0.18263084995377418)"
      ]
     },
     "execution_count": 37,
     "metadata": {},
     "output_type": "execute_result"
    }
   ],
   "source": [
    "np.array(best_latlon.pm_b[100]),pm_b[100]"
   ]
  },
  {
   "cell_type": "code",
   "execution_count": 50,
   "metadata": {},
   "outputs": [
    {
     "name": "stdout",
     "output_type": "stream",
     "text": [
      "REJECTED!\n",
      "REJECTED!\n",
      "REJECTED!\n",
      "REJECTED!\n",
      "REJECTED!\n",
      "REJECTED!\n",
      "REJECTED!\n",
      "REJECTED!\n",
      "REJECTED!\n",
      "REJECTED!\n",
      "REJECTED!\n",
      "REJECTED!\n",
      "REJECTED!\n",
      "REJECTED!\n",
      "REJECTED!\n",
      "15\n"
     ]
    }
   ],
   "source": [
    "\n",
    "f = open('/Users/mpetersen/Dropbox/mike/data/CohenRRL.txt','w')\n",
    "\n",
    "print(\"x [kpc]; y [kpc]; z [kpc]; vx [km/s]; vy [km/s]; vz [km/s];      l [deg]; b [deg]; dist [kpc]; vlos [km/s]; dmu_l [marcsec/yr]; dmu_b [marcsec/yr];       edist[kpc]; evlost [km/s]; edmu_l [marcsec/yr]; edmu_b [marcsec/yr];      sgrweak [bool]; sgrstrong [bool]; FeH [dex]; Sgr Lambda [deg]; Sgr Beta [deg]; Belokurov Flag [bool]; corrcoef [-1:1]\",file=f)\n",
    "\n",
    "rej = 0\n",
    "for i in range(0,len(pmatch)):\n",
    "    if (Gmatch['ruwe'][pmatch][i] < 1.4) & (np.isfinite(np.array(best_defined.v_y)[i])):\n",
    "        print(np.array(best_defined.x)[i],np.array(best_defined.y)[i],np.array(best_defined.z)[i],\\\n",
    "              np.array(best_defined.v_x)[i],np.array(best_defined.v_y)[i],np.array(best_defined.v_z)[i],\\\n",
    "              np.array(best_latlon.l)[i],np.array(best_latlon.b)[i],dist[i],\\\n",
    "              rv[i],pm_l[i],pm_b[i],\\\n",
    "              edist[i],erv[i],pm_l_err[i],pm_b_err[i],\\\n",
    "              0,0,0,\\\n",
    "              np.array(best_sgr.Lambda)[i],np.array(best_sgr.Beta)[i],0,\\\n",
    "              corrcoef[i],file=f)\n",
    "    else:\n",
    "        rej +=1\n",
    "        print('REJECTED!')\n",
    "    \n",
    "          \n",
    "f.close()\n",
    "print(rej)\n"
   ]
  },
  {
   "cell_type": "raw",
   "metadata": {},
   "source": [
    "# now do the gaia data?\n",
    "# get the rr lyrae FROM gaia\n",
    "# how many is this returning?\n",
    "\n",
    "SELECT * FROM (\n",
    "SELECT gaia.source_id,gaia.ra,gaia.ra_error,gaia.dec,gaia.dec_error,\n",
    "gaia.parallax,gaia.parallax_error,gaia.pmra,gaia.pmra_error,\n",
    "gaia.pmdec,gaia.pmdec_error,gaia.phot_g_mean_flux,gaia.phot_g_mean_flux_error,\n",
    "gaia.phot_g_mean_mag,gaia.phot_bp_mean_flux,gaia.phot_bp_mean_flux_error,\n",
    "gaia.bp_rp,gaia.radial_velocity,gaia.radial_velocity_error,\n",
    "variables.best_class_name,variables.best_class_score,gaia.teff_val,gaia.a_g_val,gaia.pmra_pmdec_corr\n",
    "FROM gaiadr2.gaia_source AS gaia\n",
    "INNER JOIN gaiadr2.vari_classifier_result AS variables \n",
    "    ON variables.source_id = gaia.source_id\n",
    ") AS gaia\n",
    "JOIN gaiadr2.ruwe AS ruwe\n",
    "  using(source_id)\n",
    "  \n",
    "  "
   ]
  },
  {
   "cell_type": "code",
   "execution_count": 4,
   "metadata": {},
   "outputs": [],
   "source": [
    "\n",
    "\n",
    "\n",
    "\n",
    "# now with RUWE!\n",
    "Gmatch = np.genfromtxt('/Users/mpetersen/Downloads/variables_with_ruwe-result.csv',\\\n",
    "                        dtype={'names': (\"pmdec_error\",\"dec\",\"radial_velocity_error\",\"pmra_pmdec_corr\",\\\n",
    "                                    \"parallax\",\"best_class_name\",\"teff_val\",\"parallax_error\",\"phot_g_mean_flux\",\\\n",
    "                                    \"phot_bp_mean_flux_error\",\"ra\",\"phot_bp_mean_flux\",\"phot_g_mean_flux_error\",\\\n",
    "                                    \"best_class_score\",\"radial_velocity\",\"bp_rp\",\"dec_error\",\\\n",
    "                                    \"pmra\",\"pmdec\",\"a_g_val\",\\\n",
    "                                    \"ra_error\",\"pmra_error\",\"phot_g_mean_mag\",\"ruwe\",\"source_id\"),\\\n",
    "                             'formats': ('f8','f8','f8','f8',\\\n",
    "                                         'f8','S20','f8','f8','f8',\\\n",
    "                                         'f8','f8','f8','f8',\\\n",
    "                                         'f8','f8','f8','f8',\\\n",
    "                                         'f8','f8','f8',\\\n",
    "                                         'f8','f8','f8','f8','S20')},\\\n",
    "                 skip_header=1,delimiter=',')"
   ]
  },
  {
   "cell_type": "code",
   "execution_count": 5,
   "metadata": {},
   "outputs": [
    {
     "data": {
      "text/plain": [
       "363969"
      ]
     },
     "execution_count": 5,
     "metadata": {},
     "output_type": "execute_result"
    }
   ],
   "source": [
    "Gmatch['radial_velocity'].size"
   ]
  },
  {
   "cell_type": "code",
   "execution_count": 6,
   "metadata": {},
   "outputs": [
    {
     "data": {
      "text/plain": [
       "array([b'ACEP', b'ARRD', b'CEP', b'DSCT_SXPHE', b'MIRA_SR', b'RRAB',\n",
       "       b'RRC', b'RRD', b'T2CEP'], dtype='|S20')"
      ]
     },
     "execution_count": 6,
     "metadata": {},
     "output_type": "execute_result"
    }
   ],
   "source": [
    "np.unique(Gmatch['best_class_name'])"
   ]
  },
  {
   "cell_type": "code",
   "execution_count": 7,
   "metadata": {},
   "outputs": [
    {
     "name": "stdout",
     "output_type": "stream",
     "text": [
      "157347\n"
     ]
    }
   ],
   "source": [
    "pmatch = np.where(np.isfinite(Gmatch['pmra']) & \\\n",
    "                  np.isfinite(Gmatch['pmdec']) & \\\n",
    "                  (Gmatch['ruwe'] < 1.4) &\\\n",
    "                  ( (Gmatch['best_class_name']==b'RRAB') | \\\n",
    "                    (Gmatch['best_class_name']==b'RRC') | \\\n",
    "                    (Gmatch['best_class_name']==b'RRD') | \\\n",
    "                    (Gmatch['best_class_name']==b'ARRD') ))[0]\n",
    "\n",
    "print(pmatch.size)"
   ]
  },
  {
   "cell_type": "code",
   "execution_count": 8,
   "metadata": {},
   "outputs": [
    {
     "name": "stdout",
     "output_type": "stream",
     "text": [
      "368\n"
     ]
    }
   ],
   "source": [
    "grvs = Gmatch['radial_velocity'][pmatch][np.isfinite(Gmatch['radial_velocity'][pmatch])]\n",
    "print(grvs.size)"
   ]
  },
  {
   "cell_type": "code",
   "execution_count": 9,
   "metadata": {},
   "outputs": [
    {
     "data": {
      "text/plain": [
       "(0.0, 5.0)"
      ]
     },
     "execution_count": 9,
     "metadata": {},
     "output_type": "execute_result"
    },
    {
     "data": {
      "image/png": "[encoded data removed]",
      "text/plain": [
       "<Figure size 432x288 with 1 Axes>"
      ]
     },
     "metadata": {
      "needs_background": "light"
     },
     "output_type": "display_data"
    }
   ],
   "source": [
    "plt.scatter(Gmatch['phot_g_mean_mag'][pmatch],Gmatch['ruwe'][pmatch],color='black',s=1.)\n",
    "\n",
    "plt.ylim(0.,5.)\n"
   ]
  },
  {
   "cell_type": "code",
   "execution_count": 10,
   "metadata": {},
   "outputs": [
    {
     "data": {
      "text/plain": [
       "[<matplotlib.lines.Line2D at 0x14900a780>]"
      ]
     },
     "execution_count": 10,
     "metadata": {},
     "output_type": "execute_result"
    },
    {
     "data": {
      "image/png": "[encoded data removed]",
      "text/plain": [
       "<Figure size 432x288 with 1 Axes>"
      ]
     },
     "metadata": {
      "needs_background": "light"
     },
     "output_type": "display_data"
    }
   ],
   "source": [
    "\n",
    "zeropoint = 0.64 # this is M_G from Iorio 2018\n",
    "\n",
    "dist = 10.**(((Gmatch['phot_g_mean_mag'][pmatch]-zeropoint)/5) - 2.)\n",
    "\n",
    "plt.plot(dist[dist.argsort()])\n",
    "\n",
    "\n"
   ]
  },
  {
   "cell_type": "code",
   "execution_count": 83,
   "metadata": {},
   "outputs": [
    {
     "data": {
      "text/plain": [
       "[<matplotlib.lines.Line2D at 0x14ddb76d8>]"
      ]
     },
     "execution_count": 83,
     "metadata": {},
     "output_type": "execute_result"
    },
    {
     "data": {
      "image/png": "[encoded data removed]",
      "text/plain": [
       "<Figure size 432x288 with 1 Axes>"
      ]
     },
     "metadata": {
      "needs_background": "light"
     },
     "output_type": "display_data"
    }
   ],
   "source": [
    "# do all velocity transforms\n",
    "\n",
    "e1 = Gmatch['pmra_error'][pmatch]\n",
    "e2 = Gmatch['pmdec_error'][pmatch]\n",
    "e3 = Gmatch['pmra_pmdec_corr'][pmatch]\n",
    "cov_to = rotate_errors(Gmatch['ra'][pmatch]*np.pi/180.,Gmatch['dec'][pmatch]*np.pi/180.,\\\n",
    "                       e1,e2,e3)\n",
    "\n",
    "corrcoef = np.array([cov_to[i][0][1]/(np.sqrt(cov_to[i][0][0])*np.sqrt(cov_to[i][1][1])) for i in range(0,len(pmatch))])\n",
    "pm_l_err = np.array([np.sqrt(cov_to[i][0][0]) for i in range(0,len(pmatch))])\n",
    "pm_b_err = np.array([np.sqrt(cov_to[i][1][1]) for i in range(0,len(pmatch))])\n",
    "\n",
    "pm_l,pm_b = rotate_velocities(Gmatch['ra'][pmatch]*np.pi/180.,Gmatch['dec'][pmatch]*np.pi/180.,\\\n",
    "                              Gmatch['pmra'][pmatch],Gmatch['pmdec'][pmatch])\n",
    "\n",
    "plt.plot(corrcoef[corrcoef.argsort()])"
   ]
  },
  {
   "cell_type": "code",
   "execution_count": null,
   "metadata": {},
   "outputs": [],
   "source": [
    "\n",
    "f = open('/Users/mpetersen/Dropbox/mike/data/RRL_GaiaI.txt','w')\n",
    "\n",
    "print(\"x [kpc]; y [kpc]; z [kpc]; vx [km/s]; vy [km/s]; vz [km/s];      l [deg]; b [deg]; dist [kpc]; vlos [km/s]; dmu_l [marcsec/yr]; dmu_b [marcsec/yr];       edist[kpc]; evlost [km/s]; edmu_l [marcsec/yr]; edmu_b [marcsec/yr];      sgrweak [bool]; sgrstrong [bool]; FeH [dex]; Sgr Lambda [deg]; Sgr Beta [deg]; Belokurov Flag [bool]; corrcoef [-1:1]\",file=f)\n",
    "\n",
    "rej = 0\n",
    "for i in range(0,len(pmatch)):\n",
    "    #print(np.abs((np.array(best_latlon.b)[i])))\n",
    "    if (Gmatch['ruwe'][pmatch][i] < 1.4) & (np.abs(np.array(best_latlon.b)[i])>10.):\n",
    "        print(np.array(best_defined.x)[i],np.array(best_defined.y)[i],np.array(best_defined.z)[i],\\\n",
    "              #np.array(best_defined.v_x)[i],np.array(best_defined.v_y)[i],np.array(best_defined.v_z)[i],\\\n",
    "              0,0,0,\\\n",
    "              np.array(best_latlon.l)[i],np.array(best_latlon.b)[i],dist[i],\\\n",
    "              0.,pm_l[i],pm_b[i],\\\n",
    "              0.1*dist[i],0.,pm_l_err[i],pm_b_err[i],\\\n",
    "              0,0,0,\\\n",
    "              np.array(best_sgr.Lambda)[i],np.array(best_sgr.Beta)[i],0,\\\n",
    "              corrcoef[i],file=f)\n",
    "    else:\n",
    "        rej +=1\n",
    "        #print('REJECTED!')\n",
    "    \n",
    "          \n",
    "f.close()\n",
    "print(rej)\n",
    "\n"
   ]
  },
  {
   "cell_type": "code",
   "execution_count": null,
   "metadata": {},
   "outputs": [],
   "source": []
  }
 ],
 "metadata": {
  "kernelspec": {
   "display_name": "Python 3",
   "language": "python",
   "name": "python3"
  },
  "language_info": {
   "codemirror_mode": {
    "name": "ipython",
    "version": 3
   },
   "file_extension": ".py",
   "mimetype": "text/x-python",
   "name": "python",
   "nbconvert_exporter": "python",
   "pygments_lexer": "ipython3",
   "version": "3.6.8"
  }
 },
 "nbformat": 4,
 "nbformat_minor": 2
}
