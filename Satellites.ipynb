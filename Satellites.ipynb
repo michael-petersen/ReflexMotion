{
 "cells": [
  {
   "cell_type": "markdown",
   "metadata": {},
   "source": [
    "# Satellites from Riley 2019\n",
    "## MSP, 17.4.2019\n",
    "\n"
   ]
  },
  {
   "cell_type": "code",
   "execution_count": 1,
   "metadata": {
    "scrolled": false
   },
   "outputs": [],
   "source": [
    "# standard python modules\n",
    "import numpy as np\n",
    "import time\n",
    "import copy\n",
    "\n",
    "\n",
    "\n",
    "# plotting utilities\n",
    "import matplotlib.pyplot as plt\n",
    "import matplotlib as mpl\n",
    "import matplotlib.cm as cm\n",
    "import matplotlib.colors as colors\n",
    "%matplotlib inline\n",
    "\n",
    "cmap = mpl.cm.inferno\n",
    "\n",
    "\n",
    "import scipy.interpolate as interpolate\n",
    "\n",
    "\n",
    "import subprocess\n",
    "\n"
   ]
  },
  {
   "cell_type": "code",
   "execution_count": 2,
   "metadata": {
    "scrolled": false
   },
   "outputs": [],
   "source": [
    "# exptool imports\n",
    "from exptool.basis import eof\n",
    "from exptool.basis import spheresl\n",
    "from exptool.basis import *\n",
    "\n",
    "#from exptool.basis import spheresl_new\n",
    "\n",
    "\n",
    "from ssl import *\n",
    "from exptool.io import psp_io\n",
    "\n",
    "from exptool.analysis import pattern\n",
    "from exptool.analysis import trapping\n",
    "\n",
    "import matplotlib as mpl\n",
    "\n",
    "mpl.rcParams['xtick.labelsize'] = 12\n",
    "mpl.rcParams['ytick.labelsize'] = 12\n",
    "\n",
    "from exptool.utils import *\n",
    "\n",
    "\n",
    "stylepar='medium'\n",
    "\n",
    "if stylepar == 'medium':\n",
    "    mpl.rcParams['font.weight'] = 'medium'\n",
    "    mpl.rcParams['axes.linewidth'] = 1.5\n",
    "    mpl.rcParams['xtick.major.width'] = 1.5\n",
    "    mpl.rcParams['xtick.minor.width'] = 0.75\n",
    "    mpl.rcParams['xtick.minor.visible'] = True\n",
    "    mpl.rcParams['ytick.major.width'] = 1.5\n",
    "    mpl.rcParams['ytick.minor.width'] = 0.75\n",
    "    mpl.rcParams['ytick.minor.visible'] = True\n",
    "\n",
    "\n",
    "\n",
    "\n",
    "\n"
   ]
  },
  {
   "cell_type": "code",
   "execution_count": 3,
   "metadata": {},
   "outputs": [],
   "source": [
    "# follow along here\n",
    "\n",
    "# http://docs.astropy.org/en/stable/generated/examples/coordinates/plot_galactocentric-frame.html#sphx-glr-generated-examples-coordinates-plot-galactocentric-frame-py\n",
    "\n",
    "import astropy.coordinates as coord\n",
    "import astropy.units as u\n",
    "\n",
    "\n",
    "# print to a file...\n",
    "\n",
    "# with a flipped vb ONLY?\n",
    "\n",
    "\n",
    "def jorge_galactic(x0,y0,z0,u0,v0,w0):\n",
    "    \n",
    "    rad = np.sqrt(x0**2+y0**2+z0**2)\n",
    "    xphi= np.arctan2(y0,x0)\n",
    "    xth = np.arccos(z0/rad)\n",
    "    \n",
    "    xur = np.zeros([3,x0.size])\n",
    "    xur[0]= np.sin(xth)*np.cos(xphi)\n",
    "    xur[1]= np.sin(xth)*np.sin(xphi)\n",
    "    xur[2]= np.cos(xth)\n",
    "         \n",
    "    xuth = np.zeros([3,x0.size])\n",
    "    xuth[0]= np.cos(xth)*np.cos(xphi)\n",
    "    xuth[1]= np.cos(xth)*np.sin(xphi)\n",
    "    xuth[2]=-np.sin(xth)\n",
    "\n",
    "    xuphi = np.zeros([3,x0.size])\n",
    "    xuphi[0]=-np.sin(xphi)\n",
    "    xuphi[1]=+np.cos(xphi)\n",
    "    xuphi[2]= 0.\n",
    "    \n",
    "    vr =    u0*  xur[0] + v0*  xur[1] + w0*  xur[2]\n",
    "    vth=    u0* xuth[0] + v0* xuth[1] + w0* xuth[2]\n",
    "    vphi=   u0*xuphi[0] + v0*xuphi[1] + w0*xuphi[2]\n",
    "          \n",
    "    vb= -vth\n",
    "    vl= vphi\n",
    "         \n",
    "    dk  =4.74057           #conversion from km/s\n",
    "    par =1./rad             #arc sec --> rad in [kpc]\n",
    "    dmul=vl / dk * par\n",
    "    dmub=vb / dk * par\n",
    "\n",
    "    f=np.pi/180.\n",
    "    dB=np.arcsin(z0/rad)/f\n",
    "    #dL=np.arctan(y0/x0)/f\n",
    "    \n",
    "    #dL[(y0<0)&(x0>0.)] += 360.\n",
    "    #dL[(y0>0)&(x0<0.)] += 180.\n",
    "    #dL[(y0<0)&(x0<0.)] += 180.\n",
    "    \n",
    "    dL = np.arctan2(y0,x0)/f\n",
    "    \n",
    "    #print(dL)\n",
    "    \n",
    "    if dL.size>1:\n",
    "        dL[np.array(dL)<0.] += 360.\n",
    "    else:\n",
    "        if dL<0.: dL+=360.\n",
    "    #if ((y0<0)&(x0>0.)): dL=dL+360.\n",
    "    #if ((y0>0)&(x0<0.)): dL=dL+180.\n",
    "    #if ((y0<0)&(x0<0.)): dL=dL+180.\n",
    "    \n",
    "    return dL,dB,rad,vr,dmul,dmub\n"
   ]
  },
  {
   "cell_type": "code",
   "execution_count": 4,
   "metadata": {},
   "outputs": [
    {
     "name": "stdout",
     "output_type": "stream",
     "text": [
      "nsats 36\n",
      "[b'AquariusII' b'BootesI' b'BootesII' b'CanesVenaticiI' b'CanesVenaticiII'\n",
      " b'CarinaI' b'CarinaII' b'CarinaIII' b'ComaBerenicesI' b'CraterII'\n",
      " b'DracoI' b'DracoII' b'Fornax' b'GrusI' b'Hercules' b'HorologiumI'\n",
      " b'HydraII' b'HydrusI' b'LeoI' b'LeoII' b'LeoIV' b'LeoV' b'PiscesII'\n",
      " b'ReticulumII' b'SagittariusI' b'Sculptor' b'Segue1' b'Segue2' b'Sextans'\n",
      " b'TriangulumII' b'TucanaII' b'TucanaIII' b'UrsaMajorI' b'UrsaMajorII'\n",
      " b'UrsaMinor' b'Willman1']\n"
     ]
    }
   ],
   "source": [
    "# now we need to reconstruct some stuff...\n",
    "#    Satellite & RA & Dec & $M_V$ & $d_\\odot$ & $v_\\odot$ & $\\mu_{\\alpha^\\ast}^\\text{F18}$ & $\\mu_{\\delta}^\\text{F18}$ & $\\mu_{\\alpha^\\ast}^\\text{gold}$ & $\\mu_{\\delta}^\\text{gold}$ & PM$_\\text{gold}$ & Refs. \\\\\n",
    "#    & [deg] & [deg] & [mag] & \\Ref{[kpc]} & [km~s$^{-1}$] & [mas yr$^{-1}$] & [mas yr$^{-1}$] & [mas yr$^{-1}$] & [mas yr$^{-1}$] &  &  \\\\\n",
    "#    \\hline\n",
    "f = open('data/RileySatsObs.txt')\n",
    "\n",
    "nsats = 36\n",
    "Satellites = {}\n",
    "Satellites['name'] = np.zeros(nsats,dtype='S20')\n",
    "Satellites['ra'] = np.zeros(nsats)\n",
    "Satellites['dec'] = np.zeros(nsats)\n",
    "Satellites['dist'] = np.zeros(nsats)\n",
    "Satellites['edist'] = np.zeros(nsats)\n",
    "Satellites['vlos'] = np.zeros(nsats)\n",
    "Satellites['evlos'] = np.zeros(nsats)\n",
    "Satellites['pmracosdec'] = np.zeros(nsats)\n",
    "Satellites['epmracosdec'] = np.zeros(nsats)\n",
    "Satellites['pmdec'] = np.zeros(nsats)\n",
    "Satellites['epmdec'] = np.zeros(nsats)\n",
    "\n",
    "# there is also a 'gold sample' of pm values that we can use\n",
    "\n",
    "i = 0\n",
    "for line in f:\n",
    "    satname = line.split('&')[0].strip()\n",
    "    if (satname!='LMC') & (satname!='SMC'): \n",
    "        satnamenew = ''\n",
    "        for x in satname:\n",
    "            if x!= ' ':\n",
    "                satnamenew+=x\n",
    "        Satellites['name'][i] = satnamenew\n",
    "        Satellites['ra'][i] = float(line.split('&')[1].strip())\n",
    "        Satellites['dec'][i] = float(line.split('&')[2].strip())\n",
    "        Satellites['dist'][i] = float((line.split('&')[4]).split('\\pm')[0].lstrip(' $'))\n",
    "        Satellites['edist'][i] = float((line.split('&')[4]).split('\\pm')[1].rstrip(' $'))\n",
    "        Satellites['vlos'][i] = float((line.split('&')[5]).split('\\pm')[0].lstrip(' $'))\n",
    "        Satellites['evlos'][i] = float((line.split('&')[5]).split('\\pm')[1].rstrip(' $'))\n",
    "        Satellites['pmracosdec'][i] = float((line.split('&')[6]).split('\\pm')[0].lstrip(' $'))\n",
    "        Satellites['epmracosdec'][i] = float((line.split('&')[6]).split('\\pm')[1].rstrip(' $'))\n",
    "        Satellites['pmdec'][i] = float((line.split('&')[7]).split('\\pm')[0].lstrip(' $'))\n",
    "        Satellites['epmdec'][i] = float((line.split('&')[7]).split('\\pm')[1].rstrip(' $'))\n",
    "        #print(line.split('&')[0].strip())\n",
    "        i+=1\n",
    "    \n",
    "print('nsats',i)\n",
    "\n",
    "print(Satellites['name'])\n",
    "f.close()"
   ]
  },
  {
   "cell_type": "code",
   "execution_count": 5,
   "metadata": {},
   "outputs": [
    {
     "name": "stdout",
     "output_type": "stream",
     "text": [
      "nsats 38\n",
      "[b'AquariusII' b'BootesI' b'BootesII' b'CanesVenaticiI' b'CanesVenaticiII'\n",
      " b'CarinaI' b'CarinaII' b'CarinaIII' b'ComaBerenicesI' b'CraterII'\n",
      " b'DracoI' b'DracoII' b'Fornax' b'GrusI' b'Hercules' b'HorologiumI'\n",
      " b'HydraII' b'HydrusI' b'LeoI' b'LeoII' b'LeoIV' b'LeoV' b'LMC'\n",
      " b'PiscesII' b'ReticulumII' b'SagittariusI' b'Sculptor' b'Segue1'\n",
      " b'Segue2' b'Sextans' b'SMC' b'TriangulumII' b'TucanaII' b'TucanaIII'\n",
      " b'UrsaMajorI' b'UrsaMajorII' b'UrsaMinor' b'Willman1' b'' b'' b'' b'' b''\n",
      " b'' b'' b'']\n"
     ]
    }
   ],
   "source": [
    "# now we need to reconstruct some stuff...\n",
    "#    Satellite & RA & Dec & $M_V$ & $d_\\odot$ & $v_\\odot$ & $\\mu_{\\alpha^\\ast}^\\text{F18}$ & $\\mu_{\\delta}^\\text{F18}$ & $\\mu_{\\alpha^\\ast}^\\text{gold}$ & $\\mu_{\\delta}^\\text{gold}$ & PM$_\\text{gold}$ & Refs. \\\\\n",
    "#    & [deg] & [deg] & [mag] & \\Ref{[kpc]} & [km~s$^{-1}$] & [mas yr$^{-1}$] & [mas yr$^{-1}$] & [mas yr$^{-1}$] & [mas yr$^{-1}$] &  &  \\\\\n",
    "#    \\hline\n",
    "f = open('data/RileySatsObs.txt')\n",
    "\n",
    "nsats = 38+8\n",
    "Satellites = {}\n",
    "Satellites['name'] = np.zeros(nsats,dtype='S20')\n",
    "Satellites['ra'] = np.zeros(nsats)\n",
    "Satellites['dec'] = np.zeros(nsats)\n",
    "Satellites['dist'] = np.zeros(nsats)\n",
    "Satellites['edist'] = np.zeros(nsats)\n",
    "Satellites['vlos'] = np.zeros(nsats)\n",
    "Satellites['evlos'] = np.zeros(nsats)\n",
    "Satellites['pmracosdec'] = np.zeros(nsats)\n",
    "Satellites['epmracosdec'] = np.zeros(nsats)\n",
    "Satellites['pmdec'] = np.zeros(nsats)\n",
    "Satellites['epmdec'] = np.zeros(nsats)\n",
    "\n",
    "# there is also a 'gold sample' of pm values that we can use\n",
    "\n",
    "i = 0\n",
    "for line in f:\n",
    "    satname = line.split('&')[0].strip()\n",
    "    if (satname!='blahblah'): \n",
    "        satnamenew = ''\n",
    "        for x in satname:\n",
    "            if x!= ' ':\n",
    "                satnamenew+=x\n",
    "        Satellites['name'][i] = satnamenew\n",
    "        Satellites['ra'][i] = float(line.split('&')[1].strip())\n",
    "        Satellites['dec'][i] = float(line.split('&')[2].strip())\n",
    "        Satellites['dist'][i] = float((line.split('&')[4]).split('\\pm')[0].lstrip(' $'))\n",
    "        Satellites['edist'][i] = float((line.split('&')[4]).split('\\pm')[1].rstrip(' $'))\n",
    "        Satellites['vlos'][i] = float((line.split('&')[5]).split('\\pm')[0].lstrip(' $'))\n",
    "        Satellites['evlos'][i] = float((line.split('&')[5]).split('\\pm')[1].rstrip(' $'))\n",
    "        Satellites['pmracosdec'][i] = float((line.split('&')[6]).split('\\pm')[0].lstrip(' $'))\n",
    "        Satellites['epmracosdec'][i] = float((line.split('&')[6]).split('\\pm')[1].rstrip(' $'))\n",
    "        Satellites['pmdec'][i] = float((line.split('&')[7]).split('\\pm')[0].lstrip(' $'))\n",
    "        Satellites['epmdec'][i] = float((line.split('&')[7]).split('\\pm')[1].rstrip(' $'))\n",
    "        #print(line.split('&')[0].strip())\n",
    "        i+=1\n",
    "    \n",
    "print('nsats',i)\n",
    "\n",
    "print(Satellites['name'])\n",
    "f.close()"
   ]
  },
  {
   "cell_type": "code",
   "execution_count": 6,
   "metadata": {},
   "outputs": [],
   "source": [
    "# add some extra satellites in by hand...\n",
    "\n",
    "Satellites['name'][i] = 'Antlia2' # torrealba 2019b\n",
    "Satellites['ra'][i] = 143.89\n",
    "Satellites['dec'][i] = -36.77\n",
    "Satellites['dist'][i] = 132.00\n",
    "Satellites['edist'][i] = 10.\n",
    "Satellites['vlos'][i] = 290.9\n",
    "Satellites['evlos'][i] = 0.5\n",
    "Satellites['pmracosdec'][i] = -0.095\n",
    "Satellites['epmracosdec'][i] = 0.03\n",
    "Satellites['pmdec'][i] = 0.058\n",
    "Satellites['epmdec'][i] = 0.04\n",
    "i+=1\n",
    "    \n",
    "Satellites['name'][i] = 'EridanusII' # pace&li\n",
    "Satellites['ra'][i] = 56.0838\n",
    "Satellites['dec'][i] = -43.5338\n",
    "Satellites['dist'][i] = 366\n",
    "Satellites['edist'][i] = 36.6\n",
    "Satellites['vlos'][i] = 75.6 # li,t. simon,j. 2017\n",
    "Satellites['evlos'][i] = 2.3\n",
    "Satellites['pmracosdec'][i] = 0.16\n",
    "Satellites['epmracosdec'][i] = 0.24\n",
    "Satellites['pmdec'][i] = 0.15\n",
    "Satellites['epmdec'][i] = 0.26\n",
    "i+=1\n",
    "    \n",
    "Satellites['name'][i] = 'ColumbaI' # pace&li\n",
    "Satellites['ra'][i] = 82.8570\n",
    "Satellites['dec'][i] = -28.0425\n",
    "Satellites['dist'][i] = 183\n",
    "Satellites['edist'][i] = 18.3\n",
    "Satellites['vlos'][i] = 153.7 # fritz2019\n",
    "Satellites['evlos'][i] = 5.0\n",
    "Satellites['pmracosdec'][i] = -0.02\n",
    "Satellites['epmracosdec'][i] = 0.25\n",
    "Satellites['pmdec'][i] = -0.04\n",
    "Satellites['epmdec'][i] = 0.3\n",
    "i+=1\n",
    "    \n",
    "\n",
    "Satellites['name'][i] = 'GrusII' # pace&li\n",
    "Satellites['ra'][i] = 331.0200\n",
    "Satellites['dec'][i] = -46.4400\n",
    "Satellites['dist'][i] = 53\n",
    "Satellites['edist'][i] = 5.3\n",
    "Satellites['vlos'][i] = -110. # simon 2019\n",
    "Satellites['evlos'][i] = 0.5\n",
    "Satellites['pmracosdec'][i] = 0.43\n",
    "Satellites['epmracosdec'][i] = 0.09\n",
    "Satellites['pmdec'][i] = -1.45\n",
    "Satellites['epmdec'][i] = 0.13\n",
    "i+=1\n",
    "\n",
    "\n",
    "Satellites['name'][i] = 'PhoenixII' # pace&li\n",
    "Satellites['ra'][i] = 354.9975\n",
    "Satellites['dec'][i] = -54.4060\n",
    "Satellites['dist'][i] = 84.3\n",
    "Satellites['edist'][i] = 8.43\n",
    "Satellites['vlos'][i] = 32.4 # fritz2019\n",
    "Satellites['evlos'][i] = 3.8\n",
    "Satellites['pmracosdec'][i] = 0.49\n",
    "Satellites['epmracosdec'][i] = 0.11\n",
    "Satellites['pmdec'][i] = -1.03\n",
    "Satellites['epmdec'][i] = 0.12\n",
    "i+=1\n",
    "\n",
    "Satellites['name'][i] = 'ReticulumIII' # pace&li\n",
    "Satellites['ra'][i] = 56.3600\n",
    "Satellites['dec'][i] = -60.4500\n",
    "Satellites['dist'][i] = 92\n",
    "Satellites['edist'][i] = 9.2\n",
    "Satellites['vlos'][i] = 274.2 # fritz2019\n",
    "Satellites['evlos'][i] = 7.5\n",
    "Satellites['pmracosdec'][i] = -1.02\n",
    "Satellites['epmracosdec'][i] = 0.3\n",
    "Satellites['pmdec'][i] = -1.23\n",
    "Satellites['epmdec'][i] = 0.38\n",
    "i+=1\n",
    "\n",
    "\n",
    "Satellites['name'][i] = 'TucanaIV' # pace&li\n",
    "Satellites['ra'][i] = 0.7300\n",
    "Satellites['dec'][i] = -60.8500\n",
    "Satellites['dist'][i] = 48\n",
    "Satellites['edist'][i] = 4.8\n",
    "Satellites['vlos'][i] = 15.9 # simon 2019\n",
    "Satellites['evlos'][i] = 1.8\n",
    "Satellites['pmracosdec'][i] = 0.63\n",
    "Satellites['epmracosdec'][i] = 0.23\n",
    "Satellites['pmdec'][i] = -1.71\n",
    "Satellites['epmdec'][i] = 0.24\n",
    "i+=1\n",
    "\n",
    "Satellites['name'][i] = 'TucanaV' # simon 2019\n",
    "Satellites['ra'][i] = 354.35\n",
    "Satellites['dec'][i] = -63.27\n",
    "Satellites['dist'][i] = 55.21\n",
    "Satellites['edist'][i] = 5.5\n",
    "Satellites['vlos'][i] = -36.2 # simon 2019\n",
    "Satellites['evlos'][i] = 2.5\n",
    "Satellites['pmracosdec'][i] = -0.62\n",
    "Satellites['epmracosdec'][i] = 0.31\n",
    "Satellites['pmdec'][i] = -0.88\n",
    "Satellites['epmdec'][i] = 0.35\n",
    "i+=1\n",
    "\n",
    "\n"
   ]
  },
  {
   "cell_type": "code",
   "execution_count": null,
   "metadata": {},
   "outputs": [],
   "source": []
  },
  {
   "cell_type": "code",
   "execution_count": 7,
   "metadata": {},
   "outputs": [
    {
     "ename": "NameError",
     "evalue": "name 'satdist' is not defined",
     "output_type": "error",
     "traceback": [
      "\u001b[0;31m---------------------------------------------------------------------------\u001b[0m",
      "\u001b[0;31mNameError\u001b[0m                                 Traceback (most recent call last)",
      "\u001b[0;32m<ipython-input-7-8484f020de95>\u001b[0m in \u001b[0;36m<module>\u001b[0;34m\u001b[0m\n\u001b[0;32m----> 1\u001b[0;31m \u001b[0msatsort\u001b[0m \u001b[0;34m=\u001b[0m \u001b[0msatdist\u001b[0m\u001b[0;34m.\u001b[0m\u001b[0margsort\u001b[0m\u001b[0;34m(\u001b[0m\u001b[0;34m)\u001b[0m\u001b[0;34m\u001b[0m\u001b[0;34m\u001b[0m\u001b[0m\n\u001b[0m\u001b[1;32m      2\u001b[0m \u001b[0mplt\u001b[0m\u001b[0;34m.\u001b[0m\u001b[0mplot\u001b[0m\u001b[0;34m(\u001b[0m\u001b[0msatdist\u001b[0m\u001b[0;34m[\u001b[0m\u001b[0msatsort\u001b[0m\u001b[0;34m]\u001b[0m\u001b[0;34m)\u001b[0m\u001b[0;34m\u001b[0m\u001b[0;34m\u001b[0m\u001b[0m\n\u001b[1;32m      3\u001b[0m \u001b[0msatrange\u001b[0m \u001b[0;34m=\u001b[0m \u001b[0mnp\u001b[0m\u001b[0;34m.\u001b[0m\u001b[0mlinspace\u001b[0m\u001b[0;34m(\u001b[0m\u001b[0;36m0\u001b[0m\u001b[0;34m,\u001b[0m\u001b[0;36m1.\u001b[0m\u001b[0;34m,\u001b[0m\u001b[0msatsort\u001b[0m\u001b[0;34m.\u001b[0m\u001b[0msize\u001b[0m\u001b[0;34m)\u001b[0m\u001b[0;34m\u001b[0m\u001b[0;34m\u001b[0m\u001b[0m\n\u001b[1;32m      4\u001b[0m \u001b[0;34m\u001b[0m\u001b[0m\n\u001b[1;32m      5\u001b[0m \u001b[0mf\u001b[0m \u001b[0;34m=\u001b[0m \u001b[0mopen\u001b[0m\u001b[0;34m(\u001b[0m\u001b[0;34m'processed/satdist.txt'\u001b[0m\u001b[0;34m,\u001b[0m\u001b[0;34m'w'\u001b[0m\u001b[0;34m)\u001b[0m\u001b[0;34m\u001b[0m\u001b[0;34m\u001b[0m\u001b[0m\n",
      "\u001b[0;31mNameError\u001b[0m: name 'satdist' is not defined"
     ]
    }
   ],
   "source": [
    "satsort = satdist.argsort()\n",
    "plt.plot(satdist[satsort])\n",
    "satrange = np.linspace(0,1.,satsort.size)\n",
    "\n",
    "f = open('processed/satdist.txt','w')\n",
    "for indx in range(0,satsort.size):\n",
    "    print(satdist[satsort[indx]],satrange[indx],file=f)\n",
    "    \n",
    "f.close()"
   ]
  },
  {
   "cell_type": "code",
   "execution_count": 8,
   "metadata": {},
   "outputs": [
    {
     "name": "stdout",
     "output_type": "stream",
     "text": [
      "0.797 -1.22 145.6\n"
     ]
    }
   ],
   "source": [
    "# set the coordinates for transformation\n",
    "\n",
    "# use the schonrich 2010 peculiar motions\n",
    "usun = 11.1\n",
    "vsun = 12.24\n",
    "wsun = 7.25\n",
    "\n",
    "# use the circular velocity from ...\n",
    "vcirc = 235.\n",
    "\n",
    "# the value of mcmillan 2017\n",
    "vcirc = 232.\n",
    "\n",
    "# use the gravity 2018 result for the galactic center distance\n",
    "rsun = 8.3 # in kpc\n",
    "\n",
    "# use the sun's height above the midplane from Bovy...\n",
    "zsun = 30 # in pc\n",
    "\n",
    "v_sun = coord.CartesianDifferential([usun, vsun+vcirc, wsun]*u.km/u.s)\n",
    "gc_frame = coord.Galactocentric(galcen_distance=rsun*u.kpc,\n",
    "                                galcen_v_sun=v_sun,\n",
    "                                z_sun=zsun*u.pc)\n",
    "\n",
    "\n",
    "\n",
    "\n",
    "def find_errors(Satellites,indx,nsamples=10000,verbose=False):\n",
    "    ra = Satellites['ra'][indx]\n",
    "    dec = Satellites['dec'][indx]\n",
    "    \n",
    "    d = Satellites['dist'][indx]\n",
    "    derr = Satellites['edist'][indx]\n",
    "    pmra = Satellites['pmracosdec'][indx]\n",
    "    pmraerr = Satellites['epmracosdec'][indx]\n",
    "    pmdec = Satellites['pmdec'][indx]\n",
    "    pmdecerr = Satellites['epmdec'][indx]\n",
    "    \n",
    "    vrad = Satellites['vlos'][indx]\n",
    "    vraderr = Satellites['evlos'][indx]\n",
    "\n",
    "    cplus = coord.SkyCoord(ra              = np.tile(ra,nsamples)                                 * u.deg,\\\n",
    "                           dec             = np.tile(dec,nsamples)                                 * u.deg,\\\n",
    "                           distance        = np.nanmax([np.zeros(nsamples)+.1,(d     + np.random.normal(size=nsamples)*derr)],axis=0)     * u.kpc,\\\n",
    "                           pm_ra_cosdec    = (pmra  + np.random.normal(size=nsamples)*pmraerr)  * u.mas/u.yr,\\\n",
    "                           pm_dec          = (pmdec + np.random.normal(size=nsamples)*pmdecerr) * u.mas/u.yr,\\\n",
    "                           radial_velocity = (vrad  + np.random.normal(size=nsamples)*vraderr)  * u.km/u.s)\n",
    "\n",
    "    cbest = coord.SkyCoord(ra              = ra    * u.deg,\\\n",
    "                           dec             = dec   * u.deg,\\\n",
    "                           distance        = d     * u.kpc,\\\n",
    "                           pm_ra_cosdec    = pmra  * u.mas/u.yr,\\\n",
    "                           pm_dec          = pmdec * u.mas/u.yr,\\\n",
    "                           radial_velocity = vrad  * u.km/u.s)\n",
    "\n",
    "    if verbose:\n",
    "        print(pmra,pmdec,vrad)\n",
    "\n",
    "    gal_latlon  = cplus.transform_to('galactic')\n",
    "    gal_defined = cplus.transform_to(gc_frame)\n",
    "        \n",
    "    best_latlon  = cbest.transform_to('galactic')\n",
    "    best_defined = cbest.transform_to(gc_frame)\n",
    "    \n",
    "    return gal_latlon,gal_defined,best_latlon,best_defined\n",
    "\n",
    "\n",
    "indx = 30\n",
    "gal_latlon,gal_defined,best_latlon,best_defined = find_errors(Satellites,indx,nsamples=1000,verbose=True)"
   ]
  },
  {
   "cell_type": "code",
   "execution_count": 9,
   "metadata": {},
   "outputs": [],
   "source": [
    "\n",
    "g = open('processed/satellites_updated_cartesian_heliocentric.txt','w')\n",
    "\n",
    "\n",
    "print('x [kpc]; y [kpc]; z [kpc]; vx [km/s]; vy [km/s]; vz [km/s]; \\\n",
    "     l [deg]; b [deg]; dist [kpc]; vlos [km/s]; dmu_l [marcsec/yr]; dmu_b [marcsec/yr]; \\\n",
    "      edist[kpc]; evlost [km/s]; edmu_l [marcsec/yr]; edmu_b [marcsec/yr];\\\n",
    "      name;',file=g)\n",
    "\n",
    "\n",
    "\n",
    "\n",
    "for indx,i in enumerate(np.arange(0,Satellites['name'].size,1)):\n",
    "\n",
    "    gal_latlon,gal_defined,best_latlon,best_defined = find_errors(Satellites,indx,nsamples=1000)\n",
    "\n",
    "    dLj,dBj,radj,vrj,dmulj,dmubj = jorge_galactic(np.array(best_defined.x),\\\n",
    "                                                  np.array(best_defined.y),\\\n",
    "                                                  np.array(best_defined.z),\\\n",
    "                                                  np.array(best_defined.v_x),\\\n",
    "                                                  np.array(best_defined.v_y),\\\n",
    "                                                  np.array(best_defined.v_z))\n",
    "\n",
    "    edLj,edBj,eradj,evrj,edmulj,edmubj = jorge_galactic(np.array(gal_defined.x),\\\n",
    "                                                  np.array(gal_defined.y),\\\n",
    "                                                  np.array(gal_defined.z),\\\n",
    "                                                  np.array(gal_defined.v_x),\\\n",
    "                                                  np.array(gal_defined.v_y),\\\n",
    "                                                  np.array(gal_defined.v_z))\n",
    "   \n",
    "\n",
    "    if np.isfinite(np.array(best_defined.v_x)):\n",
    "\n",
    "\n",
    "        # redo with transpose to heliocentric...\n",
    "        sol_pos = [-8.3,0.,0.03]\n",
    "        sol_vel = [11.1,244.24,7.25]\n",
    "\n",
    "        dLj,dBj,radj,vrj,dmulj,dmubj = jorge_galactic(np.array(best_defined.x)-sol_pos[0],\\\n",
    "                                                      np.array(best_defined.y)-sol_pos[1],\\\n",
    "                                                      np.array(best_defined.z)-sol_pos[2],\\\n",
    "                                                      np.array(best_defined.v_x)-sol_vel[0],\\\n",
    "                                                      np.array(best_defined.v_y)-sol_vel[1],\\\n",
    "                                                      np.array(best_defined.v_z)-sol_vel[2])\n",
    "\n",
    "        edLj,edBj,eradj,evrj,edmulj,edmubj = jorge_galactic(np.array(gal_defined.x)-sol_pos[0],\\\n",
    "                                                            np.array(gal_defined.y)-sol_pos[1],\\\n",
    "                                                            np.array(gal_defined.z)-sol_pos[2],\\\n",
    "                                                            np.array(gal_defined.v_x)-sol_vel[0],\\\n",
    "                                                            np.array(gal_defined.v_y)-sol_vel[1],\\\n",
    "                                                            np.array(gal_defined.v_z)-sol_vel[2])    \n",
    "\n",
    "        print(np.round(np.array(best_defined.x),2),\\\n",
    "              np.round(np.array(best_defined.y),2),\\\n",
    "              np.round(np.array(best_defined.z),2),\\\n",
    "              np.round(np.array(best_defined.v_x),2),\\\n",
    "              np.round(np.array(best_defined.v_y),2),\\\n",
    "              np.round(np.array(best_defined.v_z),2),\\\n",
    "            np.round(dLj,2),\\\n",
    "              np.round(dBj,2),\\\n",
    "              np.round(radj,2),\\\n",
    "              np.round(vrj[0],2),\\\n",
    "              np.round(dmulj[0],4),\\\n",
    "              np.round(dmubj[0],4),\\\n",
    "            np.round(np.abs(np.percentile(eradj,86)-np.percentile(eradj,50)),2),\\\n",
    "              np.round(np.abs(np.percentile(evrj,86)-np.percentile(evrj,50)),2),\\\n",
    "              np.round(np.abs(np.percentile(edmulj,86)-np.percentile(edmulj,50)),4),\\\n",
    "              np.round(np.abs(np.percentile(edmubj,86)-np.percentile(edmubj,50)),4),\\\n",
    "              Satellites['name'][indx].decode(),\\\n",
    "              file=g)\n",
    "\n",
    "\n",
    "g.close()\n",
    "\n",
    "\n",
    "\n",
    "\n",
    "\n",
    "\n",
    "\n",
    "\n",
    "\n"
   ]
  },
  {
   "cell_type": "code",
   "execution_count": 146,
   "metadata": {},
   "outputs": [
    {
     "name": "stdout",
     "output_type": "stream",
     "text": [
      "[b'Aquarius2' b'Bootes1' b'Bootes2' b'CanesVenatici1' b'CanesVenatici2'\n",
      " b'Carina' b'Carina2' b'Carina3' b'ComaBerenices' b'Crater2' b'Draco'\n",
      " b'Draco2' b'Fornax' b'Grus1' b'Hercules' b'Horologium1' b'Hydra2'\n",
      " b'Hydrus1' b'Leo1' b'Leo2' b'Leo4' b'Leo5' b'LMC' b'Pisces2'\n",
      " b'Reticulum2' b'Sagittarius1' b'Sculptor' b'Segue1' b'Segue2' b'Sextans1'\n",
      " b'SMC' b'Triangulum2' b'Tucana2' b'Tucana3' b'UrsaMajor1' b'UrsaMajor2'\n",
      " b'UrsaMinor' b'Willman1' b'Antlia2' b'Eridanus2' b'Columba1' b'Grus2'\n",
      " b'Phoenix2' b'Reticulum3' b'Tucana4' b'Tucana5']\n"
     ]
    }
   ],
   "source": [
    "In2 = np.genfromtxt('processed/satellites_updated_cartesian_heliocentric.txt',skip_header=1,dtype='S20')\n",
    "\n",
    "name = In2[:,16]\n",
    "print(name)\n"
   ]
  },
  {
   "cell_type": "raw",
   "metadata": {},
   "source": [
    "#In = np.genfromtxt('/Users/mpetersen/Dropbox/mike/data/KGiants_cartesian_galactocentric_II.txt',skip_header=1)\n",
    "\n",
    "In = np.genfromtxt('processed/satellites_updated_cartesian_heliocentric.txt',skip_header=1)\n",
    "\n",
    "\n",
    "x    = In[:,0]\n",
    "y    = In[:,1]\n",
    "z    = In[:,2]\n",
    "vx   = In[:,3]\n",
    "vy   = In[:,4]\n",
    "vz   = In[:,5]\n",
    "\n",
    "#tl,tb,td,tvr,tdml,tdmb = jorge_galactic(x,y,z,vx,vy,vz)\n",
    "\n",
    "\n",
    "l    = In[:,6]\n",
    "b    = In[:,7]\n",
    "d    = In[:,8]\n",
    "vr   = In[:,9]\n",
    "dml  = In[:,10]\n",
    "dmb  = In[:,11]\n",
    "\n",
    "ed   = In[:,12]\n",
    "evr  = In[:,13]\n",
    "edml = In[:,14]\n",
    "edmb = In[:,15]\n",
    "\n",
    "#name = In[:,16]\n",
    "\n",
    "\n",
    "plt.scatter(l,b,color='black',s=1.)\n",
    "#plt.scatter(l[sgrstrong==1],b[sgrstrong==1],color='red',s=20.)"
   ]
  },
  {
   "cell_type": "code",
   "execution_count": 148,
   "metadata": {},
   "outputs": [
    {
     "name": "stdout",
     "output_type": "stream",
     "text": [
      "[b'Aquarius2' b'Bootes1' b'Bootes2' b'CanesVenatici1' b'CanesVenatici2'\n",
      " b'Carina' b'Carina2' b'Carina3' b'ComaBerenices' b'Crater2' b'Draco'\n",
      " b'Draco2' b'Fornax' b'Grus1' b'Hercules' b'Horologium1' b'Hydra2'\n",
      " b'Hydrus1' b'Leo1' b'Leo2' b'Leo4' b'Leo5' b'LMC' b'Pisces2'\n",
      " b'Reticulum2' b'Sagittarius1' b'Sculptor' b'Segue1' b'Segue2' b'Sextans1'\n",
      " b'SMC' b'Triangulum2' b'Tucana2' b'Tucana3' b'UrsaMajor1' b'UrsaMajor2'\n",
      " b'UrsaMinor' b'Willman1' b'Antlia2' b'Eridanus2' b'Columba1' b'Grus2'\n",
      " b'Phoenix2' b'Reticulum3' b'Tucana4' b'Tucana5']\n"
     ]
    }
   ],
   "source": [
    "print(name)"
   ]
  },
  {
   "cell_type": "code",
   "execution_count": 149,
   "metadata": {},
   "outputs": [
    {
     "data": {
      "image/png": "[encoded data removed]",
      "text/plain": [
       "<Figure size 576x144 with 3 Axes>"
      ]
     },
     "metadata": {
      "needs_background": "light"
     },
     "output_type": "display_data"
    }
   ],
   "source": [
    "lmcx = -0.62\n",
    "lmcvx = -39.47\n",
    "lmcy = -42.11\n",
    "lmcvy = -229.29\n",
    "lmcz = -27.69\n",
    "lmcvz = 230.24\n",
    "lmcmom = [np.round(lmcy*lmcvz - lmcz*lmcvy),np.round(lmcz*lmcvx - lmcx*lmcvz),np.round(lmcx*lmcvy - lmcy*lmcvx)]\n",
    "\n",
    "\n",
    "    \n",
    "smcx = 16.35\n",
    "smcvx = 7.77\n",
    "smcy = -38.5\n",
    "smcvy = -191.2 \n",
    "smcz = -44.76\n",
    "smcvz = 171.71\n",
    "smcmom = [np.round(smcy*smcvz - smcz*smcvy),np.round(smcz*smcvx - smcx*smcvz),np.round(smcx*smcvy - smcy*smcvx)]\n",
    "\n",
    "\n",
    "\n",
    "\n",
    "def compute_momentum(x,y,z,vx,vy,vz):\n",
    "    Lx = (y*vz - z*vy)\n",
    "    Ly = (z*vx - x*vz)\n",
    "    Lz = (x*vy - y*vx)\n",
    "    return Lx,Ly,Lz\n",
    "\n",
    "\n",
    "Lx,Ly,Lz = compute_momentum(x,y,z,vx,vy,vz)\n",
    "\n",
    "fig = plt.figure(figsize=(8,2))\n",
    "ax1 = fig.add_subplot(131)\n",
    "ax2 = fig.add_subplot(132)\n",
    "ax3 = fig.add_subplot(133)\n",
    "\n",
    "\n",
    "\n",
    "\n",
    "ax1.scatter(Lx,Ly,color='black',s=10.)\n",
    "ax2.scatter(Ly,Lz,color='black',s=10.)\n",
    "ax3.scatter(Lz,Lx,color='black',s=10.)\n",
    "\n",
    "ax1.scatter(lmcmom[0],lmcmom[1],color='red',s=30.)\n",
    "ax2.scatter(lmcmom[1],lmcmom[2],color='red',s=30.)\n",
    "ax3.scatter(lmcmom[2],lmcmom[0],color='red',s=30.)\n",
    "\n",
    "\n",
    "ax1.scatter(smcmom[0],smcmom[1],color='blue',s=30.)\n",
    "ax2.scatter(smcmom[1],smcmom[2],color='blue',s=30.)\n",
    "ax3.scatter(smcmom[2],smcmom[0],color='blue',s=30.)\n",
    "\n",
    "\n",
    "\n",
    "\n",
    "for ax in [ax1,ax2,ax3]:\n",
    "    ax.axis([-20000,20000,-20000,20000])\n",
    "\n",
    "for ax in [ax2,ax3]:\n",
    "    ax.set_yticklabels(())"
   ]
  },
  {
   "cell_type": "code",
   "execution_count": 150,
   "metadata": {},
   "outputs": [
    {
     "name": "stdout",
     "output_type": "stream",
     "text": [
      "[-16044.0, 1236.0, -1520.0]\n",
      "4664.199288195135\n",
      "[-15169.0, -3155.0, -2827.0]\n"
     ]
    }
   ],
   "source": [
    "print(lmcmom)\n",
    "\n",
    "mcmomdiff = np.sqrt((smcmom[0]-lmcmom[0])**2. + (smcmom[1]-lmcmom[1])**2. + (smcmom[2]-lmcmom[2])**2.)\n",
    "\n",
    "print(mcmomdiff)\n",
    "print(smcmom)\n"
   ]
  },
  {
   "cell_type": "code",
   "execution_count": null,
   "metadata": {},
   "outputs": [],
   "source": []
  },
  {
   "cell_type": "code",
   "execution_count": null,
   "metadata": {},
   "outputs": [],
   "source": []
  },
  {
   "cell_type": "code",
   "execution_count": 151,
   "metadata": {},
   "outputs": [
    {
     "data": {
      "text/plain": [
       "array([b'LMC', b'Horologium1', b'Carina', b'SMC', b'Phoenix2', b'Carina3',\n",
       "       b'Draco', b'Hydrus1', b'UrsaMinor', b'Tucana4', b'Crater2',\n",
       "       b'Reticulum2', b'Grus2', b'Draco2', b'Carina2', b'Fornax', b'Leo2',\n",
       "       b'Tucana2', b'Antlia2', b'Willman1'], dtype='|S20')"
      ]
     },
     "execution_count": 151,
     "metadata": {},
     "output_type": "execute_result"
    },
    {
     "data": {
      "image/png": "[encoded data removed]",
      "text/plain": [
       "<Figure size 576x432 with 1 Axes>"
      ]
     },
     "metadata": {
      "needs_background": "light"
     },
     "output_type": "display_data"
    }
   ],
   "source": [
    "angmomdiffo = np.sqrt((Lx-lmcmom[0])**2. + (Ly-lmcmom[1])**2. + (Lz-lmcmom[2])**2.)\n",
    "\n",
    "plt.plot(angmomdiffo[angmomdiffo.argsort()])\n",
    "\n",
    "name[angmomdiffo.argsort()][0:20]"
   ]
  },
  {
   "cell_type": "code",
   "execution_count": null,
   "metadata": {},
   "outputs": [],
   "source": []
  },
  {
   "cell_type": "markdown",
   "metadata": {},
   "source": [
    "## Test McConnachie & Kim 2020 results"
   ]
  },
  {
   "cell_type": "code",
   "execution_count": 85,
   "metadata": {},
   "outputs": [
    {
     "name": "stdout",
     "output_type": "stream",
     "text": [
      "['Galaxy ', ' RA (degs) ', ' Dec (degs) ', ' $(m - M)_0$ ', ' $r_h$ (arcmins)', ' $e = 1 - b/a$ ', ' $\\\\theta ^\\\\circ$ ', ' $v_h$ (km\\\\,s$^{-1}$)', '$\\\\sigma_v$ (km\\\\,s$^{-1}$) ', ' $<$[Fe/H]$>$\\\\\\\\\\n']\n",
      "skipping {\n",
      "skipping Centaurus1\n",
      "skipping Cetus2\n",
      "skipping {\n",
      "skipping DESJ0225+0304\n",
      "skipping Eridanus3\n",
      "skipping Indus1\n",
      "skipping {\n",
      "skipping {\\it Pegasus3}        \n",
      "skipping Pictor2\n",
      "skipping Pictoris1\n",
      "skipping {\n",
      "Found 47 satellites.\n",
      "['Antlia2' 'Aquarius2' 'Bootes1' 'Bootes2' 'CanesVenatici1'\n",
      " 'CanesVenatici2' 'Carina' 'Carina2' 'Carina3' 'Columba1' 'ComaBerenices'\n",
      " 'Crater2' 'Draco' 'Draco2' 'Eridanus2' 'Fornax' 'Grus1' 'Grus2'\n",
      " 'Hercules' 'Horologium1' 'Horologium2' 'Hydra2' 'Hydrus1' 'Leo1' 'Leo2'\n",
      " 'Leo4' 'Leo5' 'LeoT' 'Phoenix' 'Phoenix2' 'Pisces2' 'Reticulum2'\n",
      " 'Reticulum3' 'Sagittarius2' 'Sculptor' 'Segue1' 'Segue2' 'Sextans1'\n",
      " 'Triangulum2' 'Tucana2' 'Tucana3' 'Tucana4' 'Tucana5' 'UrsaMajor1'\n",
      " 'UrsaMajor2' 'UrsaMinor' 'Willman1']\n"
     ]
    }
   ],
   "source": [
    "\n",
    "f = open('data/mcconnachie20_vrad.txt')\n",
    "\n",
    "header = f.readline().split('&')\n",
    "print(header)\n",
    "#f.readline()\n",
    "\n",
    "# generally, we will need to \n",
    "# split on &\n",
    "# remove \\ and spaces\n",
    "linein = f.readline()\n",
    "\n",
    "McSats = {}\n",
    "\n",
    "\n",
    "McSats['name'] = []\n",
    "McSats['ra'] = []\n",
    "McSats['dec'] = []\n",
    "McSats['vhel'] = []\n",
    "McSats['vhell'] = []\n",
    "McSats['vhelh'] = []\n",
    "McSats['dmod'] = []\n",
    "McSats['dmodl'] = []\n",
    "McSats['dmodh'] = []\n",
    "\n",
    "nsats = 0\n",
    "while linein != '': # will read until a blank line or EOF\n",
    "    nsats += 1\n",
    "    line = linein.split('&')\n",
    "    \n",
    "    name = line[0].split('\\\\')[0].strip(' ')\n",
    "\n",
    "    if line[7].strip() == '---':\n",
    "        print('skipping',name)#,line)\n",
    "        linein = f.readline()\n",
    "        nsats -= 1\n",
    "        continue\n",
    "        \n",
    "    if name == '{':\n",
    "        print('skipping',line[0])\n",
    "        linein = f.readline()\n",
    "        nsats -= 1\n",
    "        continue\n",
    "    \n",
    "    McSats['name'].append(name)\n",
    "    \n",
    "    McSats['ra'].append(float(line[1]))\n",
    "    McSats['dec'].append(float(line[2]))\n",
    "\n",
    "    dmodfull = line[3]\n",
    "    \n",
    "    if '^' in dmodfull:\n",
    "        McSats['dmod'].append(float(dmodfull.split('^')[0].strip(' $')))\n",
    "        McSats['dmodh'].append(float(dmodfull.split('^')[1].split('_')[0].strip(' $}{')))\n",
    "        McSats['dmodl'].append(float(dmodfull.split('^')[1].split('_')[1].strip(' $}{')))\n",
    "    else:\n",
    "        McSats['dmod'].append(float(dmodfull.split('\\\\pm')[0].strip(' $')))\n",
    "        McSats['dmodh'].append(float(dmodfull.split('\\\\pm')[1].strip(' $')))\n",
    "        McSats['dmodl'].append(float(dmodfull.split('\\\\pm')[1].strip(' $')))\n",
    "\n",
    "    \n",
    "\n",
    "    vhelfull = line[7]\n",
    "    \n",
    "    if '^' in vhelfull:\n",
    "        McSats['vhel'].append(float(vhelfull.split('^')[0].strip(' $')))\n",
    "        McSats['vhelh'].append(float(vhelfull.split('^')[1].split('_')[0].strip(' $}{')))\n",
    "        McSats['vhell'].append(float(vhelfull.split('^')[1].split('_')[1].strip(' $}{')))\n",
    "    else:\n",
    "        McSats['vhel'].append(float(vhelfull.split('\\\\pm')[0].strip(' $')))\n",
    "        McSats['vhelh'].append(float(vhelfull.split('\\\\pm')[1].strip(' $')))\n",
    "        McSats['vhell'].append(float(vhelfull.split('\\\\pm')[1].strip(' $')))\n",
    "\n",
    "    \n",
    "    #print(name,mualpha)\n",
    "    linein = f.readline()\n",
    "\n",
    "print('Found {} satellites.'.format(nsats))\n",
    "\n",
    "for key in McSats.keys():\n",
    "    McSats[key] = np.array(McSats[key])\n",
    "\n",
    "print(McSats['name'])"
   ]
  },
  {
   "cell_type": "code",
   "execution_count": 86,
   "metadata": {},
   "outputs": [
    {
     "name": "stdout",
     "output_type": "stream",
     "text": [
      "['Galaxy ', '$\\\\mu_\\\\alpha\\\\cos\\\\delta$ (mas/yr)', '$\\\\mu_\\\\delta$ (mas/yr)', ' $v_\\\\alpha\\\\cos\\\\delta$ (km\\\\,s$^{-1}$) ', ' $v_\\\\delta$ (km\\\\,s$^{-1}$)', ' $v_t$ (km\\\\,s$^{-1}$)', ' $v_r$ (km\\\\,s$^{-1}$)\\\\\\\\\\n']\n",
      "no radial velocity for Centaurus1\n",
      "no radial velocity for Cetus2\n",
      "no radial velocity for DESJ0225+0304\n",
      "no radial velocity for Eridanus3\n",
      "no radial velocity for Indus1\n",
      "no radial velocity for Pictor2\n",
      "no radial velocity for Pictoris1\n",
      "Found 47 satellites.\n",
      "[ 0.04   0.16   0.04   0.21   0.05   0.11   0.01   0.03   0.08   0.09\n",
      "  0.05   0.04   0.01   0.17   0.05   0.002  0.12   0.06   0.07   0.05\n",
      " -0.23   0.13   0.03   0.07   0.06   0.13  -0.11   0.05   0.05  -0.07\n",
      "  0.11   0.03   0.21   0.07   0.005 -0.22  -0.13   0.02  -0.15   0.05\n",
      "  0.03  -0.12  -0.2    0.06   0.05   0.01   0.1  ]\n"
     ]
    }
   ],
   "source": [
    "\n",
    "f = open('data/mcconnachie20.txt')\n",
    "\n",
    "header = f.readline().split('&')\n",
    "print(header)\n",
    "#f.readline()\n",
    "\n",
    "# generally, we will need to \n",
    "# split on &\n",
    "# remove \\ and spaces\n",
    "linein = f.readline()\n",
    "\n",
    "McSats['name2'] = []\n",
    "McSats['mualpha'] = []\n",
    "McSats['mualphal'] = []\n",
    "McSats['mualphah'] = []\n",
    "McSats['mudelta'] = []\n",
    "McSats['mudeltal'] = []\n",
    "McSats['mudeltah'] = []\n",
    "\n",
    "\n",
    "nsats = 0\n",
    "while linein != '': # will read until a blank line or EOF\n",
    "    nsats += 1\n",
    "    line = linein.split('&')\n",
    "    name = line[0].split('\\\\')[0].strip(' ')\n",
    "    if name not in McSats['name']: \n",
    "        print('no radial velocity for',name)\n",
    "        nsats -= 1\n",
    "        linein = f.readline()\n",
    "        continue\n",
    "    \n",
    "    McSats['name2'].append(name)\n",
    "\n",
    "\n",
    "    mualphafull = line[1]\n",
    "    \n",
    "    # drop into mualpha loop\n",
    "    if '^' in mualphafull:\n",
    "        McSats['mualpha'].append(float(mualphafull.split('^')[0].strip(' $')))\n",
    "        McSats['mualphah'].append(float(mualphafull.split('^')[1].split('_')[0].strip(' $}{')))\n",
    "        McSats['mualphal'].append(float(mualphafull.split('^')[1].split('_')[1].strip(' $}{')))\n",
    "    else:\n",
    "        McSats['mualpha'].append(float(mualphafull.split('\\\\pm')[0].strip(' $')))\n",
    "        McSats['mualphah'].append(float(mualphafull.split('\\\\pm')[1].strip(' $')))\n",
    "        McSats['mualphal'].append(float(mualphafull.split('\\\\pm')[1].strip(' $')))\n",
    "\n",
    "    mudeltafull = line[2]\n",
    "    \n",
    "    # drop into mualpha loop\n",
    "    if '^' in mudeltafull:\n",
    "        McSats['mudelta'].append(float(mudeltafull.split('^')[0].strip(' $')))\n",
    "        McSats['mudeltah'].append(float(mudeltafull.split('^')[1].split('_')[0].strip(' $}{\\\\')))\n",
    "        McSats['mudeltal'].append(float(mudeltafull.split('^')[1].split('_')[1].strip(' $}{\\\\')))\n",
    "    else:\n",
    "        McSats['mudelta'].append(float(mudeltafull.split('\\\\pm')[0].strip(' $')))\n",
    "        McSats['mudeltah'].append(float(mudeltafull.split('\\\\pm')[1].strip(' $\\\\')))\n",
    "        McSats['mudeltal'].append(float(mudeltafull.split('\\\\pm')[1].strip(' $\\\\')))\n",
    "\n",
    "\n",
    "    \n",
    "    #print(name,mualpha)\n",
    "    linein = f.readline()\n",
    "\n",
    "print('Found {} satellites.'.format(nsats))\n",
    "\n",
    "for key in McSats.keys():\n",
    "    McSats[key] = np.array(McSats[key])\n",
    "\n",
    "print(McSats['mualphal'])"
   ]
  },
  {
   "cell_type": "code",
   "execution_count": 88,
   "metadata": {},
   "outputs": [
    {
     "data": {
      "text/plain": [
       "<matplotlib.collections.PathCollection at 0x121060f28>"
      ]
     },
     "execution_count": 88,
     "metadata": {},
     "output_type": "execute_result"
    },
    {
     "data": {
      "image/png": "[encoded data removed]",
      "text/plain": [
       "<Figure size 576x432 with 1 Axes>"
      ]
     },
     "metadata": {
      "needs_background": "light"
     },
     "output_type": "display_data"
    }
   ],
   "source": [
    "\n",
    "dval = 10.**((McSats['dmod'] + 5.)/5.)/1000.\n",
    "\n",
    "plt.scatter(McSats['ra'],dval,color='black',s=1.)\n"
   ]
  },
  {
   "cell_type": "code",
   "execution_count": 91,
   "metadata": {},
   "outputs": [
    {
     "data": {
      "text/plain": [
       "array([0.11, 0.07, 0.08, 0.06, 0.1 , 0.06, 0.13, 0.05, 0.1 , 0.22, 0.2 ,\n",
       "       0.02, 0.17, 0.05, 0.2 , 0.18, 0.2 , 0.21, 0.2 , 0.2 , 0.2 , 0.16,\n",
       "       0.04, 0.13, 0.13, 0.09, 0.16, 0.1 , 0.12, 0.2 , 0.17, 0.2 , 0.31,\n",
       "       0.03, 0.14, 0.2 , 0.1 , 0.1 , 0.1 , 0.2 , 0.16, 0.19, 0.34, 0.1 ,\n",
       "       0.3 , 0.1 , 0.4 ])"
      ]
     },
     "execution_count": 91,
     "metadata": {},
     "output_type": "execute_result"
    }
   ],
   "source": [
    "np.nanmax([np.abs(McSats['dmodl']),np.abs(McSats['dmodh'])],axis=0)"
   ]
  },
  {
   "cell_type": "code",
   "execution_count": 106,
   "metadata": {},
   "outputs": [],
   "source": [
    "# put in format for sampling\n",
    "\n",
    "McSatellites = {}\n",
    "McSatellites['ra'] = McSats['ra']\n",
    "McSatellites['name'] = McSats['name']\n",
    "\n",
    "\n",
    "McSatellites['dec'] = McSats['dec']\n",
    "McSatellites['dist'] = 10.**((McSats['dmod'] + 5.)/5.)/1000.\n",
    "McSatellites['edist'] = np.abs((10.**((McSats['dmod']+np.nanmax([McSats['dmodh'],McSats['dmodl']],axis=0) + 5.)/5.)/1000.)-(10.**((McSats['dmod'] + 5.)/5.)/1000.))\n",
    "\n",
    "McSatellites['pmracosdec'] = McSats['mualpha']\n",
    "McSatellites['epmracosdec'] = np.nanmax([McSats['mualphah'],McSats['mualphal']],axis=0)\n",
    "\n",
    "McSatellites['pmdec'] = McSats['mudelta']\n",
    "McSatellites['epmdec'] = np.nanmax([McSats['mudeltah'],McSats['mudeltal']],axis=0)\n",
    "\n",
    "McSatellites['vlos'] = McSats['vhel']\n",
    "McSatellites['evlos'] = np.nanmax([McSats['vhelh'],McSats['vhell']],axis=0)\n",
    "\n",
    "\n"
   ]
  },
  {
   "cell_type": "code",
   "execution_count": 107,
   "metadata": {},
   "outputs": [
    {
     "data": {
      "text/plain": [
       "<matplotlib.collections.PathCollection at 0x121c22b70>"
      ]
     },
     "execution_count": 107,
     "metadata": {},
     "output_type": "execute_result"
    },
    {
     "data": {
      "image/png": "[encoded data removed]",
      "text/plain": [
       "<Figure size 576x432 with 1 Axes>"
      ]
     },
     "metadata": {
      "needs_background": "light"
     },
     "output_type": "display_data"
    }
   ],
   "source": [
    "plt.scatter(McSatellites['vlos'],McSatellites['evlos'])"
   ]
  },
  {
   "cell_type": "code",
   "execution_count": 109,
   "metadata": {},
   "outputs": [],
   "source": [
    "\n",
    "g = open('processed/satellites_mcconnachie.txt','w')\n",
    "\n",
    "\n",
    "print('x [kpc]; y [kpc]; z [kpc]; vx [km/s]; vy [km/s]; vz [km/s]; \\\n",
    "     l [deg]; b [deg]; dist [kpc]; vlos [km/s]; dmu_l [marcsec/yr]; dmu_b [marcsec/yr]; \\\n",
    "      edist[kpc]; evlost [km/s]; edmu_l [marcsec/yr]; edmu_b [marcsec/yr];\\\n",
    "      name;',file=g)\n",
    "\n",
    "\n",
    "\n",
    "\n",
    "for indx,i in enumerate(np.arange(0,Satellites['name'].size,1)):\n",
    "\n",
    "    gal_latlon,gal_defined,best_latlon,best_defined = find_errors(McSatellites,indx,nsamples=1000)\n",
    "\n",
    "    dLj,dBj,radj,vrj,dmulj,dmubj = jorge_galactic(np.array(best_defined.x),\\\n",
    "                                                  np.array(best_defined.y),\\\n",
    "                                                  np.array(best_defined.z),\\\n",
    "                                                  np.array(best_defined.v_x),\\\n",
    "                                                  np.array(best_defined.v_y),\\\n",
    "                                                  np.array(best_defined.v_z))\n",
    "\n",
    "    edLj,edBj,eradj,evrj,edmulj,edmubj = jorge_galactic(np.array(gal_defined.x),\\\n",
    "                                                  np.array(gal_defined.y),\\\n",
    "                                                  np.array(gal_defined.z),\\\n",
    "                                                  np.array(gal_defined.v_x),\\\n",
    "                                                  np.array(gal_defined.v_y),\\\n",
    "                                                  np.array(gal_defined.v_z))\n",
    "   \n",
    "\n",
    "    if np.isfinite(np.array(best_defined.v_x)):\n",
    "\n",
    "\n",
    "        # redo with transpose to heliocentric...\n",
    "        sol_pos = [-8.3,0.,0.03]\n",
    "        sol_vel = [11.1,244.24,7.25]\n",
    "\n",
    "        dLj,dBj,radj,vrj,dmulj,dmubj = jorge_galactic(np.array(best_defined.x)-sol_pos[0],\\\n",
    "                                                      np.array(best_defined.y)-sol_pos[1],\\\n",
    "                                                      np.array(best_defined.z)-sol_pos[2],\\\n",
    "                                                      np.array(best_defined.v_x)-sol_vel[0],\\\n",
    "                                                      np.array(best_defined.v_y)-sol_vel[1],\\\n",
    "                                                      np.array(best_defined.v_z)-sol_vel[2])\n",
    "\n",
    "        edLj,edBj,eradj,evrj,edmulj,edmubj = jorge_galactic(np.array(gal_defined.x)-sol_pos[0],\\\n",
    "                                                            np.array(gal_defined.y)-sol_pos[1],\\\n",
    "                                                            np.array(gal_defined.z)-sol_pos[2],\\\n",
    "                                                            np.array(gal_defined.v_x)-sol_vel[0],\\\n",
    "                                                            np.array(gal_defined.v_y)-sol_vel[1],\\\n",
    "                                                            np.array(gal_defined.v_z)-sol_vel[2])    \n",
    "\n",
    "        print(np.round(np.array(best_defined.x),2),\\\n",
    "              np.round(np.array(best_defined.y),2),\\\n",
    "              np.round(np.array(best_defined.z),2),\\\n",
    "              np.round(np.array(best_defined.v_x),2),\\\n",
    "              np.round(np.array(best_defined.v_y),2),\\\n",
    "              np.round(np.array(best_defined.v_z),2),\\\n",
    "            np.round(dLj,2),\\\n",
    "              np.round(dBj,2),\\\n",
    "              np.round(radj,2),\\\n",
    "              np.round(vrj[0],2),\\\n",
    "              np.round(dmulj[0],4),\\\n",
    "              np.round(dmubj[0],4),\\\n",
    "            np.round(np.abs(np.percentile(eradj,86)-np.percentile(eradj,50)),2),\\\n",
    "              np.round(np.abs(np.percentile(evrj,86)-np.percentile(evrj,50)),2),\\\n",
    "              np.round(np.abs(np.percentile(edmulj,86)-np.percentile(edmulj,50)),4),\\\n",
    "              np.round(np.abs(np.percentile(edmubj,86)-np.percentile(edmubj,50)),4),\\\n",
    "              McSatellites['name'][indx],\\\n",
    "              file=g)\n",
    "\n",
    "\n",
    "g.close()\n",
    "\n",
    "\n",
    "\n",
    "\n",
    "\n",
    "\n",
    "\n",
    "\n",
    "\n",
    "\n"
   ]
  },
  {
   "cell_type": "code",
   "execution_count": 158,
   "metadata": {},
   "outputs": [
    {
     "name": "stdout",
     "output_type": "stream",
     "text": [
      "[b'Antlia2' b'Aquarius2' b'Bootes1' b'Bootes2' b'CanesVenatici1'\n",
      " b'CanesVenatici2' b'Carina' b'Carina2' b'Carina3' b'Columba1'\n",
      " b'ComaBerenices' b'Crater2' b'Draco' b'Draco2' b'Eridanus2' b'Fornax'\n",
      " b'Grus1' b'Grus2' b'Hercules' b'Horologium1' b'Horologium2' b'Hydra2'\n",
      " b'Hydrus1' b'Leo1' b'Leo2' b'Leo4' b'Leo5' b'LeoT' b'Phoenix' b'Phoenix2'\n",
      " b'Pisces2' b'Reticulum2' b'Reticulum3' b'Sagittarius2' b'Sculptor'\n",
      " b'Segue1' b'Segue2' b'Sextans1' b'Triangulum2' b'Tucana2' b'Tucana3'\n",
      " b'Tucana4' b'Tucana5' b'UrsaMajor1' b'UrsaMajor2' b'UrsaMinor']\n",
      "[b'Aquarius2' b'Bootes1' b'Bootes2' b'CanesVenatici1' b'CanesVenatici2'\n",
      " b'Carina' b'Carina2' b'Carina3' b'ComaBerenices' b'Crater2' b'Draco'\n",
      " b'Draco2' b'Fornax' b'Grus1' b'Hercules' b'Horologium1' b'Hydra2'\n",
      " b'Hydrus1' b'Leo1' b'Leo2' b'Leo4' b'Leo5' b'LMC' b'Pisces2'\n",
      " b'Reticulum2' b'Sagittarius1' b'Sculptor' b'Segue1' b'Segue2' b'Sextans1'\n",
      " b'SMC' b'Triangulum2' b'Tucana2' b'Tucana3' b'UrsaMajor1' b'UrsaMajor2'\n",
      " b'UrsaMinor' b'Willman1' b'Antlia2' b'Eridanus2' b'Columba1' b'Grus2'\n",
      " b'Phoenix2' b'Reticulum3' b'Tucana4' b'Tucana5']\n"
     ]
    },
    {
     "data": {
      "text/plain": [
       "<matplotlib.collections.PathCollection at 0x1231fea90>"
      ]
     },
     "execution_count": 158,
     "metadata": {},
     "output_type": "execute_result"
    },
    {
     "data": {
      "image/png": "[encoded data removed]",
      "text/plain": [
       "<Figure size 576x432 with 1 Axes>"
      ]
     },
     "metadata": {
      "needs_background": "light"
     },
     "output_type": "display_data"
    }
   ],
   "source": [
    "In2 = np.genfromtxt('processed/satellites_mcconnachie.txt',skip_header=1,dtype='S20')\n",
    "\n",
    "name = In2[:,16]\n",
    "print(name)\n",
    "\n",
    "\n",
    "In = np.genfromtxt('processed/satellites_mcconnachie.txt',skip_header=1)\n",
    "\n",
    "\n",
    "x    = In[:,0]\n",
    "y    = In[:,1]\n",
    "z    = In[:,2]\n",
    "vx   = In[:,3]\n",
    "vy   = In[:,4]\n",
    "vz   = In[:,5]\n",
    "\n",
    "l    = In[:,6]\n",
    "b    = In[:,7]\n",
    "d    = In[:,8]\n",
    "vr   = In[:,9]\n",
    "dml  = In[:,10]\n",
    "dmb  = In[:,11]\n",
    "\n",
    "ed   = In[:,12]\n",
    "evr  = In[:,13]\n",
    "edml = In[:,14]\n",
    "edmb = In[:,15]\n",
    "\n",
    "\n",
    "\n",
    "plt.scatter(l,b,color='red',s=20.)\n",
    "\n",
    "\n",
    "\n",
    "In2 = np.genfromtxt('processed/satellites_updated_cartesian_heliocentric.txt',skip_header=1,dtype='S20')\n",
    "\n",
    "nameo = In2[:,16]\n",
    "print(nameo)\n",
    "\n",
    "\n",
    "In = np.genfromtxt('processed/satellites_updated_cartesian_heliocentric.txt',skip_header=1)\n",
    "\n",
    "\n",
    "x2    = In[:,0]\n",
    "y2    = In[:,1]\n",
    "z2    = In[:,2]\n",
    "vx2   = In[:,3]\n",
    "vy2   = In[:,4]\n",
    "vz2   = In[:,5]\n",
    "\n",
    "l2    = In[:,6]\n",
    "b2    = In[:,7]\n",
    "d2    = In[:,8]\n",
    "vr2   = In[:,9]\n",
    "dml2  = In[:,10]\n",
    "dmb2  = In[:,11]\n",
    "\n",
    "ed2   = In[:,12]\n",
    "evr2  = In[:,13]\n",
    "edml2 = In[:,14]\n",
    "edmb2 = In[:,15]\n",
    "\n",
    "#name = In[:,16]\n",
    "\n",
    "\n",
    "plt.scatter(l2,b2,color='black',s=4.)\n"
   ]
  },
  {
   "cell_type": "code",
   "execution_count": 159,
   "metadata": {},
   "outputs": [
    {
     "data": {
      "text/plain": [
       "[<matplotlib.lines.Line2D at 0x123073e80>]"
      ]
     },
     "execution_count": 159,
     "metadata": {},
     "output_type": "execute_result"
    },
    {
     "data": {
      "image/png": "[encoded data removed]",
      "text/plain": [
       "<Figure size 576x432 with 1 Axes>"
      ]
     },
     "metadata": {
      "needs_background": "light"
     },
     "output_type": "display_data"
    }
   ],
   "source": [
    "plt.plot(vz[vz.argsort()])"
   ]
  },
  {
   "cell_type": "code",
   "execution_count": 153,
   "metadata": {},
   "outputs": [
    {
     "name": "stdout",
     "output_type": "stream",
     "text": [
      "b'Antlia2' 0.0397 0.0374\n",
      "b'Aquarius2' 0.1705 0.5835\n",
      "b'Bootes1' 0.0367 0.097\n",
      "b'Bootes2' 0.1891 0.3826\n",
      "b'CanesVenatici1' 0.0466 0.0893\n",
      "b'CanesVenatici2' 0.1213 0.2001\n",
      "b'Carina' 0.0114 0.0411\n",
      "b'Carina2' 0.0331 0.0947\n",
      "b'Carina3' 0.0935 0.1457\n",
      "b'Columba1' 0.0962 0.278\n",
      "b'ComaBerenices' 0.0515 0.1267\n",
      "b'Crater2' 0.0236 0.0736\n",
      "b'Draco' 0.0109 0.0134\n",
      "b'Draco2' 0.1817 0.3024\n",
      "b'Eridanus2' 0.0551 0.2708\n",
      "b'Fornax' 0.0023 0.0386\n",
      "b'Grus1' 0.1364 0.2036\n",
      "b'Grus2' 0.069 0.1074\n",
      "b'Hercules' 0.0666 0.1305\n",
      "b'Horologium1' 0.0537 0.1154\n",
      "b'Hydra2' 0.1163 0.4682\n",
      "b'Hydrus1' 0.0327 0.0582\n",
      "b'Leo1' 0.0799 0.0713\n",
      "b'Leo2' 0.0655 0.0912\n",
      "b'Leo4' 0.1354 0.4361\n",
      "b'Leo5' 0.111 0.3934\n",
      "b'Phoenix2' 0.0894 0.1355\n",
      "b'Pisces2' 0.1215 0.5529\n",
      "b'Reticulum2' 0.0317 0.0574\n",
      "b'Reticulum3' 0.2277 0.3375\n",
      "b'Sculptor' 0.0046 0.0397\n",
      "b'Segue1' 0.2333 0.2159\n",
      "b'Segue2' 0.0949 0.1278\n",
      "b'Sextans1' 0.0198 0.0467\n",
      "b'Triangulum2' 0.1226 0.2029\n",
      "b'Tucana2' 0.0617 0.0839\n",
      "b'Tucana3' 0.0321 0.0492\n",
      "b'Tucana4' 0.1106 0.2459\n",
      "b'Tucana5' 0.2278 0.3989\n",
      "b'UrsaMajor1' 0.0721 0.1178\n",
      "b'UrsaMajor2' 0.0534 0.0702\n",
      "b'UrsaMinor' 0.01 0.0467\n"
     ]
    }
   ],
   "source": [
    "name[name.argsort()]\n",
    "\n",
    "for ni,n in enumerate(name):\n",
    "    if n in nameo:\n",
    "        #print(n,nameo[nameo==n][0])\n",
    "        print(n,edmb[ni],edmb2[nameo==n][0])\n",
    "    else:\n",
    "        pass\n",
    "        #print(n,'MISSING')\n",
    "    #print(n,nameo[nameo.argsort()][ni])\n"
   ]
  },
  {
   "cell_type": "code",
   "execution_count": 154,
   "metadata": {},
   "outputs": [
    {
     "data": {
      "text/plain": [
       "46"
      ]
     },
     "execution_count": 154,
     "metadata": {},
     "output_type": "execute_result"
    }
   ],
   "source": [
    "nameo.size"
   ]
  },
  {
   "cell_type": "code",
   "execution_count": 155,
   "metadata": {},
   "outputs": [
    {
     "data": {
      "image/png": "[encoded data removed]",
      "text/plain": [
       "<Figure size 576x144 with 3 Axes>"
      ]
     },
     "metadata": {
      "needs_background": "light"
     },
     "output_type": "display_data"
    }
   ],
   "source": [
    "lmcx = -0.62\n",
    "lmcvx = -39.47\n",
    "lmcy = -42.11\n",
    "lmcvy = -229.29\n",
    "lmcz = -27.69\n",
    "lmcvz = 230.24\n",
    "lmcmom = [np.round(lmcy*lmcvz - lmcz*lmcvy),np.round(lmcz*lmcvx - lmcx*lmcvz),np.round(lmcx*lmcvy - lmcy*lmcvx)]\n",
    "\n",
    "\n",
    "    \n",
    "smcx = 16.35\n",
    "smcvx = 7.77\n",
    "smcy = -38.5\n",
    "smcvy = -191.2 \n",
    "smcz = -44.76\n",
    "smcvz = 171.71\n",
    "smcmom = [np.round(smcy*smcvz - smcz*smcvy),np.round(smcz*smcvx - smcx*smcvz),np.round(smcx*smcvy - smcy*smcvx)]\n",
    "\n",
    "\n",
    "\n",
    "\n",
    "def compute_momentum(x,y,z,vx,vy,vz):\n",
    "    Lx = (y*vz - z*vy)\n",
    "    Ly = (z*vx - x*vz)\n",
    "    Lz = (x*vy - y*vx)\n",
    "    return Lx,Ly,Lz\n",
    "\n",
    "\n",
    "Lx,Ly,Lz = compute_momentum(x,y,z,vx,vy,vz)\n",
    "\n",
    "fig = plt.figure(figsize=(8,2))\n",
    "ax1 = fig.add_subplot(131)\n",
    "ax2 = fig.add_subplot(132)\n",
    "ax3 = fig.add_subplot(133)\n",
    "\n",
    "\n",
    "\n",
    "\n",
    "ax1.scatter(Lx,Ly,color='black',s=10.)\n",
    "ax2.scatter(Ly,Lz,color='black',s=10.)\n",
    "ax3.scatter(Lz,Lx,color='black',s=10.)\n",
    "\n",
    "ax1.scatter(lmcmom[0],lmcmom[1],color='red',s=30.)\n",
    "ax2.scatter(lmcmom[1],lmcmom[2],color='red',s=30.)\n",
    "ax3.scatter(lmcmom[2],lmcmom[0],color='red',s=30.)\n",
    "\n",
    "\n",
    "ax1.scatter(smcmom[0],smcmom[1],color='blue',s=30.)\n",
    "ax2.scatter(smcmom[1],smcmom[2],color='blue',s=30.)\n",
    "ax3.scatter(smcmom[2],smcmom[0],color='blue',s=30.)\n",
    "\n",
    "\n",
    "\n",
    "\n",
    "for ax in [ax1,ax2,ax3]:\n",
    "    ax.axis([-20000,20000,-20000,20000])\n",
    "\n",
    "for ax in [ax2,ax3]:\n",
    "    ax.set_yticklabels(())"
   ]
  },
  {
   "cell_type": "code",
   "execution_count": 157,
   "metadata": {},
   "outputs": [
    {
     "name": "stdout",
     "output_type": "stream",
     "text": [
      "[b'Horologium1' b'Carina' b'Phoenix2' b'Carina3' b'Eridanus2' b'Draco'\n",
      " b'UrsaMinor' b'Crater2' b'Hydrus1' b'Tucana4' b'Horologium2'\n",
      " b'Reticulum2' b'Columba1' b'Antlia2' b'Draco2' b'Grus2' b'Carina2'\n",
      " b'Hydra2' b'Pisces2' b'Tucana2']\n",
      "[b'LMC' b'Horologium1' b'Carina' b'SMC' b'Phoenix2' b'Carina3' b'Draco'\n",
      " b'Hydrus1' b'UrsaMinor' b'Tucana4' b'Crater2' b'Reticulum2' b'Grus2'\n",
      " b'Draco2' b'Carina2' b'Fornax' b'Leo2' b'Tucana2' b'Antlia2' b'Willman1']\n"
     ]
    },
    {
     "data": {
      "image/png": "[encoded data removed]",
      "text/plain": [
       "<Figure size 576x432 with 1 Axes>"
      ]
     },
     "metadata": {
      "needs_background": "light"
     },
     "output_type": "display_data"
    }
   ],
   "source": [
    "angmomdiff = np.sqrt((Lx-lmcmom[0])**2. + (Ly-lmcmom[1])**2. + (Lz-lmcmom[2])**2.)\n",
    "\n",
    "plt.plot(angmomdiff[angmomdiff.argsort()],color='black')\n",
    "\n",
    "print(name[angmomdiff.argsort()][0:20])\n",
    "\n",
    "#angmomdiffo = np.sqrt((Lx-lmcmom[0])**2. + (Ly-lmcmom[1])**2. + (Lz-lmcmom[2])**2.)\n",
    "\n",
    "plt.plot(angmomdiffo[angmomdiffo.argsort()],color='grey')\n",
    "\n",
    "print(nameo[angmomdiffo.argsort()][0:20])"
   ]
  },
  {
   "cell_type": "code",
   "execution_count": 164,
   "metadata": {},
   "outputs": [
    {
     "data": {
      "text/plain": [
       "(-8.35, -34.54, -10.62, 122.5, -298.93, 148.71)"
      ]
     },
     "execution_count": 164,
     "metadata": {},
     "output_type": "execute_result"
    }
   ],
   "source": [
    "gname = b'Horologium1'\n",
    "gname = b'Carina2'\n",
    "\n",
    "\n",
    "x[name==gname][0],y[name==gname][0],z[name==gname][0],\\\n",
    "vx[name==gname][0],vy[name==gname][0],vz[name==gname][0]"
   ]
  },
  {
   "cell_type": "code",
   "execution_count": null,
   "metadata": {},
   "outputs": [],
   "source": []
  }
 ],
 "metadata": {
  "kernelspec": {
   "display_name": "Python 3",
   "language": "python",
   "name": "python3"
  },
  "language_info": {
   "codemirror_mode": {
    "name": "ipython",
    "version": 3
   },
   "file_extension": ".py",
   "mimetype": "text/x-python",
   "name": "python",
   "nbconvert_exporter": "python",
   "pygments_lexer": "ipython3",
   "version": "3.6.8"
  }
 },
 "nbformat": 4,
 "nbformat_minor": 2
}
